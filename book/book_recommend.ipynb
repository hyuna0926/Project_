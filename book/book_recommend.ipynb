{
  "nbformat": 4,
  "nbformat_minor": 0,
  "metadata": {
    "colab": {
      "provenance": [],
      "authorship_tag": "ABX9TyPZiL9N5esVZrzEDN9lULb6",
      "include_colab_link": true
    },
    "kernelspec": {
      "name": "python3",
      "display_name": "Python 3"
    },
    "language_info": {
      "name": "python"
    }
  },
  "cells": [
    {
      "cell_type": "markdown",
      "metadata": {
        "id": "view-in-github",
        "colab_type": "text"
      },
      "source": [
        "<a href=\"https://colab.research.google.com/github/hyuna0926/Project_/blob/main/book/book_recommend.ipynb\" target=\"_parent\"><img src=\"https://colab.research.google.com/assets/colab-badge.svg\" alt=\"Open In Colab\"/></a>"
      ]
    },
    {
      "cell_type": "markdown",
      "source": [
        "## 데이터 불러오기"
      ],
      "metadata": {
        "id": "oQsjuG7mIGzk"
      }
    },
    {
      "cell_type": "code",
      "source": [
        "from google.colab import drive\n",
        "drive.mount('/content/drive')"
      ],
      "metadata": {
        "colab": {
          "base_uri": "https://localhost:8080/"
        },
        "id": "ULAwtJSjQeYP",
        "outputId": "fcbf0b0e-2d9a-431c-a1e9-c60f703e6a9c"
      },
      "execution_count": null,
      "outputs": [
        {
          "output_type": "stream",
          "name": "stdout",
          "text": [
            "Mounted at /content/drive\n"
          ]
        }
      ]
    },
    {
      "cell_type": "code",
      "source": [
        "import pandas as pd\n",
        "import numpy as np\n",
        "import tensorflow as tf\n",
        "import matplotlib.pyplot as plt\n",
        "import seaborn as sns\n",
        "from sklearn.feature_extraction.text import CountVectorizer, TfidfVectorizer\n",
        "from sklearn.metrics.pairwise import cosine_similarity\n",
        "from sklearn.neighbors import NearestNeighbors\n",
        "from sklearn.decomposition import PCA\n",
        "\n",
        "from tensorflow.keras.models import Sequential\n",
        "from tensorflow.keras.layers import Dense, Embedding, Flatten,  GlobalAveragePooling1D\n",
        "from sklearn.model_selection import train_test_split\n",
        "from sklearn.preprocessing import LabelEncoder\n",
        "from keras.models import Model\n",
        "from keras.layers import LSTM, Activation, Dense, Dropout, Input, Embedding,Concatenate, GRU\n",
        "from keras.optimizers import RMSprop\n",
        "from keras.preprocessing.text import Tokenizer\n",
        "from keras.preprocessing import sequence\n",
        "from tensorflow.keras.preprocessing.sequence import pad_sequences\n",
        "from keras.callbacks import EarlyStopping, ModelCheckpoint\n",
        "%matplotlib inline"
      ],
      "metadata": {
        "id": "58nXu83PM6yY"
      },
      "execution_count": null,
      "outputs": []
    },
    {
      "cell_type": "code",
      "execution_count": null,
      "metadata": {
        "id": "DMWifCawC4Nd"
      },
      "outputs": [],
      "source": [
        "import pandas as pd\n",
        "import csv\n",
        "df1= pd.read_csv('/content/drive/MyDrive/NL_BO_BEST_LOAN_BOOK_HISTORY_202104.csv',encoding=\"CP949\")\n",
        "df2=pd.read_csv('/content/drive/MyDrive/NL_BO_BEST_LOAN_BOOK_HISTORY_202111.csv',encoding=\"CP949\")\n",
        "df3=pd.read_csv('/content/drive/MyDrive/NL_BO_BEST_LOAN_BOOK_HISTORY_202109.csv',encoding=\"CP949\")\n",
        "df4=pd.read_csv('/content/drive/MyDrive/NL_BO_BEST_LOAN_BOOK_HISTORY_202107.csv',encoding=\"CP949\")\n",
        "\n",
        "\n",
        "df = pd.concat([df1,df2, df3,df4])"
      ]
    },
    {
      "cell_type": "code",
      "source": [
        "df.duplicated(['BOOK_TITLE_NM']).sum()"
      ],
      "metadata": {
        "colab": {
          "base_uri": "https://localhost:8080/"
        },
        "id": "WZbd609vGcwK",
        "outputId": "bc9853a1-e6a1-47d8-9a97-4cc4ddcfeb8a"
      },
      "execution_count": null,
      "outputs": [
        {
          "output_type": "execute_result",
          "data": {
            "text/plain": [
              "23679"
            ]
          },
          "metadata": {},
          "execution_count": 3
        }
      ]
    },
    {
      "cell_type": "code",
      "source": [
        "df.drop_duplicates(['BOOK_TITLE_NM'], inplace=True)"
      ],
      "metadata": {
        "id": "tEwTq54YGmMD"
      },
      "execution_count": null,
      "outputs": []
    },
    {
      "cell_type": "code",
      "source": [
        "df"
      ],
      "metadata": {
        "colab": {
          "base_uri": "https://localhost:8080/",
          "height": 1000
        },
        "id": "F7SPczJ1GtPR",
        "outputId": "a1e0c174-3a39-49f1-bdcd-7e2ccdfacfc5"
      },
      "execution_count": null,
      "outputs": [
        {
          "output_type": "execute_result",
          "data": {
            "text/plain": [
              "          SEQ_NO  RANK_CO     INPT_DE  ISBN_THIRTEEN_NO  \\\n",
              "0      267869911      984  2021-04-15      9.788980e+12   \n",
              "1      267869910      984  2021-04-15      9.788980e+12   \n",
              "2      267869908      984  2021-04-15      9.788970e+12   \n",
              "3      267869855      929  2021-04-15      9.791160e+12   \n",
              "4      267714443      196  2021-04-15      9.788960e+12   \n",
              "...          ...      ...         ...               ...   \n",
              "11182  282950623      734  2021-07-15      9.788940e+12   \n",
              "11183  282949919      163  2021-07-15      9.788960e+12   \n",
              "11185  282941729       35  2021-07-15      9.780200e+12   \n",
              "11189  283011660      917  2021-07-15      9.788960e+12   \n",
              "11192  282948631      719  2021-07-15      9.791160e+12   \n",
              "\n",
              "                                           BOOK_TITLE_NM  \\\n",
              "0                         김상욱의 양자 공부 :완전히 새로운 현대 물리학 입문    \n",
              "1                                              눈물을 마시는 새   \n",
              "2                                            나의 라임 오렌지나무   \n",
              "3           (N잡하는 허대리의) 월급 독립 스쿨 :돈 버는 재미를 잃어버린 직장인을 위한    \n",
              "4                       쉿! 신데렐라는 시계를 못 본대 :길이 재기와 시계 보기    \n",
              "...                                                  ...   \n",
              "11182                                            걸리버 여행기   \n",
              "11183                            Thanks, cooking robot!    \n",
              "11185  Project X Alien Adventures: Grey Book Band, Ox...   \n",
              "11189                                           가족을 지켜라!   \n",
              "11192                       이게 뭐예요? :자연에서 볼 수 있는 온갖 모양들    \n",
              "\n",
              "                                                AUTHR_NM  \\\n",
              "0                                               지은이: 김상욱   \n",
              "1                                                 이영도 지음   \n",
              "2                                         J. M. 데 바스콘셀로스   \n",
              "3                                          지은이: N잡하는 허대리   \n",
              "4                                        글: 고자현 ;그림: 김명곤   \n",
              "...                                                  ...   \n",
              "11182                                 조나단 스위프트 원작;윤유리 그림   \n",
              "11183                    기획·글: 책아책아! 영어 콘텐츠 연구소 ;그림: 박하영   \n",
              "11185  토니 브레드먼, James Noble, Mike Tucker, Jacqueline ...   \n",
              "11189                                김바다 (지은이), 국은오 (그림)   \n",
              "11192                                글: 라파엘 마르탱 ;옮김: 강현주   \n",
              "\n",
              "                                          BOOK_INTRCN_CN  \\\n",
              "0      양자 역학의 탄생부터 최전선까지 모든 역사와 20세기 물리학의 ‘제자백가’들이 펼치...   \n",
              "1      로 한국 판타지소설계의 정상에 선 이영도의 신작이 출간됐다. 이전 작품들에서 한 걸...   \n",
              "2      우리 나라 독자들에게 많은 사랑을 받아온 가 완역본 보급판으로 재출간됐다. 100여...   \n",
              "3      평범한 직장인에서 월급 외 수익 1,000만 원을 달성한 동시에 ‘N잡하는 허대리’...   \n",
              "4      초등 1.2학년 수학동화 시리즈 1권. ‘길이 재기와 시계 보기(측정)’에 관련된 ...   \n",
              "...                                                  ...   \n",
              "11182  Part 1에서는 우선 명작을 패러디한 만화로 작품의 줄거리, 주제를 한눈에 살펴본...   \n",
              "11183                                                NaN   \n",
              "11185                                                NaN   \n",
              "11189  다른 집들과 마찬가지로 지우네도 코로나19로 인하여 외출도 외식도 한 지 오래였다....   \n",
              "11192  자연에 관심이 많은 작가 라파엘 마르탱은 이 책을 통해 평소 우리 주변에서 흔히 볼...   \n",
              "\n",
              "                  PUBLISHER_NM PBLICTE_DE  \\\n",
              "0                       사이언스북스       2017   \n",
              "1                         황금가지       2003   \n",
              "2                           동녘       2010   \n",
              "3                Tornado(토네이도)       2020   \n",
              "4                       동아사이언스       2010   \n",
              "...                        ...        ...   \n",
              "11182                    대한교과서       2005   \n",
              "11183              여원미디어·한국가드너       2010   \n",
              "11185  Oxford University Press       2014   \n",
              "11189                    단비어린이       2021   \n",
              "11192                     머스트비       2019   \n",
              "\n",
              "                                           BOOK_IMAGE_NM  ...  LON_CO  \\\n",
              "0      https://image.aladin.co.kr/product/11380/16/co...  ...      48   \n",
              "1      https://bookthumb-phinf.pstatic.net/cover/001/...  ...      48   \n",
              "2      https://bookthumb-phinf.pstatic.net/cover/014/...  ...      48   \n",
              "3      https://image.aladin.co.kr/product/24341/4/cov...  ...      50   \n",
              "4      https://bookthumb-phinf.pstatic.net/cover/062/...  ...       2   \n",
              "...                                                  ...  ...     ...   \n",
              "11182  http://image.aladin.co.kr/product/60/88/cover/...  ...       3   \n",
              "11183                                                NaN  ...       6   \n",
              "11185  https://image.aladin.co.kr/product/18681/39/co...  ...      12   \n",
              "11189  https://image.aladin.co.kr/product/26612/6/cov...  ...      18   \n",
              "11192  https://image.aladin.co.kr/product/22456/85/co...  ...       5   \n",
              "\n",
              "      ANALS_PD_CD  ANALS_PD_CD_NM ANALS_TY_CD ANALS_TY_CD_NM  AGE_FLAG_NM  \\\n",
              "0              p3             90일           5        연령 및 성별          20대   \n",
              "1              p3             90일           5        연령 및 성별          20대   \n",
              "2              p3             90일           5        연령 및 성별          20대   \n",
              "3              p3             90일           5        연령 및 성별          20대   \n",
              "4              p1              7일           3            지역별          NaN   \n",
              "...           ...             ...         ...            ...          ...   \n",
              "11182          p1              7일           3            지역별          NaN   \n",
              "11183          p1              7일           3            지역별          NaN   \n",
              "11185          p1              7일           3            지역별          NaN   \n",
              "11189          p2             30일           3            지역별          NaN   \n",
              "11192          p1              7일           3            지역별          NaN   \n",
              "\n",
              "      AREA_NM SEXDSTN_FLAG_NM VLM_NM ANALS_LON_TOT_CO  \n",
              "0         NaN              여성    NaN           547138  \n",
              "1         NaN              여성      1           547138  \n",
              "2         NaN              여성    NaN           547138  \n",
              "3         NaN              여성    NaN           547138  \n",
              "4          경북             NaN    NaN             8070  \n",
              "...       ...             ...    ...              ...  \n",
              "11182      전남             NaN      2            37928  \n",
              "11183      전남             NaN      1            37928  \n",
              "11185      대전             NaN    NaN            65856  \n",
              "11189      충남             NaN    NaN           276829  \n",
              "11192      충남             NaN    NaN            71382  \n",
              "\n",
              "[31227 rows x 22 columns]"
            ],
            "text/html": [
              "\n",
              "  <div id=\"df-b9ca7cf0-9998-4ce2-bcdc-7ddbbd6aea57\">\n",
              "    <div class=\"colab-df-container\">\n",
              "      <div>\n",
              "<style scoped>\n",
              "    .dataframe tbody tr th:only-of-type {\n",
              "        vertical-align: middle;\n",
              "    }\n",
              "\n",
              "    .dataframe tbody tr th {\n",
              "        vertical-align: top;\n",
              "    }\n",
              "\n",
              "    .dataframe thead th {\n",
              "        text-align: right;\n",
              "    }\n",
              "</style>\n",
              "<table border=\"1\" class=\"dataframe\">\n",
              "  <thead>\n",
              "    <tr style=\"text-align: right;\">\n",
              "      <th></th>\n",
              "      <th>SEQ_NO</th>\n",
              "      <th>RANK_CO</th>\n",
              "      <th>INPT_DE</th>\n",
              "      <th>ISBN_THIRTEEN_NO</th>\n",
              "      <th>BOOK_TITLE_NM</th>\n",
              "      <th>AUTHR_NM</th>\n",
              "      <th>BOOK_INTRCN_CN</th>\n",
              "      <th>PUBLISHER_NM</th>\n",
              "      <th>PBLICTE_DE</th>\n",
              "      <th>BOOK_IMAGE_NM</th>\n",
              "      <th>...</th>\n",
              "      <th>LON_CO</th>\n",
              "      <th>ANALS_PD_CD</th>\n",
              "      <th>ANALS_PD_CD_NM</th>\n",
              "      <th>ANALS_TY_CD</th>\n",
              "      <th>ANALS_TY_CD_NM</th>\n",
              "      <th>AGE_FLAG_NM</th>\n",
              "      <th>AREA_NM</th>\n",
              "      <th>SEXDSTN_FLAG_NM</th>\n",
              "      <th>VLM_NM</th>\n",
              "      <th>ANALS_LON_TOT_CO</th>\n",
              "    </tr>\n",
              "  </thead>\n",
              "  <tbody>\n",
              "    <tr>\n",
              "      <th>0</th>\n",
              "      <td>267869911</td>\n",
              "      <td>984</td>\n",
              "      <td>2021-04-15</td>\n",
              "      <td>9.788980e+12</td>\n",
              "      <td>김상욱의 양자 공부 :완전히 새로운 현대 물리학 입문</td>\n",
              "      <td>지은이: 김상욱</td>\n",
              "      <td>양자 역학의 탄생부터 최전선까지 모든 역사와 20세기 물리학의 ‘제자백가’들이 펼치...</td>\n",
              "      <td>사이언스북스</td>\n",
              "      <td>2017</td>\n",
              "      <td>https://image.aladin.co.kr/product/11380/16/co...</td>\n",
              "      <td>...</td>\n",
              "      <td>48</td>\n",
              "      <td>p3</td>\n",
              "      <td>90일</td>\n",
              "      <td>5</td>\n",
              "      <td>연령 및 성별</td>\n",
              "      <td>20대</td>\n",
              "      <td>NaN</td>\n",
              "      <td>여성</td>\n",
              "      <td>NaN</td>\n",
              "      <td>547138</td>\n",
              "    </tr>\n",
              "    <tr>\n",
              "      <th>1</th>\n",
              "      <td>267869910</td>\n",
              "      <td>984</td>\n",
              "      <td>2021-04-15</td>\n",
              "      <td>9.788980e+12</td>\n",
              "      <td>눈물을 마시는 새</td>\n",
              "      <td>이영도 지음</td>\n",
              "      <td>로 한국 판타지소설계의 정상에 선 이영도의 신작이 출간됐다. 이전 작품들에서 한 걸...</td>\n",
              "      <td>황금가지</td>\n",
              "      <td>2003</td>\n",
              "      <td>https://bookthumb-phinf.pstatic.net/cover/001/...</td>\n",
              "      <td>...</td>\n",
              "      <td>48</td>\n",
              "      <td>p3</td>\n",
              "      <td>90일</td>\n",
              "      <td>5</td>\n",
              "      <td>연령 및 성별</td>\n",
              "      <td>20대</td>\n",
              "      <td>NaN</td>\n",
              "      <td>여성</td>\n",
              "      <td>1</td>\n",
              "      <td>547138</td>\n",
              "    </tr>\n",
              "    <tr>\n",
              "      <th>2</th>\n",
              "      <td>267869908</td>\n",
              "      <td>984</td>\n",
              "      <td>2021-04-15</td>\n",
              "      <td>9.788970e+12</td>\n",
              "      <td>나의 라임 오렌지나무</td>\n",
              "      <td>J. M. 데 바스콘셀로스</td>\n",
              "      <td>우리 나라 독자들에게 많은 사랑을 받아온 가 완역본 보급판으로 재출간됐다. 100여...</td>\n",
              "      <td>동녘</td>\n",
              "      <td>2010</td>\n",
              "      <td>https://bookthumb-phinf.pstatic.net/cover/014/...</td>\n",
              "      <td>...</td>\n",
              "      <td>48</td>\n",
              "      <td>p3</td>\n",
              "      <td>90일</td>\n",
              "      <td>5</td>\n",
              "      <td>연령 및 성별</td>\n",
              "      <td>20대</td>\n",
              "      <td>NaN</td>\n",
              "      <td>여성</td>\n",
              "      <td>NaN</td>\n",
              "      <td>547138</td>\n",
              "    </tr>\n",
              "    <tr>\n",
              "      <th>3</th>\n",
              "      <td>267869855</td>\n",
              "      <td>929</td>\n",
              "      <td>2021-04-15</td>\n",
              "      <td>9.791160e+12</td>\n",
              "      <td>(N잡하는 허대리의) 월급 독립 스쿨 :돈 버는 재미를 잃어버린 직장인을 위한</td>\n",
              "      <td>지은이: N잡하는 허대리</td>\n",
              "      <td>평범한 직장인에서 월급 외 수익 1,000만 원을 달성한 동시에 ‘N잡하는 허대리’...</td>\n",
              "      <td>Tornado(토네이도)</td>\n",
              "      <td>2020</td>\n",
              "      <td>https://image.aladin.co.kr/product/24341/4/cov...</td>\n",
              "      <td>...</td>\n",
              "      <td>50</td>\n",
              "      <td>p3</td>\n",
              "      <td>90일</td>\n",
              "      <td>5</td>\n",
              "      <td>연령 및 성별</td>\n",
              "      <td>20대</td>\n",
              "      <td>NaN</td>\n",
              "      <td>여성</td>\n",
              "      <td>NaN</td>\n",
              "      <td>547138</td>\n",
              "    </tr>\n",
              "    <tr>\n",
              "      <th>4</th>\n",
              "      <td>267714443</td>\n",
              "      <td>196</td>\n",
              "      <td>2021-04-15</td>\n",
              "      <td>9.788960e+12</td>\n",
              "      <td>쉿! 신데렐라는 시계를 못 본대 :길이 재기와 시계 보기</td>\n",
              "      <td>글: 고자현 ;그림: 김명곤</td>\n",
              "      <td>초등 1.2학년 수학동화 시리즈 1권. ‘길이 재기와 시계 보기(측정)’에 관련된 ...</td>\n",
              "      <td>동아사이언스</td>\n",
              "      <td>2010</td>\n",
              "      <td>https://bookthumb-phinf.pstatic.net/cover/062/...</td>\n",
              "      <td>...</td>\n",
              "      <td>2</td>\n",
              "      <td>p1</td>\n",
              "      <td>7일</td>\n",
              "      <td>3</td>\n",
              "      <td>지역별</td>\n",
              "      <td>NaN</td>\n",
              "      <td>경북</td>\n",
              "      <td>NaN</td>\n",
              "      <td>NaN</td>\n",
              "      <td>8070</td>\n",
              "    </tr>\n",
              "    <tr>\n",
              "      <th>...</th>\n",
              "      <td>...</td>\n",
              "      <td>...</td>\n",
              "      <td>...</td>\n",
              "      <td>...</td>\n",
              "      <td>...</td>\n",
              "      <td>...</td>\n",
              "      <td>...</td>\n",
              "      <td>...</td>\n",
              "      <td>...</td>\n",
              "      <td>...</td>\n",
              "      <td>...</td>\n",
              "      <td>...</td>\n",
              "      <td>...</td>\n",
              "      <td>...</td>\n",
              "      <td>...</td>\n",
              "      <td>...</td>\n",
              "      <td>...</td>\n",
              "      <td>...</td>\n",
              "      <td>...</td>\n",
              "      <td>...</td>\n",
              "      <td>...</td>\n",
              "    </tr>\n",
              "    <tr>\n",
              "      <th>11182</th>\n",
              "      <td>282950623</td>\n",
              "      <td>734</td>\n",
              "      <td>2021-07-15</td>\n",
              "      <td>9.788940e+12</td>\n",
              "      <td>걸리버 여행기</td>\n",
              "      <td>조나단 스위프트 원작;윤유리 그림</td>\n",
              "      <td>Part 1에서는 우선 명작을 패러디한 만화로 작품의 줄거리, 주제를 한눈에 살펴본...</td>\n",
              "      <td>대한교과서</td>\n",
              "      <td>2005</td>\n",
              "      <td>http://image.aladin.co.kr/product/60/88/cover/...</td>\n",
              "      <td>...</td>\n",
              "      <td>3</td>\n",
              "      <td>p1</td>\n",
              "      <td>7일</td>\n",
              "      <td>3</td>\n",
              "      <td>지역별</td>\n",
              "      <td>NaN</td>\n",
              "      <td>전남</td>\n",
              "      <td>NaN</td>\n",
              "      <td>2</td>\n",
              "      <td>37928</td>\n",
              "    </tr>\n",
              "    <tr>\n",
              "      <th>11183</th>\n",
              "      <td>282949919</td>\n",
              "      <td>163</td>\n",
              "      <td>2021-07-15</td>\n",
              "      <td>9.788960e+12</td>\n",
              "      <td>Thanks, cooking robot!</td>\n",
              "      <td>기획·글: 책아책아! 영어 콘텐츠 연구소 ;그림: 박하영</td>\n",
              "      <td>NaN</td>\n",
              "      <td>여원미디어·한국가드너</td>\n",
              "      <td>2010</td>\n",
              "      <td>NaN</td>\n",
              "      <td>...</td>\n",
              "      <td>6</td>\n",
              "      <td>p1</td>\n",
              "      <td>7일</td>\n",
              "      <td>3</td>\n",
              "      <td>지역별</td>\n",
              "      <td>NaN</td>\n",
              "      <td>전남</td>\n",
              "      <td>NaN</td>\n",
              "      <td>1</td>\n",
              "      <td>37928</td>\n",
              "    </tr>\n",
              "    <tr>\n",
              "      <th>11185</th>\n",
              "      <td>282941729</td>\n",
              "      <td>35</td>\n",
              "      <td>2021-07-15</td>\n",
              "      <td>9.780200e+12</td>\n",
              "      <td>Project X Alien Adventures: Grey Book Band, Ox...</td>\n",
              "      <td>토니 브레드먼, James Noble, Mike Tucker, Jacqueline ...</td>\n",
              "      <td>NaN</td>\n",
              "      <td>Oxford University Press</td>\n",
              "      <td>2014</td>\n",
              "      <td>https://image.aladin.co.kr/product/18681/39/co...</td>\n",
              "      <td>...</td>\n",
              "      <td>12</td>\n",
              "      <td>p1</td>\n",
              "      <td>7일</td>\n",
              "      <td>3</td>\n",
              "      <td>지역별</td>\n",
              "      <td>NaN</td>\n",
              "      <td>대전</td>\n",
              "      <td>NaN</td>\n",
              "      <td>NaN</td>\n",
              "      <td>65856</td>\n",
              "    </tr>\n",
              "    <tr>\n",
              "      <th>11189</th>\n",
              "      <td>283011660</td>\n",
              "      <td>917</td>\n",
              "      <td>2021-07-15</td>\n",
              "      <td>9.788960e+12</td>\n",
              "      <td>가족을 지켜라!</td>\n",
              "      <td>김바다 (지은이), 국은오 (그림)</td>\n",
              "      <td>다른 집들과 마찬가지로 지우네도 코로나19로 인하여 외출도 외식도 한 지 오래였다....</td>\n",
              "      <td>단비어린이</td>\n",
              "      <td>2021</td>\n",
              "      <td>https://image.aladin.co.kr/product/26612/6/cov...</td>\n",
              "      <td>...</td>\n",
              "      <td>18</td>\n",
              "      <td>p2</td>\n",
              "      <td>30일</td>\n",
              "      <td>3</td>\n",
              "      <td>지역별</td>\n",
              "      <td>NaN</td>\n",
              "      <td>충남</td>\n",
              "      <td>NaN</td>\n",
              "      <td>NaN</td>\n",
              "      <td>276829</td>\n",
              "    </tr>\n",
              "    <tr>\n",
              "      <th>11192</th>\n",
              "      <td>282948631</td>\n",
              "      <td>719</td>\n",
              "      <td>2021-07-15</td>\n",
              "      <td>9.791160e+12</td>\n",
              "      <td>이게 뭐예요? :자연에서 볼 수 있는 온갖 모양들</td>\n",
              "      <td>글: 라파엘 마르탱 ;옮김: 강현주</td>\n",
              "      <td>자연에 관심이 많은 작가 라파엘 마르탱은 이 책을 통해 평소 우리 주변에서 흔히 볼...</td>\n",
              "      <td>머스트비</td>\n",
              "      <td>2019</td>\n",
              "      <td>https://image.aladin.co.kr/product/22456/85/co...</td>\n",
              "      <td>...</td>\n",
              "      <td>5</td>\n",
              "      <td>p1</td>\n",
              "      <td>7일</td>\n",
              "      <td>3</td>\n",
              "      <td>지역별</td>\n",
              "      <td>NaN</td>\n",
              "      <td>충남</td>\n",
              "      <td>NaN</td>\n",
              "      <td>NaN</td>\n",
              "      <td>71382</td>\n",
              "    </tr>\n",
              "  </tbody>\n",
              "</table>\n",
              "<p>31227 rows × 22 columns</p>\n",
              "</div>\n",
              "      <button class=\"colab-df-convert\" onclick=\"convertToInteractive('df-b9ca7cf0-9998-4ce2-bcdc-7ddbbd6aea57')\"\n",
              "              title=\"Convert this dataframe to an interactive table.\"\n",
              "              style=\"display:none;\">\n",
              "        \n",
              "  <svg xmlns=\"http://www.w3.org/2000/svg\" height=\"24px\"viewBox=\"0 0 24 24\"\n",
              "       width=\"24px\">\n",
              "    <path d=\"M0 0h24v24H0V0z\" fill=\"none\"/>\n",
              "    <path d=\"M18.56 5.44l.94 2.06.94-2.06 2.06-.94-2.06-.94-.94-2.06-.94 2.06-2.06.94zm-11 1L8.5 8.5l.94-2.06 2.06-.94-2.06-.94L8.5 2.5l-.94 2.06-2.06.94zm10 10l.94 2.06.94-2.06 2.06-.94-2.06-.94-.94-2.06-.94 2.06-2.06.94z\"/><path d=\"M17.41 7.96l-1.37-1.37c-.4-.4-.92-.59-1.43-.59-.52 0-1.04.2-1.43.59L10.3 9.45l-7.72 7.72c-.78.78-.78 2.05 0 2.83L4 21.41c.39.39.9.59 1.41.59.51 0 1.02-.2 1.41-.59l7.78-7.78 2.81-2.81c.8-.78.8-2.07 0-2.86zM5.41 20L4 18.59l7.72-7.72 1.47 1.35L5.41 20z\"/>\n",
              "  </svg>\n",
              "      </button>\n",
              "      \n",
              "  <style>\n",
              "    .colab-df-container {\n",
              "      display:flex;\n",
              "      flex-wrap:wrap;\n",
              "      gap: 12px;\n",
              "    }\n",
              "\n",
              "    .colab-df-convert {\n",
              "      background-color: #E8F0FE;\n",
              "      border: none;\n",
              "      border-radius: 50%;\n",
              "      cursor: pointer;\n",
              "      display: none;\n",
              "      fill: #1967D2;\n",
              "      height: 32px;\n",
              "      padding: 0 0 0 0;\n",
              "      width: 32px;\n",
              "    }\n",
              "\n",
              "    .colab-df-convert:hover {\n",
              "      background-color: #E2EBFA;\n",
              "      box-shadow: 0px 1px 2px rgba(60, 64, 67, 0.3), 0px 1px 3px 1px rgba(60, 64, 67, 0.15);\n",
              "      fill: #174EA6;\n",
              "    }\n",
              "\n",
              "    [theme=dark] .colab-df-convert {\n",
              "      background-color: #3B4455;\n",
              "      fill: #D2E3FC;\n",
              "    }\n",
              "\n",
              "    [theme=dark] .colab-df-convert:hover {\n",
              "      background-color: #434B5C;\n",
              "      box-shadow: 0px 1px 3px 1px rgba(0, 0, 0, 0.15);\n",
              "      filter: drop-shadow(0px 1px 2px rgba(0, 0, 0, 0.3));\n",
              "      fill: #FFFFFF;\n",
              "    }\n",
              "  </style>\n",
              "\n",
              "      <script>\n",
              "        const buttonEl =\n",
              "          document.querySelector('#df-b9ca7cf0-9998-4ce2-bcdc-7ddbbd6aea57 button.colab-df-convert');\n",
              "        buttonEl.style.display =\n",
              "          google.colab.kernel.accessAllowed ? 'block' : 'none';\n",
              "\n",
              "        async function convertToInteractive(key) {\n",
              "          const element = document.querySelector('#df-b9ca7cf0-9998-4ce2-bcdc-7ddbbd6aea57');\n",
              "          const dataTable =\n",
              "            await google.colab.kernel.invokeFunction('convertToInteractive',\n",
              "                                                     [key], {});\n",
              "          if (!dataTable) return;\n",
              "\n",
              "          const docLinkHtml = 'Like what you see? Visit the ' +\n",
              "            '<a target=\"_blank\" href=https://colab.research.google.com/notebooks/data_table.ipynb>data table notebook</a>'\n",
              "            + ' to learn more about interactive tables.';\n",
              "          element.innerHTML = '';\n",
              "          dataTable['output_type'] = 'display_data';\n",
              "          await google.colab.output.renderOutput(dataTable, element);\n",
              "          const docLink = document.createElement('div');\n",
              "          docLink.innerHTML = docLinkHtml;\n",
              "          element.appendChild(docLink);\n",
              "        }\n",
              "      </script>\n",
              "    </div>\n",
              "  </div>\n",
              "  "
            ]
          },
          "metadata": {},
          "execution_count": 5
        }
      ]
    },
    {
      "cell_type": "code",
      "source": [
        "df.info()"
      ],
      "metadata": {
        "colab": {
          "base_uri": "https://localhost:8080/"
        },
        "id": "plc9xeNBOEmA",
        "outputId": "ffb2ee24-93b7-4573-af91-c375fbf66ffb"
      },
      "execution_count": null,
      "outputs": [
        {
          "output_type": "stream",
          "name": "stdout",
          "text": [
            "<class 'pandas.core.frame.DataFrame'>\n",
            "Int64Index: 31227 entries, 0 to 11192\n",
            "Data columns (total 22 columns):\n",
            " #   Column             Non-Null Count  Dtype  \n",
            "---  ------             --------------  -----  \n",
            " 0   SEQ_NO             31227 non-null  int64  \n",
            " 1   RANK_CO            31227 non-null  int64  \n",
            " 2   INPT_DE            31227 non-null  object \n",
            " 3   ISBN_THIRTEEN_NO   31227 non-null  float64\n",
            " 4   BOOK_TITLE_NM      31226 non-null  object \n",
            " 5   AUTHR_NM           31191 non-null  object \n",
            " 6   BOOK_INTRCN_CN     27496 non-null  object \n",
            " 7   PUBLISHER_NM       30596 non-null  object \n",
            " 8   PBLICTE_DE         31022 non-null  object \n",
            " 9   BOOK_IMAGE_NM      29076 non-null  object \n",
            " 10  BOOK_MASTR_SEQ_NO  31227 non-null  int64  \n",
            " 11  KDC_NM             23528 non-null  object \n",
            " 12  LON_CO             31227 non-null  int64  \n",
            " 13  ANALS_PD_CD        31227 non-null  object \n",
            " 14  ANALS_PD_CD_NM     31227 non-null  object \n",
            " 15  ANALS_TY_CD        31227 non-null  int64  \n",
            " 16  ANALS_TY_CD_NM     31227 non-null  object \n",
            " 17  AGE_FLAG_NM        21749 non-null  object \n",
            " 18  AREA_NM            9403 non-null   object \n",
            " 19  SEXDSTN_FLAG_NM    17647 non-null  object \n",
            " 20  VLM_NM             9686 non-null   object \n",
            " 21  ANALS_LON_TOT_CO   31227 non-null  int64  \n",
            "dtypes: float64(1), int64(6), object(15)\n",
            "memory usage: 5.5+ MB\n"
          ]
        }
      ]
    },
    {
      "cell_type": "code",
      "source": [
        "data = df[['BOOK_TITLE_NM','AUTHR_NM','BOOK_INTRCN_CN']]\n",
        "data.info()"
      ],
      "metadata": {
        "colab": {
          "base_uri": "https://localhost:8080/"
        },
        "id": "i5uOk2m2G2gq",
        "outputId": "4aad1c53-9388-491c-ab94-f6f17babbb81"
      },
      "execution_count": null,
      "outputs": [
        {
          "output_type": "stream",
          "name": "stdout",
          "text": [
            "<class 'pandas.core.frame.DataFrame'>\n",
            "Int64Index: 31227 entries, 0 to 11192\n",
            "Data columns (total 3 columns):\n",
            " #   Column          Non-Null Count  Dtype \n",
            "---  ------          --------------  ----- \n",
            " 0   BOOK_TITLE_NM   31226 non-null  object\n",
            " 1   AUTHR_NM        31191 non-null  object\n",
            " 2   BOOK_INTRCN_CN  27496 non-null  object\n",
            "dtypes: object(3)\n",
            "memory usage: 975.8+ KB\n"
          ]
        }
      ]
    },
    {
      "cell_type": "code",
      "source": [
        "data.isnull().sum()"
      ],
      "metadata": {
        "colab": {
          "base_uri": "https://localhost:8080/"
        },
        "id": "UjXrTDN_JyUZ",
        "outputId": "15316e7b-ce96-48b0-b4ea-a2ccd49538eb"
      },
      "execution_count": null,
      "outputs": [
        {
          "output_type": "execute_result",
          "data": {
            "text/plain": [
              "BOOK_TITLE_NM          1\n",
              "AUTHR_NM              36\n",
              "BOOK_INTRCN_CN      3731\n",
              "PUBLISHER_NM         631\n",
              "ANALS_LON_TOT_CO       0\n",
              "dtype: int64"
            ]
          },
          "metadata": {},
          "execution_count": 7
        }
      ]
    },
    {
      "cell_type": "code",
      "source": [
        "data.dropna(inplace=True)"
      ],
      "metadata": {
        "colab": {
          "base_uri": "https://localhost:8080/"
        },
        "id": "71UdmYfWLFrH",
        "outputId": "ad8eb398-d13a-47da-faa4-c31f46662504"
      },
      "execution_count": null,
      "outputs": [
        {
          "output_type": "stream",
          "name": "stderr",
          "text": [
            "/usr/local/lib/python3.8/dist-packages/pandas/util/_decorators.py:311: SettingWithCopyWarning: \n",
            "A value is trying to be set on a copy of a slice from a DataFrame\n",
            "\n",
            "See the caveats in the documentation: https://pandas.pydata.org/pandas-docs/stable/user_guide/indexing.html#returning-a-view-versus-a-copy\n",
            "  return func(*args, **kwargs)\n"
          ]
        }
      ]
    },
    {
      "cell_type": "code",
      "source": [
        "data.reset_index(drop=True, inplace=True)"
      ],
      "metadata": {
        "id": "cX7Ig2wihHs1"
      },
      "execution_count": null,
      "outputs": []
    },
    {
      "cell_type": "markdown",
      "source": [
        "## 추천시스템"
      ],
      "metadata": {
        "id": "RtCD_hQ0GIYG"
      }
    },
    {
      "cell_type": "code",
      "source": [
        "tfidf = TfidfVectorizer()\n",
        "tfidf_matrix = tfidf.fit_transform(data['BOOK_INTRCN_CN'])"
      ],
      "metadata": {
        "id": "pKWyYIxDLky6"
      },
      "execution_count": null,
      "outputs": []
    },
    {
      "cell_type": "code",
      "source": [
        "#코사인 유사도\n",
        "cosine_sim= cosine_similarity(tfidf_matrix, tfidf_matrix)\n",
        "cosine_sim.shape"
      ],
      "metadata": {
        "colab": {
          "base_uri": "https://localhost:8080/"
        },
        "id": "BCM0XgvPLoVM",
        "outputId": "eec7bb37-d272-419d-972c-94e69e83b7c0"
      },
      "execution_count": null,
      "outputs": [
        {
          "output_type": "execute_result",
          "data": {
            "text/plain": [
              "(27494, 27494)"
            ]
          },
          "metadata": {},
          "execution_count": 9
        }
      ]
    },
    {
      "cell_type": "code",
      "source": [
        "sim_scores = list(enumerate(cosine_sim[idx]))\n",
        "sim_scores = sorted(sim_scores, key=lambda x:x[1], reverse=True)\n",
        "sim_scores = sim_scores[0:11]\n",
        "sim_scores"
      ],
      "metadata": {
        "colab": {
          "base_uri": "https://localhost:8080/"
        },
        "id": "3kcwhpa6gpeD",
        "outputId": "ac3c7b02-85df-4dde-e2f6-2b79b5c70cf5"
      },
      "execution_count": null,
      "outputs": [
        {
          "output_type": "execute_result",
          "data": {
            "text/plain": [
              "[(23235, 1.0),\n",
              " (25062, 0.08047700066943765),\n",
              " (26388, 0.07868882833881248),\n",
              " (24612, 0.0738451907818454),\n",
              " (17472, 0.07330128399574437),\n",
              " (25106, 0.07330128399574437),\n",
              " (27354, 0.07327358000469629),\n",
              " (13077, 0.07097141691791417),\n",
              " (5251, 0.06782896389561706),\n",
              " (26957, 0.06669973630046622),\n",
              " (14652, 0.06150331492517986)]"
            ]
          },
          "metadata": {},
          "execution_count": 13
        }
      ]
    },
    {
      "cell_type": "code",
      "source": [
        "movie_indices = [idx[0] for idx in sim_scores]\n",
        "movie_indices"
      ],
      "metadata": {
        "colab": {
          "base_uri": "https://localhost:8080/"
        },
        "id": "0DhvXohjg7Xp",
        "outputId": "b78004ae-70eb-4262-8792-b041ebeff56e"
      },
      "execution_count": null,
      "outputs": [
        {
          "output_type": "execute_result",
          "data": {
            "text/plain": [
              "[23235, 25062, 26388, 24612, 17472, 25106, 27354, 13077, 5251, 26957, 14652]"
            ]
          },
          "metadata": {},
          "execution_count": 14
        }
      ]
    },
    {
      "cell_type": "code",
      "source": [
        "def get_recommendation(title,cosine_sim = cosine_sim):\n",
        "  a_li=[]\n",
        "  for i in data['BOOK_TITLE_NM']:\n",
        "    if title in str(i): #완벽한 제목이 아니어도 검색 가능\n",
        "      a_li.append(i)\n",
        "  #선택한 책의 타이틀로부터 해당 책의 인덱스를 받아온다\n",
        "  idx = title_to_index[a_li[0]]\n",
        "\n",
        "  #해당 책와 모든 책와의 유사도\n",
        "  sim_scores = list(enumerate(cosine_sim[idx]))\n",
        "\n",
        "  #유사도에 따라 책 정렬\n",
        "  sim_scores1 = sorted(sim_scores, key=lambda x:x[1], reverse=True)\n",
        "\n",
        "  #가장 유사한 10개의 책\n",
        "  sim_scores2 = sim_scores1[0:11]\n",
        "\n",
        "  #가장 유사한 10개의 책의 인덱스\n",
        "  movie_indices = [idx[0] for idx in sim_scores2]\n",
        "\n",
        "  #가장 유사한 10개의 책의 제목\n",
        "  return data['BOOK_TITLE_NM'].iloc[movie_indices]\n"
      ],
      "metadata": {
        "id": "ENdr3ciSMcxd"
      },
      "execution_count": null,
      "outputs": []
    },
    {
      "cell_type": "code",
      "source": [
        "get_recommendation('나의 라임')"
      ],
      "metadata": {
        "colab": {
          "base_uri": "https://localhost:8080/"
        },
        "id": "d8-TaTO_QBBu",
        "outputId": "3ac58c22-f3bf-42ad-f25e-7579639533c1"
      },
      "execution_count": null,
      "outputs": [
        {
          "output_type": "execute_result",
          "data": {
            "text/plain": [
              "2                                       나의 라임 오렌지나무\n",
              "16382                                      밤 기차 여행 \n",
              "21364                         사랑의 역사 :니콜 크라우스 장편소설 \n",
              "14362                                  사냥꾼을 만난 꼬마곰 \n",
              "18497          지금은 나만의 시간입니다 - 인생을 리셋하는 혼자 있는 시간의 힘\n",
              "20022                                     아빠 해마 이야기\n",
              "12817                                             난\n",
              "17554    하루 5분, 명화를 읽는 시간 :내 방에서 즐기는 반전 가득한 명화 이야기 \n",
              "4611                             (어린이를 위한) 우동 한 그릇 \n",
              "5410                              (그림책) 돌 씹어 먹는 아이 \n",
              "16732                                 넌 어떻게 춤을 추니? \n",
              "Name: BOOK_TITLE_NM, dtype: object"
            ]
          },
          "metadata": {},
          "execution_count": 20
        }
      ]
    },
    {
      "cell_type": "markdown",
      "source": [
        "## 딥러닝"
      ],
      "metadata": {
        "id": "pLBC5sla2liz"
      }
    },
    {
      "cell_type": "markdown",
      "source": [
        "### vocab에 저장 후 encoded\n",
        "[vocab](https://wikidocs.net/99893)"
      ],
      "metadata": {
        "id": "k_Qe888E2Jkf"
      }
    },
    {
      "cell_type": "code",
      "source": [
        "pip install tokenizers"
      ],
      "metadata": {
        "colab": {
          "base_uri": "https://localhost:8080/"
        },
        "id": "Y3mBA3wk1eoI",
        "outputId": "af4b6ba6-3fba-4d4b-ac82-fbb70ccc00eb"
      },
      "execution_count": null,
      "outputs": [
        {
          "output_type": "stream",
          "name": "stdout",
          "text": [
            "Looking in indexes: https://pypi.org/simple, https://us-python.pkg.dev/colab-wheels/public/simple/\n",
            "Collecting tokenizers\n",
            "  Downloading tokenizers-0.13.2-cp38-cp38-manylinux_2_17_x86_64.manylinux2014_x86_64.whl (7.6 MB)\n",
            "\u001b[K     |████████████████████████████████| 7.6 MB 36.6 MB/s \n",
            "\u001b[?25hInstalling collected packages: tokenizers\n",
            "Successfully installed tokenizers-0.13.2\n"
          ]
        }
      ]
    },
    {
      "cell_type": "code",
      "source": [
        "import pandas as pd\n",
        "import urllib.request\n",
        "from tokenizers import BertWordPieceTokenizer\n",
        "\n",
        "urllib.request.urlretrieve(\"https://raw.githubusercontent.com/e9t/nsmc/master/ratings.txt\", filename=\"ratings.txt\")"
      ],
      "metadata": {
        "colab": {
          "base_uri": "https://localhost:8080/"
        },
        "id": "ZSN9rXR0w2Jv",
        "outputId": "da1e5e5e-d23d-4122-8943-9aa1b4a4deb5"
      },
      "execution_count": null,
      "outputs": [
        {
          "output_type": "execute_result",
          "data": {
            "text/plain": [
              "('ratings.txt', <http.client.HTTPMessage at 0x7f86b4868f10>)"
            ]
          },
          "metadata": {},
          "execution_count": 9
        }
      ]
    },
    {
      "cell_type": "code",
      "source": [
        "naver_df = pd.read_table('ratings.txt')\n",
        "naver_df = naver_df.dropna(how='any')\n",
        "with open('naver_review.txt', 'w', encoding='utf8') as f:\n",
        "    f.write('\\n'.join(naver_df['document']))"
      ],
      "metadata": {
        "id": "kdHfJZwA1YJ0"
      },
      "execution_count": null,
      "outputs": []
    },
    {
      "cell_type": "code",
      "source": [
        "tokenizer = BertWordPieceTokenizer(lowercase=False, strip_accents=False)"
      ],
      "metadata": {
        "id": "qipnNhSN1qQL"
      },
      "execution_count": null,
      "outputs": []
    },
    {
      "cell_type": "code",
      "source": [
        "data_file = 'naver_review.txt'\n",
        "vocab_size = 30000\n",
        "limit_alphabet = 6000\n",
        "min_frequency = 5\n",
        "\n",
        "tokenizer.train(files=data_file,\n",
        "                vocab_size=vocab_size,\n",
        "                limit_alphabet=limit_alphabet,\n",
        "                min_frequency=min_frequency)"
      ],
      "metadata": {
        "id": "NGxqd0w-1yOQ"
      },
      "execution_count": null,
      "outputs": []
    },
    {
      "cell_type": "code",
      "source": [
        "# vocab 저장\n",
        "tokenizer.save_model('./')"
      ],
      "metadata": {
        "colab": {
          "base_uri": "https://localhost:8080/"
        },
        "id": "VxKvsm-k1ziC",
        "outputId": "3ed1ebf3-7e76-460d-92c5-8ebc9d37ca9f"
      },
      "execution_count": null,
      "outputs": [
        {
          "output_type": "execute_result",
          "data": {
            "text/plain": [
              "['./vocab.txt']"
            ]
          },
          "metadata": {},
          "execution_count": 13
        }
      ]
    },
    {
      "cell_type": "code",
      "source": [
        "# vocab 로드\n",
        "df = pd.read_fwf('vocab.txt', header=None)\n",
        "df"
      ],
      "metadata": {
        "colab": {
          "base_uri": "https://localhost:8080/",
          "height": 424
        },
        "id": "XjtN5e7H13iv",
        "outputId": "69ff6474-0986-4374-c6ce-38aafdc3f78c"
      },
      "execution_count": null,
      "outputs": [
        {
          "output_type": "execute_result",
          "data": {
            "text/plain": [
              "            0\n",
              "0       [PAD]\n",
              "1       [UNK]\n",
              "2       [CLS]\n",
              "3       [SEP]\n",
              "4      [MASK]\n",
              "...       ...\n",
              "29995    말밖에는\n",
              "29996      맘을\n",
              "29997      맛도\n",
              "29998     망하지\n",
              "29999     망한다\n",
              "\n",
              "[30000 rows x 1 columns]"
            ],
            "text/html": [
              "\n",
              "  <div id=\"df-82c66494-5f8c-467a-9455-fb6b70b4857e\">\n",
              "    <div class=\"colab-df-container\">\n",
              "      <div>\n",
              "<style scoped>\n",
              "    .dataframe tbody tr th:only-of-type {\n",
              "        vertical-align: middle;\n",
              "    }\n",
              "\n",
              "    .dataframe tbody tr th {\n",
              "        vertical-align: top;\n",
              "    }\n",
              "\n",
              "    .dataframe thead th {\n",
              "        text-align: right;\n",
              "    }\n",
              "</style>\n",
              "<table border=\"1\" class=\"dataframe\">\n",
              "  <thead>\n",
              "    <tr style=\"text-align: right;\">\n",
              "      <th></th>\n",
              "      <th>0</th>\n",
              "    </tr>\n",
              "  </thead>\n",
              "  <tbody>\n",
              "    <tr>\n",
              "      <th>0</th>\n",
              "      <td>[PAD]</td>\n",
              "    </tr>\n",
              "    <tr>\n",
              "      <th>1</th>\n",
              "      <td>[UNK]</td>\n",
              "    </tr>\n",
              "    <tr>\n",
              "      <th>2</th>\n",
              "      <td>[CLS]</td>\n",
              "    </tr>\n",
              "    <tr>\n",
              "      <th>3</th>\n",
              "      <td>[SEP]</td>\n",
              "    </tr>\n",
              "    <tr>\n",
              "      <th>4</th>\n",
              "      <td>[MASK]</td>\n",
              "    </tr>\n",
              "    <tr>\n",
              "      <th>...</th>\n",
              "      <td>...</td>\n",
              "    </tr>\n",
              "    <tr>\n",
              "      <th>29995</th>\n",
              "      <td>말밖에는</td>\n",
              "    </tr>\n",
              "    <tr>\n",
              "      <th>29996</th>\n",
              "      <td>맘을</td>\n",
              "    </tr>\n",
              "    <tr>\n",
              "      <th>29997</th>\n",
              "      <td>맛도</td>\n",
              "    </tr>\n",
              "    <tr>\n",
              "      <th>29998</th>\n",
              "      <td>망하지</td>\n",
              "    </tr>\n",
              "    <tr>\n",
              "      <th>29999</th>\n",
              "      <td>망한다</td>\n",
              "    </tr>\n",
              "  </tbody>\n",
              "</table>\n",
              "<p>30000 rows × 1 columns</p>\n",
              "</div>\n",
              "      <button class=\"colab-df-convert\" onclick=\"convertToInteractive('df-82c66494-5f8c-467a-9455-fb6b70b4857e')\"\n",
              "              title=\"Convert this dataframe to an interactive table.\"\n",
              "              style=\"display:none;\">\n",
              "        \n",
              "  <svg xmlns=\"http://www.w3.org/2000/svg\" height=\"24px\"viewBox=\"0 0 24 24\"\n",
              "       width=\"24px\">\n",
              "    <path d=\"M0 0h24v24H0V0z\" fill=\"none\"/>\n",
              "    <path d=\"M18.56 5.44l.94 2.06.94-2.06 2.06-.94-2.06-.94-.94-2.06-.94 2.06-2.06.94zm-11 1L8.5 8.5l.94-2.06 2.06-.94-2.06-.94L8.5 2.5l-.94 2.06-2.06.94zm10 10l.94 2.06.94-2.06 2.06-.94-2.06-.94-.94-2.06-.94 2.06-2.06.94z\"/><path d=\"M17.41 7.96l-1.37-1.37c-.4-.4-.92-.59-1.43-.59-.52 0-1.04.2-1.43.59L10.3 9.45l-7.72 7.72c-.78.78-.78 2.05 0 2.83L4 21.41c.39.39.9.59 1.41.59.51 0 1.02-.2 1.41-.59l7.78-7.78 2.81-2.81c.8-.78.8-2.07 0-2.86zM5.41 20L4 18.59l7.72-7.72 1.47 1.35L5.41 20z\"/>\n",
              "  </svg>\n",
              "      </button>\n",
              "      \n",
              "  <style>\n",
              "    .colab-df-container {\n",
              "      display:flex;\n",
              "      flex-wrap:wrap;\n",
              "      gap: 12px;\n",
              "    }\n",
              "\n",
              "    .colab-df-convert {\n",
              "      background-color: #E8F0FE;\n",
              "      border: none;\n",
              "      border-radius: 50%;\n",
              "      cursor: pointer;\n",
              "      display: none;\n",
              "      fill: #1967D2;\n",
              "      height: 32px;\n",
              "      padding: 0 0 0 0;\n",
              "      width: 32px;\n",
              "    }\n",
              "\n",
              "    .colab-df-convert:hover {\n",
              "      background-color: #E2EBFA;\n",
              "      box-shadow: 0px 1px 2px rgba(60, 64, 67, 0.3), 0px 1px 3px 1px rgba(60, 64, 67, 0.15);\n",
              "      fill: #174EA6;\n",
              "    }\n",
              "\n",
              "    [theme=dark] .colab-df-convert {\n",
              "      background-color: #3B4455;\n",
              "      fill: #D2E3FC;\n",
              "    }\n",
              "\n",
              "    [theme=dark] .colab-df-convert:hover {\n",
              "      background-color: #434B5C;\n",
              "      box-shadow: 0px 1px 3px 1px rgba(0, 0, 0, 0.15);\n",
              "      filter: drop-shadow(0px 1px 2px rgba(0, 0, 0, 0.3));\n",
              "      fill: #FFFFFF;\n",
              "    }\n",
              "  </style>\n",
              "\n",
              "      <script>\n",
              "        const buttonEl =\n",
              "          document.querySelector('#df-82c66494-5f8c-467a-9455-fb6b70b4857e button.colab-df-convert');\n",
              "        buttonEl.style.display =\n",
              "          google.colab.kernel.accessAllowed ? 'block' : 'none';\n",
              "\n",
              "        async function convertToInteractive(key) {\n",
              "          const element = document.querySelector('#df-82c66494-5f8c-467a-9455-fb6b70b4857e');\n",
              "          const dataTable =\n",
              "            await google.colab.kernel.invokeFunction('convertToInteractive',\n",
              "                                                     [key], {});\n",
              "          if (!dataTable) return;\n",
              "\n",
              "          const docLinkHtml = 'Like what you see? Visit the ' +\n",
              "            '<a target=\"_blank\" href=https://colab.research.google.com/notebooks/data_table.ipynb>data table notebook</a>'\n",
              "            + ' to learn more about interactive tables.';\n",
              "          element.innerHTML = '';\n",
              "          dataTable['output_type'] = 'display_data';\n",
              "          await google.colab.output.renderOutput(dataTable, element);\n",
              "          const docLink = document.createElement('div');\n",
              "          docLink.innerHTML = docLinkHtml;\n",
              "          element.appendChild(docLink);\n",
              "        }\n",
              "      </script>\n",
              "    </div>\n",
              "  </div>\n",
              "  "
            ]
          },
          "metadata": {},
          "execution_count": 14
        }
      ]
    },
    {
      "cell_type": "code",
      "source": [
        "encoded = tokenizer.encode('양자 역학의 탄생부터 최전선까지 모든 역사와 20세기 물리학의 ‘제자백가’들이 펼치')\n",
        "print('토큰화 결과 :',encoded.tokens)\n",
        "print('정수 인코딩 :',encoded.ids)\n",
        "print('디코딩 :',tokenizer.decode(encoded.ids))"
      ],
      "metadata": {
        "colab": {
          "base_uri": "https://localhost:8080/"
        },
        "id": "KXc03dJ215ad",
        "outputId": "8b636f89-f6fa-4735-d4f7-38590c006595"
      },
      "execution_count": null,
      "outputs": [
        {
          "output_type": "stream",
          "name": "stdout",
          "text": [
            "토큰화 결과 : ['양자', '역', '##학', '##의', '탄생', '##부터', '최', '##전', '##선', '##까지', '모든', '역사와', '20세기', '물리', '##학', '##의', '‘', '제', '##자', '##백', '##가', '’', '들이', '펼', '##치']\n",
            "정수 인코딩 : [24599, 2193, 3389, 3255, 9426, 5953, 2694, 3238, 3237, 5866, 6078, 20885, 14651, 20128, 3389, 3255, 115, 2408, 3408, 3559, 3338, 116, 12463, 2991, 3318]\n",
            "디코딩 : 양자 역학의 탄생부터 최전선까지 모든 역사와 20세기 물리학의 ‘ 제자백가 ’ 들이 펼치\n"
          ]
        }
      ]
    },
    {
      "cell_type": "markdown",
      "source": [
        "## 데이터 전처리"
      ],
      "metadata": {
        "id": "U5hvPISuz-Dq"
      }
    },
    {
      "cell_type": "code",
      "source": [
        "pip install nltk"
      ],
      "metadata": {
        "colab": {
          "base_uri": "https://localhost:8080/"
        },
        "id": "M79CgL263wrT",
        "outputId": "07bd066d-32fa-4f0a-d6aa-29389fa283f5"
      },
      "execution_count": null,
      "outputs": [
        {
          "output_type": "stream",
          "name": "stdout",
          "text": [
            "Looking in indexes: https://pypi.org/simple, https://us-python.pkg.dev/colab-wheels/public/simple/\n",
            "Requirement already satisfied: nltk in /usr/local/lib/python3.8/dist-packages (3.7)\n",
            "Requirement already satisfied: joblib in /usr/local/lib/python3.8/dist-packages (from nltk) (1.2.0)\n",
            "Requirement already satisfied: tqdm in /usr/local/lib/python3.8/dist-packages (from nltk) (4.64.1)\n",
            "Requirement already satisfied: click in /usr/local/lib/python3.8/dist-packages (from nltk) (7.1.2)\n",
            "Requirement already satisfied: regex>=2021.8.3 in /usr/local/lib/python3.8/dist-packages (from nltk) (2022.6.2)\n"
          ]
        }
      ]
    },
    {
      "cell_type": "code",
      "source": [
        "import nltk\n",
        "nltk.download('punkt')"
      ],
      "metadata": {
        "colab": {
          "base_uri": "https://localhost:8080/"
        },
        "id": "vgam44il393r",
        "outputId": "8ba574a7-b1cc-452d-a0e7-43af0ca1ba76"
      },
      "execution_count": null,
      "outputs": [
        {
          "output_type": "stream",
          "name": "stderr",
          "text": [
            "[nltk_data] Downloading package punkt to /root/nltk_data...\n",
            "[nltk_data]   Unzipping tokenizers/punkt.zip.\n"
          ]
        },
        {
          "output_type": "execute_result",
          "data": {
            "text/plain": [
              "True"
            ]
          },
          "metadata": {},
          "execution_count": 17
        }
      ]
    },
    {
      "cell_type": "code",
      "source": [
        "import numpy as np\n",
        "import gensim\n",
        "from urllib.request import urlretrieve, urlopen\n",
        "import gzip\n",
        "import zipfile\n",
        "from nltk.tokenize import sent_tokenize, word_tokenize    "
      ],
      "metadata": {
        "id": "8xJ6vfKfuKCR"
      },
      "execution_count": null,
      "outputs": []
    },
    {
      "cell_type": "code",
      "source": [
        "data['decoder_input']=data['BOOK_TITLE_NM'].apply(lambda x: '[PAD] '+x)\n",
        "data['decoder_target']=data['BOOK_TITLE_NM'].apply(lambda x: x+' [UNK]')\n",
        "data.head()"
      ],
      "metadata": {
        "colab": {
          "base_uri": "https://localhost:8080/",
          "height": 580
        },
        "id": "0RJ9VFfx3MaJ",
        "outputId": "ae7abd72-4bca-4487-8c1c-26932a95ae1d"
      },
      "execution_count": null,
      "outputs": [
        {
          "output_type": "execute_result",
          "data": {
            "text/plain": [
              "                                  BOOK_TITLE_NM         AUTHR_NM  \\\n",
              "0                김상욱의 양자 공부 :완전히 새로운 현대 물리학 입문          지은이: 김상욱   \n",
              "1                                     눈물을 마시는 새           이영도 지음   \n",
              "2                                   나의 라임 오렌지나무   J. M. 데 바스콘셀로스   \n",
              "3  (N잡하는 허대리의) 월급 독립 스쿨 :돈 버는 재미를 잃어버린 직장인을 위한     지은이: N잡하는 허대리   \n",
              "4              쉿! 신데렐라는 시계를 못 본대 :길이 재기와 시계 보기   글: 고자현 ;그림: 김명곤   \n",
              "\n",
              "                                      BOOK_INTRCN_CN  \\\n",
              "0  양자 역학의 탄생부터 최전선까지 모든 역사와 20세기 물리학의 ‘제자백가’들이 펼치...   \n",
              "1  로 한국 판타지소설계의 정상에 선 이영도의 신작이 출간됐다. 이전 작품들에서 한 걸...   \n",
              "2  우리 나라 독자들에게 많은 사랑을 받아온 가 완역본 보급판으로 재출간됐다. 100여...   \n",
              "3  평범한 직장인에서 월급 외 수익 1,000만 원을 달성한 동시에 ‘N잡하는 허대리’...   \n",
              "4  초등 1.2학년 수학동화 시리즈 1권. ‘길이 재기와 시계 보기(측정)’에 관련된 ...   \n",
              "\n",
              "                                       decoder_input  \\\n",
              "0               [PAD] 김상욱의 양자 공부 :완전히 새로운 현대 물리학 입문    \n",
              "1                                    [PAD] 눈물을 마시는 새   \n",
              "2                                  [PAD] 나의 라임 오렌지나무   \n",
              "3  [PAD] (N잡하는 허대리의) 월급 독립 스쿨 :돈 버는 재미를 잃어버린 직장인을...   \n",
              "4             [PAD] 쉿! 신데렐라는 시계를 못 본대 :길이 재기와 시계 보기    \n",
              "\n",
              "                                      decoder_target  \n",
              "0               김상욱의 양자 공부 :완전히 새로운 현대 물리학 입문  [UNK]  \n",
              "1                                    눈물을 마시는 새 [UNK]  \n",
              "2                                  나의 라임 오렌지나무 [UNK]  \n",
              "3  (N잡하는 허대리의) 월급 독립 스쿨 :돈 버는 재미를 잃어버린 직장인을 위한  [...  \n",
              "4             쉿! 신데렐라는 시계를 못 본대 :길이 재기와 시계 보기  [UNK]  "
            ],
            "text/html": [
              "\n",
              "  <div id=\"df-3dbe4a9a-57b8-4bbf-b54c-529b118a56f6\">\n",
              "    <div class=\"colab-df-container\">\n",
              "      <div>\n",
              "<style scoped>\n",
              "    .dataframe tbody tr th:only-of-type {\n",
              "        vertical-align: middle;\n",
              "    }\n",
              "\n",
              "    .dataframe tbody tr th {\n",
              "        vertical-align: top;\n",
              "    }\n",
              "\n",
              "    .dataframe thead th {\n",
              "        text-align: right;\n",
              "    }\n",
              "</style>\n",
              "<table border=\"1\" class=\"dataframe\">\n",
              "  <thead>\n",
              "    <tr style=\"text-align: right;\">\n",
              "      <th></th>\n",
              "      <th>BOOK_TITLE_NM</th>\n",
              "      <th>AUTHR_NM</th>\n",
              "      <th>BOOK_INTRCN_CN</th>\n",
              "      <th>decoder_input</th>\n",
              "      <th>decoder_target</th>\n",
              "    </tr>\n",
              "  </thead>\n",
              "  <tbody>\n",
              "    <tr>\n",
              "      <th>0</th>\n",
              "      <td>김상욱의 양자 공부 :완전히 새로운 현대 물리학 입문</td>\n",
              "      <td>지은이: 김상욱</td>\n",
              "      <td>양자 역학의 탄생부터 최전선까지 모든 역사와 20세기 물리학의 ‘제자백가’들이 펼치...</td>\n",
              "      <td>[PAD] 김상욱의 양자 공부 :완전히 새로운 현대 물리학 입문</td>\n",
              "      <td>김상욱의 양자 공부 :완전히 새로운 현대 물리학 입문  [UNK]</td>\n",
              "    </tr>\n",
              "    <tr>\n",
              "      <th>1</th>\n",
              "      <td>눈물을 마시는 새</td>\n",
              "      <td>이영도 지음</td>\n",
              "      <td>로 한국 판타지소설계의 정상에 선 이영도의 신작이 출간됐다. 이전 작품들에서 한 걸...</td>\n",
              "      <td>[PAD] 눈물을 마시는 새</td>\n",
              "      <td>눈물을 마시는 새 [UNK]</td>\n",
              "    </tr>\n",
              "    <tr>\n",
              "      <th>2</th>\n",
              "      <td>나의 라임 오렌지나무</td>\n",
              "      <td>J. M. 데 바스콘셀로스</td>\n",
              "      <td>우리 나라 독자들에게 많은 사랑을 받아온 가 완역본 보급판으로 재출간됐다. 100여...</td>\n",
              "      <td>[PAD] 나의 라임 오렌지나무</td>\n",
              "      <td>나의 라임 오렌지나무 [UNK]</td>\n",
              "    </tr>\n",
              "    <tr>\n",
              "      <th>3</th>\n",
              "      <td>(N잡하는 허대리의) 월급 독립 스쿨 :돈 버는 재미를 잃어버린 직장인을 위한</td>\n",
              "      <td>지은이: N잡하는 허대리</td>\n",
              "      <td>평범한 직장인에서 월급 외 수익 1,000만 원을 달성한 동시에 ‘N잡하는 허대리’...</td>\n",
              "      <td>[PAD] (N잡하는 허대리의) 월급 독립 스쿨 :돈 버는 재미를 잃어버린 직장인을...</td>\n",
              "      <td>(N잡하는 허대리의) 월급 독립 스쿨 :돈 버는 재미를 잃어버린 직장인을 위한  [...</td>\n",
              "    </tr>\n",
              "    <tr>\n",
              "      <th>4</th>\n",
              "      <td>쉿! 신데렐라는 시계를 못 본대 :길이 재기와 시계 보기</td>\n",
              "      <td>글: 고자현 ;그림: 김명곤</td>\n",
              "      <td>초등 1.2학년 수학동화 시리즈 1권. ‘길이 재기와 시계 보기(측정)’에 관련된 ...</td>\n",
              "      <td>[PAD] 쉿! 신데렐라는 시계를 못 본대 :길이 재기와 시계 보기</td>\n",
              "      <td>쉿! 신데렐라는 시계를 못 본대 :길이 재기와 시계 보기  [UNK]</td>\n",
              "    </tr>\n",
              "  </tbody>\n",
              "</table>\n",
              "</div>\n",
              "      <button class=\"colab-df-convert\" onclick=\"convertToInteractive('df-3dbe4a9a-57b8-4bbf-b54c-529b118a56f6')\"\n",
              "              title=\"Convert this dataframe to an interactive table.\"\n",
              "              style=\"display:none;\">\n",
              "        \n",
              "  <svg xmlns=\"http://www.w3.org/2000/svg\" height=\"24px\"viewBox=\"0 0 24 24\"\n",
              "       width=\"24px\">\n",
              "    <path d=\"M0 0h24v24H0V0z\" fill=\"none\"/>\n",
              "    <path d=\"M18.56 5.44l.94 2.06.94-2.06 2.06-.94-2.06-.94-.94-2.06-.94 2.06-2.06.94zm-11 1L8.5 8.5l.94-2.06 2.06-.94-2.06-.94L8.5 2.5l-.94 2.06-2.06.94zm10 10l.94 2.06.94-2.06 2.06-.94-2.06-.94-.94-2.06-.94 2.06-2.06.94z\"/><path d=\"M17.41 7.96l-1.37-1.37c-.4-.4-.92-.59-1.43-.59-.52 0-1.04.2-1.43.59L10.3 9.45l-7.72 7.72c-.78.78-.78 2.05 0 2.83L4 21.41c.39.39.9.59 1.41.59.51 0 1.02-.2 1.41-.59l7.78-7.78 2.81-2.81c.8-.78.8-2.07 0-2.86zM5.41 20L4 18.59l7.72-7.72 1.47 1.35L5.41 20z\"/>\n",
              "  </svg>\n",
              "      </button>\n",
              "      \n",
              "  <style>\n",
              "    .colab-df-container {\n",
              "      display:flex;\n",
              "      flex-wrap:wrap;\n",
              "      gap: 12px;\n",
              "    }\n",
              "\n",
              "    .colab-df-convert {\n",
              "      background-color: #E8F0FE;\n",
              "      border: none;\n",
              "      border-radius: 50%;\n",
              "      cursor: pointer;\n",
              "      display: none;\n",
              "      fill: #1967D2;\n",
              "      height: 32px;\n",
              "      padding: 0 0 0 0;\n",
              "      width: 32px;\n",
              "    }\n",
              "\n",
              "    .colab-df-convert:hover {\n",
              "      background-color: #E2EBFA;\n",
              "      box-shadow: 0px 1px 2px rgba(60, 64, 67, 0.3), 0px 1px 3px 1px rgba(60, 64, 67, 0.15);\n",
              "      fill: #174EA6;\n",
              "    }\n",
              "\n",
              "    [theme=dark] .colab-df-convert {\n",
              "      background-color: #3B4455;\n",
              "      fill: #D2E3FC;\n",
              "    }\n",
              "\n",
              "    [theme=dark] .colab-df-convert:hover {\n",
              "      background-color: #434B5C;\n",
              "      box-shadow: 0px 1px 3px 1px rgba(0, 0, 0, 0.15);\n",
              "      filter: drop-shadow(0px 1px 2px rgba(0, 0, 0, 0.3));\n",
              "      fill: #FFFFFF;\n",
              "    }\n",
              "  </style>\n",
              "\n",
              "      <script>\n",
              "        const buttonEl =\n",
              "          document.querySelector('#df-3dbe4a9a-57b8-4bbf-b54c-529b118a56f6 button.colab-df-convert');\n",
              "        buttonEl.style.display =\n",
              "          google.colab.kernel.accessAllowed ? 'block' : 'none';\n",
              "\n",
              "        async function convertToInteractive(key) {\n",
              "          const element = document.querySelector('#df-3dbe4a9a-57b8-4bbf-b54c-529b118a56f6');\n",
              "          const dataTable =\n",
              "            await google.colab.kernel.invokeFunction('convertToInteractive',\n",
              "                                                     [key], {});\n",
              "          if (!dataTable) return;\n",
              "\n",
              "          const docLinkHtml = 'Like what you see? Visit the ' +\n",
              "            '<a target=\"_blank\" href=https://colab.research.google.com/notebooks/data_table.ipynb>data table notebook</a>'\n",
              "            + ' to learn more about interactive tables.';\n",
              "          element.innerHTML = '';\n",
              "          dataTable['output_type'] = 'display_data';\n",
              "          await google.colab.output.renderOutput(dataTable, element);\n",
              "          const docLink = document.createElement('div');\n",
              "          docLink.innerHTML = docLinkHtml;\n",
              "          element.appendChild(docLink);\n",
              "        }\n",
              "      </script>\n",
              "    </div>\n",
              "  </div>\n",
              "  "
            ]
          },
          "metadata": {},
          "execution_count": 19
        }
      ]
    },
    {
      "cell_type": "code",
      "source": [
        "import re\n",
        "def tokenization(sentences):\n",
        "    return [tokenizer.encode(sentence).tokens for sentence in sentences]\n",
        "\n",
        "stop_words = ['은','는','이','가','하','아','것','에게','를','에','와','과','까지','부터',\n",
        "              '들','을','로','의','있','되','수','보','주','등','한','다','하다']\n",
        "def preprocessing(sentence):\n",
        "  sentence = [re.sub(r'[^가-힣a-zA-Z\\s]', '', word) for word in sentence]\n",
        "  return [word for word in sentence if word not in stop_words and word]\n",
        "\n",
        "def preprocessing_sentences(sentences):\n",
        "  return [preprocessing(sentence) for sentence in sentences]"
      ],
      "metadata": {
        "id": "pT5MWO9_f9sL"
      },
      "execution_count": null,
      "outputs": []
    },
    {
      "cell_type": "code",
      "source": [
        "#제목\n",
        "data['title_input'] = data['decoder_input'].apply(sent_tokenize)\n",
        "data['title_target'] = data['decoder_target'].apply(sent_tokenize)\n",
        "\n",
        "data['tokenized_title_in']=data['title_input'].apply(tokenization)\n",
        "data['tokenized_title_in'] = data['tokenized_title_in'].apply(preprocessing_sentences)\n",
        "\n",
        "data['tokenized_title_ta']=data['title_target'].apply(tokenization)\n",
        "data['tokenized_title_ta'] = data['tokenized_title_ta'].apply(preprocessing_sentences)"
      ],
      "metadata": {
        "id": "KiCWGo39Swu8"
      },
      "execution_count": null,
      "outputs": []
    },
    {
      "cell_type": "code",
      "source": [
        "data['sentences'] = data['BOOK_INTRCN_CN'].apply(sent_tokenize)"
      ],
      "metadata": {
        "id": "YJj3K-SO71_5"
      },
      "execution_count": null,
      "outputs": []
    },
    {
      "cell_type": "code",
      "source": [
        "data['tokenized_sentences']=data['sentences'].apply(tokenization)"
      ],
      "metadata": {
        "id": "CaLWswCE2c3v"
      },
      "execution_count": null,
      "outputs": []
    },
    {
      "cell_type": "code",
      "source": [
        "data['tokenized_sentences'] = data['tokenized_sentences'].apply(preprocessing_sentences)"
      ],
      "metadata": {
        "id": "ZUO7qInz2d8f"
      },
      "execution_count": null,
      "outputs": []
    },
    {
      "cell_type": "code",
      "source": [
        "data['token']=data['tokenized_sentences'].apply(lambda x: tokenizer.encode(str(x)).ids)"
      ],
      "metadata": {
        "id": "GKQmrRqdEiND"
      },
      "execution_count": null,
      "outputs": []
    },
    {
      "cell_type": "code",
      "source": [
        "data['token_in']=data['tokenized_title_in'].apply(lambda x: tokenizer.encode(str(x)).ids)\n",
        "data['token_ta']=data['tokenized_title_ta'].apply(lambda x: tokenizer.encode(str(x)).ids)\n"
      ],
      "metadata": {
        "id": "vsTHIN9PUH1T"
      },
      "execution_count": null,
      "outputs": []
    },
    {
      "cell_type": "code",
      "source": [
        "stopword = {63, 11, 16}"
      ],
      "metadata": {
        "id": "DHv5ukeaF_ds"
      },
      "execution_count": null,
      "outputs": []
    },
    {
      "cell_type": "code",
      "source": [
        "li=[]\n",
        "for e in data['token']:\n",
        "  a = [i for i in e if i not in stopword]\n",
        "  li.append(a)\n",
        "data['summary_num']=li"
      ],
      "metadata": {
        "id": "mNjZQmoOLp7z"
      },
      "execution_count": null,
      "outputs": []
    },
    {
      "cell_type": "code",
      "source": [
        "inn= []\n",
        "for e in data['token_in']:\n",
        "  a = [i for i in e if i not in stopword]\n",
        "  inn.append(a)\n",
        "data['summary_in'] = inn"
      ],
      "metadata": {
        "id": "uUWtJ77XUUZ2"
      },
      "execution_count": null,
      "outputs": []
    },
    {
      "cell_type": "code",
      "source": [
        "targ= []\n",
        "for e in data['token_ta']:\n",
        "  a = [i for i in e if i not in stopword]\n",
        "  targ.append(a)\n",
        "data['summary_ta'] = targ"
      ],
      "metadata": {
        "id": "wNJ_c1xYUlyu"
      },
      "execution_count": null,
      "outputs": []
    },
    {
      "cell_type": "code",
      "source": [
        "# data.drop(['suumary_num','token_in','token_ta'], inplace=True, axis=1)"
      ],
      "metadata": {
        "id": "86j2ui6FUzLp"
      },
      "execution_count": null,
      "outputs": []
    },
    {
      "cell_type": "code",
      "source": [
        "data[['summary_num','summary_in','summary_ta']]"
      ],
      "metadata": {
        "colab": {
          "base_uri": "https://localhost:8080/",
          "height": 641
        },
        "id": "ayb6HQkqOxeJ",
        "outputId": "96c38916-9ec3-4a4b-f3f7-5511a40d4686"
      },
      "execution_count": null,
      "outputs": [
        {
          "output_type": "execute_result",
          "data": {
            "text/plain": [
              "                                             summary_num  \\\n",
              "0      [[24600, 2193, 3047, 9426, 2694, 2394, 1857, 6...   \n",
              "1      [[5931, 6915, 6810, 643, 3265, 10255, 1857, 13...   \n",
              "2      [[5958, 7272, 1104, 2357, 3396, 6073, 7112, 81...   \n",
              "3      [[7798, 13661, 2340, 3343, 1854, 2285, 721, 22...   \n",
              "4      [[16160, 3047, 3422, 17906, 7280, 6215, 694, 6...   \n",
              "...                                                  ...   \n",
              "11176  [[6291, 24525, 7096, 10383, 12646, 1813, 2471,...   \n",
              "11178  [[946, 568, 13126, 1438, 2192, 694, 1505, 1359...   \n",
              "11182  [[52, 27426, 3883, 8907, 3366, 11098, 9465, 91...   \n",
              "11189  [[6017, 2522, 1162, 3405, 29720, 14408, 932, 1...   \n",
              "11192  [[6839, 11563, 6073, 6269, 1290, 2951, 2183, 1...   \n",
              "\n",
              "                                              summary_in  \\\n",
              "0      [[52, 3353, 3837, 17857, 2269, 24600, 8381, 86...   \n",
              "1      [[52, 3353, 3837, 8335, 18869, 1829, 65, 65, 0...   \n",
              "2      [[52, 3353, 3837, 6829, 1290, 2348, 2218, 1337...   \n",
              "3      [[52, 3353, 3837, 50, 2365, 5937, 3087, 1050, ...   \n",
              "4      [[52, 3353, 3837, 1959, 65, 15058, 25505, 1511...   \n",
              "...                                                  ...   \n",
              "11176  [[52, 3353, 3837, 43, 20071, 77, 8764, 69, 236...   \n",
              "11178  [[52, 3353, 3837, 7026, 2640, 2640, 585, 3265,...   \n",
              "11182  [[52, 3353, 3837, 23634, 1610, 8658, 729, 65, ...   \n",
              "11189  [[52, 3353, 3837, 11747, 8550, 1290, 65, 65, 0...   \n",
              "11192  [[52, 3353, 3837, 5933, 1537, 2211, 3263, 65, ...   \n",
              "\n",
              "                                              summary_ta  \n",
              "0      [[17857, 2269, 24600, 8381, 8668, 6926, 7946, ...  \n",
              "1      [[8335, 18869, 1829, 57, 3940, 4632, 65, 65, 0...  \n",
              "2      [[6829, 1290, 2348, 2218, 1337, 6520, 1525, 57...  \n",
              "3      [[50, 2365, 5937, 3087, 1050, 1423, 3265, 2285...  \n",
              "4      [[1959, 65, 15058, 25505, 1511, 1646, 1050, 10...  \n",
              "...                                                  ...  \n",
              "11176  [[43, 20071, 77, 8764, 69, 23640, 57, 3940, 46...  \n",
              "11178  [[7026, 2640, 2640, 585, 3265, 15816, 2194, 70...  \n",
              "11182  [[23634, 1610, 8658, 729, 57, 3940, 4632, 65, ...  \n",
              "11189  [[11747, 8550, 1290, 65, 57, 3940, 4632, 65, 6...  \n",
              "11192  [[5933, 1537, 2211, 3263, 65, 6839, 8907, 1649...  \n",
              "\n",
              "[27494 rows x 3 columns]"
            ],
            "text/html": [
              "\n",
              "  <div id=\"df-c76776f9-4e1c-4c73-aa93-f5cf813fa0a1\">\n",
              "    <div class=\"colab-df-container\">\n",
              "      <div>\n",
              "<style scoped>\n",
              "    .dataframe tbody tr th:only-of-type {\n",
              "        vertical-align: middle;\n",
              "    }\n",
              "\n",
              "    .dataframe tbody tr th {\n",
              "        vertical-align: top;\n",
              "    }\n",
              "\n",
              "    .dataframe thead th {\n",
              "        text-align: right;\n",
              "    }\n",
              "</style>\n",
              "<table border=\"1\" class=\"dataframe\">\n",
              "  <thead>\n",
              "    <tr style=\"text-align: right;\">\n",
              "      <th></th>\n",
              "      <th>summary_num</th>\n",
              "      <th>summary_in</th>\n",
              "      <th>summary_ta</th>\n",
              "    </tr>\n",
              "  </thead>\n",
              "  <tbody>\n",
              "    <tr>\n",
              "      <th>0</th>\n",
              "      <td>[[24600, 2193, 3047, 9426, 2694, 2394, 1857, 6...</td>\n",
              "      <td>[[52, 3353, 3837, 17857, 2269, 24600, 8381, 86...</td>\n",
              "      <td>[[17857, 2269, 24600, 8381, 8668, 6926, 7946, ...</td>\n",
              "    </tr>\n",
              "    <tr>\n",
              "      <th>1</th>\n",
              "      <td>[[5931, 6915, 6810, 643, 3265, 10255, 1857, 13...</td>\n",
              "      <td>[[52, 3353, 3837, 8335, 18869, 1829, 65, 65, 0...</td>\n",
              "      <td>[[8335, 18869, 1829, 57, 3940, 4632, 65, 65, 0...</td>\n",
              "    </tr>\n",
              "    <tr>\n",
              "      <th>2</th>\n",
              "      <td>[[5958, 7272, 1104, 2357, 3396, 6073, 7112, 81...</td>\n",
              "      <td>[[52, 3353, 3837, 6829, 1290, 2348, 2218, 1337...</td>\n",
              "      <td>[[6829, 1290, 2348, 2218, 1337, 6520, 1525, 57...</td>\n",
              "    </tr>\n",
              "    <tr>\n",
              "      <th>3</th>\n",
              "      <td>[[7798, 13661, 2340, 3343, 1854, 2285, 721, 22...</td>\n",
              "      <td>[[52, 3353, 3837, 50, 2365, 5937, 3087, 1050, ...</td>\n",
              "      <td>[[50, 2365, 5937, 3087, 1050, 1423, 3265, 2285...</td>\n",
              "    </tr>\n",
              "    <tr>\n",
              "      <th>4</th>\n",
              "      <td>[[16160, 3047, 3422, 17906, 7280, 6215, 694, 6...</td>\n",
              "      <td>[[52, 3353, 3837, 1959, 65, 15058, 25505, 1511...</td>\n",
              "      <td>[[1959, 65, 15058, 25505, 1511, 1646, 1050, 10...</td>\n",
              "    </tr>\n",
              "    <tr>\n",
              "      <th>...</th>\n",
              "      <td>...</td>\n",
              "      <td>...</td>\n",
              "      <td>...</td>\n",
              "    </tr>\n",
              "    <tr>\n",
              "      <th>11176</th>\n",
              "      <td>[[6291, 24525, 7096, 10383, 12646, 1813, 2471,...</td>\n",
              "      <td>[[52, 3353, 3837, 43, 20071, 77, 8764, 69, 236...</td>\n",
              "      <td>[[43, 20071, 77, 8764, 69, 23640, 57, 3940, 46...</td>\n",
              "    </tr>\n",
              "    <tr>\n",
              "      <th>11178</th>\n",
              "      <td>[[946, 568, 13126, 1438, 2192, 694, 1505, 1359...</td>\n",
              "      <td>[[52, 3353, 3837, 7026, 2640, 2640, 585, 3265,...</td>\n",
              "      <td>[[7026, 2640, 2640, 585, 3265, 15816, 2194, 70...</td>\n",
              "    </tr>\n",
              "    <tr>\n",
              "      <th>11182</th>\n",
              "      <td>[[52, 27426, 3883, 8907, 3366, 11098, 9465, 91...</td>\n",
              "      <td>[[52, 3353, 3837, 23634, 1610, 8658, 729, 65, ...</td>\n",
              "      <td>[[23634, 1610, 8658, 729, 57, 3940, 4632, 65, ...</td>\n",
              "    </tr>\n",
              "    <tr>\n",
              "      <th>11189</th>\n",
              "      <td>[[6017, 2522, 1162, 3405, 29720, 14408, 932, 1...</td>\n",
              "      <td>[[52, 3353, 3837, 11747, 8550, 1290, 65, 65, 0...</td>\n",
              "      <td>[[11747, 8550, 1290, 65, 57, 3940, 4632, 65, 6...</td>\n",
              "    </tr>\n",
              "    <tr>\n",
              "      <th>11192</th>\n",
              "      <td>[[6839, 11563, 6073, 6269, 1290, 2951, 2183, 1...</td>\n",
              "      <td>[[52, 3353, 3837, 5933, 1537, 2211, 3263, 65, ...</td>\n",
              "      <td>[[5933, 1537, 2211, 3263, 65, 6839, 8907, 1649...</td>\n",
              "    </tr>\n",
              "  </tbody>\n",
              "</table>\n",
              "<p>27494 rows × 3 columns</p>\n",
              "</div>\n",
              "      <button class=\"colab-df-convert\" onclick=\"convertToInteractive('df-c76776f9-4e1c-4c73-aa93-f5cf813fa0a1')\"\n",
              "              title=\"Convert this dataframe to an interactive table.\"\n",
              "              style=\"display:none;\">\n",
              "        \n",
              "  <svg xmlns=\"http://www.w3.org/2000/svg\" height=\"24px\"viewBox=\"0 0 24 24\"\n",
              "       width=\"24px\">\n",
              "    <path d=\"M0 0h24v24H0V0z\" fill=\"none\"/>\n",
              "    <path d=\"M18.56 5.44l.94 2.06.94-2.06 2.06-.94-2.06-.94-.94-2.06-.94 2.06-2.06.94zm-11 1L8.5 8.5l.94-2.06 2.06-.94-2.06-.94L8.5 2.5l-.94 2.06-2.06.94zm10 10l.94 2.06.94-2.06 2.06-.94-2.06-.94-.94-2.06-.94 2.06-2.06.94z\"/><path d=\"M17.41 7.96l-1.37-1.37c-.4-.4-.92-.59-1.43-.59-.52 0-1.04.2-1.43.59L10.3 9.45l-7.72 7.72c-.78.78-.78 2.05 0 2.83L4 21.41c.39.39.9.59 1.41.59.51 0 1.02-.2 1.41-.59l7.78-7.78 2.81-2.81c.8-.78.8-2.07 0-2.86zM5.41 20L4 18.59l7.72-7.72 1.47 1.35L5.41 20z\"/>\n",
              "  </svg>\n",
              "      </button>\n",
              "      \n",
              "  <style>\n",
              "    .colab-df-container {\n",
              "      display:flex;\n",
              "      flex-wrap:wrap;\n",
              "      gap: 12px;\n",
              "    }\n",
              "\n",
              "    .colab-df-convert {\n",
              "      background-color: #E8F0FE;\n",
              "      border: none;\n",
              "      border-radius: 50%;\n",
              "      cursor: pointer;\n",
              "      display: none;\n",
              "      fill: #1967D2;\n",
              "      height: 32px;\n",
              "      padding: 0 0 0 0;\n",
              "      width: 32px;\n",
              "    }\n",
              "\n",
              "    .colab-df-convert:hover {\n",
              "      background-color: #E2EBFA;\n",
              "      box-shadow: 0px 1px 2px rgba(60, 64, 67, 0.3), 0px 1px 3px 1px rgba(60, 64, 67, 0.15);\n",
              "      fill: #174EA6;\n",
              "    }\n",
              "\n",
              "    [theme=dark] .colab-df-convert {\n",
              "      background-color: #3B4455;\n",
              "      fill: #D2E3FC;\n",
              "    }\n",
              "\n",
              "    [theme=dark] .colab-df-convert:hover {\n",
              "      background-color: #434B5C;\n",
              "      box-shadow: 0px 1px 3px 1px rgba(0, 0, 0, 0.15);\n",
              "      filter: drop-shadow(0px 1px 2px rgba(0, 0, 0, 0.3));\n",
              "      fill: #FFFFFF;\n",
              "    }\n",
              "  </style>\n",
              "\n",
              "      <script>\n",
              "        const buttonEl =\n",
              "          document.querySelector('#df-c76776f9-4e1c-4c73-aa93-f5cf813fa0a1 button.colab-df-convert');\n",
              "        buttonEl.style.display =\n",
              "          google.colab.kernel.accessAllowed ? 'block' : 'none';\n",
              "\n",
              "        async function convertToInteractive(key) {\n",
              "          const element = document.querySelector('#df-c76776f9-4e1c-4c73-aa93-f5cf813fa0a1');\n",
              "          const dataTable =\n",
              "            await google.colab.kernel.invokeFunction('convertToInteractive',\n",
              "                                                     [key], {});\n",
              "          if (!dataTable) return;\n",
              "\n",
              "          const docLinkHtml = 'Like what you see? Visit the ' +\n",
              "            '<a target=\"_blank\" href=https://colab.research.google.com/notebooks/data_table.ipynb>data table notebook</a>'\n",
              "            + ' to learn more about interactive tables.';\n",
              "          element.innerHTML = '';\n",
              "          dataTable['output_type'] = 'display_data';\n",
              "          await google.colab.output.renderOutput(dataTable, element);\n",
              "          const docLink = document.createElement('div');\n",
              "          docLink.innerHTML = docLinkHtml;\n",
              "          element.appendChild(docLink);\n",
              "        }\n",
              "      </script>\n",
              "    </div>\n",
              "  </div>\n",
              "  "
            ]
          },
          "metadata": {},
          "execution_count": 35
        }
      ]
    },
    {
      "cell_type": "code",
      "source": [
        "data['summary_num']= data['summary_num'].apply(lambda x: pad_sequences([x], maxlen=84, padding='post'))\n",
        "data['summary_in']=data['summary_in'].apply(lambda x: pad_sequences([x], maxlen=30, padding='post'))\n",
        "data['summary_ta']=data['summary_ta'].apply(lambda x: pad_sequences([x], maxlen=30, padding='post'))\n"
      ],
      "metadata": {
        "id": "KPtk6_T-ZZSY"
      },
      "execution_count": null,
      "outputs": []
    },
    {
      "cell_type": "code",
      "source": [
        "text_max_len=84\n",
        "title_max_len=30"
      ],
      "metadata": {
        "id": "dRDB8T7wee16"
      },
      "execution_count": null,
      "outputs": []
    },
    {
      "cell_type": "code",
      "source": [
        "import itertools\n",
        "xx =list(itertools.chain.from_iterable(data['summary_in']))\n",
        "zz = []\n",
        "for i in xx:\n",
        "  zz.append(i.tolist())"
      ],
      "metadata": {
        "id": "lilKx-F7Zv5q"
      },
      "execution_count": null,
      "outputs": []
    },
    {
      "cell_type": "code",
      "source": [
        "np.array(zz)"
      ],
      "metadata": {
        "colab": {
          "base_uri": "https://localhost:8080/"
        },
        "id": "Ff9HXQh6d5MM",
        "outputId": "5a9e9216-573a-41e7-c273-eb16cea3ecf2"
      },
      "execution_count": null,
      "outputs": [
        {
          "output_type": "execute_result",
          "data": {
            "text/plain": [
              "array([[  52, 3353, 3837, ...,    0,    0,    0],\n",
              "       [  52, 3353, 3837, ...,    0,    0,    0],\n",
              "       [  52, 3353, 3837, ...,    0,    0,    0],\n",
              "       ...,\n",
              "       [  52, 3353, 3837, ...,    0,    0,    0],\n",
              "       [  52, 3353, 3837, ...,    0,    0,    0],\n",
              "       [  52, 3353, 3837, ...,    0,    0,    0]])"
            ]
          },
          "metadata": {},
          "execution_count": 38
        }
      ]
    },
    {
      "cell_type": "code",
      "source": [
        "import itertools\n",
        "xx =list(itertools.chain.from_iterable(data['summary_ta']))\n",
        "ta = []\n",
        "for i in xx:\n",
        "  ta.append(i.tolist())"
      ],
      "metadata": {
        "id": "aS5ts2c3dRSF"
      },
      "execution_count": null,
      "outputs": []
    },
    {
      "cell_type": "code",
      "source": [
        "np.array(ta)"
      ],
      "metadata": {
        "colab": {
          "base_uri": "https://localhost:8080/"
        },
        "id": "vPSsZlGqd7LH",
        "outputId": "c2b48b12-faa5-41e2-e33a-fb4ce601f7ce"
      },
      "execution_count": null,
      "outputs": [
        {
          "output_type": "execute_result",
          "data": {
            "text/plain": [
              "array([[17857,  2269, 24600, ...,     0,     0,     0],\n",
              "       [ 8335, 18869,  1829, ...,     0,     0,     0],\n",
              "       [ 6829,  1290,  2348, ...,     0,     0,     0],\n",
              "       ...,\n",
              "       [23634,  1610,  8658, ...,     0,     0,     0],\n",
              "       [11747,  8550,  1290, ...,     0,     0,     0],\n",
              "       [ 5933,  1537,  2211, ...,     0,     0,     0]])"
            ]
          },
          "metadata": {},
          "execution_count": 46
        }
      ]
    },
    {
      "cell_type": "code",
      "source": [
        "import itertools\n",
        "xx =list(itertools.chain.from_iterable(data['summary_num']))\n",
        "num = []\n",
        "for i in xx:\n",
        "  num.append(i.tolist())"
      ],
      "metadata": {
        "id": "AnY8Mmw7dRNP"
      },
      "execution_count": null,
      "outputs": []
    },
    {
      "cell_type": "code",
      "source": [
        "len(num)"
      ],
      "metadata": {
        "colab": {
          "base_uri": "https://localhost:8080/"
        },
        "id": "V0xkCbacd8at",
        "outputId": "82ff62d3-b72d-4ff2-a13d-f9a84c96ef9f"
      },
      "execution_count": null,
      "outputs": [
        {
          "output_type": "execute_result",
          "data": {
            "text/plain": [
              "27494"
            ]
          },
          "metadata": {},
          "execution_count": 133
        }
      ]
    },
    {
      "cell_type": "markdown",
      "source": [
        "### 데이터 분리"
      ],
      "metadata": {
        "id": "vJ8KTGcZ26xi"
      }
    },
    {
      "cell_type": "code",
      "source": [
        "#데이터 분리!\n",
        "encoder_input_train, encoder_input_test= train_test_split(np.array(num),test_size=0.2, random_state=42)\n",
        "decoder_input_train, decoder_input_test= train_test_split(np.array(zz),test_size=0.2, random_state=42)\n",
        "decoder_target_train, decoder_target_test= train_test_split(np.array(ta),test_size=0.2, random_state=42)\n"
      ],
      "metadata": {
        "id": "JC0QN5peZ6NY"
      },
      "execution_count": null,
      "outputs": []
    },
    {
      "cell_type": "markdown",
      "source": [
        "## 모델 설계\n",
        "[모델](https://wikidocs.net/72820)\n",
        "- lstm 3개"
      ],
      "metadata": {
        "id": "8K0G-a3bGin_"
      }
    },
    {
      "cell_type": "markdown",
      "source": [
        "### 인코더"
      ],
      "metadata": {
        "id": "HYoseR9RarPH"
      }
    },
    {
      "cell_type": "code",
      "source": [
        "#인코더\n",
        "encoder_inputs = Input(shape=(text_max_len,))\n",
        "\n",
        "#인코더의 임베딩층\n",
        "enc_emb = Embedding(30000, 128)(encoder_inputs)\n",
        "\n",
        "#인코더 LSTM 1\n",
        "enc_lstm1 = LSTM(256,activation='tanh',recurrent_activation='sigmoid', \n",
        "                 return_sequences=True, return_state=True ,\n",
        "                         recurrent_dropout=0, unroll=False, use_bias=True, dropout=0.4)\n",
        "encoder_output1, state_h1, state_c1 = enc_lstm1(enc_emb)\n",
        "\n",
        "#LSTM 2\n",
        "enc_lstm2 = LSTM(256,activation='tanh',recurrent_activation='sigmoid',\n",
        "                 return_sequences=True, return_state=True ,\n",
        "                         recurrent_dropout=0, unroll=False, use_bias=True, dropout=0.4)\n",
        "encoder_output2, state_h2, state_c2 = enc_lstm2(encoder_output1)\n",
        "\n",
        "#LSTM 3\n",
        "enc_lstm3 = LSTM(256,activation='tanh',recurrent_activation='sigmoid',\n",
        "                 return_sequences=True, return_state=True ,\n",
        "                         recurrent_dropout=0, unroll=False, use_bias=True, dropout=0.4)\n",
        "encoder_outputs, state_h, state_c= enc_lstm3(encoder_output2)"
      ],
      "metadata": {
        "id": "i3TqCqBAFGnn"
      },
      "execution_count": null,
      "outputs": []
    },
    {
      "cell_type": "markdown",
      "source": [
        "### 디코더"
      ],
      "metadata": {
        "id": "WOjrJeOojx7W"
      }
    },
    {
      "cell_type": "code",
      "source": [
        "# 디코더\n",
        "decoder_inputs = Input(shape=(None,))\n",
        "\n",
        "# 디코더의 임베딩 층\n",
        "dec_emb_layer = Embedding(30000, 128)\n",
        "dec_emb = dec_emb_layer(decoder_inputs)\n",
        "\n",
        "# 디코더의 LSTM\n",
        "decoder_lstm = LSTM(256, return_sequences = True, return_state = True, \n",
        "                    dropout = 0.4\n",
        "                    ,activation='tanh',recurrent_activation='sigmoid',\n",
        "                    recurrent_dropout=0, unroll=False, use_bias=True)\n",
        "#초기 상태를 인코더의 상태로 줘야함\n",
        "decoder_outputs, _, _ = decoder_lstm(dec_emb, initial_state = [state_h, state_c])"
      ],
      "metadata": {
        "id": "_0j9DOOujs-F"
      },
      "execution_count": null,
      "outputs": []
    },
    {
      "cell_type": "markdown",
      "source": [
        "### 어텐션"
      ],
      "metadata": {
        "id": "OYVaBQ1gmUem"
      }
    },
    {
      "cell_type": "code",
      "source": [
        "urllib.request.urlretrieve(\"https://raw.githubusercontent.com/thushv89/attention_keras/master/src/layers/attention.py\", filename=\"attention.py\")\n",
        "from attention import AttentionLayer"
      ],
      "metadata": {
        "id": "9npdlitYkY71"
      },
      "execution_count": null,
      "outputs": []
    },
    {
      "cell_type": "code",
      "source": [
        "# 어텐션 층(어텐션 함수)\n",
        "attn_layer = AttentionLayer(name='attention_layer')\n",
        "attn_out, attn_states = attn_layer([encoder_outputs, decoder_outputs])\n",
        "\n",
        "# 어텐션의 결과와 디코더의 hidden state들을 연결\n",
        "decoder_concat_input = Concatenate(axis = -1, name='concat_layer')([decoder_outputs, attn_out])\n",
        "\n",
        "# 디코더의 출력층\n",
        "decoder_softmax_layer = Dense(30000, activation='softmax')\n",
        "decoder_softmax_outputs = decoder_softmax_layer(decoder_concat_input)\n",
        "\n",
        "# 모델 정의\n",
        "model = Model([encoder_inputs, decoder_inputs], decoder_softmax_outputs)\n",
        "model.summary()"
      ],
      "metadata": {
        "colab": {
          "base_uri": "https://localhost:8080/"
        },
        "id": "L5NcAz5xuVsp",
        "outputId": "360aa505-09b6-4073-9d9b-07af4abf4d94"
      },
      "execution_count": null,
      "outputs": [
        {
          "output_type": "stream",
          "name": "stdout",
          "text": [
            "Model: \"model_1\"\n",
            "__________________________________________________________________________________________________\n",
            " Layer (type)                   Output Shape         Param #     Connected to                     \n",
            "==================================================================================================\n",
            " input_3 (InputLayer)           [(None, 84)]         0           []                               \n",
            "                                                                                                  \n",
            " embedding_2 (Embedding)        (None, 84, 128)      3840000     ['input_3[0][0]']                \n",
            "                                                                                                  \n",
            " lstm_4 (LSTM)                  [(None, 84, 256),    394240      ['embedding_2[0][0]']            \n",
            "                                 (None, 256),                                                     \n",
            "                                 (None, 256)]                                                     \n",
            "                                                                                                  \n",
            " input_4 (InputLayer)           [(None, None)]       0           []                               \n",
            "                                                                                                  \n",
            " lstm_5 (LSTM)                  [(None, 84, 256),    525312      ['lstm_4[0][0]']                 \n",
            "                                 (None, 256),                                                     \n",
            "                                 (None, 256)]                                                     \n",
            "                                                                                                  \n",
            " embedding_3 (Embedding)        (None, None, 128)    3840000     ['input_4[0][0]']                \n",
            "                                                                                                  \n",
            " lstm_6 (LSTM)                  [(None, 84, 256),    525312      ['lstm_5[0][0]']                 \n",
            "                                 (None, 256),                                                     \n",
            "                                 (None, 256)]                                                     \n",
            "                                                                                                  \n",
            " lstm_7 (LSTM)                  [(None, None, 256),  394240      ['embedding_3[0][0]',            \n",
            "                                 (None, 256),                     'lstm_6[0][1]',                 \n",
            "                                 (None, 256)]                     'lstm_6[0][2]']                 \n",
            "                                                                                                  \n",
            " attention_layer (AttentionLaye  ((None, None, 256),  131328     ['lstm_6[0][0]',                 \n",
            " r)                              (None, None, 84))                'lstm_7[0][0]']                 \n",
            "                                                                                                  \n",
            " concat_layer (Concatenate)     (None, None, 512)    0           ['lstm_7[0][0]',                 \n",
            "                                                                  'attention_layer[0][0]']        \n",
            "                                                                                                  \n",
            " dense_1 (Dense)                (None, None, 30000)  15390000    ['concat_layer[0][0]']           \n",
            "                                                                                                  \n",
            "==================================================================================================\n",
            "Total params: 25,040,432\n",
            "Trainable params: 25,040,432\n",
            "Non-trainable params: 0\n",
            "__________________________________________________________________________________________________\n"
          ]
        }
      ]
    },
    {
      "cell_type": "code",
      "source": [
        "model.compile(loss='sparse_categorical_crossentropy', optimizer='rmsprop')\n",
        "\n",
        "es = EarlyStopping(monitor='val_loss', mode='min', verbose=2, patience = 2)\n",
        "history = model.fit(x = [encoder_input_train, decoder_input_train], y = decoder_target_train,\n",
        "          validation_data = ([encoder_input_test, decoder_input_test], decoder_target_test),\n",
        "          batch_size = 256, callbacks=[es], epochs = 50)"
      ],
      "metadata": {
        "colab": {
          "base_uri": "https://localhost:8080/"
        },
        "id": "QAkj3C5-u5wA",
        "outputId": "7d056529-8ea8-4bbe-e321-f0cdd90af080"
      },
      "execution_count": null,
      "outputs": [
        {
          "output_type": "stream",
          "name": "stdout",
          "text": [
            "Epoch 1/50\n",
            "86/86 [==============================] - 55s 509ms/step - loss: 3.4970 - val_loss: 2.7921\n",
            "Epoch 2/50\n",
            "86/86 [==============================] - 44s 517ms/step - loss: 2.7000 - val_loss: 2.6041\n",
            "Epoch 3/50\n",
            "86/86 [==============================] - 46s 532ms/step - loss: 2.5930 - val_loss: 2.5592\n",
            "Epoch 4/50\n",
            "86/86 [==============================] - 46s 540ms/step - loss: 2.5321 - val_loss: 2.5202\n",
            "Epoch 5/50\n",
            "86/86 [==============================] - 46s 538ms/step - loss: 2.4869 - val_loss: 2.4912\n",
            "Epoch 6/50\n",
            "86/86 [==============================] - 47s 543ms/step - loss: 2.4525 - val_loss: 2.4751\n",
            "Epoch 7/50\n",
            "86/86 [==============================] - 46s 539ms/step - loss: 2.4209 - val_loss: 2.4429\n",
            "Epoch 8/50\n",
            "86/86 [==============================] - 46s 540ms/step - loss: 2.3906 - val_loss: 2.4328\n",
            "Epoch 9/50\n",
            "86/86 [==============================] - 46s 539ms/step - loss: 2.3608 - val_loss: 2.4210\n",
            "Epoch 10/50\n",
            "86/86 [==============================] - 46s 540ms/step - loss: 2.3313 - val_loss: 2.4114\n",
            "Epoch 11/50\n",
            "86/86 [==============================] - 46s 539ms/step - loss: 2.3017 - val_loss: 2.4012\n",
            "Epoch 12/50\n",
            "86/86 [==============================] - 46s 540ms/step - loss: 2.2748 - val_loss: 2.3932\n",
            "Epoch 13/50\n",
            "86/86 [==============================] - 47s 543ms/step - loss: 2.2486 - val_loss: 2.3907\n",
            "Epoch 14/50\n",
            "86/86 [==============================] - 46s 540ms/step - loss: 2.2220 - val_loss: 2.3919\n",
            "Epoch 15/50\n",
            "86/86 [==============================] - 46s 539ms/step - loss: 2.1969 - val_loss: 2.3844\n",
            "Epoch 16/50\n",
            "86/86 [==============================] - 46s 540ms/step - loss: 2.1710 - val_loss: 2.3813\n",
            "Epoch 17/50\n",
            "86/86 [==============================] - 47s 543ms/step - loss: 2.1458 - val_loss: 2.3845\n",
            "Epoch 18/50\n",
            "86/86 [==============================] - 46s 539ms/step - loss: 2.1210 - val_loss: 2.3850\n",
            "Epoch 18: early stopping\n"
          ]
        }
      ]
    },
    {
      "cell_type": "code",
      "source": [
        "plt.plot(history.history['loss'], label='train')\n",
        "plt.plot(history.history['val_loss'], label='test')\n",
        "plt.legend()\n",
        "plt.show()"
      ],
      "metadata": {
        "colab": {
          "base_uri": "https://localhost:8080/",
          "height": 265
        },
        "id": "M57EgCQaLb3N",
        "outputId": "f4ce5bcb-06a5-4eb5-f09c-4bfee6dd3576"
      },
      "execution_count": null,
      "outputs": [
        {
          "output_type": "display_data",
          "data": {
            "text/plain": [
              "<Figure size 432x288 with 1 Axes>"
            ],
            "image/png": "[encoded data removed]"
          },
          "metadata": {
            "needs_background": "light"
          }
        }
      ]
    },
    {
      "cell_type": "markdown",
      "source": [
        "### 테스트"
      ],
      "metadata": {
        "id": "RaqAtIFzSBng"
      }
    },
    {
      "cell_type": "code",
      "source": [
        "#인코더 설계\n",
        "encoder_model = Model(inputs = encoder_inputs, outputs=[encoder_outputs,\n",
        "                                                        state_h, state_c])"
      ],
      "metadata": {
        "id": "pG2fD10BQ_5I"
      },
      "execution_count": null,
      "outputs": []
    },
    {
      "cell_type": "code",
      "source": [
        "#디코더\n",
        "#이전 시점의 상태들을 저장하는 텐서\n",
        "decoder_state_input_h = Input(shape=(256,))\n",
        "decoder_state_input_c = Input(shape=(256,))\n",
        "\n",
        "dec_emb2 = dec_emb_layer(decoder_inputs)\n",
        "\n",
        "decoder_outputs2, state_h2, state_c2 = decoder_lstm(dec_emb2,\n",
        "                                                    initial_state=[decoder_state_input_h, decoder_state_input_c])"
      ],
      "metadata": {
        "id": "SDNbNolaSuEv"
      },
      "execution_count": null,
      "outputs": []
    },
    {
      "cell_type": "code",
      "source": [
        "# 어텐션 함수\n",
        "decoder_hidden_state_input = Input(shape=(text_max_len, 256))\n",
        "attn_out_inf, attn_states_inf = attn_layer([decoder_hidden_state_input, decoder_outputs2])\n",
        "decoder_inf_concat = Concatenate(axis=-1, name='concat')([decoder_outputs2, attn_out_inf])\n",
        "\n",
        "# 디코더의 출력층\n",
        "decoder_outputs2 = decoder_softmax_layer(decoder_inf_concat) \n",
        "\n",
        "# 최종 디코더 모델\n",
        "decoder_model = Model(\n",
        "    [decoder_inputs] + [decoder_hidden_state_input,decoder_state_input_h, decoder_state_input_c],\n",
        "    [decoder_outputs2] + [state_h2, state_c2])"
      ],
      "metadata": {
        "id": "yeqieR-uVbfO"
      },
      "execution_count": null,
      "outputs": []
    },
    {
      "cell_type": "code",
      "source": [
        "sos=tokenizer.encode('[PAD]').ids[0]\n",
        "end=tokenizer.encode('[UNK]').ids[0]"
      ],
      "metadata": {
        "id": "gURXCYurodL8"
      },
      "execution_count": null,
      "outputs": []
    },
    {
      "cell_type": "code",
      "source": [
        "#테스트모델\n",
        "def decode_sequence(input_seq):\n",
        "    # 입력으로부터 인코더의 상태를 얻음\n",
        "    e_out, e_h, e_c = encoder_model.predict(input_seq)\n",
        "\n",
        "     # <SOS>에 해당하는 토큰 생성\n",
        "    target_seq = np.zeros((1,1))\n",
        "    target_seq[0, 0] = sos\n",
        "\n",
        "    stop_condition = False\n",
        "    decoded_sentence = ''\n",
        "    while not stop_condition: # stop_condition이 True가 될 때까지 루프 반복\n",
        "\n",
        "        output_tokens, h, c = decoder_model.predict([target_seq] + [e_out, e_h, e_c])\n",
        "        sampled_token_index = np.argmax(output_tokens[0, -1, :])\n",
        "        sampled_token = tokenizer.decode([sampled_token_index])\n",
        "\n",
        "        if(sampled_token!='[UNK]'):\n",
        "            decoded_sentence += ' '+sampled_token\n",
        "\n",
        "        #  <eos>에 도달하거나 최대 길이를 넘으면 중단.\n",
        "        if (sampled_token == '[UNK]'  or len(decoded_sentence.split()) >= (title_max_len-1)):\n",
        "            stop_condition = True\n",
        "\n",
        "        # 길이가 1인 타겟 시퀀스를 업데이트\n",
        "        target_seq = np.zeros((1,1))\n",
        "        target_seq[0, 0] = sampled_token_index\n",
        "\n",
        "        # 상태를 업데이트 합니다.\n",
        "        e_h, e_c = h, c\n",
        "\n",
        "    return decoded_sentence\n"
      ],
      "metadata": {
        "id": "OayxjpzzVuIq"
      },
      "execution_count": null,
      "outputs": []
    },
    {
      "cell_type": "code",
      "source": [
        "# 원문의 정수 시퀀스를 텍스트 시퀀스로 변환\n",
        "def seq2text(input_seq):\n",
        "    sentence=''\n",
        "    for i in input_seq:\n",
        "        if(i!=0):\n",
        "            sentence = sentence + tokenizer.decode(input_seq)+' '\n",
        "    return sentence\n",
        "\n",
        "# 요약문의 정수 시퀀스를 텍스트 시퀀스로 변환\n",
        "def seq2summary(input_seq):\n",
        "    sentence=''\n",
        "    for i in input_seq:\n",
        "        if((i!=0 and i!=sos) and i!=end):\n",
        "            sentence = sentence + tokenizer.decode(i) + ' '\n",
        "    return sentence"
      ],
      "metadata": {
        "id": "_P9_J8iTb8pC"
      },
      "execution_count": null,
      "outputs": []
    },
    {
      "cell_type": "code",
      "source": [
        "for i in range(670,675):\n",
        "    print(\"원문 : \",seq2text(encoder_input_test[i]))\n",
        "    print(\"실제 요약문 :\",seq2text(decoder_input_test[i]))\n",
        "    print(\"예측 요약문 :\",decode_sequence(encoder_input_test[i].reshape(1, text_max_len)))\n",
        "    print(\"\\n\")"
      ],
      "metadata": {
        "id": "y63Hh0ctnATK",
        "colab": {
          "base_uri": "https://localhost:8080/"
        },
        "outputId": "09f8af50-d563-458d-dcf5-ad5a25f07126"
      },
      "execution_count": null,
      "outputs": [
        {
          "output_type": "stream",
          "name": "stdout",
          "text": [
            "원문 :  시 공 사 세계 문학 숲 권 ] 영국 에드 거 앨런 포 러시아 안 톤 체 호 프 더불어 세계 대 단편 작가 평가 받는 기 드 모 파 상의 걸작 단편 선 집 ] 여 편 달 하는 그의 중 단 편 중 열 세 편 엄 선 하여 선 보이는 이번 선 집 그의 작품 세계가 보여주는 폭 넓 스펙 트 럼 최대한 전달 할 있도록 구성 되었다 ] ] 시 공 사 세계 문학 숲 권 ] 영국 에드 거 앨런 포 러시아 안 톤 체 호 프 더불어 세계 대 단편 작가 평가 받는 기 드 모 파 상의 걸작 단편 선 집 ] 여 편 달 하는 그의 중 단 편 중 열 세 편 엄 선 하여 선 보이는 이번 선 집 그의 작품 세계가 보여주는 폭 넓 스펙 트 럼 최대한 전달 할 있도록 구성 되었다 ] ] 시 공 사 세계 문학 숲 권 ] 영국 에드 거 앨런 포 러시아 안 톤 체 호 프 더불어 세계 대 단편 작가 평가 받는 기 드 모 파 상의 걸작 단편 선 집 ] 여 편 달 하는 그의 중 단 편 중 열 세 편 엄 선 하여 선 보이는 이번 선 집 그의 작품 세계가 보여주는 폭 넓 스펙 트 럼 최대한 전달 할 있도록 구성 되었다 ] ] 시 공 사 세계 문학 숲 권 ] 영국 에드 거 앨런 포 러시아 안 톤 체 호 프 더불어 세계 대 단편 작가 평가 받는 기 드 모 파 상의 걸작 단편 선 집 ] 여 편 달 하는 그의 중 단 편 중 열 세 편 엄 선 하여 선 보이는 이번 선 집 그의 작품 세계가 보여주는 폭 넓 스펙 트 럼 최대한 전달 할 있도록 구성 되었다 ] ] 시 공 사 세계 문학 숲 권 ] 영국 에드 거 앨런 포 러시아 안 톤 체 호 프 더불어 세계 대 단편 작가 평가 받는 기 드 모 파 상의 걸작 단편 선 집 ] 여 편 달 하는 그의 중 단 편 중 열 세 편 엄 선 하여 선 보이는 이번 선 집 그의 작품 세계가 보여주는 폭 넓 스펙 트 럼 최대한 전달 할 있도록 구성 되었다 ] ] 시 공 사 세계 문학 숲 권 ] 영국 에드 거 앨런 포 러시아 안 톤 체 호 프 더불어 세계 대 단편 작가 평가 받는 기 드 모 파 상의 걸작 단편 선 집 ] 여 편 달 하는 그의 중 단 편 중 열 세 편 엄 선 하여 선 보이는 이번 선 집 그의 작품 세계가 보여주는 폭 넓 스펙 트 럼 최대한 전달 할 있도록 구성 되었다 ] ] 시 공 사 세계 문학 숲 권 ] 영국 에드 거 앨런 포 러시아 안 톤 체 호 프 더불어 세계 대 단편 작가 평가 받는 기 드 모 파 상의 걸작 단편 선 집 ] 여 편 달 하는 그의 중 단 편 중 열 세 편 엄 선 하여 선 보이는 이번 선 집 그의 작품 세계가 보여주는 폭 넓 스펙 트 럼 최대한 전달 할 있도록 구성 되었다 ] ] 시 공 사 세계 문학 숲 권 ] 영국 에드 거 앨런 포 러시아 안 톤 체 호 프 더불어 세계 대 단편 작가 평가 받는 기 드 모 파 상의 걸작 단편 선 집 ] 여 편 달 하는 그의 중 단 편 중 열 세 편 엄 선 하여 선 보이는 이번 선 집 그의 작품 세계가 보여주는 폭 넓 스펙 트 럼 최대한 전달 할 있도록 구성 되었다 ] ] 시 공 사 세계 문학 숲 권 ] 영국 에드 거 앨런 포 러시아 안 톤 체 호 프 더불어 세계 대 단편 작가 평가 받는 기 드 모 파 상의 걸작 단편 선 집 ] 여 편 달 하는 그의 중 단 편 중 열 세 편 엄 선 하여 선 보이는 이번 선 집 그의 작품 세계가 보여주는 폭 넓 스펙 트 럼 최대한 전달 할 있도록 구성 되었다 ] ] 시 공 사 세계 문학 숲 권 ] 영국 에드 거 앨런 포 러시아 안 톤 체 호 프 더불어 세계 대 단편 작가 평가 받는 기 드 모 파 상의 걸작 단편 선 집 ] 여 편 달 하는 그의 중 단 편 중 열 세 편 엄 선 하여 선 보이는 이번 선 집 그의 작품 세계가 보여주는 폭 넓 스펙 트 럼 최대한 전달 할 있도록 구성 되었다 ] ] 시 공 사 세계 문학 숲 권 ] 영국 에드 거 앨런 포 러시아 안 톤 체 호 프 더불어 세계 대 단편 작가 평가 받는 기 드 모 파 상의 걸작 단편 선 집 ] 여 편 달 하는 그의 중 단 편 중 열 세 편 엄 선 하여 선 보이는 이번 선 집 그의 작품 세계가 보여주는 폭 넓 스펙 트 럼 최대한 전달 할 있도록 구성 되었다 ] ] 시 공 사 세계 문학 숲 권 ] 영국 에드 거 앨런 포 러시아 안 톤 체 호 프 더불어 세계 대 단편 작가 평가 받는 기 드 모 파 상의 걸작 단편 선 집 ] 여 편 달 하는 그의 중 단 편 중 열 세 편 엄 선 하여 선 보이는 이번 선 집 그의 작품 세계가 보여주는 폭 넓 스펙 트 럼 최대한 전달 할 있도록 구성 되었다 ] ] 시 공 사 세계 문학 숲 권 ] 영국 에드 거 앨런 포 러시아 안 톤 체 호 프 더불어 세계 대 단편 작가 평가 받는 기 드 모 파 상의 걸작 단편 선 집 ] 여 편 달 하는 그의 중 단 편 중 열 세 편 엄 선 하여 선 보이는 이번 선 집 그의 작품 세계가 보여주는 폭 넓 스펙 트 럼 최대한 전달 할 있도록 구성 되었다 ] ] 시 공 사 세계 문학 숲 권 ] 영국 에드 거 앨런 포 러시아 안 톤 체 호 프 더불어 세계 대 단편 작가 평가 받는 기 드 모 파 상의 걸작 단편 선 집 ] 여 편 달 하는 그의 중 단 편 중 열 세 편 엄 선 하여 선 보이는 이번 선 집 그의 작품 세계가 보여주는 폭 넓 스펙 트 럼 최대한 전달 할 있도록 구성 되었다 ] ] 시 공 사 세계 문학 숲 권 ] 영국 에드 거 앨런 포 러시아 안 톤 체 호 프 더불어 세계 대 단편 작가 평가 받는 기 드 모 파 상의 걸작 단편 선 집 ] 여 편 달 하는 그의 중 단 편 중 열 세 편 엄 선 하여 선 보이는 이번 선 집 그의 작품 세계가 보여주는 폭 넓 스펙 트 럼 최대한 전달 할 있도록 구성 되었다 ] ] 시 공 사 세계 문학 숲 권 ] 영국 에드 거 앨런 포 러시아 안 톤 체 호 프 더불어 세계 대 단편 작가 평가 받는 기 드 모 파 상의 걸작 단편 선 집 ] 여 편 달 하는 그의 중 단 편 중 열 세 편 엄 선 하여 선 보이는 이번 선 집 그의 작품 세계가 보여주는 폭 넓 스펙 트 럼 최대한 전달 할 있도록 구성 되었다 ] ] 시 공 사 세계 문학 숲 권 ] 영국 에드 거 앨런 포 러시아 안 톤 체 호 프 더불어 세계 대 단편 작가 평가 받는 기 드 모 파 상의 걸작 단편 선 집 ] 여 편 달 하는 그의 중 단 편 중 열 세 편 엄 선 하여 선 보이는 이번 선 집 그의 작품 세계가 보여주는 폭 넓 스펙 트 럼 최대한 전달 할 있도록 구성 되었다 ] ] 시 공 사 세계 문학 숲 권 ] 영국 에드 거 앨런 포 러시아 안 톤 체 호 프 더불어 세계 대 단편 작가 평가 받는 기 드 모 파 상의 걸작 단편 선 집 ] 여 편 달 하는 그의 중 단 편 중 열 세 편 엄 선 하여 선 보이는 이번 선 집 그의 작품 세계가 보여주는 폭 넓 스펙 트 럼 최대한 전달 할 있도록 구성 되었다 ] ] 시 공 사 세계 문학 숲 권 ] 영국 에드 거 앨런 포 러시아 안 톤 체 호 프 더불어 세계 대 단편 작가 평가 받는 기 드 모 파 상의 걸작 단편 선 집 ] 여 편 달 하는 그의 중 단 편 중 열 세 편 엄 선 하여 선 보이는 이번 선 집 그의 작품 세계가 보여주는 폭 넓 스펙 트 럼 최대한 전달 할 있도록 구성 되었다 ] ] 시 공 사 세계 문학 숲 권 ] 영국 에드 거 앨런 포 러시아 안 톤 체 호 프 더불어 세계 대 단편 작가 평가 받는 기 드 모 파 상의 걸작 단편 선 집 ] 여 편 달 하는 그의 중 단 편 중 열 세 편 엄 선 하여 선 보이는 이번 선 집 그의 작품 세계가 보여주는 폭 넓 스펙 트 럼 최대한 전달 할 있도록 구성 되었다 ] ] 시 공 사 세계 문학 숲 권 ] 영국 에드 거 앨런 포 러시아 안 톤 체 호 프 더불어 세계 대 단편 작가 평가 받는 기 드 모 파 상의 걸작 단편 선 집 ] 여 편 달 하는 그의 중 단 편 중 열 세 편 엄 선 하여 선 보이는 이번 선 집 그의 작품 세계가 보여주는 폭 넓 스펙 트 럼 최대한 전달 할 있도록 구성 되었다 ] ] 시 공 사 세계 문학 숲 권 ] 영국 에드 거 앨런 포 러시아 안 톤 체 호 프 더불어 세계 대 단편 작가 평가 받는 기 드 모 파 상의 걸작 단편 선 집 ] 여 편 달 하는 그의 중 단 편 중 열 세 편 엄 선 하여 선 보이는 이번 선 집 그의 작품 세계가 보여주는 폭 넓 스펙 트 럼 최대한 전달 할 있도록 구성 되었다 ] ] 시 공 사 세계 문학 숲 권 ] 영국 에드 거 앨런 포 러시아 안 톤 체 호 프 더불어 세계 대 단편 작가 평가 받는 기 드 모 파 상의 걸작 단편 선 집 ] 여 편 달 하는 그의 중 단 편 중 열 세 편 엄 선 하여 선 보이는 이번 선 집 그의 작품 세계가 보여주는 폭 넓 스펙 트 럼 최대한 전달 할 있도록 구성 되었다 ] ] 시 공 사 세계 문학 숲 권 ] 영국 에드 거 앨런 포 러시아 안 톤 체 호 프 더불어 세계 대 단편 작가 평가 받는 기 드 모 파 상의 걸작 단편 선 집 ] 여 편 달 하는 그의 중 단 편 중 열 세 편 엄 선 하여 선 보이는 이번 선 집 그의 작품 세계가 보여주는 폭 넓 스펙 트 럼 최대한 전달 할 있도록 구성 되었다 ] ] 시 공 사 세계 문학 숲 권 ] 영국 에드 거 앨런 포 러시아 안 톤 체 호 프 더불어 세계 대 단편 작가 평가 받는 기 드 모 파 상의 걸작 단편 선 집 ] 여 편 달 하는 그의 중 단 편 중 열 세 편 엄 선 하여 선 보이는 이번 선 집 그의 작품 세계가 보여주는 폭 넓 스펙 트 럼 최대한 전달 할 있도록 구성 되었다 ] ] 시 공 사 세계 문학 숲 권 ] 영국 에드 거 앨런 포 러시아 안 톤 체 호 프 더불어 세계 대 단편 작가 평가 받는 기 드 모 파 상의 걸작 단편 선 집 ] 여 편 달 하는 그의 중 단 편 중 열 세 편 엄 선 하여 선 보이는 이번 선 집 그의 작품 세계가 보여주는 폭 넓 스펙 트 럼 최대한 전달 할 있도록 구성 되었다 ] ] 시 공 사 세계 문학 숲 권 ] 영국 에드 거 앨런 포 러시아 안 톤 체 호 프 더불어 세계 대 단편 작가 평가 받는 기 드 모 파 상의 걸작 단편 선 집 ] 여 편 달 하는 그의 중 단 편 중 열 세 편 엄 선 하여 선 보이는 이번 선 집 그의 작품 세계가 보여주는 폭 넓 스펙 트 럼 최대한 전달 할 있도록 구성 되었다 ] ] 시 공 사 세계 문학 숲 권 ] 영국 에드 거 앨런 포 러시아 안 톤 체 호 프 더불어 세계 대 단편 작가 평가 받는 기 드 모 파 상의 걸작 단편 선 집 ] 여 편 달 하는 그의 중 단 편 중 열 세 편 엄 선 하여 선 보이는 이번 선 집 그의 작품 세계가 보여주는 폭 넓 스펙 트 럼 최대한 전달 할 있도록 구성 되었다 ] ] 시 공 사 세계 문학 숲 권 ] 영국 에드 거 앨런 포 러시아 안 톤 체 호 프 더불어 세계 대 단편 작가 평가 받는 기 드 모 파 상의 걸작 단편 선 집 ] 여 편 달 하는 그의 중 단 편 중 열 세 편 엄 선 하여 선 보이는 이번 선 집 그의 작품 세계가 보여주는 폭 넓 스펙 트 럼 최대한 전달 할 있도록 구성 되었다 ] ] 시 공 사 세계 문학 숲 권 ] 영국 에드 거 앨런 포 러시아 안 톤 체 호 프 더불어 세계 대 단편 작가 평가 받는 기 드 모 파 상의 걸작 단편 선 집 ] 여 편 달 하는 그의 중 단 편 중 열 세 편 엄 선 하여 선 보이는 이번 선 집 그의 작품 세계가 보여주는 폭 넓 스펙 트 럼 최대한 전달 할 있도록 구성 되었다 ] ] 시 공 사 세계 문학 숲 권 ] 영국 에드 거 앨런 포 러시아 안 톤 체 호 프 더불어 세계 대 단편 작가 평가 받는 기 드 모 파 상의 걸작 단편 선 집 ] 여 편 달 하는 그의 중 단 편 중 열 세 편 엄 선 하여 선 보이는 이번 선 집 그의 작품 세계가 보여주는 폭 넓 스펙 트 럼 최대한 전달 할 있도록 구성 되었다 ] ] 시 공 사 세계 문학 숲 권 ] 영국 에드 거 앨런 포 러시아 안 톤 체 호 프 더불어 세계 대 단편 작가 평가 받는 기 드 모 파 상의 걸작 단편 선 집 ] 여 편 달 하는 그의 중 단 편 중 열 세 편 엄 선 하여 선 보이는 이번 선 집 그의 작품 세계가 보여주는 폭 넓 스펙 트 럼 최대한 전달 할 있도록 구성 되었다 ] ] 시 공 사 세계 문학 숲 권 ] 영국 에드 거 앨런 포 러시아 안 톤 체 호 프 더불어 세계 대 단편 작가 평가 받는 기 드 모 파 상의 걸작 단편 선 집 ] 여 편 달 하는 그의 중 단 편 중 열 세 편 엄 선 하여 선 보이는 이번 선 집 그의 작품 세계가 보여주는 폭 넓 스펙 트 럼 최대한 전달 할 있도록 구성 되었다 ] ] 시 공 사 세계 문학 숲 권 ] 영국 에드 거 앨런 포 러시아 안 톤 체 호 프 더불어 세계 대 단편 작가 평가 받는 기 드 모 파 상의 걸작 단편 선 집 ] 여 편 달 하는 그의 중 단 편 중 열 세 편 엄 선 하여 선 보이는 이번 선 집 그의 작품 세계가 보여주는 폭 넓 스펙 트 럼 최대한 전달 할 있도록 구성 되었다 ] ] 시 공 사 세계 문학 숲 권 ] 영국 에드 거 앨런 포 러시아 안 톤 체 호 프 더불어 세계 대 단편 작가 평가 받는 기 드 모 파 상의 걸작 단편 선 집 ] 여 편 달 하는 그의 중 단 편 중 열 세 편 엄 선 하여 선 보이는 이번 선 집 그의 작품 세계가 보여주는 폭 넓 스펙 트 럼 최대한 전달 할 있도록 구성 되었다 ] ] 시 공 사 세계 문학 숲 권 ] 영국 에드 거 앨런 포 러시아 안 톤 체 호 프 더불어 세계 대 단편 작가 평가 받는 기 드 모 파 상의 걸작 단편 선 집 ] 여 편 달 하는 그의 중 단 편 중 열 세 편 엄 선 하여 선 보이는 이번 선 집 그의 작품 세계가 보여주는 폭 넓 스펙 트 럼 최대한 전달 할 있도록 구성 되었다 ] ] 시 공 사 세계 문학 숲 권 ] 영국 에드 거 앨런 포 러시아 안 톤 체 호 프 더불어 세계 대 단편 작가 평가 받는 기 드 모 파 상의 걸작 단편 선 집 ] 여 편 달 하는 그의 중 단 편 중 열 세 편 엄 선 하여 선 보이는 이번 선 집 그의 작품 세계가 보여주는 폭 넓 스펙 트 럼 최대한 전달 할 있도록 구성 되었다 ] ] 시 공 사 세계 문학 숲 권 ] 영국 에드 거 앨런 포 러시아 안 톤 체 호 프 더불어 세계 대 단편 작가 평가 받는 기 드 모 파 상의 걸작 단편 선 집 ] 여 편 달 하는 그의 중 단 편 중 열 세 편 엄 선 하여 선 보이는 이번 선 집 그의 작품 세계가 보여주는 폭 넓 스펙 트 럼 최대한 전달 할 있도록 구성 되었다 ] ] 시 공 사 세계 문학 숲 권 ] 영국 에드 거 앨런 포 러시아 안 톤 체 호 프 더불어 세계 대 단편 작가 평가 받는 기 드 모 파 상의 걸작 단편 선 집 ] 여 편 달 하는 그의 중 단 편 중 열 세 편 엄 선 하여 선 보이는 이번 선 집 그의 작품 세계가 보여주는 폭 넓 스펙 트 럼 최대한 전달 할 있도록 구성 되었다 ] ] 시 공 사 세계 문학 숲 권 ] 영국 에드 거 앨런 포 러시아 안 톤 체 호 프 더불어 세계 대 단편 작가 평가 받는 기 드 모 파 상의 걸작 단편 선 집 ] 여 편 달 하는 그의 중 단 편 중 열 세 편 엄 선 하여 선 보이는 이번 선 집 그의 작품 세계가 보여주는 폭 넓 스펙 트 럼 최대한 전달 할 있도록 구성 되었다 ] ] 시 공 사 세계 문학 숲 권 ] 영국 에드 거 앨런 포 러시아 안 톤 체 호 프 더불어 세계 대 단편 작가 평가 받는 기 드 모 파 상의 걸작 단편 선 집 ] 여 편 달 하는 그의 중 단 편 중 열 세 편 엄 선 하여 선 보이는 이번 선 집 그의 작품 세계가 보여주는 폭 넓 스펙 트 럼 최대한 전달 할 있도록 구성 되었다 ] ] 시 공 사 세계 문학 숲 권 ] 영국 에드 거 앨런 포 러시아 안 톤 체 호 프 더불어 세계 대 단편 작가 평가 받는 기 드 모 파 상의 걸작 단편 선 집 ] 여 편 달 하는 그의 중 단 편 중 열 세 편 엄 선 하여 선 보이는 이번 선 집 그의 작품 세계가 보여주는 폭 넓 스펙 트 럼 최대한 전달 할 있도록 구성 되었다 ] ] 시 공 사 세계 문학 숲 권 ] 영국 에드 거 앨런 포 러시아 안 톤 체 호 프 더불어 세계 대 단편 작가 평가 받는 기 드 모 파 상의 걸작 단편 선 집 ] 여 편 달 하는 그의 중 단 편 중 열 세 편 엄 선 하여 선 보이는 이번 선 집 그의 작품 세계가 보여주는 폭 넓 스펙 트 럼 최대한 전달 할 있도록 구성 되었다 ] ] 시 공 사 세계 문학 숲 권 ] 영국 에드 거 앨런 포 러시아 안 톤 체 호 프 더불어 세계 대 단편 작가 평가 받는 기 드 모 파 상의 걸작 단편 선 집 ] 여 편 달 하는 그의 중 단 편 중 열 세 편 엄 선 하여 선 보이는 이번 선 집 그의 작품 세계가 보여주는 폭 넓 스펙 트 럼 최대한 전달 할 있도록 구성 되었다 ] ] 시 공 사 세계 문학 숲 권 ] 영국 에드 거 앨런 포 러시아 안 톤 체 호 프 더불어 세계 대 단편 작가 평가 받는 기 드 모 파 상의 걸작 단편 선 집 ] 여 편 달 하는 그의 중 단 편 중 열 세 편 엄 선 하여 선 보이는 이번 선 집 그의 작품 세계가 보여주는 폭 넓 스펙 트 럼 최대한 전달 할 있도록 구성 되었다 ] ] 시 공 사 세계 문학 숲 권 ] 영국 에드 거 앨런 포 러시아 안 톤 체 호 프 더불어 세계 대 단편 작가 평가 받는 기 드 모 파 상의 걸작 단편 선 집 ] 여 편 달 하는 그의 중 단 편 중 열 세 편 엄 선 하여 선 보이는 이번 선 집 그의 작품 세계가 보여주는 폭 넓 스펙 트 럼 최대한 전달 할 있도록 구성 되었다 ] ] 시 공 사 세계 문학 숲 권 ] 영국 에드 거 앨런 포 러시아 안 톤 체 호 프 더불어 세계 대 단편 작가 평가 받는 기 드 모 파 상의 걸작 단편 선 집 ] 여 편 달 하는 그의 중 단 편 중 열 세 편 엄 선 하여 선 보이는 이번 선 집 그의 작품 세계가 보여주는 폭 넓 스펙 트 럼 최대한 전달 할 있도록 구성 되었다 ] ] 시 공 사 세계 문학 숲 권 ] 영국 에드 거 앨런 포 러시아 안 톤 체 호 프 더불어 세계 대 단편 작가 평가 받는 기 드 모 파 상의 걸작 단편 선 집 ] 여 편 달 하는 그의 중 단 편 중 열 세 편 엄 선 하여 선 보이는 이번 선 집 그의 작품 세계가 보여주는 폭 넓 스펙 트 럼 최대한 전달 할 있도록 구성 되었다 ] ] 시 공 사 세계 문학 숲 권 ] 영국 에드 거 앨런 포 러시아 안 톤 체 호 프 더불어 세계 대 단편 작가 평가 받는 기 드 모 파 상의 걸작 단편 선 집 ] 여 편 달 하는 그의 중 단 편 중 열 세 편 엄 선 하여 선 보이는 이번 선 집 그의 작품 세계가 보여주는 폭 넓 스펙 트 럼 최대한 전달 할 있도록 구성 되었다 ] ] 시 공 사 세계 문학 숲 권 ] 영국 에드 거 앨런 포 러시아 안 톤 체 호 프 더불어 세계 대 단편 작가 평가 받는 기 드 모 파 상의 걸작 단편 선 집 ] 여 편 달 하는 그의 중 단 편 중 열 세 편 엄 선 하여 선 보이는 이번 선 집 그의 작품 세계가 보여주는 폭 넓 스펙 트 럼 최대한 전달 할 있도록 구성 되었다 ] ] 시 공 사 세계 문학 숲 권 ] 영국 에드 거 앨런 포 러시아 안 톤 체 호 프 더불어 세계 대 단편 작가 평가 받는 기 드 모 파 상의 걸작 단편 선 집 ] 여 편 달 하는 그의 중 단 편 중 열 세 편 엄 선 하여 선 보이는 이번 선 집 그의 작품 세계가 보여주는 폭 넓 스펙 트 럼 최대한 전달 할 있도록 구성 되었다 ] ] 시 공 사 세계 문학 숲 권 ] 영국 에드 거 앨런 포 러시아 안 톤 체 호 프 더불어 세계 대 단편 작가 평가 받는 기 드 모 파 상의 걸작 단편 선 집 ] 여 편 달 하는 그의 중 단 편 중 열 세 편 엄 선 하여 선 보이는 이번 선 집 그의 작품 세계가 보여주는 폭 넓 스펙 트 럼 최대한 전달 할 있도록 구성 되었다 ] ] 시 공 사 세계 문학 숲 권 ] 영국 에드 거 앨런 포 러시아 안 톤 체 호 프 더불어 세계 대 단편 작가 평가 받는 기 드 모 파 상의 걸작 단편 선 집 ] 여 편 달 하는 그의 중 단 편 중 열 세 편 엄 선 하여 선 보이는 이번 선 집 그의 작품 세계가 보여주는 폭 넓 스펙 트 럼 최대한 전달 할 있도록 구성 되었다 ] ] 시 공 사 세계 문학 숲 권 ] 영국 에드 거 앨런 포 러시아 안 톤 체 호 프 더불어 세계 대 단편 작가 평가 받는 기 드 모 파 상의 걸작 단편 선 집 ] 여 편 달 하는 그의 중 단 편 중 열 세 편 엄 선 하여 선 보이는 이번 선 집 그의 작품 세계가 보여주는 폭 넓 스펙 트 럼 최대한 전달 할 있도록 구성 되었다 ] ] 시 공 사 세계 문학 숲 권 ] 영국 에드 거 앨런 포 러시아 안 톤 체 호 프 더불어 세계 대 단편 작가 평가 받는 기 드 모 파 상의 걸작 단편 선 집 ] 여 편 달 하는 그의 중 단 편 중 열 세 편 엄 선 하여 선 보이는 이번 선 집 그의 작품 세계가 보여주는 폭 넓 스펙 트 럼 최대한 전달 할 있도록 구성 되었다 ] ] 시 공 사 세계 문학 숲 권 ] 영국 에드 거 앨런 포 러시아 안 톤 체 호 프 더불어 세계 대 단편 작가 평가 받는 기 드 모 파 상의 걸작 단편 선 집 ] 여 편 달 하는 그의 중 단 편 중 열 세 편 엄 선 하여 선 보이는 이번 선 집 그의 작품 세계가 보여주는 폭 넓 스펙 트 럼 최대한 전달 할 있도록 구성 되었다 ] ] 시 공 사 세계 문학 숲 권 ] 영국 에드 거 앨런 포 러시아 안 톤 체 호 프 더불어 세계 대 단편 작가 평가 받는 기 드 모 파 상의 걸작 단편 선 집 ] 여 편 달 하는 그의 중 단 편 중 열 세 편 엄 선 하여 선 보이는 이번 선 집 그의 작품 세계가 보여주는 폭 넓 스펙 트 럼 최대한 전달 할 있도록 구성 되었다 ] ] 시 공 사 세계 문학 숲 권 ] 영국 에드 거 앨런 포 러시아 안 톤 체 호 프 더불어 세계 대 단편 작가 평가 받는 기 드 모 파 상의 걸작 단편 선 집 ] 여 편 달 하는 그의 중 단 편 중 열 세 편 엄 선 하여 선 보이는 이번 선 집 그의 작품 세계가 보여주는 폭 넓 스펙 트 럼 최대한 전달 할 있도록 구성 되었다 ] ] 시 공 사 세계 문학 숲 권 ] 영국 에드 거 앨런 포 러시아 안 톤 체 호 프 더불어 세계 대 단편 작가 평가 받는 기 드 모 파 상의 걸작 단편 선 집 ] 여 편 달 하는 그의 중 단 편 중 열 세 편 엄 선 하여 선 보이는 이번 선 집 그의 작품 세계가 보여주는 폭 넓 스펙 트 럼 최대한 전달 할 있도록 구성 되었다 ] ] 시 공 사 세계 문학 숲 권 ] 영국 에드 거 앨런 포 러시아 안 톤 체 호 프 더불어 세계 대 단편 작가 평가 받는 기 드 모 파 상의 걸작 단편 선 집 ] 여 편 달 하는 그의 중 단 편 중 열 세 편 엄 선 하여 선 보이는 이번 선 집 그의 작품 세계가 보여주는 폭 넓 스펙 트 럼 최대한 전달 할 있도록 구성 되었다 ] ] 시 공 사 세계 문학 숲 권 ] 영국 에드 거 앨런 포 러시아 안 톤 체 호 프 더불어 세계 대 단편 작가 평가 받는 기 드 모 파 상의 걸작 단편 선 집 ] 여 편 달 하는 그의 중 단 편 중 열 세 편 엄 선 하여 선 보이는 이번 선 집 그의 작품 세계가 보여주는 폭 넓 스펙 트 럼 최대한 전달 할 있도록 구성 되었다 ] ] 시 공 사 세계 문학 숲 권 ] 영국 에드 거 앨런 포 러시아 안 톤 체 호 프 더불어 세계 대 단편 작가 평가 받는 기 드 모 파 상의 걸작 단편 선 집 ] 여 편 달 하는 그의 중 단 편 중 열 세 편 엄 선 하여 선 보이는 이번 선 집 그의 작품 세계가 보여주는 폭 넓 스펙 트 럼 최대한 전달 할 있도록 구성 되었다 ] ] 시 공 사 세계 문학 숲 권 ] 영국 에드 거 앨런 포 러시아 안 톤 체 호 프 더불어 세계 대 단편 작가 평가 받는 기 드 모 파 상의 걸작 단편 선 집 ] 여 편 달 하는 그의 중 단 편 중 열 세 편 엄 선 하여 선 보이는 이번 선 집 그의 작품 세계가 보여주는 폭 넓 스펙 트 럼 최대한 전달 할 있도록 구성 되었다 ] ] 시 공 사 세계 문학 숲 권 ] 영국 에드 거 앨런 포 러시아 안 톤 체 호 프 더불어 세계 대 단편 작가 평가 받는 기 드 모 파 상의 걸작 단편 선 집 ] 여 편 달 하는 그의 중 단 편 중 열 세 편 엄 선 하여 선 보이는 이번 선 집 그의 작품 세계가 보여주는 폭 넓 스펙 트 럼 최대한 전달 할 있도록 구성 되었다 ] ] 시 공 사 세계 문학 숲 권 ] 영국 에드 거 앨런 포 러시아 안 톤 체 호 프 더불어 세계 대 단편 작가 평가 받는 기 드 모 파 상의 걸작 단편 선 집 ] 여 편 달 하는 그의 중 단 편 중 열 세 편 엄 선 하여 선 보이는 이번 선 집 그의 작품 세계가 보여주는 폭 넓 스펙 트 럼 최대한 전달 할 있도록 구성 되었다 ] ] 시 공 사 세계 문학 숲 권 ] 영국 에드 거 앨런 포 러시아 안 톤 체 호 프 더불어 세계 대 단편 작가 평가 받는 기 드 모 파 상의 걸작 단편 선 집 ] 여 편 달 하는 그의 중 단 편 중 열 세 편 엄 선 하여 선 보이는 이번 선 집 그의 작품 세계가 보여주는 폭 넓 스펙 트 럼 최대한 전달 할 있도록 구성 되었다 ] ] 시 공 사 세계 문학 숲 권 ] 영국 에드 거 앨런 포 러시아 안 톤 체 호 프 더불어 세계 대 단편 작가 평가 받는 기 드 모 파 상의 걸작 단편 선 집 ] 여 편 달 하는 그의 중 단 편 중 열 세 편 엄 선 하여 선 보이는 이번 선 집 그의 작품 세계가 보여주는 폭 넓 스펙 트 럼 최대한 전달 할 있도록 구성 되었다 ] ] 시 공 사 세계 문학 숲 권 ] 영국 에드 거 앨런 포 러시아 안 톤 체 호 프 더불어 세계 대 단편 작가 평가 받는 기 드 모 파 상의 걸작 단편 선 집 ] 여 편 달 하는 그의 중 단 편 중 열 세 편 엄 선 하여 선 보이는 이번 선 집 그의 작품 세계가 보여주는 폭 넓 스펙 트 럼 최대한 전달 할 있도록 구성 되었다 ] ] 시 공 사 세계 문학 숲 권 ] 영국 에드 거 앨런 포 러시아 안 톤 체 호 프 더불어 세계 대 단편 작가 평가 받는 기 드 모 파 상의 걸작 단편 선 집 ] 여 편 달 하는 그의 중 단 편 중 열 세 편 엄 선 하여 선 보이는 이번 선 집 그의 작품 세계가 보여주는 폭 넓 스펙 트 럼 최대한 전달 할 있도록 구성 되었다 ] ] 시 공 사 세계 문학 숲 권 ] 영국 에드 거 앨런 포 러시아 안 톤 체 호 프 더불어 세계 대 단편 작가 평가 받는 기 드 모 파 상의 걸작 단편 선 집 ] 여 편 달 하는 그의 중 단 편 중 열 세 편 엄 선 하여 선 보이는 이번 선 집 그의 작품 세계가 보여주는 폭 넓 스펙 트 럼 최대한 전달 할 있도록 구성 되었다 ] ] 시 공 사 세계 문학 숲 권 ] 영국 에드 거 앨런 포 러시아 안 톤 체 호 프 더불어 세계 대 단편 작가 평가 받는 기 드 모 파 상의 걸작 단편 선 집 ] 여 편 달 하는 그의 중 단 편 중 열 세 편 엄 선 하여 선 보이는 이번 선 집 그의 작품 세계가 보여주는 폭 넓 스펙 트 럼 최대한 전달 할 있도록 구성 되었다 ] ] 시 공 사 세계 문학 숲 권 ] 영국 에드 거 앨런 포 러시아 안 톤 체 호 프 더불어 세계 대 단편 작가 평가 받는 기 드 모 파 상의 걸작 단편 선 집 ] 여 편 달 하는 그의 중 단 편 중 열 세 편 엄 선 하여 선 보이는 이번 선 집 그의 작품 세계가 보여주는 폭 넓 스펙 트 럼 최대한 전달 할 있도록 구성 되었다 ] ] 시 공 사 세계 문학 숲 권 ] 영국 에드 거 앨런 포 러시아 안 톤 체 호 프 더불어 세계 대 단편 작가 평가 받는 기 드 모 파 상의 걸작 단편 선 집 ] 여 편 달 하는 그의 중 단 편 중 열 세 편 엄 선 하여 선 보이는 이번 선 집 그의 작품 세계가 보여주는 폭 넓 스펙 트 럼 최대한 전달 할 있도록 구성 되었다 ] ] 시 공 사 세계 문학 숲 권 ] 영국 에드 거 앨런 포 러시아 안 톤 체 호 프 더불어 세계 대 단편 작가 평가 받는 기 드 모 파 상의 걸작 단편 선 집 ] 여 편 달 하는 그의 중 단 편 중 열 세 편 엄 선 하여 선 보이는 이번 선 집 그의 작품 세계가 보여주는 폭 넓 스펙 트 럼 최대한 전달 할 있도록 구성 되었다 ] ] \n",
            "실제 요약문 : PAD UNK ] ] PAD UNK ] ] PAD UNK ] ] PAD UNK ] ] PAD UNK ] ] PAD UNK ] ] PAD UNK ] ] PAD UNK ] ] \n",
            "1/1 [==============================] - 0s 25ms/step\n",
            "1/1 [==============================] - 0s 18ms/step\n",
            "1/1 [==============================] - 0s 18ms/step\n",
            "1/1 [==============================] - 0s 18ms/step\n",
            "1/1 [==============================] - 0s 22ms/step\n",
            "1/1 [==============================] - 0s 17ms/step\n",
            "1/1 [==============================] - 0s 23ms/step\n",
            "1/1 [==============================] - 0s 16ms/step\n",
            "1/1 [==============================] - 0s 18ms/step\n",
            "1/1 [==============================] - 0s 22ms/step\n",
            "1/1 [==============================] - 0s 18ms/step\n",
            "1/1 [==============================] - 0s 16ms/step\n",
            "1/1 [==============================] - 0s 19ms/step\n",
            "1/1 [==============================] - 0s 17ms/step\n",
            "1/1 [==============================] - 0s 19ms/step\n",
            "1/1 [==============================] - 0s 24ms/step\n",
            "1/1 [==============================] - 0s 17ms/step\n",
            "1/1 [==============================] - 0s 17ms/step\n",
            "1/1 [==============================] - 0s 17ms/step\n",
            "1/1 [==============================] - 0s 16ms/step\n",
            "1/1 [==============================] - 0s 17ms/step\n",
            "1/1 [==============================] - 0s 19ms/step\n",
            "1/1 [==============================] - 0s 19ms/step\n",
            "1/1 [==============================] - 0s 18ms/step\n",
            "1/1 [==============================] - 0s 20ms/step\n",
            "1/1 [==============================] - 0s 20ms/step\n",
            "1/1 [==============================] - 0s 22ms/step\n",
            "1/1 [==============================] - 0s 19ms/step\n",
            "1/1 [==============================] - 0s 18ms/step\n",
            "1/1 [==============================] - 0s 21ms/step\n",
            "예측 요약문 :  U U U U U U U U U U U U U U U U U U U U U U U U U U U U U\n",
            "\n",
            "\n",
            "원문 :  F S I L L Y A N D S L I G H T L Y S C A R Y T R A D I T I O N A L T A L E S A N D S C H OO L Y A R D R H Y M E S F O R BE G I N N I NG R E A D E R S ] O R I G I N A L ] ] F S I L L Y A N D S L I G H T L Y S C A R Y T R A D I T I O N A L T A L E S A N D S C H OO L Y A R D R H Y M E S F O R BE G I N N I NG R E A D E R S ] O R I G I N A L ] ] F S I L L Y A N D S L I G H T L Y S C A R Y T R A D I T I O N A L T A L E S A N D S C H OO L Y A R D R H Y M E S F O R BE G I N N I NG R E A D E R S ] O R I G I N A L ] ] F S I L L Y A N D S L I G H T L Y S C A R Y T R A D I T I O N A L T A L E S A N D S C H OO L Y A R D R H Y M E S F O R BE G I N N I NG R E A D E R S ] O R I G I N A L ] ] F S I L L Y A N D S L I G H T L Y S C A R Y T R A D I T I O N A L T A L E S A N D S C H OO L Y A R D R H Y M E S F O R BE G I N N I NG R E A D E R S ] O R I G I N A L ] ] F S I L L Y A N D S L I G H T L Y S C A R Y T R A D I T I O N A L T A L E S A N D S C H OO L Y A R D R H Y M E S F O R BE G I N N I NG R E A D E R S ] O R I G I N A L ] ] F S I L L Y A N D S L I G H T L Y S C A R Y T R A D I T I O N A L T A L E S A N D S C H OO L Y A R D R H Y M E S F O R BE G I N N I NG R E A D E R S ] O R I G I N A L ] ] F S I L L Y A N D S L I G H T L Y S C A R Y T R A D I T I O N A L T A L E S A N D S C H OO L Y A R D R H Y M E S F O R BE G I N N I NG R E A D E R S ] O R I G I N A L ] ] F S I L L Y A N D S L I G H T L Y S C A R Y T R A D I T I O N A L T A L E S A N D S C H OO L Y A R D R H Y M E S F O R BE G I N N I NG R E A D E R S ] O R I G I N A L ] ] F S I L L Y A N D S L I G H T L Y S C A R Y T R A D I T I O N A L T A L E S A N D S C H OO L Y A R D R H Y M E S F O R BE G I N N I NG R E A D E R S ] O R I G I N A L ] ] F S I L L Y A N D S L I G H T L Y S C A R Y T R A D I T I O N A L T A L E S A N D S C H OO L Y A R D R H Y M E S F O R BE G I N N I NG R E A D E R S ] O R I G I N A L ] ] F S I L L Y A N D S L I G H T L Y S C A R Y T R A D I T I O N A L T A L E S A N D S C H OO L Y A R D R H Y M E S F O R BE G I N N I NG R E A D E R S ] O R I G I N A L ] ] F S I L L Y A N D S L I G H T L Y S C A R Y T R A D I T I O N A L T A L E S A N D S C H OO L Y A R D R H Y M E S F O R BE G I N N I NG R E A D E R S ] O R I G I N A L ] ] F S I L L Y A N D S L I G H T L Y S C A R Y T R A D I T I O N A L T A L E S A N D S C H OO L Y A R D R H Y M E S F O R BE G I N N I NG R E A D E R S ] O R I G I N A L ] ] F S I L L Y A N D S L I G H T L Y S C A R Y T R A D I T I O N A L T A L E S A N D S C H OO L Y A R D R H Y M E S F O R BE G I N N I NG R E A D E R S ] O R I G I N A L ] ] F S I L L Y A N D S L I G H T L Y S C A R Y T R A D I T I O N A L T A L E S A N D S C H OO L Y A R D R H Y M E S F O R BE G I N N I NG R E A D E R S ] O R I G I N A L ] ] F S I L L Y A N D S L I G H T L Y S C A R Y T R A D I T I O N A L T A L E S A N D S C H OO L Y A R D R H Y M E S F O R BE G I N N I NG R E A D E R S ] O R I G I N A L ] ] F S I L L Y A N D S L I G H T L Y S C A R Y T R A D I T I O N A L T A L E S A N D S C H OO L Y A R D R H Y M E S F O R BE G I N N I NG R E A D E R S ] O R I G I N A L ] ] F S I L L Y A N D S L I G H T L Y S C A R Y T R A D I T I O N A L T A L E S A N D S C H OO L Y A R D R H Y M E S F O R BE G I N N I NG R E A D E R S ] O R I G I N A L ] ] F S I L L Y A N D S L I G H T L Y S C A R Y T R A D I T I O N A L T A L E S A N D S C H OO L Y A R D R H Y M E S F O R BE G I N N I NG R E A D E R S ] O R I G I N A L ] ] F S I L L Y A N D S L I G H T L Y S C A R Y T R A D I T I O N A L T A L E S A N D S C H OO L Y A R D R H Y M E S F O R BE G I N N I NG R E A D E R S ] O R I G I N A L ] ] F S I L L Y A N D S L I G H T L Y S C A R Y T R A D I T I O N A L T A L E S A N D S C H OO L Y A R D R H Y M E S F O R BE G I N N I NG R E A D E R S ] O R I G I N A L ] ] F S I L L Y A N D S L I G H T L Y S C A R Y T R A D I T I O N A L T A L E S A N D S C H OO L Y A R D R H Y M E S F O R BE G I N N I NG R E A D E R S ] O R I G I N A L ] ] F S I L L Y A N D S L I G H T L Y S C A R Y T R A D I T I O N A L T A L E S A N D S C H OO L Y A R D R H Y M E S F O R BE G I N N I NG R E A D E R S ] O R I G I N A L ] ] F S I L L Y A N D S L I G H T L Y S C A R Y T R A D I T I O N A L T A L E S A N D S C H OO L Y A R D R H Y M E S F O R BE G I N N I NG R E A D E R S ] O R I G I N A L ] ] F S I L L Y A N D S L I G H T L Y S C A R Y T R A D I T I O N A L T A L E S A N D S C H OO L Y A R D R H Y M E S F O R BE G I N N I NG R E A D E R S ] O R I G I N A L ] ] F S I L L Y A N D S L I G H T L Y S C A R Y T R A D I T I O N A L T A L E S A N D S C H OO L Y A R D R H Y M E S F O R BE G I N N I NG R E A D E R S ] O R I G I N A L ] ] F S I L L Y A N D S L I G H T L Y S C A R Y T R A D I T I O N A L T A L E S A N D S C H OO L Y A R D R H Y M E S F O R BE G I N N I NG R E A D E R S ] O R I G I N A L ] ] F S I L L Y A N D S L I G H T L Y S C A R Y T R A D I T I O N A L T A L E S A N D S C H OO L Y A R D R H Y M E S F O R BE G I N N I NG R E A D E R S ] O R I G I N A L ] ] F S I L L Y A N D S L I G H T L Y S C A R Y T R A D I T I O N A L T A L E S A N D S C H OO L Y A R D R H Y M E S F O R BE G I N N I NG R E A D E R S ] O R I G I N A L ] ] F S I L L Y A N D S L I G H T L Y S C A R Y T R A D I T I O N A L T A L E S A N D S C H OO L Y A R D R H Y M E S F O R BE G I N N I NG R E A D E R S ] O R I G I N A L ] ] F S I L L Y A N D S L I G H T L Y S C A R Y T R A D I T I O N A L T A L E S A N D S C H OO L Y A R D R H Y M E S F O R BE G I N N I NG R E A D E R S ] O R I G I N A L ] ] F S I L L Y A N D S L I G H T L Y S C A R Y T R A D I T I O N A L T A L E S A N D S C H OO L Y A R D R H Y M E S F O R BE G I N N I NG R E A D E R S ] O R I G I N A L ] ] F S I L L Y A N D S L I G H T L Y S C A R Y T R A D I T I O N A L T A L E S A N D S C H OO L Y A R D R H Y M E S F O R BE G I N N I NG R E A D E R S ] O R I G I N A L ] ] F S I L L Y A N D S L I G H T L Y S C A R Y T R A D I T I O N A L T A L E S A N D S C H OO L Y A R D R H Y M E S F O R BE G I N N I NG R E A D E R S ] O R I G I N A L ] ] F S I L L Y A N D S L I G H T L Y S C A R Y T R A D I T I O N A L T A L E S A N D S C H OO L Y A R D R H Y M E S F O R BE G I N N I NG R E A D E R S ] O R I G I N A L ] ] F S I L L Y A N D S L I G H T L Y S C A R Y T R A D I T I O N A L T A L E S A N D S C H OO L Y A R D R H Y M E S F O R BE G I N N I NG R E A D E R S ] O R I G I N A L ] ] F S I L L Y A N D S L I G H T L Y S C A R Y T R A D I T I O N A L T A L E S A N D S C H OO L Y A R D R H Y M E S F O R BE G I N N I NG R E A D E R S ] O R I G I N A L ] ] F S I L L Y A N D S L I G H T L Y S C A R Y T R A D I T I O N A L T A L E S A N D S C H OO L Y A R D R H Y M E S F O R BE G I N N I NG R E A D E R S ] O R I G I N A L ] ] F S I L L Y A N D S L I G H T L Y S C A R Y T R A D I T I O N A L T A L E S A N D S C H OO L Y A R D R H Y M E S F O R BE G I N N I NG R E A D E R S ] O R I G I N A L ] ] F S I L L Y A N D S L I G H T L Y S C A R Y T R A D I T I O N A L T A L E S A N D S C H OO L Y A R D R H Y M E S F O R BE G I N N I NG R E A D E R S ] O R I G I N A L ] ] F S I L L Y A N D S L I G H T L Y S C A R Y T R A D I T I O N A L T A L E S A N D S C H OO L Y A R D R H Y M E S F O R BE G I N N I NG R E A D E R S ] O R I G I N A L ] ] F S I L L Y A N D S L I G H T L Y S C A R Y T R A D I T I O N A L T A L E S A N D S C H OO L Y A R D R H Y M E S F O R BE G I N N I NG R E A D E R S ] O R I G I N A L ] ] F S I L L Y A N D S L I G H T L Y S C A R Y T R A D I T I O N A L T A L E S A N D S C H OO L Y A R D R H Y M E S F O R BE G I N N I NG R E A D E R S ] O R I G I N A L ] ] F S I L L Y A N D S L I G H T L Y S C A R Y T R A D I T I O N A L T A L E S A N D S C H OO L Y A R D R H Y M E S F O R BE G I N N I NG R E A D E R S ] O R I G I N A L ] ] F S I L L Y A N D S L I G H T L Y S C A R Y T R A D I T I O N A L T A L E S A N D S C H OO L Y A R D R H Y M E S F O R BE G I N N I NG R E A D E R S ] O R I G I N A L ] ] F S I L L Y A N D S L I G H T L Y S C A R Y T R A D I T I O N A L T A L E S A N D S C H OO L Y A R D R H Y M E S F O R BE G I N N I NG R E A D E R S ] O R I G I N A L ] ] F S I L L Y A N D S L I G H T L Y S C A R Y T R A D I T I O N A L T A L E S A N D S C H OO L Y A R D R H Y M E S F O R BE G I N N I NG R E A D E R S ] O R I G I N A L ] ] F S I L L Y A N D S L I G H T L Y S C A R Y T R A D I T I O N A L T A L E S A N D S C H OO L Y A R D R H Y M E S F O R BE G I N N I NG R E A D E R S ] O R I G I N A L ] ] F S I L L Y A N D S L I G H T L Y S C A R Y T R A D I T I O N A L T A L E S A N D S C H OO L Y A R D R H Y M E S F O R BE G I N N I NG R E A D E R S ] O R I G I N A L ] ] F S I L L Y A N D S L I G H T L Y S C A R Y T R A D I T I O N A L T A L E S A N D S C H OO L Y A R D R H Y M E S F O R BE G I N N I NG R E A D E R S ] O R I G I N A L ] ] F S I L L Y A N D S L I G H T L Y S C A R Y T R A D I T I O N A L T A L E S A N D S C H OO L Y A R D R H Y M E S F O R BE G I N N I NG R E A D E R S ] O R I G I N A L ] ] F S I L L Y A N D S L I G H T L Y S C A R Y T R A D I T I O N A L T A L E S A N D S C H OO L Y A R D R H Y M E S F O R BE G I N N I NG R E A D E R S ] O R I G I N A L ] ] F S I L L Y A N D S L I G H T L Y S C A R Y T R A D I T I O N A L T A L E S A N D S C H OO L Y A R D R H Y M E S F O R BE G I N N I NG R E A D E R S ] O R I G I N A L ] ] F S I L L Y A N D S L I G H T L Y S C A R Y T R A D I T I O N A L T A L E S A N D S C H OO L Y A R D R H Y M E S F O R BE G I N N I NG R E A D E R S ] O R I G I N A L ] ] F S I L L Y A N D S L I G H T L Y S C A R Y T R A D I T I O N A L T A L E S A N D S C H OO L Y A R D R H Y M E S F O R BE G I N N I NG R E A D E R S ] O R I G I N A L ] ] F S I L L Y A N D S L I G H T L Y S C A R Y T R A D I T I O N A L T A L E S A N D S C H OO L Y A R D R H Y M E S F O R BE G I N N I NG R E A D E R S ] O R I G I N A L ] ] F S I L L Y A N D S L I G H T L Y S C A R Y T R A D I T I O N A L T A L E S A N D S C H OO L Y A R D R H Y M E S F O R BE G I N N I NG R E A D E R S ] O R I G I N A L ] ] F S I L L Y A N D S L I G H T L Y S C A R Y T R A D I T I O N A L T A L E S A N D S C H OO L Y A R D R H Y M E S F O R BE G I N N I NG R E A D E R S ] O R I G I N A L ] ] F S I L L Y A N D S L I G H T L Y S C A R Y T R A D I T I O N A L T A L E S A N D S C H OO L Y A R D R H Y M E S F O R BE G I N N I NG R E A D E R S ] O R I G I N A L ] ] F S I L L Y A N D S L I G H T L Y S C A R Y T R A D I T I O N A L T A L E S A N D S C H OO L Y A R D R H Y M E S F O R BE G I N N I NG R E A D E R S ] O R I G I N A L ] ] F S I L L Y A N D S L I G H T L Y S C A R Y T R A D I T I O N A L T A L E S A N D S C H OO L Y A R D R H Y M E S F O R BE G I N N I NG R E A D E R S ] O R I G I N A L ] ] F S I L L Y A N D S L I G H T L Y S C A R Y T R A D I T I O N A L T A L E S A N D S C H OO L Y A R D R H Y M E S F O R BE G I N N I NG R E A D E R S ] O R I G I N A L ] ] F S I L L Y A N D S L I G H T L Y S C A R Y T R A D I T I O N A L T A L E S A N D S C H OO L Y A R D R H Y M E S F O R BE G I N N I NG R E A D E R S ] O R I G I N A L ] ] F S I L L Y A N D S L I G H T L Y S C A R Y T R A D I T I O N A L T A L E S A N D S C H OO L Y A R D R H Y M E S F O R BE G I N N I NG R E A D E R S ] O R I G I N A L ] ] F S I L L Y A N D S L I G H T L Y S C A R Y T R A D I T I O N A L T A L E S A N D S C H OO L Y A R D R H Y M E S F O R BE G I N N I NG R E A D E R S ] O R I G I N A L ] ] F S I L L Y A N D S L I G H T L Y S C A R Y T R A D I T I O N A L T A L E S A N D S C H OO L Y A R D R H Y M E S F O R BE G I N N I NG R E A D E R S ] O R I G I N A L ] ] F S I L L Y A N D S L I G H T L Y S C A R Y T R A D I T I O N A L T A L E S A N D S C H OO L Y A R D R H Y M E S F O R BE G I N N I NG R E A D E R S ] O R I G I N A L ] ] F S I L L Y A N D S L I G H T L Y S C A R Y T R A D I T I O N A L T A L E S A N D S C H OO L Y A R D R H Y M E S F O R BE G I N N I NG R E A D E R S ] O R I G I N A L ] ] F S I L L Y A N D S L I G H T L Y S C A R Y T R A D I T I O N A L T A L E S A N D S C H OO L Y A R D R H Y M E S F O R BE G I N N I NG R E A D E R S ] O R I G I N A L ] ] F S I L L Y A N D S L I G H T L Y S C A R Y T R A D I T I O N A L T A L E S A N D S C H OO L Y A R D R H Y M E S F O R BE G I N N I NG R E A D E R S ] O R I G I N A L ] ] F S I L L Y A N D S L I G H T L Y S C A R Y T R A D I T I O N A L T A L E S A N D S C H OO L Y A R D R H Y M E S F O R BE G I N N I NG R E A D E R S ] O R I G I N A L ] ] F S I L L Y A N D S L I G H T L Y S C A R Y T R A D I T I O N A L T A L E S A N D S C H OO L Y A R D R H Y M E S F O R BE G I N N I NG R E A D E R S ] O R I G I N A L ] ] F S I L L Y A N D S L I G H T L Y S C A R Y T R A D I T I O N A L T A L E S A N D S C H OO L Y A R D R H Y M E S F O R BE G I N N I NG R E A D E R S ] O R I G I N A L ] ] F S I L L Y A N D S L I G H T L Y S C A R Y T R A D I T I O N A L T A L E S A N D S C H OO L Y A R D R H Y M E S F O R BE G I N N I NG R E A D E R S ] O R I G I N A L ] ] F S I L L Y A N D S L I G H T L Y S C A R Y T R A D I T I O N A L T A L E S A N D S C H OO L Y A R D R H Y M E S F O R BE G I N N I NG R E A D E R S ] O R I G I N A L ] ] F S I L L Y A N D S L I G H T L Y S C A R Y T R A D I T I O N A L T A L E S A N D S C H OO L Y A R D R H Y M E S F O R BE G I N N I NG R E A D E R S ] O R I G I N A L ] ] F S I L L Y A N D S L I G H T L Y S C A R Y T R A D I T I O N A L T A L E S A N D S C H OO L Y A R D R H Y M E S F O R BE G I N N I NG R E A D E R S ] O R I G I N A L ] ] F S I L L Y A N D S L I G H T L Y S C A R Y T R A D I T I O N A L T A L E S A N D S C H OO L Y A R D R H Y M E S F O R BE G I N N I NG R E A D E R S ] O R I G I N A L ] ] F S I L L Y A N D S L I G H T L Y S C A R Y T R A D I T I O N A L T A L E S A N D S C H OO L Y A R D R H Y M E S F O R BE G I N N I NG R E A D E R S ] O R I G I N A L ] ] F S I L L Y A N D S L I G H T L Y S C A R Y T R A D I T I O N A L T A L E S A N D S C H OO L Y A R D R H Y M E S F O R BE G I N N I NG R E A D E R S ] O R I G I N A L ] ] F S I L L Y A N D S L I G H T L Y S C A R Y T R A D I T I O N A L T A L E S A N D S C H OO L Y A R D R H Y M E S F O R BE G I N N I NG R E A D E R S ] O R I G I N A L ] ] F S I L L Y A N D S L I G H T L Y S C A R Y T R A D I T I O N A L T A L E S A N D S C H OO L Y A R D R H Y M E S F O R BE G I N N I NG R E A D E R S ] O R I G I N A L ] ] F S I L L Y A N D S L I G H T L Y S C A R Y T R A D I T I O N A L T A L E S A N D S C H OO L Y A R D R H Y M E S F O R BE G I N N I NG R E A D E R S ] O R I G I N A L ] ] \n",
            "실제 요약문 : G ho st and O th er S ill y C h ill er s P ap er b ack ] ] G ho st and O th er S ill y C h ill er s P ap er b ack ] ] G ho st and O th er S ill y C h ill er s P ap er b ack ] ] G ho st and O th er S ill y C h ill er s P ap er b ack ] ] G ho st and O th er S ill y C h ill er s P ap er b ack ] ] G ho st and O th er S ill y C h ill er s P ap er b ack ] ] G ho st and O th er S ill y C h ill er s P ap er b ack ] ] G ho st and O th er S ill y C h ill er s P ap er b ack ] ] G ho st and O th er S ill y C h ill er s P ap er b ack ] ] G ho st and O th er S ill y C h ill er s P ap er b ack ] ] G ho st and O th er S ill y C h ill er s P ap er b ack ] ] G ho st and O th er S ill y C h ill er s P ap er b ack ] ] G ho st and O th er S ill y C h ill er s P ap er b ack ] ] G ho st and O th er S ill y C h ill er s P ap er b ack ] ] G ho st and O th er S ill y C h ill er s P ap er b ack ] ] G ho st and O th er S ill y C h ill er s P ap er b ack ] ] G ho st and O th er S ill y C h ill er s P ap er b ack ] ] G ho st and O th er S ill y C h ill er s P ap er b ack ] ] G ho st and O th er S ill y C h ill er s P ap er b ack ] ] G ho st and O th er S ill y C h ill er s P ap er b ack ] ] G ho st and O th er S ill y C h ill er s P ap er b ack ] ] G ho st and O th er S ill y C h ill er s P ap er b ack ] ] G ho st and O th er S ill y C h ill er s P ap er b ack ] ] G ho st and O th er S ill y C h ill er s P ap er b ack ] ] G ho st and O th er S ill y C h ill er s P ap er b ack ] ] G ho st and O th er S ill y C h ill er s P ap er b ack ] ] G ho st and O th er S ill y C h ill er s P ap er b ack ] ] G ho st and O th er S ill y C h ill er s P ap er b ack ] ] G ho st and O th er S ill y C h ill er s P ap er b ack ] ] G ho st and O th er S ill y C h ill er s P ap er b ack ] ] \n",
            "1/1 [==============================] - 0s 22ms/step\n",
            "1/1 [==============================] - 0s 20ms/step\n",
            "1/1 [==============================] - 0s 16ms/step\n",
            "1/1 [==============================] - 0s 18ms/step\n",
            "1/1 [==============================] - 0s 17ms/step\n",
            "1/1 [==============================] - 0s 16ms/step\n",
            "1/1 [==============================] - 0s 22ms/step\n",
            "1/1 [==============================] - 0s 21ms/step\n",
            "1/1 [==============================] - 0s 19ms/step\n",
            "1/1 [==============================] - 0s 21ms/step\n",
            "1/1 [==============================] - 0s 17ms/step\n",
            "1/1 [==============================] - 0s 19ms/step\n",
            "1/1 [==============================] - 0s 18ms/step\n",
            "1/1 [==============================] - 0s 20ms/step\n",
            "1/1 [==============================] - 0s 17ms/step\n",
            "1/1 [==============================] - 0s 19ms/step\n",
            "1/1 [==============================] - 0s 19ms/step\n",
            "1/1 [==============================] - 0s 18ms/step\n",
            "1/1 [==============================] - 0s 17ms/step\n",
            "1/1 [==============================] - 0s 19ms/step\n",
            "1/1 [==============================] - 0s 18ms/step\n",
            "1/1 [==============================] - 0s 23ms/step\n",
            "1/1 [==============================] - 0s 18ms/step\n",
            "1/1 [==============================] - 0s 21ms/step\n",
            "1/1 [==============================] - 0s 19ms/step\n",
            "1/1 [==============================] - 0s 18ms/step\n",
            "1/1 [==============================] - 0s 18ms/step\n",
            "1/1 [==============================] - 0s 20ms/step\n",
            "1/1 [==============================] - 0s 17ms/step\n",
            "1/1 [==============================] - 0s 17ms/step\n",
            "예측 요약문 :  D e e a a ##r a ##r ##ck ##ck e a ##e a ##r a t a ##r e e e e e U U U ##N ##N\n",
            "\n",
            "\n",
            "원문 :  P A R T P OOD L E P A R T C H I H U A H U A P A R T BE A G L E P A R T S P A N I E L P A R T S H E P H E R D A N D A L L TH U M BS F R A N N Y I S F U M I NG ] S H E ] ] P A R T P OOD L E P A R T C H I H U A H U A P A R T BE A G L E P A R T S P A N I E L P A R T S H E P H E R D A N D A L L TH U M BS F R A N N Y I S F U M I NG ] S H E ] ] P A R T P OOD L E P A R T C H I H U A H U A P A R T BE A G L E P A R T S P A N I E L P A R T S H E P H E R D A N D A L L TH U M BS F R A N N Y I S F U M I NG ] S H E ] ] P A R T P OOD L E P A R T C H I H U A H U A P A R T BE A G L E P A R T S P A N I E L P A R T S H E P H E R D A N D A L L TH U M BS F R A N N Y I S F U M I NG ] S H E ] ] P A R T P OOD L E P A R T C H I H U A H U A P A R T BE A G L E P A R T S P A N I E L P A R T S H E P H E R D A N D A L L TH U M BS F R A N N Y I S F U M I NG ] S H E ] ] P A R T P OOD L E P A R T C H I H U A H U A P A R T BE A G L E P A R T S P A N I E L P A R T S H E P H E R D A N D A L L TH U M BS F R A N N Y I S F U M I NG ] S H E ] ] P A R T P OOD L E P A R T C H I H U A H U A P A R T BE A G L E P A R T S P A N I E L P A R T S H E P H E R D A N D A L L TH U M BS F R A N N Y I S F U M I NG ] S H E ] ] P A R T P OOD L E P A R T C H I H U A H U A P A R T BE A G L E P A R T S P A N I E L P A R T S H E P H E R D A N D A L L TH U M BS F R A N N Y I S F U M I NG ] S H E ] ] P A R T P OOD L E P A R T C H I H U A H U A P A R T BE A G L E P A R T S P A N I E L P A R T S H E P H E R D A N D A L L TH U M BS F R A N N Y I S F U M I NG ] S H E ] ] P A R T P OOD L E P A R T C H I H U A H U A P A R T BE A G L E P A R T S P A N I E L P A R T S H E P H E R D A N D A L L TH U M BS F R A N N Y I S F U M I NG ] S H E ] ] P A R T P OOD L E P A R T C H I H U A H U A P A R T BE A G L E P A R T S P A N I E L P A R T S H E P H E R D A N D A L L TH U M BS F R A N N Y I S F U M I NG ] S H E ] ] P A R T P OOD L E P A R T C H I H U A H U A P A R T BE A G L E P A R T S P A N I E L P A R T S H E P H E R D A N D A L L TH U M BS F R A N N Y I S F U M I NG ] S H E ] ] P A R T P OOD L E P A R T C H I H U A H U A P A R T BE A G L E P A R T S P A N I E L P A R T S H E P H E R D A N D A L L TH U M BS F R A N N Y I S F U M I NG ] S H E ] ] P A R T P OOD L E P A R T C H I H U A H U A P A R T BE A G L E P A R T S P A N I E L P A R T S H E P H E R D A N D A L L TH U M BS F R A N N Y I S F U M I NG ] S H E ] ] P A R T P OOD L E P A R T C H I H U A H U A P A R T BE A G L E P A R T S P A N I E L P A R T S H E P H E R D A N D A L L TH U M BS F R A N N Y I S F U M I NG ] S H E ] ] P A R T P OOD L E P A R T C H I H U A H U A P A R T BE A G L E P A R T S P A N I E L P A R T S H E P H E R D A N D A L L TH U M BS F R A N N Y I S F U M I NG ] S H E ] ] P A R T P OOD L E P A R T C H I H U A H U A P A R T BE A G L E P A R T S P A N I E L P A R T S H E P H E R D A N D A L L TH U M BS F R A N N Y I S F U M I NG ] S H E ] ] P A R T P OOD L E P A R T C H I H U A H U A P A R T BE A G L E P A R T S P A N I E L P A R T S H E P H E R D A N D A L L TH U M BS F R A N N Y I S F U M I NG ] S H E ] ] P A R T P OOD L E P A R T C H I H U A H U A P A R T BE A G L E P A R T S P A N I E L P A R T S H E P H E R D A N D A L L TH U M BS F R A N N Y I S F U M I NG ] S H E ] ] P A R T P OOD L E P A R T C H I H U A H U A P A R T BE A G L E P A R T S P A N I E L P A R T S H E P H E R D A N D A L L TH U M BS F R A N N Y I S F U M I NG ] S H E ] ] P A R T P OOD L E P A R T C H I H U A H U A P A R T BE A G L E P A R T S P A N I E L P A R T S H E P H E R D A N D A L L TH U M BS F R A N N Y I S F U M I NG ] S H E ] ] P A R T P OOD L E P A R T C H I H U A H U A P A R T BE A G L E P A R T S P A N I E L P A R T S H E P H E R D A N D A L L TH U M BS F R A N N Y I S F U M I NG ] S H E ] ] P A R T P OOD L E P A R T C H I H U A H U A P A R T BE A G L E P A R T S P A N I E L P A R T S H E P H E R D A N D A L L TH U M BS F R A N N Y I S F U M I NG ] S H E ] ] P A R T P OOD L E P A R T C H I H U A H U A P A R T BE A G L E P A R T S P A N I E L P A R T S H E P H E R D A N D A L L TH U M BS F R A N N Y I S F U M I NG ] S H E ] ] P A R T P OOD L E P A R T C H I H U A H U A P A R T BE A G L E P A R T S P A N I E L P A R T S H E P H E R D A N D A L L TH U M BS F R A N N Y I S F U M I NG ] S H E ] ] P A R T P OOD L E P A R T C H I H U A H U A P A R T BE A G L E P A R T S P A N I E L P A R T S H E P H E R D A N D A L L TH U M BS F R A N N Y I S F U M I NG ] S H E ] ] P A R T P OOD L E P A R T C H I H U A H U A P A R T BE A G L E P A R T S P A N I E L P A R T S H E P H E R D A N D A L L TH U M BS F R A N N Y I S F U M I NG ] S H E ] ] P A R T P OOD L E P A R T C H I H U A H U A P A R T BE A G L E P A R T S P A N I E L P A R T S H E P H E R D A N D A L L TH U M BS F R A N N Y I S F U M I NG ] S H E ] ] P A R T P OOD L E P A R T C H I H U A H U A P A R T BE A G L E P A R T S P A N I E L P A R T S H E P H E R D A N D A L L TH U M BS F R A N N Y I S F U M I NG ] S H E ] ] P A R T P OOD L E P A R T C H I H U A H U A P A R T BE A G L E P A R T S P A N I E L P A R T S H E P H E R D A N D A L L TH U M BS F R A N N Y I S F U M I NG ] S H E ] ] P A R T P OOD L E P A R T C H I H U A H U A P A R T BE A G L E P A R T S P A N I E L P A R T S H E P H E R D A N D A L L TH U M BS F R A N N Y I S F U M I NG ] S H E ] ] P A R T P OOD L E P A R T C H I H U A H U A P A R T BE A G L E P A R T S P A N I E L P A R T S H E P H E R D A N D A L L TH U M BS F R A N N Y I S F U M I NG ] S H E ] ] P A R T P OOD L E P A R T C H I H U A H U A P A R T BE A G L E P A R T S P A N I E L P A R T S H E P H E R D A N D A L L TH U M BS F R A N N Y I S F U M I NG ] S H E ] ] P A R T P OOD L E P A R T C H I H U A H U A P A R T BE A G L E P A R T S P A N I E L P A R T S H E P H E R D A N D A L L TH U M BS F R A N N Y I S F U M I NG ] S H E ] ] P A R T P OOD L E P A R T C H I H U A H U A P A R T BE A G L E P A R T S P A N I E L P A R T S H E P H E R D A N D A L L TH U M BS F R A N N Y I S F U M I NG ] S H E ] ] P A R T P OOD L E P A R T C H I H U A H U A P A R T BE A G L E P A R T S P A N I E L P A R T S H E P H E R D A N D A L L TH U M BS F R A N N Y I S F U M I NG ] S H E ] ] P A R T P OOD L E P A R T C H I H U A H U A P A R T BE A G L E P A R T S P A N I E L P A R T S H E P H E R D A N D A L L TH U M BS F R A N N Y I S F U M I NG ] S H E ] ] P A R T P OOD L E P A R T C H I H U A H U A P A R T BE A G L E P A R T S P A N I E L P A R T S H E P H E R D A N D A L L TH U M BS F R A N N Y I S F U M I NG ] S H E ] ] P A R T P OOD L E P A R T C H I H U A H U A P A R T BE A G L E P A R T S P A N I E L P A R T S H E P H E R D A N D A L L TH U M BS F R A N N Y I S F U M I NG ] S H E ] ] P A R T P OOD L E P A R T C H I H U A H U A P A R T BE A G L E P A R T S P A N I E L P A R T S H E P H E R D A N D A L L TH U M BS F R A N N Y I S F U M I NG ] S H E ] ] P A R T P OOD L E P A R T C H I H U A H U A P A R T BE A G L E P A R T S P A N I E L P A R T S H E P H E R D A N D A L L TH U M BS F R A N N Y I S F U M I NG ] S H E ] ] P A R T P OOD L E P A R T C H I H U A H U A P A R T BE A G L E P A R T S P A N I E L P A R T S H E P H E R D A N D A L L TH U M BS F R A N N Y I S F U M I NG ] S H E ] ] P A R T P OOD L E P A R T C H I H U A H U A P A R T BE A G L E P A R T S P A N I E L P A R T S H E P H E R D A N D A L L TH U M BS F R A N N Y I S F U M I NG ] S H E ] ] P A R T P OOD L E P A R T C H I H U A H U A P A R T BE A G L E P A R T S P A N I E L P A R T S H E P H E R D A N D A L L TH U M BS F R A N N Y I S F U M I NG ] S H E ] ] P A R T P OOD L E P A R T C H I H U A H U A P A R T BE A G L E P A R T S P A N I E L P A R T S H E P H E R D A N D A L L TH U M BS F R A N N Y I S F U M I NG ] S H E ] ] P A R T P OOD L E P A R T C H I H U A H U A P A R T BE A G L E P A R T S P A N I E L P A R T S H E P H E R D A N D A L L TH U M BS F R A N N Y I S F U M I NG ] S H E ] ] P A R T P OOD L E P A R T C H I H U A H U A P A R T BE A G L E P A R T S P A N I E L P A R T S H E P H E R D A N D A L L TH U M BS F R A N N Y I S F U M I NG ] S H E ] ] P A R T P OOD L E P A R T C H I H U A H U A P A R T BE A G L E P A R T S P A N I E L P A R T S H E P H E R D A N D A L L TH U M BS F R A N N Y I S F U M I NG ] S H E ] ] P A R T P OOD L E P A R T C H I H U A H U A P A R T BE A G L E P A R T S P A N I E L P A R T S H E P H E R D A N D A L L TH U M BS F R A N N Y I S F U M I NG ] S H E ] ] P A R T P OOD L E P A R T C H I H U A H U A P A R T BE A G L E P A R T S P A N I E L P A R T S H E P H E R D A N D A L L TH U M BS F R A N N Y I S F U M I NG ] S H E ] ] P A R T P OOD L E P A R T C H I H U A H U A P A R T BE A G L E P A R T S P A N I E L P A R T S H E P H E R D A N D A L L TH U M BS F R A N N Y I S F U M I NG ] S H E ] ] P A R T P OOD L E P A R T C H I H U A H U A P A R T BE A G L E P A R T S P A N I E L P A R T S H E P H E R D A N D A L L TH U M BS F R A N N Y I S F U M I NG ] S H E ] ] P A R T P OOD L E P A R T C H I H U A H U A P A R T BE A G L E P A R T S P A N I E L P A R T S H E P H E R D A N D A L L TH U M BS F R A N N Y I S F U M I NG ] S H E ] ] P A R T P OOD L E P A R T C H I H U A H U A P A R T BE A G L E P A R T S P A N I E L P A R T S H E P H E R D A N D A L L TH U M BS F R A N N Y I S F U M I NG ] S H E ] ] P A R T P OOD L E P A R T C H I H U A H U A P A R T BE A G L E P A R T S P A N I E L P A R T S H E P H E R D A N D A L L TH U M BS F R A N N Y I S F U M I NG ] S H E ] ] P A R T P OOD L E P A R T C H I H U A H U A P A R T BE A G L E P A R T S P A N I E L P A R T S H E P H E R D A N D A L L TH U M BS F R A N N Y I S F U M I NG ] S H E ] ] P A R T P OOD L E P A R T C H I H U A H U A P A R T BE A G L E P A R T S P A N I E L P A R T S H E P H E R D A N D A L L TH U M BS F R A N N Y I S F U M I NG ] S H E ] ] P A R T P OOD L E P A R T C H I H U A H U A P A R T BE A G L E P A R T S P A N I E L P A R T S H E P H E R D A N D A L L TH U M BS F R A N N Y I S F U M I NG ] S H E ] ] P A R T P OOD L E P A R T C H I H U A H U A P A R T BE A G L E P A R T S P A N I E L P A R T S H E P H E R D A N D A L L TH U M BS F R A N N Y I S F U M I NG ] S H E ] ] P A R T P OOD L E P A R T C H I H U A H U A P A R T BE A G L E P A R T S P A N I E L P A R T S H E P H E R D A N D A L L TH U M BS F R A N N Y I S F U M I NG ] S H E ] ] P A R T P OOD L E P A R T C H I H U A H U A P A R T BE A G L E P A R T S P A N I E L P A R T S H E P H E R D A N D A L L TH U M BS F R A N N Y I S F U M I NG ] S H E ] ] P A R T P OOD L E P A R T C H I H U A H U A P A R T BE A G L E P A R T S P A N I E L P A R T S H E P H E R D A N D A L L TH U M BS F R A N N Y I S F U M I NG ] S H E ] ] P A R T P OOD L E P A R T C H I H U A H U A P A R T BE A G L E P A R T S P A N I E L P A R T S H E P H E R D A N D A L L TH U M BS F R A N N Y I S F U M I NG ] S H E ] ] P A R T P OOD L E P A R T C H I H U A H U A P A R T BE A G L E P A R T S P A N I E L P A R T S H E P H E R D A N D A L L TH U M BS F R A N N Y I S F U M I NG ] S H E ] ] P A R T P OOD L E P A R T C H I H U A H U A P A R T BE A G L E P A R T S P A N I E L P A R T S H E P H E R D A N D A L L TH U M BS F R A N N Y I S F U M I NG ] S H E ] ] P A R T P OOD L E P A R T C H I H U A H U A P A R T BE A G L E P A R T S P A N I E L P A R T S H E P H E R D A N D A L L TH U M BS F R A N N Y I S F U M I NG ] S H E ] ] P A R T P OOD L E P A R T C H I H U A H U A P A R T BE A G L E P A R T S P A N I E L P A R T S H E P H E R D A N D A L L TH U M BS F R A N N Y I S F U M I NG ] S H E ] ] P A R T P OOD L E P A R T C H I H U A H U A P A R T BE A G L E P A R T S P A N I E L P A R T S H E P H E R D A N D A L L TH U M BS F R A N N Y I S F U M I NG ] S H E ] ] P A R T P OOD L E P A R T C H I H U A H U A P A R T BE A G L E P A R T S P A N I E L P A R T S H E P H E R D A N D A L L TH U M BS F R A N N Y I S F U M I NG ] S H E ] ] P A R T P OOD L E P A R T C H I H U A H U A P A R T BE A G L E P A R T S P A N I E L P A R T S H E P H E R D A N D A L L TH U M BS F R A N N Y I S F U M I NG ] S H E ] ] P A R T P OOD L E P A R T C H I H U A H U A P A R T BE A G L E P A R T S P A N I E L P A R T S H E P H E R D A N D A L L TH U M BS F R A N N Y I S F U M I NG ] S H E ] ] P A R T P OOD L E P A R T C H I H U A H U A P A R T BE A G L E P A R T S P A N I E L P A R T S H E P H E R D A N D A L L TH U M BS F R A N N Y I S F U M I NG ] S H E ] ] P A R T P OOD L E P A R T C H I H U A H U A P A R T BE A G L E P A R T S P A N I E L P A R T S H E P H E R D A N D A L L TH U M BS F R A N N Y I S F U M I NG ] S H E ] ] P A R T P OOD L E P A R T C H I H U A H U A P A R T BE A G L E P A R T S P A N I E L P A R T S H E P H E R D A N D A L L TH U M BS F R A N N Y I S F U M I NG ] S H E ] ] P A R T P OOD L E P A R T C H I H U A H U A P A R T BE A G L E P A R T S P A N I E L P A R T S H E P H E R D A N D A L L TH U M BS F R A N N Y I S F U M I NG ] S H E ] ] P A R T P OOD L E P A R T C H I H U A H U A P A R T BE A G L E P A R T S P A N I E L P A R T S H E P H E R D A N D A L L TH U M BS F R A N N Y I S F U M I NG ] S H E ] ] P A R T P OOD L E P A R T C H I H U A H U A P A R T BE A G L E P A R T S P A N I E L P A R T S H E P H E R D A N D A L L TH U M BS F R A N N Y I S F U M I NG ] S H E ] ] P A R T P OOD L E P A R T C H I H U A H U A P A R T BE A G L E P A R T S P A N I E L P A R T S H E P H E R D A N D A L L TH U M BS F R A N N Y I S F U M I NG ] S H E ] ] P A R T P OOD L E P A R T C H I H U A H U A P A R T BE A G L E P A R T S P A N I E L P A R T S H E P H E R D A N D A L L TH U M BS F R A N N Y I S F U M I NG ] S H E ] ] P A R T P OOD L E P A R T C H I H U A H U A P A R T BE A G L E P A R T S P A N I E L P A R T S H E P H E R D A N D A L L TH U M BS F R A N N Y I S F U M I NG ] S H E ] ] P A R T P OOD L E P A R T C H I H U A H U A P A R T BE A G L E P A R T S P A N I E L P A R T S H E P H E R D A N D A L L TH U M BS F R A N N Y I S F U M I NG ] S H E ] ] P A R T P OOD L E P A R T C H I H U A H U A P A R T BE A G L E P A R T S P A N I E L P A R T S H E P H E R D A N D A L L TH U M BS F R A N N Y I S F U M I NG ] S H E ] ] P A R T P OOD L E P A R T C H I H U A H U A P A R T BE A G L E P A R T S P A N I E L P A R T S H E P H E R D A N D A L L TH U M BS F R A N N Y I S F U M I NG ] S H E ] ] P A R T P OOD L E P A R T C H I H U A H U A P A R T BE A G L E P A R T S P A N I E L P A R T S H E P H E R D A N D A L L TH U M BS F R A N N Y I S F U M I NG ] S H E ] ] \n",
            "실제 요약문 : PAD A tt ack of the f t C up id ] ] PAD A tt ack of the f t C up id ] ] PAD A tt ack of the f t C up id ] ] PAD A tt ack of the f t C up id ] ] PAD A tt ack of the f t C up id ] ] PAD A tt ack of the f t C up id ] ] PAD A tt ack of the f t C up id ] ] PAD A tt ack of the f t C up id ] ] PAD A tt ack of the f t C up id ] ] PAD A tt ack of the f t C up id ] ] PAD A tt ack of the f t C up id ] ] PAD A tt ack of the f t C up id ] ] PAD A tt ack of the f t C up id ] ] PAD A tt ack of the f t C up id ] ] PAD A tt ack of the f t C up id ] ] PAD A tt ack of the f t C up id ] ] PAD A tt ack of the f t C up id ] ] PAD A tt ack of the f t C up id ] ] \n",
            "1/1 [==============================] - 0s 22ms/step\n",
            "1/1 [==============================] - 0s 19ms/step\n",
            "1/1 [==============================] - 0s 19ms/step\n",
            "1/1 [==============================] - 0s 18ms/step\n",
            "1/1 [==============================] - 0s 18ms/step\n",
            "1/1 [==============================] - 0s 17ms/step\n",
            "1/1 [==============================] - 0s 17ms/step\n",
            "1/1 [==============================] - 0s 17ms/step\n",
            "1/1 [==============================] - 0s 22ms/step\n",
            "1/1 [==============================] - 0s 16ms/step\n",
            "1/1 [==============================] - 0s 16ms/step\n",
            "1/1 [==============================] - 0s 19ms/step\n",
            "1/1 [==============================] - 0s 18ms/step\n",
            "1/1 [==============================] - 0s 17ms/step\n",
            "1/1 [==============================] - 0s 18ms/step\n",
            "1/1 [==============================] - 0s 23ms/step\n",
            "1/1 [==============================] - 0s 18ms/step\n",
            "1/1 [==============================] - 0s 18ms/step\n",
            "1/1 [==============================] - 0s 18ms/step\n",
            "1/1 [==============================] - 0s 19ms/step\n",
            "1/1 [==============================] - 0s 19ms/step\n",
            "1/1 [==============================] - 0s 25ms/step\n",
            "1/1 [==============================] - 0s 18ms/step\n",
            "1/1 [==============================] - 0s 18ms/step\n",
            "1/1 [==============================] - 0s 21ms/step\n",
            "1/1 [==============================] - 0s 16ms/step\n",
            "1/1 [==============================] - 0s 16ms/step\n",
            "1/1 [==============================] - 0s 20ms/step\n",
            "1/1 [==============================] - 0s 19ms/step\n",
            "1/1 [==============================] - 0s 19ms/step\n",
            "예측 요약문 :  D e e a a ##r a ##r ##ck ##ck e a ##e a ##r a t a ##r e e e e e U U U ##N ##N\n",
            "\n",
            "\n",
            "원문 :  y ] 인 문 사회 학 습 만화 시리즈 권 ] 자의 기원 탄생 자의 생 성 원 리와 부 수의 활용 등을 담 았다 ] 수많은 자의 기초 되는 기본 자와 자 쓰는 법 비슷 하거나 헷갈 리기 쉬운 자 다양한 자와 활용 법을 알려 준다 ] 더불어 자를 연결 하여 의미를 만드는 법 흥미로운 이야기가 담긴 고사 성 어 천 자 문에 얽 힌 이야기와 의미 대해서도 자세히 소개 하고 있다 ] ] y ] 인 문 사회 학 습 만화 시리즈 권 ] 자의 기원 탄생 자의 생 성 원 리와 부 수의 활용 등을 담 았다 ] 수많은 자의 기초 되는 기본 자와 자 쓰는 법 비슷 하거나 헷갈 리기 쉬운 자 다양한 자와 활용 법을 알려 준다 ] 더불어 자를 연결 하여 의미를 만드는 법 흥미로운 이야기가 담긴 고사 성 어 천 자 문에 얽 힌 이야기와 의미 대해서도 자세히 소개 하고 있다 ] ] y ] 인 문 사회 학 습 만화 시리즈 권 ] 자의 기원 탄생 자의 생 성 원 리와 부 수의 활용 등을 담 았다 ] 수많은 자의 기초 되는 기본 자와 자 쓰는 법 비슷 하거나 헷갈 리기 쉬운 자 다양한 자와 활용 법을 알려 준다 ] 더불어 자를 연결 하여 의미를 만드는 법 흥미로운 이야기가 담긴 고사 성 어 천 자 문에 얽 힌 이야기와 의미 대해서도 자세히 소개 하고 있다 ] ] y ] 인 문 사회 학 습 만화 시리즈 권 ] 자의 기원 탄생 자의 생 성 원 리와 부 수의 활용 등을 담 았다 ] 수많은 자의 기초 되는 기본 자와 자 쓰는 법 비슷 하거나 헷갈 리기 쉬운 자 다양한 자와 활용 법을 알려 준다 ] 더불어 자를 연결 하여 의미를 만드는 법 흥미로운 이야기가 담긴 고사 성 어 천 자 문에 얽 힌 이야기와 의미 대해서도 자세히 소개 하고 있다 ] ] y ] 인 문 사회 학 습 만화 시리즈 권 ] 자의 기원 탄생 자의 생 성 원 리와 부 수의 활용 등을 담 았다 ] 수많은 자의 기초 되는 기본 자와 자 쓰는 법 비슷 하거나 헷갈 리기 쉬운 자 다양한 자와 활용 법을 알려 준다 ] 더불어 자를 연결 하여 의미를 만드는 법 흥미로운 이야기가 담긴 고사 성 어 천 자 문에 얽 힌 이야기와 의미 대해서도 자세히 소개 하고 있다 ] ] y ] 인 문 사회 학 습 만화 시리즈 권 ] 자의 기원 탄생 자의 생 성 원 리와 부 수의 활용 등을 담 았다 ] 수많은 자의 기초 되는 기본 자와 자 쓰는 법 비슷 하거나 헷갈 리기 쉬운 자 다양한 자와 활용 법을 알려 준다 ] 더불어 자를 연결 하여 의미를 만드는 법 흥미로운 이야기가 담긴 고사 성 어 천 자 문에 얽 힌 이야기와 의미 대해서도 자세히 소개 하고 있다 ] ] y ] 인 문 사회 학 습 만화 시리즈 권 ] 자의 기원 탄생 자의 생 성 원 리와 부 수의 활용 등을 담 았다 ] 수많은 자의 기초 되는 기본 자와 자 쓰는 법 비슷 하거나 헷갈 리기 쉬운 자 다양한 자와 활용 법을 알려 준다 ] 더불어 자를 연결 하여 의미를 만드는 법 흥미로운 이야기가 담긴 고사 성 어 천 자 문에 얽 힌 이야기와 의미 대해서도 자세히 소개 하고 있다 ] ] y ] 인 문 사회 학 습 만화 시리즈 권 ] 자의 기원 탄생 자의 생 성 원 리와 부 수의 활용 등을 담 았다 ] 수많은 자의 기초 되는 기본 자와 자 쓰는 법 비슷 하거나 헷갈 리기 쉬운 자 다양한 자와 활용 법을 알려 준다 ] 더불어 자를 연결 하여 의미를 만드는 법 흥미로운 이야기가 담긴 고사 성 어 천 자 문에 얽 힌 이야기와 의미 대해서도 자세히 소개 하고 있다 ] ] y ] 인 문 사회 학 습 만화 시리즈 권 ] 자의 기원 탄생 자의 생 성 원 리와 부 수의 활용 등을 담 았다 ] 수많은 자의 기초 되는 기본 자와 자 쓰는 법 비슷 하거나 헷갈 리기 쉬운 자 다양한 자와 활용 법을 알려 준다 ] 더불어 자를 연결 하여 의미를 만드는 법 흥미로운 이야기가 담긴 고사 성 어 천 자 문에 얽 힌 이야기와 의미 대해서도 자세히 소개 하고 있다 ] ] y ] 인 문 사회 학 습 만화 시리즈 권 ] 자의 기원 탄생 자의 생 성 원 리와 부 수의 활용 등을 담 았다 ] 수많은 자의 기초 되는 기본 자와 자 쓰는 법 비슷 하거나 헷갈 리기 쉬운 자 다양한 자와 활용 법을 알려 준다 ] 더불어 자를 연결 하여 의미를 만드는 법 흥미로운 이야기가 담긴 고사 성 어 천 자 문에 얽 힌 이야기와 의미 대해서도 자세히 소개 하고 있다 ] ] y ] 인 문 사회 학 습 만화 시리즈 권 ] 자의 기원 탄생 자의 생 성 원 리와 부 수의 활용 등을 담 았다 ] 수많은 자의 기초 되는 기본 자와 자 쓰는 법 비슷 하거나 헷갈 리기 쉬운 자 다양한 자와 활용 법을 알려 준다 ] 더불어 자를 연결 하여 의미를 만드는 법 흥미로운 이야기가 담긴 고사 성 어 천 자 문에 얽 힌 이야기와 의미 대해서도 자세히 소개 하고 있다 ] ] y ] 인 문 사회 학 습 만화 시리즈 권 ] 자의 기원 탄생 자의 생 성 원 리와 부 수의 활용 등을 담 았다 ] 수많은 자의 기초 되는 기본 자와 자 쓰는 법 비슷 하거나 헷갈 리기 쉬운 자 다양한 자와 활용 법을 알려 준다 ] 더불어 자를 연결 하여 의미를 만드는 법 흥미로운 이야기가 담긴 고사 성 어 천 자 문에 얽 힌 이야기와 의미 대해서도 자세히 소개 하고 있다 ] ] y ] 인 문 사회 학 습 만화 시리즈 권 ] 자의 기원 탄생 자의 생 성 원 리와 부 수의 활용 등을 담 았다 ] 수많은 자의 기초 되는 기본 자와 자 쓰는 법 비슷 하거나 헷갈 리기 쉬운 자 다양한 자와 활용 법을 알려 준다 ] 더불어 자를 연결 하여 의미를 만드는 법 흥미로운 이야기가 담긴 고사 성 어 천 자 문에 얽 힌 이야기와 의미 대해서도 자세히 소개 하고 있다 ] ] y ] 인 문 사회 학 습 만화 시리즈 권 ] 자의 기원 탄생 자의 생 성 원 리와 부 수의 활용 등을 담 았다 ] 수많은 자의 기초 되는 기본 자와 자 쓰는 법 비슷 하거나 헷갈 리기 쉬운 자 다양한 자와 활용 법을 알려 준다 ] 더불어 자를 연결 하여 의미를 만드는 법 흥미로운 이야기가 담긴 고사 성 어 천 자 문에 얽 힌 이야기와 의미 대해서도 자세히 소개 하고 있다 ] ] y ] 인 문 사회 학 습 만화 시리즈 권 ] 자의 기원 탄생 자의 생 성 원 리와 부 수의 활용 등을 담 았다 ] 수많은 자의 기초 되는 기본 자와 자 쓰는 법 비슷 하거나 헷갈 리기 쉬운 자 다양한 자와 활용 법을 알려 준다 ] 더불어 자를 연결 하여 의미를 만드는 법 흥미로운 이야기가 담긴 고사 성 어 천 자 문에 얽 힌 이야기와 의미 대해서도 자세히 소개 하고 있다 ] ] y ] 인 문 사회 학 습 만화 시리즈 권 ] 자의 기원 탄생 자의 생 성 원 리와 부 수의 활용 등을 담 았다 ] 수많은 자의 기초 되는 기본 자와 자 쓰는 법 비슷 하거나 헷갈 리기 쉬운 자 다양한 자와 활용 법을 알려 준다 ] 더불어 자를 연결 하여 의미를 만드는 법 흥미로운 이야기가 담긴 고사 성 어 천 자 문에 얽 힌 이야기와 의미 대해서도 자세히 소개 하고 있다 ] ] y ] 인 문 사회 학 습 만화 시리즈 권 ] 자의 기원 탄생 자의 생 성 원 리와 부 수의 활용 등을 담 았다 ] 수많은 자의 기초 되는 기본 자와 자 쓰는 법 비슷 하거나 헷갈 리기 쉬운 자 다양한 자와 활용 법을 알려 준다 ] 더불어 자를 연결 하여 의미를 만드는 법 흥미로운 이야기가 담긴 고사 성 어 천 자 문에 얽 힌 이야기와 의미 대해서도 자세히 소개 하고 있다 ] ] y ] 인 문 사회 학 습 만화 시리즈 권 ] 자의 기원 탄생 자의 생 성 원 리와 부 수의 활용 등을 담 았다 ] 수많은 자의 기초 되는 기본 자와 자 쓰는 법 비슷 하거나 헷갈 리기 쉬운 자 다양한 자와 활용 법을 알려 준다 ] 더불어 자를 연결 하여 의미를 만드는 법 흥미로운 이야기가 담긴 고사 성 어 천 자 문에 얽 힌 이야기와 의미 대해서도 자세히 소개 하고 있다 ] ] y ] 인 문 사회 학 습 만화 시리즈 권 ] 자의 기원 탄생 자의 생 성 원 리와 부 수의 활용 등을 담 았다 ] 수많은 자의 기초 되는 기본 자와 자 쓰는 법 비슷 하거나 헷갈 리기 쉬운 자 다양한 자와 활용 법을 알려 준다 ] 더불어 자를 연결 하여 의미를 만드는 법 흥미로운 이야기가 담긴 고사 성 어 천 자 문에 얽 힌 이야기와 의미 대해서도 자세히 소개 하고 있다 ] ] y ] 인 문 사회 학 습 만화 시리즈 권 ] 자의 기원 탄생 자의 생 성 원 리와 부 수의 활용 등을 담 았다 ] 수많은 자의 기초 되는 기본 자와 자 쓰는 법 비슷 하거나 헷갈 리기 쉬운 자 다양한 자와 활용 법을 알려 준다 ] 더불어 자를 연결 하여 의미를 만드는 법 흥미로운 이야기가 담긴 고사 성 어 천 자 문에 얽 힌 이야기와 의미 대해서도 자세히 소개 하고 있다 ] ] y ] 인 문 사회 학 습 만화 시리즈 권 ] 자의 기원 탄생 자의 생 성 원 리와 부 수의 활용 등을 담 았다 ] 수많은 자의 기초 되는 기본 자와 자 쓰는 법 비슷 하거나 헷갈 리기 쉬운 자 다양한 자와 활용 법을 알려 준다 ] 더불어 자를 연결 하여 의미를 만드는 법 흥미로운 이야기가 담긴 고사 성 어 천 자 문에 얽 힌 이야기와 의미 대해서도 자세히 소개 하고 있다 ] ] y ] 인 문 사회 학 습 만화 시리즈 권 ] 자의 기원 탄생 자의 생 성 원 리와 부 수의 활용 등을 담 았다 ] 수많은 자의 기초 되는 기본 자와 자 쓰는 법 비슷 하거나 헷갈 리기 쉬운 자 다양한 자와 활용 법을 알려 준다 ] 더불어 자를 연결 하여 의미를 만드는 법 흥미로운 이야기가 담긴 고사 성 어 천 자 문에 얽 힌 이야기와 의미 대해서도 자세히 소개 하고 있다 ] ] y ] 인 문 사회 학 습 만화 시리즈 권 ] 자의 기원 탄생 자의 생 성 원 리와 부 수의 활용 등을 담 았다 ] 수많은 자의 기초 되는 기본 자와 자 쓰는 법 비슷 하거나 헷갈 리기 쉬운 자 다양한 자와 활용 법을 알려 준다 ] 더불어 자를 연결 하여 의미를 만드는 법 흥미로운 이야기가 담긴 고사 성 어 천 자 문에 얽 힌 이야기와 의미 대해서도 자세히 소개 하고 있다 ] ] y ] 인 문 사회 학 습 만화 시리즈 권 ] 자의 기원 탄생 자의 생 성 원 리와 부 수의 활용 등을 담 았다 ] 수많은 자의 기초 되는 기본 자와 자 쓰는 법 비슷 하거나 헷갈 리기 쉬운 자 다양한 자와 활용 법을 알려 준다 ] 더불어 자를 연결 하여 의미를 만드는 법 흥미로운 이야기가 담긴 고사 성 어 천 자 문에 얽 힌 이야기와 의미 대해서도 자세히 소개 하고 있다 ] ] y ] 인 문 사회 학 습 만화 시리즈 권 ] 자의 기원 탄생 자의 생 성 원 리와 부 수의 활용 등을 담 았다 ] 수많은 자의 기초 되는 기본 자와 자 쓰는 법 비슷 하거나 헷갈 리기 쉬운 자 다양한 자와 활용 법을 알려 준다 ] 더불어 자를 연결 하여 의미를 만드는 법 흥미로운 이야기가 담긴 고사 성 어 천 자 문에 얽 힌 이야기와 의미 대해서도 자세히 소개 하고 있다 ] ] y ] 인 문 사회 학 습 만화 시리즈 권 ] 자의 기원 탄생 자의 생 성 원 리와 부 수의 활용 등을 담 았다 ] 수많은 자의 기초 되는 기본 자와 자 쓰는 법 비슷 하거나 헷갈 리기 쉬운 자 다양한 자와 활용 법을 알려 준다 ] 더불어 자를 연결 하여 의미를 만드는 법 흥미로운 이야기가 담긴 고사 성 어 천 자 문에 얽 힌 이야기와 의미 대해서도 자세히 소개 하고 있다 ] ] y ] 인 문 사회 학 습 만화 시리즈 권 ] 자의 기원 탄생 자의 생 성 원 리와 부 수의 활용 등을 담 았다 ] 수많은 자의 기초 되는 기본 자와 자 쓰는 법 비슷 하거나 헷갈 리기 쉬운 자 다양한 자와 활용 법을 알려 준다 ] 더불어 자를 연결 하여 의미를 만드는 법 흥미로운 이야기가 담긴 고사 성 어 천 자 문에 얽 힌 이야기와 의미 대해서도 자세히 소개 하고 있다 ] ] y ] 인 문 사회 학 습 만화 시리즈 권 ] 자의 기원 탄생 자의 생 성 원 리와 부 수의 활용 등을 담 았다 ] 수많은 자의 기초 되는 기본 자와 자 쓰는 법 비슷 하거나 헷갈 리기 쉬운 자 다양한 자와 활용 법을 알려 준다 ] 더불어 자를 연결 하여 의미를 만드는 법 흥미로운 이야기가 담긴 고사 성 어 천 자 문에 얽 힌 이야기와 의미 대해서도 자세히 소개 하고 있다 ] ] y ] 인 문 사회 학 습 만화 시리즈 권 ] 자의 기원 탄생 자의 생 성 원 리와 부 수의 활용 등을 담 았다 ] 수많은 자의 기초 되는 기본 자와 자 쓰는 법 비슷 하거나 헷갈 리기 쉬운 자 다양한 자와 활용 법을 알려 준다 ] 더불어 자를 연결 하여 의미를 만드는 법 흥미로운 이야기가 담긴 고사 성 어 천 자 문에 얽 힌 이야기와 의미 대해서도 자세히 소개 하고 있다 ] ] y ] 인 문 사회 학 습 만화 시리즈 권 ] 자의 기원 탄생 자의 생 성 원 리와 부 수의 활용 등을 담 았다 ] 수많은 자의 기초 되는 기본 자와 자 쓰는 법 비슷 하거나 헷갈 리기 쉬운 자 다양한 자와 활용 법을 알려 준다 ] 더불어 자를 연결 하여 의미를 만드는 법 흥미로운 이야기가 담긴 고사 성 어 천 자 문에 얽 힌 이야기와 의미 대해서도 자세히 소개 하고 있다 ] ] y ] 인 문 사회 학 습 만화 시리즈 권 ] 자의 기원 탄생 자의 생 성 원 리와 부 수의 활용 등을 담 았다 ] 수많은 자의 기초 되는 기본 자와 자 쓰는 법 비슷 하거나 헷갈 리기 쉬운 자 다양한 자와 활용 법을 알려 준다 ] 더불어 자를 연결 하여 의미를 만드는 법 흥미로운 이야기가 담긴 고사 성 어 천 자 문에 얽 힌 이야기와 의미 대해서도 자세히 소개 하고 있다 ] ] y ] 인 문 사회 학 습 만화 시리즈 권 ] 자의 기원 탄생 자의 생 성 원 리와 부 수의 활용 등을 담 았다 ] 수많은 자의 기초 되는 기본 자와 자 쓰는 법 비슷 하거나 헷갈 리기 쉬운 자 다양한 자와 활용 법을 알려 준다 ] 더불어 자를 연결 하여 의미를 만드는 법 흥미로운 이야기가 담긴 고사 성 어 천 자 문에 얽 힌 이야기와 의미 대해서도 자세히 소개 하고 있다 ] ] y ] 인 문 사회 학 습 만화 시리즈 권 ] 자의 기원 탄생 자의 생 성 원 리와 부 수의 활용 등을 담 았다 ] 수많은 자의 기초 되는 기본 자와 자 쓰는 법 비슷 하거나 헷갈 리기 쉬운 자 다양한 자와 활용 법을 알려 준다 ] 더불어 자를 연결 하여 의미를 만드는 법 흥미로운 이야기가 담긴 고사 성 어 천 자 문에 얽 힌 이야기와 의미 대해서도 자세히 소개 하고 있다 ] ] y ] 인 문 사회 학 습 만화 시리즈 권 ] 자의 기원 탄생 자의 생 성 원 리와 부 수의 활용 등을 담 았다 ] 수많은 자의 기초 되는 기본 자와 자 쓰는 법 비슷 하거나 헷갈 리기 쉬운 자 다양한 자와 활용 법을 알려 준다 ] 더불어 자를 연결 하여 의미를 만드는 법 흥미로운 이야기가 담긴 고사 성 어 천 자 문에 얽 힌 이야기와 의미 대해서도 자세히 소개 하고 있다 ] ] y ] 인 문 사회 학 습 만화 시리즈 권 ] 자의 기원 탄생 자의 생 성 원 리와 부 수의 활용 등을 담 았다 ] 수많은 자의 기초 되는 기본 자와 자 쓰는 법 비슷 하거나 헷갈 리기 쉬운 자 다양한 자와 활용 법을 알려 준다 ] 더불어 자를 연결 하여 의미를 만드는 법 흥미로운 이야기가 담긴 고사 성 어 천 자 문에 얽 힌 이야기와 의미 대해서도 자세히 소개 하고 있다 ] ] y ] 인 문 사회 학 습 만화 시리즈 권 ] 자의 기원 탄생 자의 생 성 원 리와 부 수의 활용 등을 담 았다 ] 수많은 자의 기초 되는 기본 자와 자 쓰는 법 비슷 하거나 헷갈 리기 쉬운 자 다양한 자와 활용 법을 알려 준다 ] 더불어 자를 연결 하여 의미를 만드는 법 흥미로운 이야기가 담긴 고사 성 어 천 자 문에 얽 힌 이야기와 의미 대해서도 자세히 소개 하고 있다 ] ] y ] 인 문 사회 학 습 만화 시리즈 권 ] 자의 기원 탄생 자의 생 성 원 리와 부 수의 활용 등을 담 았다 ] 수많은 자의 기초 되는 기본 자와 자 쓰는 법 비슷 하거나 헷갈 리기 쉬운 자 다양한 자와 활용 법을 알려 준다 ] 더불어 자를 연결 하여 의미를 만드는 법 흥미로운 이야기가 담긴 고사 성 어 천 자 문에 얽 힌 이야기와 의미 대해서도 자세히 소개 하고 있다 ] ] y ] 인 문 사회 학 습 만화 시리즈 권 ] 자의 기원 탄생 자의 생 성 원 리와 부 수의 활용 등을 담 았다 ] 수많은 자의 기초 되는 기본 자와 자 쓰는 법 비슷 하거나 헷갈 리기 쉬운 자 다양한 자와 활용 법을 알려 준다 ] 더불어 자를 연결 하여 의미를 만드는 법 흥미로운 이야기가 담긴 고사 성 어 천 자 문에 얽 힌 이야기와 의미 대해서도 자세히 소개 하고 있다 ] ] y ] 인 문 사회 학 습 만화 시리즈 권 ] 자의 기원 탄생 자의 생 성 원 리와 부 수의 활용 등을 담 았다 ] 수많은 자의 기초 되는 기본 자와 자 쓰는 법 비슷 하거나 헷갈 리기 쉬운 자 다양한 자와 활용 법을 알려 준다 ] 더불어 자를 연결 하여 의미를 만드는 법 흥미로운 이야기가 담긴 고사 성 어 천 자 문에 얽 힌 이야기와 의미 대해서도 자세히 소개 하고 있다 ] ] y ] 인 문 사회 학 습 만화 시리즈 권 ] 자의 기원 탄생 자의 생 성 원 리와 부 수의 활용 등을 담 았다 ] 수많은 자의 기초 되는 기본 자와 자 쓰는 법 비슷 하거나 헷갈 리기 쉬운 자 다양한 자와 활용 법을 알려 준다 ] 더불어 자를 연결 하여 의미를 만드는 법 흥미로운 이야기가 담긴 고사 성 어 천 자 문에 얽 힌 이야기와 의미 대해서도 자세히 소개 하고 있다 ] ] y ] 인 문 사회 학 습 만화 시리즈 권 ] 자의 기원 탄생 자의 생 성 원 리와 부 수의 활용 등을 담 았다 ] 수많은 자의 기초 되는 기본 자와 자 쓰는 법 비슷 하거나 헷갈 리기 쉬운 자 다양한 자와 활용 법을 알려 준다 ] 더불어 자를 연결 하여 의미를 만드는 법 흥미로운 이야기가 담긴 고사 성 어 천 자 문에 얽 힌 이야기와 의미 대해서도 자세히 소개 하고 있다 ] ] y ] 인 문 사회 학 습 만화 시리즈 권 ] 자의 기원 탄생 자의 생 성 원 리와 부 수의 활용 등을 담 았다 ] 수많은 자의 기초 되는 기본 자와 자 쓰는 법 비슷 하거나 헷갈 리기 쉬운 자 다양한 자와 활용 법을 알려 준다 ] 더불어 자를 연결 하여 의미를 만드는 법 흥미로운 이야기가 담긴 고사 성 어 천 자 문에 얽 힌 이야기와 의미 대해서도 자세히 소개 하고 있다 ] ] y ] 인 문 사회 학 습 만화 시리즈 권 ] 자의 기원 탄생 자의 생 성 원 리와 부 수의 활용 등을 담 았다 ] 수많은 자의 기초 되는 기본 자와 자 쓰는 법 비슷 하거나 헷갈 리기 쉬운 자 다양한 자와 활용 법을 알려 준다 ] 더불어 자를 연결 하여 의미를 만드는 법 흥미로운 이야기가 담긴 고사 성 어 천 자 문에 얽 힌 이야기와 의미 대해서도 자세히 소개 하고 있다 ] ] y ] 인 문 사회 학 습 만화 시리즈 권 ] 자의 기원 탄생 자의 생 성 원 리와 부 수의 활용 등을 담 았다 ] 수많은 자의 기초 되는 기본 자와 자 쓰는 법 비슷 하거나 헷갈 리기 쉬운 자 다양한 자와 활용 법을 알려 준다 ] 더불어 자를 연결 하여 의미를 만드는 법 흥미로운 이야기가 담긴 고사 성 어 천 자 문에 얽 힌 이야기와 의미 대해서도 자세히 소개 하고 있다 ] ] y ] 인 문 사회 학 습 만화 시리즈 권 ] 자의 기원 탄생 자의 생 성 원 리와 부 수의 활용 등을 담 았다 ] 수많은 자의 기초 되는 기본 자와 자 쓰는 법 비슷 하거나 헷갈 리기 쉬운 자 다양한 자와 활용 법을 알려 준다 ] 더불어 자를 연결 하여 의미를 만드는 법 흥미로운 이야기가 담긴 고사 성 어 천 자 문에 얽 힌 이야기와 의미 대해서도 자세히 소개 하고 있다 ] ] y ] 인 문 사회 학 습 만화 시리즈 권 ] 자의 기원 탄생 자의 생 성 원 리와 부 수의 활용 등을 담 았다 ] 수많은 자의 기초 되는 기본 자와 자 쓰는 법 비슷 하거나 헷갈 리기 쉬운 자 다양한 자와 활용 법을 알려 준다 ] 더불어 자를 연결 하여 의미를 만드는 법 흥미로운 이야기가 담긴 고사 성 어 천 자 문에 얽 힌 이야기와 의미 대해서도 자세히 소개 하고 있다 ] ] y ] 인 문 사회 학 습 만화 시리즈 권 ] 자의 기원 탄생 자의 생 성 원 리와 부 수의 활용 등을 담 았다 ] 수많은 자의 기초 되는 기본 자와 자 쓰는 법 비슷 하거나 헷갈 리기 쉬운 자 다양한 자와 활용 법을 알려 준다 ] 더불어 자를 연결 하여 의미를 만드는 법 흥미로운 이야기가 담긴 고사 성 어 천 자 문에 얽 힌 이야기와 의미 대해서도 자세히 소개 하고 있다 ] ] y ] 인 문 사회 학 습 만화 시리즈 권 ] 자의 기원 탄생 자의 생 성 원 리와 부 수의 활용 등을 담 았다 ] 수많은 자의 기초 되는 기본 자와 자 쓰는 법 비슷 하거나 헷갈 리기 쉬운 자 다양한 자와 활용 법을 알려 준다 ] 더불어 자를 연결 하여 의미를 만드는 법 흥미로운 이야기가 담긴 고사 성 어 천 자 문에 얽 힌 이야기와 의미 대해서도 자세히 소개 하고 있다 ] ] y ] 인 문 사회 학 습 만화 시리즈 권 ] 자의 기원 탄생 자의 생 성 원 리와 부 수의 활용 등을 담 았다 ] 수많은 자의 기초 되는 기본 자와 자 쓰는 법 비슷 하거나 헷갈 리기 쉬운 자 다양한 자와 활용 법을 알려 준다 ] 더불어 자를 연결 하여 의미를 만드는 법 흥미로운 이야기가 담긴 고사 성 어 천 자 문에 얽 힌 이야기와 의미 대해서도 자세히 소개 하고 있다 ] ] y ] 인 문 사회 학 습 만화 시리즈 권 ] 자의 기원 탄생 자의 생 성 원 리와 부 수의 활용 등을 담 았다 ] 수많은 자의 기초 되는 기본 자와 자 쓰는 법 비슷 하거나 헷갈 리기 쉬운 자 다양한 자와 활용 법을 알려 준다 ] 더불어 자를 연결 하여 의미를 만드는 법 흥미로운 이야기가 담긴 고사 성 어 천 자 문에 얽 힌 이야기와 의미 대해서도 자세히 소개 하고 있다 ] ] y ] 인 문 사회 학 습 만화 시리즈 권 ] 자의 기원 탄생 자의 생 성 원 리와 부 수의 활용 등을 담 았다 ] 수많은 자의 기초 되는 기본 자와 자 쓰는 법 비슷 하거나 헷갈 리기 쉬운 자 다양한 자와 활용 법을 알려 준다 ] 더불어 자를 연결 하여 의미를 만드는 법 흥미로운 이야기가 담긴 고사 성 어 천 자 문에 얽 힌 이야기와 의미 대해서도 자세히 소개 하고 있다 ] ] y ] 인 문 사회 학 습 만화 시리즈 권 ] 자의 기원 탄생 자의 생 성 원 리와 부 수의 활용 등을 담 았다 ] 수많은 자의 기초 되는 기본 자와 자 쓰는 법 비슷 하거나 헷갈 리기 쉬운 자 다양한 자와 활용 법을 알려 준다 ] 더불어 자를 연결 하여 의미를 만드는 법 흥미로운 이야기가 담긴 고사 성 어 천 자 문에 얽 힌 이야기와 의미 대해서도 자세히 소개 하고 있다 ] ] y ] 인 문 사회 학 습 만화 시리즈 권 ] 자의 기원 탄생 자의 생 성 원 리와 부 수의 활용 등을 담 았다 ] 수많은 자의 기초 되는 기본 자와 자 쓰는 법 비슷 하거나 헷갈 리기 쉬운 자 다양한 자와 활용 법을 알려 준다 ] 더불어 자를 연결 하여 의미를 만드는 법 흥미로운 이야기가 담긴 고사 성 어 천 자 문에 얽 힌 이야기와 의미 대해서도 자세히 소개 하고 있다 ] ] y ] 인 문 사회 학 습 만화 시리즈 권 ] 자의 기원 탄생 자의 생 성 원 리와 부 수의 활용 등을 담 았다 ] 수많은 자의 기초 되는 기본 자와 자 쓰는 법 비슷 하거나 헷갈 리기 쉬운 자 다양한 자와 활용 법을 알려 준다 ] 더불어 자를 연결 하여 의미를 만드는 법 흥미로운 이야기가 담긴 고사 성 어 천 자 문에 얽 힌 이야기와 의미 대해서도 자세히 소개 하고 있다 ] ] y ] 인 문 사회 학 습 만화 시리즈 권 ] 자의 기원 탄생 자의 생 성 원 리와 부 수의 활용 등을 담 았다 ] 수많은 자의 기초 되는 기본 자와 자 쓰는 법 비슷 하거나 헷갈 리기 쉬운 자 다양한 자와 활용 법을 알려 준다 ] 더불어 자를 연결 하여 의미를 만드는 법 흥미로운 이야기가 담긴 고사 성 어 천 자 문에 얽 힌 이야기와 의미 대해서도 자세히 소개 하고 있다 ] ] y ] 인 문 사회 학 습 만화 시리즈 권 ] 자의 기원 탄생 자의 생 성 원 리와 부 수의 활용 등을 담 았다 ] 수많은 자의 기초 되는 기본 자와 자 쓰는 법 비슷 하거나 헷갈 리기 쉬운 자 다양한 자와 활용 법을 알려 준다 ] 더불어 자를 연결 하여 의미를 만드는 법 흥미로운 이야기가 담긴 고사 성 어 천 자 문에 얽 힌 이야기와 의미 대해서도 자세히 소개 하고 있다 ] ] y ] 인 문 사회 학 습 만화 시리즈 권 ] 자의 기원 탄생 자의 생 성 원 리와 부 수의 활용 등을 담 았다 ] 수많은 자의 기초 되는 기본 자와 자 쓰는 법 비슷 하거나 헷갈 리기 쉬운 자 다양한 자와 활용 법을 알려 준다 ] 더불어 자를 연결 하여 의미를 만드는 법 흥미로운 이야기가 담긴 고사 성 어 천 자 문에 얽 힌 이야기와 의미 대해서도 자세히 소개 하고 있다 ] ] y ] 인 문 사회 학 습 만화 시리즈 권 ] 자의 기원 탄생 자의 생 성 원 리와 부 수의 활용 등을 담 았다 ] 수많은 자의 기초 되는 기본 자와 자 쓰는 법 비슷 하거나 헷갈 리기 쉬운 자 다양한 자와 활용 법을 알려 준다 ] 더불어 자를 연결 하여 의미를 만드는 법 흥미로운 이야기가 담긴 고사 성 어 천 자 문에 얽 힌 이야기와 의미 대해서도 자세히 소개 하고 있다 ] ] y ] 인 문 사회 학 습 만화 시리즈 권 ] 자의 기원 탄생 자의 생 성 원 리와 부 수의 활용 등을 담 았다 ] 수많은 자의 기초 되는 기본 자와 자 쓰는 법 비슷 하거나 헷갈 리기 쉬운 자 다양한 자와 활용 법을 알려 준다 ] 더불어 자를 연결 하여 의미를 만드는 법 흥미로운 이야기가 담긴 고사 성 어 천 자 문에 얽 힌 이야기와 의미 대해서도 자세히 소개 하고 있다 ] ] y ] 인 문 사회 학 습 만화 시리즈 권 ] 자의 기원 탄생 자의 생 성 원 리와 부 수의 활용 등을 담 았다 ] 수많은 자의 기초 되는 기본 자와 자 쓰는 법 비슷 하거나 헷갈 리기 쉬운 자 다양한 자와 활용 법을 알려 준다 ] 더불어 자를 연결 하여 의미를 만드는 법 흥미로운 이야기가 담긴 고사 성 어 천 자 문에 얽 힌 이야기와 의미 대해서도 자세히 소개 하고 있다 ] ] y ] 인 문 사회 학 습 만화 시리즈 권 ] 자의 기원 탄생 자의 생 성 원 리와 부 수의 활용 등을 담 았다 ] 수많은 자의 기초 되는 기본 자와 자 쓰는 법 비슷 하거나 헷갈 리기 쉬운 자 다양한 자와 활용 법을 알려 준다 ] 더불어 자를 연결 하여 의미를 만드는 법 흥미로운 이야기가 담긴 고사 성 어 천 자 문에 얽 힌 이야기와 의미 대해서도 자세히 소개 하고 있다 ] ] y ] 인 문 사회 학 습 만화 시리즈 권 ] 자의 기원 탄생 자의 생 성 원 리와 부 수의 활용 등을 담 았다 ] 수많은 자의 기초 되는 기본 자와 자 쓰는 법 비슷 하거나 헷갈 리기 쉬운 자 다양한 자와 활용 법을 알려 준다 ] 더불어 자를 연결 하여 의미를 만드는 법 흥미로운 이야기가 담긴 고사 성 어 천 자 문에 얽 힌 이야기와 의미 대해서도 자세히 소개 하고 있다 ] ] y ] 인 문 사회 학 습 만화 시리즈 권 ] 자의 기원 탄생 자의 생 성 원 리와 부 수의 활용 등을 담 았다 ] 수많은 자의 기초 되는 기본 자와 자 쓰는 법 비슷 하거나 헷갈 리기 쉬운 자 다양한 자와 활용 법을 알려 준다 ] 더불어 자를 연결 하여 의미를 만드는 법 흥미로운 이야기가 담긴 고사 성 어 천 자 문에 얽 힌 이야기와 의미 대해서도 자세히 소개 하고 있다 ] ] y ] 인 문 사회 학 습 만화 시리즈 권 ] 자의 기원 탄생 자의 생 성 원 리와 부 수의 활용 등을 담 았다 ] 수많은 자의 기초 되는 기본 자와 자 쓰는 법 비슷 하거나 헷갈 리기 쉬운 자 다양한 자와 활용 법을 알려 준다 ] 더불어 자를 연결 하여 의미를 만드는 법 흥미로운 이야기가 담긴 고사 성 어 천 자 문에 얽 힌 이야기와 의미 대해서도 자세히 소개 하고 있다 ] ] y ] 인 문 사회 학 습 만화 시리즈 권 ] 자의 기원 탄생 자의 생 성 원 리와 부 수의 활용 등을 담 았다 ] 수많은 자의 기초 되는 기본 자와 자 쓰는 법 비슷 하거나 헷갈 리기 쉬운 자 다양한 자와 활용 법을 알려 준다 ] 더불어 자를 연결 하여 의미를 만드는 법 흥미로운 이야기가 담긴 고사 성 어 천 자 문에 얽 힌 이야기와 의미 대해서도 자세히 소개 하고 있다 ] ] y ] 인 문 사회 학 습 만화 시리즈 권 ] 자의 기원 탄생 자의 생 성 원 리와 부 수의 활용 등을 담 았다 ] 수많은 자의 기초 되는 기본 자와 자 쓰는 법 비슷 하거나 헷갈 리기 쉬운 자 다양한 자와 활용 법을 알려 준다 ] 더불어 자를 연결 하여 의미를 만드는 법 흥미로운 이야기가 담긴 고사 성 어 천 자 문에 얽 힌 이야기와 의미 대해서도 자세히 소개 하고 있다 ] ] y ] 인 문 사회 학 습 만화 시리즈 권 ] 자의 기원 탄생 자의 생 성 원 리와 부 수의 활용 등을 담 았다 ] 수많은 자의 기초 되는 기본 자와 자 쓰는 법 비슷 하거나 헷갈 리기 쉬운 자 다양한 자와 활용 법을 알려 준다 ] 더불어 자를 연결 하여 의미를 만드는 법 흥미로운 이야기가 담긴 고사 성 어 천 자 문에 얽 힌 이야기와 의미 대해서도 자세히 소개 하고 있다 ] ] y ] 인 문 사회 학 습 만화 시리즈 권 ] 자의 기원 탄생 자의 생 성 원 리와 부 수의 활용 등을 담 았다 ] 수많은 자의 기초 되는 기본 자와 자 쓰는 법 비슷 하거나 헷갈 리기 쉬운 자 다양한 자와 활용 법을 알려 준다 ] 더불어 자를 연결 하여 의미를 만드는 법 흥미로운 이야기가 담긴 고사 성 어 천 자 문에 얽 힌 이야기와 의미 대해서도 자세히 소개 하고 있다 ] ] y ] 인 문 사회 학 습 만화 시리즈 권 ] 자의 기원 탄생 자의 생 성 원 리와 부 수의 활용 등을 담 았다 ] 수많은 자의 기초 되는 기본 자와 자 쓰는 법 비슷 하거나 헷갈 리기 쉬운 자 다양한 자와 활용 법을 알려 준다 ] 더불어 자를 연결 하여 의미를 만드는 법 흥미로운 이야기가 담긴 고사 성 어 천 자 문에 얽 힌 이야기와 의미 대해서도 자세히 소개 하고 있다 ] ] y ] 인 문 사회 학 습 만화 시리즈 권 ] 자의 기원 탄생 자의 생 성 원 리와 부 수의 활용 등을 담 았다 ] 수많은 자의 기초 되는 기본 자와 자 쓰는 법 비슷 하거나 헷갈 리기 쉬운 자 다양한 자와 활용 법을 알려 준다 ] 더불어 자를 연결 하여 의미를 만드는 법 흥미로운 이야기가 담긴 고사 성 어 천 자 문에 얽 힌 이야기와 의미 대해서도 자세히 소개 하고 있다 ] ] y ] 인 문 사회 학 습 만화 시리즈 권 ] 자의 기원 탄생 자의 생 성 원 리와 부 수의 활용 등을 담 았다 ] 수많은 자의 기초 되는 기본 자와 자 쓰는 법 비슷 하거나 헷갈 리기 쉬운 자 다양한 자와 활용 법을 알려 준다 ] 더불어 자를 연결 하여 의미를 만드는 법 흥미로운 이야기가 담긴 고사 성 어 천 자 문에 얽 힌 이야기와 의미 대해서도 자세히 소개 하고 있다 ] ] y ] 인 문 사회 학 습 만화 시리즈 권 ] 자의 기원 탄생 자의 생 성 원 리와 부 수의 활용 등을 담 았다 ] 수많은 자의 기초 되는 기본 자와 자 쓰는 법 비슷 하거나 헷갈 리기 쉬운 자 다양한 자와 활용 법을 알려 준다 ] 더불어 자를 연결 하여 의미를 만드는 법 흥미로운 이야기가 담긴 고사 성 어 천 자 문에 얽 힌 이야기와 의미 대해서도 자세히 소개 하고 있다 ] ] y ] 인 문 사회 학 습 만화 시리즈 권 ] 자의 기원 탄생 자의 생 성 원 리와 부 수의 활용 등을 담 았다 ] 수많은 자의 기초 되는 기본 자와 자 쓰는 법 비슷 하거나 헷갈 리기 쉬운 자 다양한 자와 활용 법을 알려 준다 ] 더불어 자를 연결 하여 의미를 만드는 법 흥미로운 이야기가 담긴 고사 성 어 천 자 문에 얽 힌 이야기와 의미 대해서도 자세히 소개 하고 있다 ] ] y ] 인 문 사회 학 습 만화 시리즈 권 ] 자의 기원 탄생 자의 생 성 원 리와 부 수의 활용 등을 담 았다 ] 수많은 자의 기초 되는 기본 자와 자 쓰는 법 비슷 하거나 헷갈 리기 쉬운 자 다양한 자와 활용 법을 알려 준다 ] 더불어 자를 연결 하여 의미를 만드는 법 흥미로운 이야기가 담긴 고사 성 어 천 자 문에 얽 힌 이야기와 의미 대해서도 자세히 소개 하고 있다 ] ] y ] 인 문 사회 학 습 만화 시리즈 권 ] 자의 기원 탄생 자의 생 성 원 리와 부 수의 활용 등을 담 았다 ] 수많은 자의 기초 되는 기본 자와 자 쓰는 법 비슷 하거나 헷갈 리기 쉬운 자 다양한 자와 활용 법을 알려 준다 ] 더불어 자를 연결 하여 의미를 만드는 법 흥미로운 이야기가 담긴 고사 성 어 천 자 문에 얽 힌 이야기와 의미 대해서도 자세히 소개 하고 있다 ] ] y ] 인 문 사회 학 습 만화 시리즈 권 ] 자의 기원 탄생 자의 생 성 원 리와 부 수의 활용 등을 담 았다 ] 수많은 자의 기초 되는 기본 자와 자 쓰는 법 비슷 하거나 헷갈 리기 쉬운 자 다양한 자와 활용 법을 알려 준다 ] 더불어 자를 연결 하여 의미를 만드는 법 흥미로운 이야기가 담긴 고사 성 어 천 자 문에 얽 힌 이야기와 의미 대해서도 자세히 소개 하고 있다 ] ] y ] 인 문 사회 학 습 만화 시리즈 권 ] 자의 기원 탄생 자의 생 성 원 리와 부 수의 활용 등을 담 았다 ] 수많은 자의 기초 되는 기본 자와 자 쓰는 법 비슷 하거나 헷갈 리기 쉬운 자 다양한 자와 활용 법을 알려 준다 ] 더불어 자를 연결 하여 의미를 만드는 법 흥미로운 이야기가 담긴 고사 성 어 천 자 문에 얽 힌 이야기와 의미 대해서도 자세히 소개 하고 있다 ] ] y ] 인 문 사회 학 습 만화 시리즈 권 ] 자의 기원 탄생 자의 생 성 원 리와 부 수의 활용 등을 담 았다 ] 수많은 자의 기초 되는 기본 자와 자 쓰는 법 비슷 하거나 헷갈 리기 쉬운 자 다양한 자와 활용 법을 알려 준다 ] 더불어 자를 연결 하여 의미를 만드는 법 흥미로운 이야기가 담긴 고사 성 어 천 자 문에 얽 힌 이야기와 의미 대해서도 자세히 소개 하고 있다 ] ] y ] 인 문 사회 학 습 만화 시리즈 권 ] 자의 기원 탄생 자의 생 성 원 리와 부 수의 활용 등을 담 았다 ] 수많은 자의 기초 되는 기본 자와 자 쓰는 법 비슷 하거나 헷갈 리기 쉬운 자 다양한 자와 활용 법을 알려 준다 ] 더불어 자를 연결 하여 의미를 만드는 법 흥미로운 이야기가 담긴 고사 성 어 천 자 문에 얽 힌 이야기와 의미 대해서도 자세히 소개 하고 있다 ] ] y ] 인 문 사회 학 습 만화 시리즈 권 ] 자의 기원 탄생 자의 생 성 원 리와 부 수의 활용 등을 담 았다 ] 수많은 자의 기초 되는 기본 자와 자 쓰는 법 비슷 하거나 헷갈 리기 쉬운 자 다양한 자와 활용 법을 알려 준다 ] 더불어 자를 연결 하여 의미를 만드는 법 흥미로운 이야기가 담긴 고사 성 어 천 자 문에 얽 힌 이야기와 의미 대해서도 자세히 소개 하고 있다 ] ] y ] 인 문 사회 학 습 만화 시리즈 권 ] 자의 기원 탄생 자의 생 성 원 리와 부 수의 활용 등을 담 았다 ] 수많은 자의 기초 되는 기본 자와 자 쓰는 법 비슷 하거나 헷갈 리기 쉬운 자 다양한 자와 활용 법을 알려 준다 ] 더불어 자를 연결 하여 의미를 만드는 법 흥미로운 이야기가 담긴 고사 성 어 천 자 문에 얽 힌 이야기와 의미 대해서도 자세히 소개 하고 있다 ] ] y ] 인 문 사회 학 습 만화 시리즈 권 ] 자의 기원 탄생 자의 생 성 원 리와 부 수의 활용 등을 담 았다 ] 수많은 자의 기초 되는 기본 자와 자 쓰는 법 비슷 하거나 헷갈 리기 쉬운 자 다양한 자와 활용 법을 알려 준다 ] 더불어 자를 연결 하여 의미를 만드는 법 흥미로운 이야기가 담긴 고사 성 어 천 자 문에 얽 힌 이야기와 의미 대해서도 자세히 소개 하고 있다 ] ] y ] 인 문 사회 학 습 만화 시리즈 권 ] 자의 기원 탄생 자의 생 성 원 리와 부 수의 활용 등을 담 았다 ] 수많은 자의 기초 되는 기본 자와 자 쓰는 법 비슷 하거나 헷갈 리기 쉬운 자 다양한 자와 활용 법을 알려 준다 ] 더불어 자를 연결 하여 의미를 만드는 법 흥미로운 이야기가 담긴 고사 성 어 천 자 문에 얽 힌 이야기와 의미 대해서도 자세히 소개 하고 있다 ] ] y ] 인 문 사회 학 습 만화 시리즈 권 ] 자의 기원 탄생 자의 생 성 원 리와 부 수의 활용 등을 담 았다 ] 수많은 자의 기초 되는 기본 자와 자 쓰는 법 비슷 하거나 헷갈 리기 쉬운 자 다양한 자와 활용 법을 알려 준다 ] 더불어 자를 연결 하여 의미를 만드는 법 흥미로운 이야기가 담긴 고사 성 어 천 자 문에 얽 힌 이야기와 의미 대해서도 자세히 소개 하고 있다 ] ] \n",
            "실제 요약문 : PAD W h y ] UNK UNK 이야기 ] ] PAD W h y ] UNK UNK 이야기 ] ] PAD W h y ] UNK UNK 이야기 ] ] PAD W h y ] UNK UNK 이야기 ] ] PAD W h y ] UNK UNK 이야기 ] ] PAD W h y ] UNK UNK 이야기 ] ] PAD W h y ] UNK UNK 이야기 ] ] PAD W h y ] UNK UNK 이야기 ] ] PAD W h y ] UNK UNK 이야기 ] ] PAD W h y ] UNK UNK 이야기 ] ] PAD W h y ] UNK UNK 이야기 ] ] PAD W h y ] UNK UNK 이야기 ] ] PAD W h y ] UNK UNK 이야기 ] ] PAD W h y ] UNK UNK 이야기 ] ] PAD W h y ] UNK UNK 이야기 ] ] PAD W h y ] UNK UNK 이야기 ] ] \n",
            "1/1 [==============================] - 0s 24ms/step\n",
            "1/1 [==============================] - 0s 18ms/step\n",
            "1/1 [==============================] - 0s 19ms/step\n",
            "1/1 [==============================] - 0s 24ms/step\n",
            "1/1 [==============================] - 0s 17ms/step\n",
            "1/1 [==============================] - 0s 23ms/step\n",
            "1/1 [==============================] - 0s 18ms/step\n",
            "1/1 [==============================] - 0s 20ms/step\n",
            "1/1 [==============================] - 0s 18ms/step\n",
            "1/1 [==============================] - 0s 16ms/step\n",
            "1/1 [==============================] - 0s 16ms/step\n",
            "1/1 [==============================] - 0s 18ms/step\n",
            "1/1 [==============================] - 0s 19ms/step\n",
            "1/1 [==============================] - 0s 20ms/step\n",
            "1/1 [==============================] - 0s 18ms/step\n",
            "1/1 [==============================] - 0s 29ms/step\n",
            "1/1 [==============================] - 0s 17ms/step\n",
            "1/1 [==============================] - 0s 16ms/step\n",
            "1/1 [==============================] - 0s 17ms/step\n",
            "1/1 [==============================] - 0s 17ms/step\n",
            "1/1 [==============================] - 0s 17ms/step\n",
            "1/1 [==============================] - 0s 20ms/step\n",
            "1/1 [==============================] - 0s 16ms/step\n",
            "1/1 [==============================] - 0s 16ms/step\n",
            "1/1 [==============================] - 0s 18ms/step\n",
            "1/1 [==============================] - 0s 18ms/step\n",
            "1/1 [==============================] - 0s 19ms/step\n",
            "1/1 [==============================] - 0s 26ms/step\n",
            "1/1 [==============================] - 0s 17ms/step\n",
            "1/1 [==============================] - 0s 20ms/step\n",
            "예측 요약문 :  W h y y e i i i i i i i i i i i a a a a a b k e a i ##e U U\n",
            "\n",
            "\n",
            "원문 :  독일 계 프랑스 인 철학 연구 자 발 타 자 르 토마스 니 체의 허무 주의를 재조명 하며 고통 스러운 우리의 일상을 진 단한 ] 사색 하고 숙 고 하는 학 문 넘어서 철학을 우리의 삶에 적 용 해 행동 으로 촉 발 되는 도 화 선을 마련 해준다 ] ] 독일 계 프랑스 인 철학 연구 자 발 타 자 르 토마스 니 체의 허무 주의를 재조명 하며 고통 스러운 우리의 일상을 진 단한 ] 사색 하고 숙 고 하는 학 문 넘어서 철학을 우리의 삶에 적 용 해 행동 으로 촉 발 되는 도 화 선을 마련 해준다 ] ] 독일 계 프랑스 인 철학 연구 자 발 타 자 르 토마스 니 체의 허무 주의를 재조명 하며 고통 스러운 우리의 일상을 진 단한 ] 사색 하고 숙 고 하는 학 문 넘어서 철학을 우리의 삶에 적 용 해 행동 으로 촉 발 되는 도 화 선을 마련 해준다 ] ] 독일 계 프랑스 인 철학 연구 자 발 타 자 르 토마스 니 체의 허무 주의를 재조명 하며 고통 스러운 우리의 일상을 진 단한 ] 사색 하고 숙 고 하는 학 문 넘어서 철학을 우리의 삶에 적 용 해 행동 으로 촉 발 되는 도 화 선을 마련 해준다 ] ] 독일 계 프랑스 인 철학 연구 자 발 타 자 르 토마스 니 체의 허무 주의를 재조명 하며 고통 스러운 우리의 일상을 진 단한 ] 사색 하고 숙 고 하는 학 문 넘어서 철학을 우리의 삶에 적 용 해 행동 으로 촉 발 되는 도 화 선을 마련 해준다 ] ] 독일 계 프랑스 인 철학 연구 자 발 타 자 르 토마스 니 체의 허무 주의를 재조명 하며 고통 스러운 우리의 일상을 진 단한 ] 사색 하고 숙 고 하는 학 문 넘어서 철학을 우리의 삶에 적 용 해 행동 으로 촉 발 되는 도 화 선을 마련 해준다 ] ] 독일 계 프랑스 인 철학 연구 자 발 타 자 르 토마스 니 체의 허무 주의를 재조명 하며 고통 스러운 우리의 일상을 진 단한 ] 사색 하고 숙 고 하는 학 문 넘어서 철학을 우리의 삶에 적 용 해 행동 으로 촉 발 되는 도 화 선을 마련 해준다 ] ] 독일 계 프랑스 인 철학 연구 자 발 타 자 르 토마스 니 체의 허무 주의를 재조명 하며 고통 스러운 우리의 일상을 진 단한 ] 사색 하고 숙 고 하는 학 문 넘어서 철학을 우리의 삶에 적 용 해 행동 으로 촉 발 되는 도 화 선을 마련 해준다 ] ] 독일 계 프랑스 인 철학 연구 자 발 타 자 르 토마스 니 체의 허무 주의를 재조명 하며 고통 스러운 우리의 일상을 진 단한 ] 사색 하고 숙 고 하는 학 문 넘어서 철학을 우리의 삶에 적 용 해 행동 으로 촉 발 되는 도 화 선을 마련 해준다 ] ] 독일 계 프랑스 인 철학 연구 자 발 타 자 르 토마스 니 체의 허무 주의를 재조명 하며 고통 스러운 우리의 일상을 진 단한 ] 사색 하고 숙 고 하는 학 문 넘어서 철학을 우리의 삶에 적 용 해 행동 으로 촉 발 되는 도 화 선을 마련 해준다 ] ] 독일 계 프랑스 인 철학 연구 자 발 타 자 르 토마스 니 체의 허무 주의를 재조명 하며 고통 스러운 우리의 일상을 진 단한 ] 사색 하고 숙 고 하는 학 문 넘어서 철학을 우리의 삶에 적 용 해 행동 으로 촉 발 되는 도 화 선을 마련 해준다 ] ] 독일 계 프랑스 인 철학 연구 자 발 타 자 르 토마스 니 체의 허무 주의를 재조명 하며 고통 스러운 우리의 일상을 진 단한 ] 사색 하고 숙 고 하는 학 문 넘어서 철학을 우리의 삶에 적 용 해 행동 으로 촉 발 되는 도 화 선을 마련 해준다 ] ] 독일 계 프랑스 인 철학 연구 자 발 타 자 르 토마스 니 체의 허무 주의를 재조명 하며 고통 스러운 우리의 일상을 진 단한 ] 사색 하고 숙 고 하는 학 문 넘어서 철학을 우리의 삶에 적 용 해 행동 으로 촉 발 되는 도 화 선을 마련 해준다 ] ] 독일 계 프랑스 인 철학 연구 자 발 타 자 르 토마스 니 체의 허무 주의를 재조명 하며 고통 스러운 우리의 일상을 진 단한 ] 사색 하고 숙 고 하는 학 문 넘어서 철학을 우리의 삶에 적 용 해 행동 으로 촉 발 되는 도 화 선을 마련 해준다 ] ] 독일 계 프랑스 인 철학 연구 자 발 타 자 르 토마스 니 체의 허무 주의를 재조명 하며 고통 스러운 우리의 일상을 진 단한 ] 사색 하고 숙 고 하는 학 문 넘어서 철학을 우리의 삶에 적 용 해 행동 으로 촉 발 되는 도 화 선을 마련 해준다 ] ] 독일 계 프랑스 인 철학 연구 자 발 타 자 르 토마스 니 체의 허무 주의를 재조명 하며 고통 스러운 우리의 일상을 진 단한 ] 사색 하고 숙 고 하는 학 문 넘어서 철학을 우리의 삶에 적 용 해 행동 으로 촉 발 되는 도 화 선을 마련 해준다 ] ] 독일 계 프랑스 인 철학 연구 자 발 타 자 르 토마스 니 체의 허무 주의를 재조명 하며 고통 스러운 우리의 일상을 진 단한 ] 사색 하고 숙 고 하는 학 문 넘어서 철학을 우리의 삶에 적 용 해 행동 으로 촉 발 되는 도 화 선을 마련 해준다 ] ] 독일 계 프랑스 인 철학 연구 자 발 타 자 르 토마스 니 체의 허무 주의를 재조명 하며 고통 스러운 우리의 일상을 진 단한 ] 사색 하고 숙 고 하는 학 문 넘어서 철학을 우리의 삶에 적 용 해 행동 으로 촉 발 되는 도 화 선을 마련 해준다 ] ] 독일 계 프랑스 인 철학 연구 자 발 타 자 르 토마스 니 체의 허무 주의를 재조명 하며 고통 스러운 우리의 일상을 진 단한 ] 사색 하고 숙 고 하는 학 문 넘어서 철학을 우리의 삶에 적 용 해 행동 으로 촉 발 되는 도 화 선을 마련 해준다 ] ] 독일 계 프랑스 인 철학 연구 자 발 타 자 르 토마스 니 체의 허무 주의를 재조명 하며 고통 스러운 우리의 일상을 진 단한 ] 사색 하고 숙 고 하는 학 문 넘어서 철학을 우리의 삶에 적 용 해 행동 으로 촉 발 되는 도 화 선을 마련 해준다 ] ] 독일 계 프랑스 인 철학 연구 자 발 타 자 르 토마스 니 체의 허무 주의를 재조명 하며 고통 스러운 우리의 일상을 진 단한 ] 사색 하고 숙 고 하는 학 문 넘어서 철학을 우리의 삶에 적 용 해 행동 으로 촉 발 되는 도 화 선을 마련 해준다 ] ] 독일 계 프랑스 인 철학 연구 자 발 타 자 르 토마스 니 체의 허무 주의를 재조명 하며 고통 스러운 우리의 일상을 진 단한 ] 사색 하고 숙 고 하는 학 문 넘어서 철학을 우리의 삶에 적 용 해 행동 으로 촉 발 되는 도 화 선을 마련 해준다 ] ] 독일 계 프랑스 인 철학 연구 자 발 타 자 르 토마스 니 체의 허무 주의를 재조명 하며 고통 스러운 우리의 일상을 진 단한 ] 사색 하고 숙 고 하는 학 문 넘어서 철학을 우리의 삶에 적 용 해 행동 으로 촉 발 되는 도 화 선을 마련 해준다 ] ] 독일 계 프랑스 인 철학 연구 자 발 타 자 르 토마스 니 체의 허무 주의를 재조명 하며 고통 스러운 우리의 일상을 진 단한 ] 사색 하고 숙 고 하는 학 문 넘어서 철학을 우리의 삶에 적 용 해 행동 으로 촉 발 되는 도 화 선을 마련 해준다 ] ] 독일 계 프랑스 인 철학 연구 자 발 타 자 르 토마스 니 체의 허무 주의를 재조명 하며 고통 스러운 우리의 일상을 진 단한 ] 사색 하고 숙 고 하는 학 문 넘어서 철학을 우리의 삶에 적 용 해 행동 으로 촉 발 되는 도 화 선을 마련 해준다 ] ] 독일 계 프랑스 인 철학 연구 자 발 타 자 르 토마스 니 체의 허무 주의를 재조명 하며 고통 스러운 우리의 일상을 진 단한 ] 사색 하고 숙 고 하는 학 문 넘어서 철학을 우리의 삶에 적 용 해 행동 으로 촉 발 되는 도 화 선을 마련 해준다 ] ] 독일 계 프랑스 인 철학 연구 자 발 타 자 르 토마스 니 체의 허무 주의를 재조명 하며 고통 스러운 우리의 일상을 진 단한 ] 사색 하고 숙 고 하는 학 문 넘어서 철학을 우리의 삶에 적 용 해 행동 으로 촉 발 되는 도 화 선을 마련 해준다 ] ] 독일 계 프랑스 인 철학 연구 자 발 타 자 르 토마스 니 체의 허무 주의를 재조명 하며 고통 스러운 우리의 일상을 진 단한 ] 사색 하고 숙 고 하는 학 문 넘어서 철학을 우리의 삶에 적 용 해 행동 으로 촉 발 되는 도 화 선을 마련 해준다 ] ] 독일 계 프랑스 인 철학 연구 자 발 타 자 르 토마스 니 체의 허무 주의를 재조명 하며 고통 스러운 우리의 일상을 진 단한 ] 사색 하고 숙 고 하는 학 문 넘어서 철학을 우리의 삶에 적 용 해 행동 으로 촉 발 되는 도 화 선을 마련 해준다 ] ] 독일 계 프랑스 인 철학 연구 자 발 타 자 르 토마스 니 체의 허무 주의를 재조명 하며 고통 스러운 우리의 일상을 진 단한 ] 사색 하고 숙 고 하는 학 문 넘어서 철학을 우리의 삶에 적 용 해 행동 으로 촉 발 되는 도 화 선을 마련 해준다 ] ] 독일 계 프랑스 인 철학 연구 자 발 타 자 르 토마스 니 체의 허무 주의를 재조명 하며 고통 스러운 우리의 일상을 진 단한 ] 사색 하고 숙 고 하는 학 문 넘어서 철학을 우리의 삶에 적 용 해 행동 으로 촉 발 되는 도 화 선을 마련 해준다 ] ] 독일 계 프랑스 인 철학 연구 자 발 타 자 르 토마스 니 체의 허무 주의를 재조명 하며 고통 스러운 우리의 일상을 진 단한 ] 사색 하고 숙 고 하는 학 문 넘어서 철학을 우리의 삶에 적 용 해 행동 으로 촉 발 되는 도 화 선을 마련 해준다 ] ] 독일 계 프랑스 인 철학 연구 자 발 타 자 르 토마스 니 체의 허무 주의를 재조명 하며 고통 스러운 우리의 일상을 진 단한 ] 사색 하고 숙 고 하는 학 문 넘어서 철학을 우리의 삶에 적 용 해 행동 으로 촉 발 되는 도 화 선을 마련 해준다 ] ] 독일 계 프랑스 인 철학 연구 자 발 타 자 르 토마스 니 체의 허무 주의를 재조명 하며 고통 스러운 우리의 일상을 진 단한 ] 사색 하고 숙 고 하는 학 문 넘어서 철학을 우리의 삶에 적 용 해 행동 으로 촉 발 되는 도 화 선을 마련 해준다 ] ] 독일 계 프랑스 인 철학 연구 자 발 타 자 르 토마스 니 체의 허무 주의를 재조명 하며 고통 스러운 우리의 일상을 진 단한 ] 사색 하고 숙 고 하는 학 문 넘어서 철학을 우리의 삶에 적 용 해 행동 으로 촉 발 되는 도 화 선을 마련 해준다 ] ] 독일 계 프랑스 인 철학 연구 자 발 타 자 르 토마스 니 체의 허무 주의를 재조명 하며 고통 스러운 우리의 일상을 진 단한 ] 사색 하고 숙 고 하는 학 문 넘어서 철학을 우리의 삶에 적 용 해 행동 으로 촉 발 되는 도 화 선을 마련 해준다 ] ] 독일 계 프랑스 인 철학 연구 자 발 타 자 르 토마스 니 체의 허무 주의를 재조명 하며 고통 스러운 우리의 일상을 진 단한 ] 사색 하고 숙 고 하는 학 문 넘어서 철학을 우리의 삶에 적 용 해 행동 으로 촉 발 되는 도 화 선을 마련 해준다 ] ] 독일 계 프랑스 인 철학 연구 자 발 타 자 르 토마스 니 체의 허무 주의를 재조명 하며 고통 스러운 우리의 일상을 진 단한 ] 사색 하고 숙 고 하는 학 문 넘어서 철학을 우리의 삶에 적 용 해 행동 으로 촉 발 되는 도 화 선을 마련 해준다 ] ] 독일 계 프랑스 인 철학 연구 자 발 타 자 르 토마스 니 체의 허무 주의를 재조명 하며 고통 스러운 우리의 일상을 진 단한 ] 사색 하고 숙 고 하는 학 문 넘어서 철학을 우리의 삶에 적 용 해 행동 으로 촉 발 되는 도 화 선을 마련 해준다 ] ] 독일 계 프랑스 인 철학 연구 자 발 타 자 르 토마스 니 체의 허무 주의를 재조명 하며 고통 스러운 우리의 일상을 진 단한 ] 사색 하고 숙 고 하는 학 문 넘어서 철학을 우리의 삶에 적 용 해 행동 으로 촉 발 되는 도 화 선을 마련 해준다 ] ] 독일 계 프랑스 인 철학 연구 자 발 타 자 르 토마스 니 체의 허무 주의를 재조명 하며 고통 스러운 우리의 일상을 진 단한 ] 사색 하고 숙 고 하는 학 문 넘어서 철학을 우리의 삶에 적 용 해 행동 으로 촉 발 되는 도 화 선을 마련 해준다 ] ] 독일 계 프랑스 인 철학 연구 자 발 타 자 르 토마스 니 체의 허무 주의를 재조명 하며 고통 스러운 우리의 일상을 진 단한 ] 사색 하고 숙 고 하는 학 문 넘어서 철학을 우리의 삶에 적 용 해 행동 으로 촉 발 되는 도 화 선을 마련 해준다 ] ] 독일 계 프랑스 인 철학 연구 자 발 타 자 르 토마스 니 체의 허무 주의를 재조명 하며 고통 스러운 우리의 일상을 진 단한 ] 사색 하고 숙 고 하는 학 문 넘어서 철학을 우리의 삶에 적 용 해 행동 으로 촉 발 되는 도 화 선을 마련 해준다 ] ] 독일 계 프랑스 인 철학 연구 자 발 타 자 르 토마스 니 체의 허무 주의를 재조명 하며 고통 스러운 우리의 일상을 진 단한 ] 사색 하고 숙 고 하는 학 문 넘어서 철학을 우리의 삶에 적 용 해 행동 으로 촉 발 되는 도 화 선을 마련 해준다 ] ] 독일 계 프랑스 인 철학 연구 자 발 타 자 르 토마스 니 체의 허무 주의를 재조명 하며 고통 스러운 우리의 일상을 진 단한 ] 사색 하고 숙 고 하는 학 문 넘어서 철학을 우리의 삶에 적 용 해 행동 으로 촉 발 되는 도 화 선을 마련 해준다 ] ] 독일 계 프랑스 인 철학 연구 자 발 타 자 르 토마스 니 체의 허무 주의를 재조명 하며 고통 스러운 우리의 일상을 진 단한 ] 사색 하고 숙 고 하는 학 문 넘어서 철학을 우리의 삶에 적 용 해 행동 으로 촉 발 되는 도 화 선을 마련 해준다 ] ] 독일 계 프랑스 인 철학 연구 자 발 타 자 르 토마스 니 체의 허무 주의를 재조명 하며 고통 스러운 우리의 일상을 진 단한 ] 사색 하고 숙 고 하는 학 문 넘어서 철학을 우리의 삶에 적 용 해 행동 으로 촉 발 되는 도 화 선을 마련 해준다 ] ] 독일 계 프랑스 인 철학 연구 자 발 타 자 르 토마스 니 체의 허무 주의를 재조명 하며 고통 스러운 우리의 일상을 진 단한 ] 사색 하고 숙 고 하는 학 문 넘어서 철학을 우리의 삶에 적 용 해 행동 으로 촉 발 되는 도 화 선을 마련 해준다 ] ] 독일 계 프랑스 인 철학 연구 자 발 타 자 르 토마스 니 체의 허무 주의를 재조명 하며 고통 스러운 우리의 일상을 진 단한 ] 사색 하고 숙 고 하는 학 문 넘어서 철학을 우리의 삶에 적 용 해 행동 으로 촉 발 되는 도 화 선을 마련 해준다 ] ] 독일 계 프랑스 인 철학 연구 자 발 타 자 르 토마스 니 체의 허무 주의를 재조명 하며 고통 스러운 우리의 일상을 진 단한 ] 사색 하고 숙 고 하는 학 문 넘어서 철학을 우리의 삶에 적 용 해 행동 으로 촉 발 되는 도 화 선을 마련 해준다 ] ] 독일 계 프랑스 인 철학 연구 자 발 타 자 르 토마스 니 체의 허무 주의를 재조명 하며 고통 스러운 우리의 일상을 진 단한 ] 사색 하고 숙 고 하는 학 문 넘어서 철학을 우리의 삶에 적 용 해 행동 으로 촉 발 되는 도 화 선을 마련 해준다 ] ] 독일 계 프랑스 인 철학 연구 자 발 타 자 르 토마스 니 체의 허무 주의를 재조명 하며 고통 스러운 우리의 일상을 진 단한 ] 사색 하고 숙 고 하는 학 문 넘어서 철학을 우리의 삶에 적 용 해 행동 으로 촉 발 되는 도 화 선을 마련 해준다 ] ] 독일 계 프랑스 인 철학 연구 자 발 타 자 르 토마스 니 체의 허무 주의를 재조명 하며 고통 스러운 우리의 일상을 진 단한 ] 사색 하고 숙 고 하는 학 문 넘어서 철학을 우리의 삶에 적 용 해 행동 으로 촉 발 되는 도 화 선을 마련 해준다 ] ] 독일 계 프랑스 인 철학 연구 자 발 타 자 르 토마스 니 체의 허무 주의를 재조명 하며 고통 스러운 우리의 일상을 진 단한 ] 사색 하고 숙 고 하는 학 문 넘어서 철학을 우리의 삶에 적 용 해 행동 으로 촉 발 되는 도 화 선을 마련 해준다 ] ] \n",
            "실제 요약문 : PAD 우울 할 땐 니 체 ] ] PAD 우울 할 땐 니 체 ] ] PAD 우울 할 땐 니 체 ] ] PAD 우울 할 땐 니 체 ] ] PAD 우울 할 땐 니 체 ] ] PAD 우울 할 땐 니 체 ] ] PAD 우울 할 땐 니 체 ] ] PAD 우울 할 땐 니 체 ] ] PAD 우울 할 땐 니 체 ] ] PAD 우울 할 땐 니 체 ] ] \n",
            "1/1 [==============================] - 0s 22ms/step\n",
            "1/1 [==============================] - 0s 21ms/step\n",
            "1/1 [==============================] - 0s 17ms/step\n",
            "1/1 [==============================] - 0s 17ms/step\n",
            "1/1 [==============================] - 0s 18ms/step\n",
            "1/1 [==============================] - 0s 17ms/step\n",
            "1/1 [==============================] - 0s 17ms/step\n",
            "1/1 [==============================] - 0s 21ms/step\n",
            "1/1 [==============================] - 0s 16ms/step\n",
            "1/1 [==============================] - 0s 21ms/step\n",
            "1/1 [==============================] - 0s 20ms/step\n",
            "1/1 [==============================] - 0s 17ms/step\n",
            "1/1 [==============================] - 0s 23ms/step\n",
            "1/1 [==============================] - 0s 16ms/step\n",
            "1/1 [==============================] - 0s 18ms/step\n",
            "1/1 [==============================] - 0s 17ms/step\n",
            "1/1 [==============================] - 0s 18ms/step\n",
            "1/1 [==============================] - 0s 16ms/step\n",
            "1/1 [==============================] - 0s 17ms/step\n",
            "1/1 [==============================] - 0s 16ms/step\n",
            "1/1 [==============================] - 0s 18ms/step\n",
            "1/1 [==============================] - 0s 18ms/step\n",
            "1/1 [==============================] - 0s 17ms/step\n",
            "1/1 [==============================] - 0s 16ms/step\n",
            "1/1 [==============================] - 0s 17ms/step\n",
            "1/1 [==============================] - 0s 18ms/step\n",
            "1/1 [==============================] - 0s 18ms/step\n",
            "1/1 [==============================] - 0s 17ms/step\n",
            "1/1 [==============================] - 0s 20ms/step\n",
            "1/1 [==============================] - 0s 25ms/step\n",
            "예측 요약문 :  나는 산 U U U U U U U U U U U U U U U U U U U U U U U U U U U\n",
            "\n",
            "\n"
          ]
        }
      ]
    },
    {
      "cell_type": "code",
      "source": [
        "print(\"원문 : \",seq2text(encoder_input_test[202]))\n",
        "print(\"실제 요약문 :\",seq2text(decoder_input_test[202]))\n",
        "print(\"예측 요약문 :\",decode_sequence(encoder_input_test[202].reshape(1, text_max_len)))\n",
        "print(\"\\n\")"
      ],
      "metadata": {
        "colab": {
          "base_uri": "https://localhost:8080/"
        },
        "id": "hnBaAQhnrGpU",
        "outputId": "1ab283a0-a9dc-4b33-fcc0-2ca0ef300e65"
      },
      "execution_count": null,
      "outputs": [
        {
          "output_type": "stream",
          "name": "stdout",
          "text": [
            "원문 :  수학 주제 들을 수학 자들의 목소리를 통해 이야기 형식 으로 들려 주는 수학 자가 들려 주는 수학 이야기 시리즈 ] 수학 교과서 내용을 생동감 있게 재구성 였 으며 중간중간에 수학 자들의 에피소드 곁 들여 읽는 재미를 더 했다 ] 먼저 수학 자의 업 적을 개 략 적으로 소개 하고 개의 강 의를 통해 수학 개념 ] ] 수학 주제 들을 수학 자들의 목소리를 통해 이야기 형식 으로 들려 주는 수학 자가 들려 주는 수학 이야기 시리즈 ] 수학 교과서 내용을 생동감 있게 재구성 였 으며 중간중간에 수학 자들의 에피소드 곁 들여 읽는 재미를 더 했다 ] 먼저 수학 자의 업 적을 개 략 적으로 소개 하고 개의 강 의를 통해 수학 개념 ] ] 수학 주제 들을 수학 자들의 목소리를 통해 이야기 형식 으로 들려 주는 수학 자가 들려 주는 수학 이야기 시리즈 ] 수학 교과서 내용을 생동감 있게 재구성 였 으며 중간중간에 수학 자들의 에피소드 곁 들여 읽는 재미를 더 했다 ] 먼저 수학 자의 업 적을 개 략 적으로 소개 하고 개의 강 의를 통해 수학 개념 ] ] 수학 주제 들을 수학 자들의 목소리를 통해 이야기 형식 으로 들려 주는 수학 자가 들려 주는 수학 이야기 시리즈 ] 수학 교과서 내용을 생동감 있게 재구성 였 으며 중간중간에 수학 자들의 에피소드 곁 들여 읽는 재미를 더 했다 ] 먼저 수학 자의 업 적을 개 략 적으로 소개 하고 개의 강 의를 통해 수학 개념 ] ] 수학 주제 들을 수학 자들의 목소리를 통해 이야기 형식 으로 들려 주는 수학 자가 들려 주는 수학 이야기 시리즈 ] 수학 교과서 내용을 생동감 있게 재구성 였 으며 중간중간에 수학 자들의 에피소드 곁 들여 읽는 재미를 더 했다 ] 먼저 수학 자의 업 적을 개 략 적으로 소개 하고 개의 강 의를 통해 수학 개념 ] ] 수학 주제 들을 수학 자들의 목소리를 통해 이야기 형식 으로 들려 주는 수학 자가 들려 주는 수학 이야기 시리즈 ] 수학 교과서 내용을 생동감 있게 재구성 였 으며 중간중간에 수학 자들의 에피소드 곁 들여 읽는 재미를 더 했다 ] 먼저 수학 자의 업 적을 개 략 적으로 소개 하고 개의 강 의를 통해 수학 개념 ] ] 수학 주제 들을 수학 자들의 목소리를 통해 이야기 형식 으로 들려 주는 수학 자가 들려 주는 수학 이야기 시리즈 ] 수학 교과서 내용을 생동감 있게 재구성 였 으며 중간중간에 수학 자들의 에피소드 곁 들여 읽는 재미를 더 했다 ] 먼저 수학 자의 업 적을 개 략 적으로 소개 하고 개의 강 의를 통해 수학 개념 ] ] 수학 주제 들을 수학 자들의 목소리를 통해 이야기 형식 으로 들려 주는 수학 자가 들려 주는 수학 이야기 시리즈 ] 수학 교과서 내용을 생동감 있게 재구성 였 으며 중간중간에 수학 자들의 에피소드 곁 들여 읽는 재미를 더 했다 ] 먼저 수학 자의 업 적을 개 략 적으로 소개 하고 개의 강 의를 통해 수학 개념 ] ] 수학 주제 들을 수학 자들의 목소리를 통해 이야기 형식 으로 들려 주는 수학 자가 들려 주는 수학 이야기 시리즈 ] 수학 교과서 내용을 생동감 있게 재구성 였 으며 중간중간에 수학 자들의 에피소드 곁 들여 읽는 재미를 더 했다 ] 먼저 수학 자의 업 적을 개 략 적으로 소개 하고 개의 강 의를 통해 수학 개념 ] ] 수학 주제 들을 수학 자들의 목소리를 통해 이야기 형식 으로 들려 주는 수학 자가 들려 주는 수학 이야기 시리즈 ] 수학 교과서 내용을 생동감 있게 재구성 였 으며 중간중간에 수학 자들의 에피소드 곁 들여 읽는 재미를 더 했다 ] 먼저 수학 자의 업 적을 개 략 적으로 소개 하고 개의 강 의를 통해 수학 개념 ] ] 수학 주제 들을 수학 자들의 목소리를 통해 이야기 형식 으로 들려 주는 수학 자가 들려 주는 수학 이야기 시리즈 ] 수학 교과서 내용을 생동감 있게 재구성 였 으며 중간중간에 수학 자들의 에피소드 곁 들여 읽는 재미를 더 했다 ] 먼저 수학 자의 업 적을 개 략 적으로 소개 하고 개의 강 의를 통해 수학 개념 ] ] 수학 주제 들을 수학 자들의 목소리를 통해 이야기 형식 으로 들려 주는 수학 자가 들려 주는 수학 이야기 시리즈 ] 수학 교과서 내용을 생동감 있게 재구성 였 으며 중간중간에 수학 자들의 에피소드 곁 들여 읽는 재미를 더 했다 ] 먼저 수학 자의 업 적을 개 략 적으로 소개 하고 개의 강 의를 통해 수학 개념 ] ] 수학 주제 들을 수학 자들의 목소리를 통해 이야기 형식 으로 들려 주는 수학 자가 들려 주는 수학 이야기 시리즈 ] 수학 교과서 내용을 생동감 있게 재구성 였 으며 중간중간에 수학 자들의 에피소드 곁 들여 읽는 재미를 더 했다 ] 먼저 수학 자의 업 적을 개 략 적으로 소개 하고 개의 강 의를 통해 수학 개념 ] ] 수학 주제 들을 수학 자들의 목소리를 통해 이야기 형식 으로 들려 주는 수학 자가 들려 주는 수학 이야기 시리즈 ] 수학 교과서 내용을 생동감 있게 재구성 였 으며 중간중간에 수학 자들의 에피소드 곁 들여 읽는 재미를 더 했다 ] 먼저 수학 자의 업 적을 개 략 적으로 소개 하고 개의 강 의를 통해 수학 개념 ] ] 수학 주제 들을 수학 자들의 목소리를 통해 이야기 형식 으로 들려 주는 수학 자가 들려 주는 수학 이야기 시리즈 ] 수학 교과서 내용을 생동감 있게 재구성 였 으며 중간중간에 수학 자들의 에피소드 곁 들여 읽는 재미를 더 했다 ] 먼저 수학 자의 업 적을 개 략 적으로 소개 하고 개의 강 의를 통해 수학 개념 ] ] 수학 주제 들을 수학 자들의 목소리를 통해 이야기 형식 으로 들려 주는 수학 자가 들려 주는 수학 이야기 시리즈 ] 수학 교과서 내용을 생동감 있게 재구성 였 으며 중간중간에 수학 자들의 에피소드 곁 들여 읽는 재미를 더 했다 ] 먼저 수학 자의 업 적을 개 략 적으로 소개 하고 개의 강 의를 통해 수학 개념 ] ] 수학 주제 들을 수학 자들의 목소리를 통해 이야기 형식 으로 들려 주는 수학 자가 들려 주는 수학 이야기 시리즈 ] 수학 교과서 내용을 생동감 있게 재구성 였 으며 중간중간에 수학 자들의 에피소드 곁 들여 읽는 재미를 더 했다 ] 먼저 수학 자의 업 적을 개 략 적으로 소개 하고 개의 강 의를 통해 수학 개념 ] ] 수학 주제 들을 수학 자들의 목소리를 통해 이야기 형식 으로 들려 주는 수학 자가 들려 주는 수학 이야기 시리즈 ] 수학 교과서 내용을 생동감 있게 재구성 였 으며 중간중간에 수학 자들의 에피소드 곁 들여 읽는 재미를 더 했다 ] 먼저 수학 자의 업 적을 개 략 적으로 소개 하고 개의 강 의를 통해 수학 개념 ] ] 수학 주제 들을 수학 자들의 목소리를 통해 이야기 형식 으로 들려 주는 수학 자가 들려 주는 수학 이야기 시리즈 ] 수학 교과서 내용을 생동감 있게 재구성 였 으며 중간중간에 수학 자들의 에피소드 곁 들여 읽는 재미를 더 했다 ] 먼저 수학 자의 업 적을 개 략 적으로 소개 하고 개의 강 의를 통해 수학 개념 ] ] 수학 주제 들을 수학 자들의 목소리를 통해 이야기 형식 으로 들려 주는 수학 자가 들려 주는 수학 이야기 시리즈 ] 수학 교과서 내용을 생동감 있게 재구성 였 으며 중간중간에 수학 자들의 에피소드 곁 들여 읽는 재미를 더 했다 ] 먼저 수학 자의 업 적을 개 략 적으로 소개 하고 개의 강 의를 통해 수학 개념 ] ] 수학 주제 들을 수학 자들의 목소리를 통해 이야기 형식 으로 들려 주는 수학 자가 들려 주는 수학 이야기 시리즈 ] 수학 교과서 내용을 생동감 있게 재구성 였 으며 중간중간에 수학 자들의 에피소드 곁 들여 읽는 재미를 더 했다 ] 먼저 수학 자의 업 적을 개 략 적으로 소개 하고 개의 강 의를 통해 수학 개념 ] ] 수학 주제 들을 수학 자들의 목소리를 통해 이야기 형식 으로 들려 주는 수학 자가 들려 주는 수학 이야기 시리즈 ] 수학 교과서 내용을 생동감 있게 재구성 였 으며 중간중간에 수학 자들의 에피소드 곁 들여 읽는 재미를 더 했다 ] 먼저 수학 자의 업 적을 개 략 적으로 소개 하고 개의 강 의를 통해 수학 개념 ] ] 수학 주제 들을 수학 자들의 목소리를 통해 이야기 형식 으로 들려 주는 수학 자가 들려 주는 수학 이야기 시리즈 ] 수학 교과서 내용을 생동감 있게 재구성 였 으며 중간중간에 수학 자들의 에피소드 곁 들여 읽는 재미를 더 했다 ] 먼저 수학 자의 업 적을 개 략 적으로 소개 하고 개의 강 의를 통해 수학 개념 ] ] 수학 주제 들을 수학 자들의 목소리를 통해 이야기 형식 으로 들려 주는 수학 자가 들려 주는 수학 이야기 시리즈 ] 수학 교과서 내용을 생동감 있게 재구성 였 으며 중간중간에 수학 자들의 에피소드 곁 들여 읽는 재미를 더 했다 ] 먼저 수학 자의 업 적을 개 략 적으로 소개 하고 개의 강 의를 통해 수학 개념 ] ] 수학 주제 들을 수학 자들의 목소리를 통해 이야기 형식 으로 들려 주는 수학 자가 들려 주는 수학 이야기 시리즈 ] 수학 교과서 내용을 생동감 있게 재구성 였 으며 중간중간에 수학 자들의 에피소드 곁 들여 읽는 재미를 더 했다 ] 먼저 수학 자의 업 적을 개 략 적으로 소개 하고 개의 강 의를 통해 수학 개념 ] ] 수학 주제 들을 수학 자들의 목소리를 통해 이야기 형식 으로 들려 주는 수학 자가 들려 주는 수학 이야기 시리즈 ] 수학 교과서 내용을 생동감 있게 재구성 였 으며 중간중간에 수학 자들의 에피소드 곁 들여 읽는 재미를 더 했다 ] 먼저 수학 자의 업 적을 개 략 적으로 소개 하고 개의 강 의를 통해 수학 개념 ] ] 수학 주제 들을 수학 자들의 목소리를 통해 이야기 형식 으로 들려 주는 수학 자가 들려 주는 수학 이야기 시리즈 ] 수학 교과서 내용을 생동감 있게 재구성 였 으며 중간중간에 수학 자들의 에피소드 곁 들여 읽는 재미를 더 했다 ] 먼저 수학 자의 업 적을 개 략 적으로 소개 하고 개의 강 의를 통해 수학 개념 ] ] 수학 주제 들을 수학 자들의 목소리를 통해 이야기 형식 으로 들려 주는 수학 자가 들려 주는 수학 이야기 시리즈 ] 수학 교과서 내용을 생동감 있게 재구성 였 으며 중간중간에 수학 자들의 에피소드 곁 들여 읽는 재미를 더 했다 ] 먼저 수학 자의 업 적을 개 략 적으로 소개 하고 개의 강 의를 통해 수학 개념 ] ] 수학 주제 들을 수학 자들의 목소리를 통해 이야기 형식 으로 들려 주는 수학 자가 들려 주는 수학 이야기 시리즈 ] 수학 교과서 내용을 생동감 있게 재구성 였 으며 중간중간에 수학 자들의 에피소드 곁 들여 읽는 재미를 더 했다 ] 먼저 수학 자의 업 적을 개 략 적으로 소개 하고 개의 강 의를 통해 수학 개념 ] ] 수학 주제 들을 수학 자들의 목소리를 통해 이야기 형식 으로 들려 주는 수학 자가 들려 주는 수학 이야기 시리즈 ] 수학 교과서 내용을 생동감 있게 재구성 였 으며 중간중간에 수학 자들의 에피소드 곁 들여 읽는 재미를 더 했다 ] 먼저 수학 자의 업 적을 개 략 적으로 소개 하고 개의 강 의를 통해 수학 개념 ] ] 수학 주제 들을 수학 자들의 목소리를 통해 이야기 형식 으로 들려 주는 수학 자가 들려 주는 수학 이야기 시리즈 ] 수학 교과서 내용을 생동감 있게 재구성 였 으며 중간중간에 수학 자들의 에피소드 곁 들여 읽는 재미를 더 했다 ] 먼저 수학 자의 업 적을 개 략 적으로 소개 하고 개의 강 의를 통해 수학 개념 ] ] 수학 주제 들을 수학 자들의 목소리를 통해 이야기 형식 으로 들려 주는 수학 자가 들려 주는 수학 이야기 시리즈 ] 수학 교과서 내용을 생동감 있게 재구성 였 으며 중간중간에 수학 자들의 에피소드 곁 들여 읽는 재미를 더 했다 ] 먼저 수학 자의 업 적을 개 략 적으로 소개 하고 개의 강 의를 통해 수학 개념 ] ] 수학 주제 들을 수학 자들의 목소리를 통해 이야기 형식 으로 들려 주는 수학 자가 들려 주는 수학 이야기 시리즈 ] 수학 교과서 내용을 생동감 있게 재구성 였 으며 중간중간에 수학 자들의 에피소드 곁 들여 읽는 재미를 더 했다 ] 먼저 수학 자의 업 적을 개 략 적으로 소개 하고 개의 강 의를 통해 수학 개념 ] ] 수학 주제 들을 수학 자들의 목소리를 통해 이야기 형식 으로 들려 주는 수학 자가 들려 주는 수학 이야기 시리즈 ] 수학 교과서 내용을 생동감 있게 재구성 였 으며 중간중간에 수학 자들의 에피소드 곁 들여 읽는 재미를 더 했다 ] 먼저 수학 자의 업 적을 개 략 적으로 소개 하고 개의 강 의를 통해 수학 개념 ] ] 수학 주제 들을 수학 자들의 목소리를 통해 이야기 형식 으로 들려 주는 수학 자가 들려 주는 수학 이야기 시리즈 ] 수학 교과서 내용을 생동감 있게 재구성 였 으며 중간중간에 수학 자들의 에피소드 곁 들여 읽는 재미를 더 했다 ] 먼저 수학 자의 업 적을 개 략 적으로 소개 하고 개의 강 의를 통해 수학 개념 ] ] 수학 주제 들을 수학 자들의 목소리를 통해 이야기 형식 으로 들려 주는 수학 자가 들려 주는 수학 이야기 시리즈 ] 수학 교과서 내용을 생동감 있게 재구성 였 으며 중간중간에 수학 자들의 에피소드 곁 들여 읽는 재미를 더 했다 ] 먼저 수학 자의 업 적을 개 략 적으로 소개 하고 개의 강 의를 통해 수학 개념 ] ] 수학 주제 들을 수학 자들의 목소리를 통해 이야기 형식 으로 들려 주는 수학 자가 들려 주는 수학 이야기 시리즈 ] 수학 교과서 내용을 생동감 있게 재구성 였 으며 중간중간에 수학 자들의 에피소드 곁 들여 읽는 재미를 더 했다 ] 먼저 수학 자의 업 적을 개 략 적으로 소개 하고 개의 강 의를 통해 수학 개념 ] ] 수학 주제 들을 수학 자들의 목소리를 통해 이야기 형식 으로 들려 주는 수학 자가 들려 주는 수학 이야기 시리즈 ] 수학 교과서 내용을 생동감 있게 재구성 였 으며 중간중간에 수학 자들의 에피소드 곁 들여 읽는 재미를 더 했다 ] 먼저 수학 자의 업 적을 개 략 적으로 소개 하고 개의 강 의를 통해 수학 개념 ] ] 수학 주제 들을 수학 자들의 목소리를 통해 이야기 형식 으로 들려 주는 수학 자가 들려 주는 수학 이야기 시리즈 ] 수학 교과서 내용을 생동감 있게 재구성 였 으며 중간중간에 수학 자들의 에피소드 곁 들여 읽는 재미를 더 했다 ] 먼저 수학 자의 업 적을 개 략 적으로 소개 하고 개의 강 의를 통해 수학 개념 ] ] 수학 주제 들을 수학 자들의 목소리를 통해 이야기 형식 으로 들려 주는 수학 자가 들려 주는 수학 이야기 시리즈 ] 수학 교과서 내용을 생동감 있게 재구성 였 으며 중간중간에 수학 자들의 에피소드 곁 들여 읽는 재미를 더 했다 ] 먼저 수학 자의 업 적을 개 략 적으로 소개 하고 개의 강 의를 통해 수학 개념 ] ] 수학 주제 들을 수학 자들의 목소리를 통해 이야기 형식 으로 들려 주는 수학 자가 들려 주는 수학 이야기 시리즈 ] 수학 교과서 내용을 생동감 있게 재구성 였 으며 중간중간에 수학 자들의 에피소드 곁 들여 읽는 재미를 더 했다 ] 먼저 수학 자의 업 적을 개 략 적으로 소개 하고 개의 강 의를 통해 수학 개념 ] ] 수학 주제 들을 수학 자들의 목소리를 통해 이야기 형식 으로 들려 주는 수학 자가 들려 주는 수학 이야기 시리즈 ] 수학 교과서 내용을 생동감 있게 재구성 였 으며 중간중간에 수학 자들의 에피소드 곁 들여 읽는 재미를 더 했다 ] 먼저 수학 자의 업 적을 개 략 적으로 소개 하고 개의 강 의를 통해 수학 개념 ] ] 수학 주제 들을 수학 자들의 목소리를 통해 이야기 형식 으로 들려 주는 수학 자가 들려 주는 수학 이야기 시리즈 ] 수학 교과서 내용을 생동감 있게 재구성 였 으며 중간중간에 수학 자들의 에피소드 곁 들여 읽는 재미를 더 했다 ] 먼저 수학 자의 업 적을 개 략 적으로 소개 하고 개의 강 의를 통해 수학 개념 ] ] 수학 주제 들을 수학 자들의 목소리를 통해 이야기 형식 으로 들려 주는 수학 자가 들려 주는 수학 이야기 시리즈 ] 수학 교과서 내용을 생동감 있게 재구성 였 으며 중간중간에 수학 자들의 에피소드 곁 들여 읽는 재미를 더 했다 ] 먼저 수학 자의 업 적을 개 략 적으로 소개 하고 개의 강 의를 통해 수학 개념 ] ] 수학 주제 들을 수학 자들의 목소리를 통해 이야기 형식 으로 들려 주는 수학 자가 들려 주는 수학 이야기 시리즈 ] 수학 교과서 내용을 생동감 있게 재구성 였 으며 중간중간에 수학 자들의 에피소드 곁 들여 읽는 재미를 더 했다 ] 먼저 수학 자의 업 적을 개 략 적으로 소개 하고 개의 강 의를 통해 수학 개념 ] ] 수학 주제 들을 수학 자들의 목소리를 통해 이야기 형식 으로 들려 주는 수학 자가 들려 주는 수학 이야기 시리즈 ] 수학 교과서 내용을 생동감 있게 재구성 였 으며 중간중간에 수학 자들의 에피소드 곁 들여 읽는 재미를 더 했다 ] 먼저 수학 자의 업 적을 개 략 적으로 소개 하고 개의 강 의를 통해 수학 개념 ] ] 수학 주제 들을 수학 자들의 목소리를 통해 이야기 형식 으로 들려 주는 수학 자가 들려 주는 수학 이야기 시리즈 ] 수학 교과서 내용을 생동감 있게 재구성 였 으며 중간중간에 수학 자들의 에피소드 곁 들여 읽는 재미를 더 했다 ] 먼저 수학 자의 업 적을 개 략 적으로 소개 하고 개의 강 의를 통해 수학 개념 ] ] 수학 주제 들을 수학 자들의 목소리를 통해 이야기 형식 으로 들려 주는 수학 자가 들려 주는 수학 이야기 시리즈 ] 수학 교과서 내용을 생동감 있게 재구성 였 으며 중간중간에 수학 자들의 에피소드 곁 들여 읽는 재미를 더 했다 ] 먼저 수학 자의 업 적을 개 략 적으로 소개 하고 개의 강 의를 통해 수학 개념 ] ] 수학 주제 들을 수학 자들의 목소리를 통해 이야기 형식 으로 들려 주는 수학 자가 들려 주는 수학 이야기 시리즈 ] 수학 교과서 내용을 생동감 있게 재구성 였 으며 중간중간에 수학 자들의 에피소드 곁 들여 읽는 재미를 더 했다 ] 먼저 수학 자의 업 적을 개 략 적으로 소개 하고 개의 강 의를 통해 수학 개념 ] ] 수학 주제 들을 수학 자들의 목소리를 통해 이야기 형식 으로 들려 주는 수학 자가 들려 주는 수학 이야기 시리즈 ] 수학 교과서 내용을 생동감 있게 재구성 였 으며 중간중간에 수학 자들의 에피소드 곁 들여 읽는 재미를 더 했다 ] 먼저 수학 자의 업 적을 개 략 적으로 소개 하고 개의 강 의를 통해 수학 개념 ] ] 수학 주제 들을 수학 자들의 목소리를 통해 이야기 형식 으로 들려 주는 수학 자가 들려 주는 수학 이야기 시리즈 ] 수학 교과서 내용을 생동감 있게 재구성 였 으며 중간중간에 수학 자들의 에피소드 곁 들여 읽는 재미를 더 했다 ] 먼저 수학 자의 업 적을 개 략 적으로 소개 하고 개의 강 의를 통해 수학 개념 ] ] 수학 주제 들을 수학 자들의 목소리를 통해 이야기 형식 으로 들려 주는 수학 자가 들려 주는 수학 이야기 시리즈 ] 수학 교과서 내용을 생동감 있게 재구성 였 으며 중간중간에 수학 자들의 에피소드 곁 들여 읽는 재미를 더 했다 ] 먼저 수학 자의 업 적을 개 략 적으로 소개 하고 개의 강 의를 통해 수학 개념 ] ] 수학 주제 들을 수학 자들의 목소리를 통해 이야기 형식 으로 들려 주는 수학 자가 들려 주는 수학 이야기 시리즈 ] 수학 교과서 내용을 생동감 있게 재구성 였 으며 중간중간에 수학 자들의 에피소드 곁 들여 읽는 재미를 더 했다 ] 먼저 수학 자의 업 적을 개 략 적으로 소개 하고 개의 강 의를 통해 수학 개념 ] ] 수학 주제 들을 수학 자들의 목소리를 통해 이야기 형식 으로 들려 주는 수학 자가 들려 주는 수학 이야기 시리즈 ] 수학 교과서 내용을 생동감 있게 재구성 였 으며 중간중간에 수학 자들의 에피소드 곁 들여 읽는 재미를 더 했다 ] 먼저 수학 자의 업 적을 개 략 적으로 소개 하고 개의 강 의를 통해 수학 개념 ] ] 수학 주제 들을 수학 자들의 목소리를 통해 이야기 형식 으로 들려 주는 수학 자가 들려 주는 수학 이야기 시리즈 ] 수학 교과서 내용을 생동감 있게 재구성 였 으며 중간중간에 수학 자들의 에피소드 곁 들여 읽는 재미를 더 했다 ] 먼저 수학 자의 업 적을 개 략 적으로 소개 하고 개의 강 의를 통해 수학 개념 ] ] 수학 주제 들을 수학 자들의 목소리를 통해 이야기 형식 으로 들려 주는 수학 자가 들려 주는 수학 이야기 시리즈 ] 수학 교과서 내용을 생동감 있게 재구성 였 으며 중간중간에 수학 자들의 에피소드 곁 들여 읽는 재미를 더 했다 ] 먼저 수학 자의 업 적을 개 략 적으로 소개 하고 개의 강 의를 통해 수학 개념 ] ] 수학 주제 들을 수학 자들의 목소리를 통해 이야기 형식 으로 들려 주는 수학 자가 들려 주는 수학 이야기 시리즈 ] 수학 교과서 내용을 생동감 있게 재구성 였 으며 중간중간에 수학 자들의 에피소드 곁 들여 읽는 재미를 더 했다 ] 먼저 수학 자의 업 적을 개 략 적으로 소개 하고 개의 강 의를 통해 수학 개념 ] ] 수학 주제 들을 수학 자들의 목소리를 통해 이야기 형식 으로 들려 주는 수학 자가 들려 주는 수학 이야기 시리즈 ] 수학 교과서 내용을 생동감 있게 재구성 였 으며 중간중간에 수학 자들의 에피소드 곁 들여 읽는 재미를 더 했다 ] 먼저 수학 자의 업 적을 개 략 적으로 소개 하고 개의 강 의를 통해 수학 개념 ] ] 수학 주제 들을 수학 자들의 목소리를 통해 이야기 형식 으로 들려 주는 수학 자가 들려 주는 수학 이야기 시리즈 ] 수학 교과서 내용을 생동감 있게 재구성 였 으며 중간중간에 수학 자들의 에피소드 곁 들여 읽는 재미를 더 했다 ] 먼저 수학 자의 업 적을 개 략 적으로 소개 하고 개의 강 의를 통해 수학 개념 ] ] 수학 주제 들을 수학 자들의 목소리를 통해 이야기 형식 으로 들려 주는 수학 자가 들려 주는 수학 이야기 시리즈 ] 수학 교과서 내용을 생동감 있게 재구성 였 으며 중간중간에 수학 자들의 에피소드 곁 들여 읽는 재미를 더 했다 ] 먼저 수학 자의 업 적을 개 략 적으로 소개 하고 개의 강 의를 통해 수학 개념 ] ] 수학 주제 들을 수학 자들의 목소리를 통해 이야기 형식 으로 들려 주는 수학 자가 들려 주는 수학 이야기 시리즈 ] 수학 교과서 내용을 생동감 있게 재구성 였 으며 중간중간에 수학 자들의 에피소드 곁 들여 읽는 재미를 더 했다 ] 먼저 수학 자의 업 적을 개 략 적으로 소개 하고 개의 강 의를 통해 수학 개념 ] ] 수학 주제 들을 수학 자들의 목소리를 통해 이야기 형식 으로 들려 주는 수학 자가 들려 주는 수학 이야기 시리즈 ] 수학 교과서 내용을 생동감 있게 재구성 였 으며 중간중간에 수학 자들의 에피소드 곁 들여 읽는 재미를 더 했다 ] 먼저 수학 자의 업 적을 개 략 적으로 소개 하고 개의 강 의를 통해 수학 개념 ] ] 수학 주제 들을 수학 자들의 목소리를 통해 이야기 형식 으로 들려 주는 수학 자가 들려 주는 수학 이야기 시리즈 ] 수학 교과서 내용을 생동감 있게 재구성 였 으며 중간중간에 수학 자들의 에피소드 곁 들여 읽는 재미를 더 했다 ] 먼저 수학 자의 업 적을 개 략 적으로 소개 하고 개의 강 의를 통해 수학 개념 ] ] \n",
            "실제 요약문 : PAD 푸 리에 들려 주는 삼각 함 이야기 ] ] PAD 푸 리에 들려 주는 삼각 함 이야기 ] ] PAD 푸 리에 들려 주는 삼각 함 이야기 ] ] PAD 푸 리에 들려 주는 삼각 함 이야기 ] ] PAD 푸 리에 들려 주는 삼각 함 이야기 ] ] PAD 푸 리에 들려 주는 삼각 함 이야기 ] ] PAD 푸 리에 들려 주는 삼각 함 이야기 ] ] PAD 푸 리에 들려 주는 삼각 함 이야기 ] ] PAD 푸 리에 들려 주는 삼각 함 이야기 ] ] PAD 푸 리에 들려 주는 삼각 함 이야기 ] ] PAD 푸 리에 들려 주는 삼각 함 이야기 ] ] PAD 푸 리에 들려 주는 삼각 함 이야기 ] ] PAD 푸 리에 들려 주는 삼각 함 이야기 ] ] \n",
            "1/1 [==============================] - 0s 23ms/step\n",
            "1/1 [==============================] - 0s 17ms/step\n",
            "1/1 [==============================] - 0s 18ms/step\n",
            "1/1 [==============================] - 0s 21ms/step\n",
            "1/1 [==============================] - 0s 15ms/step\n",
            "1/1 [==============================] - 0s 18ms/step\n",
            "1/1 [==============================] - 0s 20ms/step\n",
            "1/1 [==============================] - 0s 19ms/step\n",
            "1/1 [==============================] - 0s 19ms/step\n",
            "1/1 [==============================] - 0s 22ms/step\n",
            "1/1 [==============================] - 0s 21ms/step\n",
            "1/1 [==============================] - 0s 16ms/step\n",
            "1/1 [==============================] - 0s 19ms/step\n",
            "1/1 [==============================] - 0s 16ms/step\n",
            "1/1 [==============================] - 0s 17ms/step\n",
            "1/1 [==============================] - 0s 17ms/step\n",
            "1/1 [==============================] - 0s 18ms/step\n",
            "1/1 [==============================] - 0s 20ms/step\n",
            "1/1 [==============================] - 0s 22ms/step\n",
            "1/1 [==============================] - 0s 21ms/step\n",
            "1/1 [==============================] - 0s 21ms/step\n",
            "1/1 [==============================] - 0s 17ms/step\n",
            "1/1 [==============================] - 0s 17ms/step\n",
            "1/1 [==============================] - 0s 23ms/step\n",
            "1/1 [==============================] - 0s 18ms/step\n",
            "1/1 [==============================] - 0s 22ms/step\n",
            "1/1 [==============================] - 0s 17ms/step\n",
            "1/1 [==============================] - 0s 18ms/step\n",
            "1/1 [==============================] - 0s 17ms/step\n",
            "1/1 [==============================] - 0s 21ms/step\n",
            "예측 요약문 :  수학 수학 수학 수학 수학 수학 수학 수학 수학 수학 수학 수학 수학 수학 수학 수학 수학 수학 수학 수학 수학 수학 수학 수학 수학 수학 수학 ##N ##N\n",
            "\n",
            "\n"
          ]
        }
      ]
    },
    {
      "cell_type": "code",
      "source": [
        "print(\"원문 : \",seq2text(encoder_input_test[401]))\n",
        "print(\"실제 요약문 :\",seq2text(decoder_input_test[401]))\n",
        "print(\"예측 요약문 :\",decode_sequence(encoder_input_test[401].reshape(1, text_max_len)))\n",
        "print(\"\\n\")"
      ],
      "metadata": {
        "colab": {
          "base_uri": "https://localhost:8080/"
        },
        "id": "ULw_dLY7rWkB",
        "outputId": "efc7aff7-89e8-46e1-d2dd-e87ed4086e90"
      },
      "execution_count": null,
      "outputs": [
        {
          "output_type": "stream",
          "name": "stdout",
          "text": [
            "원문 :  초등학교 과학 교과서 실 린 개념 총 망 라 과학 사전 초등학생 과학 사 전 초등학교 교과서 지도 서 나오는 개념 아이들이 이해하기 쉽 도록 엮 책 입니다 ] 지구 물질 생명 에너 지의 네 부분 으로 나누 어 가나다 순 으로 정리 였 으며 실험 내용과 관련 사진 삽 화를 풍부 하게 실 어 어린이들이 ] ] 초등학교 과학 교과서 실 린 개념 총 망 라 과학 사전 초등학생 과학 사 전 초등학교 교과서 지도 서 나오는 개념 아이들이 이해하기 쉽 도록 엮 책 입니다 ] 지구 물질 생명 에너 지의 네 부분 으로 나누 어 가나다 순 으로 정리 였 으며 실험 내용과 관련 사진 삽 화를 풍부 하게 실 어 어린이들이 ] ] 초등학교 과학 교과서 실 린 개념 총 망 라 과학 사전 초등학생 과학 사 전 초등학교 교과서 지도 서 나오는 개념 아이들이 이해하기 쉽 도록 엮 책 입니다 ] 지구 물질 생명 에너 지의 네 부분 으로 나누 어 가나다 순 으로 정리 였 으며 실험 내용과 관련 사진 삽 화를 풍부 하게 실 어 어린이들이 ] ] 초등학교 과학 교과서 실 린 개념 총 망 라 과학 사전 초등학생 과학 사 전 초등학교 교과서 지도 서 나오는 개념 아이들이 이해하기 쉽 도록 엮 책 입니다 ] 지구 물질 생명 에너 지의 네 부분 으로 나누 어 가나다 순 으로 정리 였 으며 실험 내용과 관련 사진 삽 화를 풍부 하게 실 어 어린이들이 ] ] 초등학교 과학 교과서 실 린 개념 총 망 라 과학 사전 초등학생 과학 사 전 초등학교 교과서 지도 서 나오는 개념 아이들이 이해하기 쉽 도록 엮 책 입니다 ] 지구 물질 생명 에너 지의 네 부분 으로 나누 어 가나다 순 으로 정리 였 으며 실험 내용과 관련 사진 삽 화를 풍부 하게 실 어 어린이들이 ] ] 초등학교 과학 교과서 실 린 개념 총 망 라 과학 사전 초등학생 과학 사 전 초등학교 교과서 지도 서 나오는 개념 아이들이 이해하기 쉽 도록 엮 책 입니다 ] 지구 물질 생명 에너 지의 네 부분 으로 나누 어 가나다 순 으로 정리 였 으며 실험 내용과 관련 사진 삽 화를 풍부 하게 실 어 어린이들이 ] ] 초등학교 과학 교과서 실 린 개념 총 망 라 과학 사전 초등학생 과학 사 전 초등학교 교과서 지도 서 나오는 개념 아이들이 이해하기 쉽 도록 엮 책 입니다 ] 지구 물질 생명 에너 지의 네 부분 으로 나누 어 가나다 순 으로 정리 였 으며 실험 내용과 관련 사진 삽 화를 풍부 하게 실 어 어린이들이 ] ] 초등학교 과학 교과서 실 린 개념 총 망 라 과학 사전 초등학생 과학 사 전 초등학교 교과서 지도 서 나오는 개념 아이들이 이해하기 쉽 도록 엮 책 입니다 ] 지구 물질 생명 에너 지의 네 부분 으로 나누 어 가나다 순 으로 정리 였 으며 실험 내용과 관련 사진 삽 화를 풍부 하게 실 어 어린이들이 ] ] 초등학교 과학 교과서 실 린 개념 총 망 라 과학 사전 초등학생 과학 사 전 초등학교 교과서 지도 서 나오는 개념 아이들이 이해하기 쉽 도록 엮 책 입니다 ] 지구 물질 생명 에너 지의 네 부분 으로 나누 어 가나다 순 으로 정리 였 으며 실험 내용과 관련 사진 삽 화를 풍부 하게 실 어 어린이들이 ] ] 초등학교 과학 교과서 실 린 개념 총 망 라 과학 사전 초등학생 과학 사 전 초등학교 교과서 지도 서 나오는 개념 아이들이 이해하기 쉽 도록 엮 책 입니다 ] 지구 물질 생명 에너 지의 네 부분 으로 나누 어 가나다 순 으로 정리 였 으며 실험 내용과 관련 사진 삽 화를 풍부 하게 실 어 어린이들이 ] ] 초등학교 과학 교과서 실 린 개념 총 망 라 과학 사전 초등학생 과학 사 전 초등학교 교과서 지도 서 나오는 개념 아이들이 이해하기 쉽 도록 엮 책 입니다 ] 지구 물질 생명 에너 지의 네 부분 으로 나누 어 가나다 순 으로 정리 였 으며 실험 내용과 관련 사진 삽 화를 풍부 하게 실 어 어린이들이 ] ] 초등학교 과학 교과서 실 린 개념 총 망 라 과학 사전 초등학생 과학 사 전 초등학교 교과서 지도 서 나오는 개념 아이들이 이해하기 쉽 도록 엮 책 입니다 ] 지구 물질 생명 에너 지의 네 부분 으로 나누 어 가나다 순 으로 정리 였 으며 실험 내용과 관련 사진 삽 화를 풍부 하게 실 어 어린이들이 ] ] 초등학교 과학 교과서 실 린 개념 총 망 라 과학 사전 초등학생 과학 사 전 초등학교 교과서 지도 서 나오는 개념 아이들이 이해하기 쉽 도록 엮 책 입니다 ] 지구 물질 생명 에너 지의 네 부분 으로 나누 어 가나다 순 으로 정리 였 으며 실험 내용과 관련 사진 삽 화를 풍부 하게 실 어 어린이들이 ] ] 초등학교 과학 교과서 실 린 개념 총 망 라 과학 사전 초등학생 과학 사 전 초등학교 교과서 지도 서 나오는 개념 아이들이 이해하기 쉽 도록 엮 책 입니다 ] 지구 물질 생명 에너 지의 네 부분 으로 나누 어 가나다 순 으로 정리 였 으며 실험 내용과 관련 사진 삽 화를 풍부 하게 실 어 어린이들이 ] ] 초등학교 과학 교과서 실 린 개념 총 망 라 과학 사전 초등학생 과학 사 전 초등학교 교과서 지도 서 나오는 개념 아이들이 이해하기 쉽 도록 엮 책 입니다 ] 지구 물질 생명 에너 지의 네 부분 으로 나누 어 가나다 순 으로 정리 였 으며 실험 내용과 관련 사진 삽 화를 풍부 하게 실 어 어린이들이 ] ] 초등학교 과학 교과서 실 린 개념 총 망 라 과학 사전 초등학생 과학 사 전 초등학교 교과서 지도 서 나오는 개념 아이들이 이해하기 쉽 도록 엮 책 입니다 ] 지구 물질 생명 에너 지의 네 부분 으로 나누 어 가나다 순 으로 정리 였 으며 실험 내용과 관련 사진 삽 화를 풍부 하게 실 어 어린이들이 ] ] 초등학교 과학 교과서 실 린 개념 총 망 라 과학 사전 초등학생 과학 사 전 초등학교 교과서 지도 서 나오는 개념 아이들이 이해하기 쉽 도록 엮 책 입니다 ] 지구 물질 생명 에너 지의 네 부분 으로 나누 어 가나다 순 으로 정리 였 으며 실험 내용과 관련 사진 삽 화를 풍부 하게 실 어 어린이들이 ] ] 초등학교 과학 교과서 실 린 개념 총 망 라 과학 사전 초등학생 과학 사 전 초등학교 교과서 지도 서 나오는 개념 아이들이 이해하기 쉽 도록 엮 책 입니다 ] 지구 물질 생명 에너 지의 네 부분 으로 나누 어 가나다 순 으로 정리 였 으며 실험 내용과 관련 사진 삽 화를 풍부 하게 실 어 어린이들이 ] ] 초등학교 과학 교과서 실 린 개념 총 망 라 과학 사전 초등학생 과학 사 전 초등학교 교과서 지도 서 나오는 개념 아이들이 이해하기 쉽 도록 엮 책 입니다 ] 지구 물질 생명 에너 지의 네 부분 으로 나누 어 가나다 순 으로 정리 였 으며 실험 내용과 관련 사진 삽 화를 풍부 하게 실 어 어린이들이 ] ] 초등학교 과학 교과서 실 린 개념 총 망 라 과학 사전 초등학생 과학 사 전 초등학교 교과서 지도 서 나오는 개념 아이들이 이해하기 쉽 도록 엮 책 입니다 ] 지구 물질 생명 에너 지의 네 부분 으로 나누 어 가나다 순 으로 정리 였 으며 실험 내용과 관련 사진 삽 화를 풍부 하게 실 어 어린이들이 ] ] 초등학교 과학 교과서 실 린 개념 총 망 라 과학 사전 초등학생 과학 사 전 초등학교 교과서 지도 서 나오는 개념 아이들이 이해하기 쉽 도록 엮 책 입니다 ] 지구 물질 생명 에너 지의 네 부분 으로 나누 어 가나다 순 으로 정리 였 으며 실험 내용과 관련 사진 삽 화를 풍부 하게 실 어 어린이들이 ] ] 초등학교 과학 교과서 실 린 개념 총 망 라 과학 사전 초등학생 과학 사 전 초등학교 교과서 지도 서 나오는 개념 아이들이 이해하기 쉽 도록 엮 책 입니다 ] 지구 물질 생명 에너 지의 네 부분 으로 나누 어 가나다 순 으로 정리 였 으며 실험 내용과 관련 사진 삽 화를 풍부 하게 실 어 어린이들이 ] ] 초등학교 과학 교과서 실 린 개념 총 망 라 과학 사전 초등학생 과학 사 전 초등학교 교과서 지도 서 나오는 개념 아이들이 이해하기 쉽 도록 엮 책 입니다 ] 지구 물질 생명 에너 지의 네 부분 으로 나누 어 가나다 순 으로 정리 였 으며 실험 내용과 관련 사진 삽 화를 풍부 하게 실 어 어린이들이 ] ] 초등학교 과학 교과서 실 린 개념 총 망 라 과학 사전 초등학생 과학 사 전 초등학교 교과서 지도 서 나오는 개념 아이들이 이해하기 쉽 도록 엮 책 입니다 ] 지구 물질 생명 에너 지의 네 부분 으로 나누 어 가나다 순 으로 정리 였 으며 실험 내용과 관련 사진 삽 화를 풍부 하게 실 어 어린이들이 ] ] 초등학교 과학 교과서 실 린 개념 총 망 라 과학 사전 초등학생 과학 사 전 초등학교 교과서 지도 서 나오는 개념 아이들이 이해하기 쉽 도록 엮 책 입니다 ] 지구 물질 생명 에너 지의 네 부분 으로 나누 어 가나다 순 으로 정리 였 으며 실험 내용과 관련 사진 삽 화를 풍부 하게 실 어 어린이들이 ] ] 초등학교 과학 교과서 실 린 개념 총 망 라 과학 사전 초등학생 과학 사 전 초등학교 교과서 지도 서 나오는 개념 아이들이 이해하기 쉽 도록 엮 책 입니다 ] 지구 물질 생명 에너 지의 네 부분 으로 나누 어 가나다 순 으로 정리 였 으며 실험 내용과 관련 사진 삽 화를 풍부 하게 실 어 어린이들이 ] ] 초등학교 과학 교과서 실 린 개념 총 망 라 과학 사전 초등학생 과학 사 전 초등학교 교과서 지도 서 나오는 개념 아이들이 이해하기 쉽 도록 엮 책 입니다 ] 지구 물질 생명 에너 지의 네 부분 으로 나누 어 가나다 순 으로 정리 였 으며 실험 내용과 관련 사진 삽 화를 풍부 하게 실 어 어린이들이 ] ] 초등학교 과학 교과서 실 린 개념 총 망 라 과학 사전 초등학생 과학 사 전 초등학교 교과서 지도 서 나오는 개념 아이들이 이해하기 쉽 도록 엮 책 입니다 ] 지구 물질 생명 에너 지의 네 부분 으로 나누 어 가나다 순 으로 정리 였 으며 실험 내용과 관련 사진 삽 화를 풍부 하게 실 어 어린이들이 ] ] 초등학교 과학 교과서 실 린 개념 총 망 라 과학 사전 초등학생 과학 사 전 초등학교 교과서 지도 서 나오는 개념 아이들이 이해하기 쉽 도록 엮 책 입니다 ] 지구 물질 생명 에너 지의 네 부분 으로 나누 어 가나다 순 으로 정리 였 으며 실험 내용과 관련 사진 삽 화를 풍부 하게 실 어 어린이들이 ] ] 초등학교 과학 교과서 실 린 개념 총 망 라 과학 사전 초등학생 과학 사 전 초등학교 교과서 지도 서 나오는 개념 아이들이 이해하기 쉽 도록 엮 책 입니다 ] 지구 물질 생명 에너 지의 네 부분 으로 나누 어 가나다 순 으로 정리 였 으며 실험 내용과 관련 사진 삽 화를 풍부 하게 실 어 어린이들이 ] ] 초등학교 과학 교과서 실 린 개념 총 망 라 과학 사전 초등학생 과학 사 전 초등학교 교과서 지도 서 나오는 개념 아이들이 이해하기 쉽 도록 엮 책 입니다 ] 지구 물질 생명 에너 지의 네 부분 으로 나누 어 가나다 순 으로 정리 였 으며 실험 내용과 관련 사진 삽 화를 풍부 하게 실 어 어린이들이 ] ] 초등학교 과학 교과서 실 린 개념 총 망 라 과학 사전 초등학생 과학 사 전 초등학교 교과서 지도 서 나오는 개념 아이들이 이해하기 쉽 도록 엮 책 입니다 ] 지구 물질 생명 에너 지의 네 부분 으로 나누 어 가나다 순 으로 정리 였 으며 실험 내용과 관련 사진 삽 화를 풍부 하게 실 어 어린이들이 ] ] 초등학교 과학 교과서 실 린 개념 총 망 라 과학 사전 초등학생 과학 사 전 초등학교 교과서 지도 서 나오는 개념 아이들이 이해하기 쉽 도록 엮 책 입니다 ] 지구 물질 생명 에너 지의 네 부분 으로 나누 어 가나다 순 으로 정리 였 으며 실험 내용과 관련 사진 삽 화를 풍부 하게 실 어 어린이들이 ] ] 초등학교 과학 교과서 실 린 개념 총 망 라 과학 사전 초등학생 과학 사 전 초등학교 교과서 지도 서 나오는 개념 아이들이 이해하기 쉽 도록 엮 책 입니다 ] 지구 물질 생명 에너 지의 네 부분 으로 나누 어 가나다 순 으로 정리 였 으며 실험 내용과 관련 사진 삽 화를 풍부 하게 실 어 어린이들이 ] ] 초등학교 과학 교과서 실 린 개념 총 망 라 과학 사전 초등학생 과학 사 전 초등학교 교과서 지도 서 나오는 개념 아이들이 이해하기 쉽 도록 엮 책 입니다 ] 지구 물질 생명 에너 지의 네 부분 으로 나누 어 가나다 순 으로 정리 였 으며 실험 내용과 관련 사진 삽 화를 풍부 하게 실 어 어린이들이 ] ] 초등학교 과학 교과서 실 린 개념 총 망 라 과학 사전 초등학생 과학 사 전 초등학교 교과서 지도 서 나오는 개념 아이들이 이해하기 쉽 도록 엮 책 입니다 ] 지구 물질 생명 에너 지의 네 부분 으로 나누 어 가나다 순 으로 정리 였 으며 실험 내용과 관련 사진 삽 화를 풍부 하게 실 어 어린이들이 ] ] 초등학교 과학 교과서 실 린 개념 총 망 라 과학 사전 초등학생 과학 사 전 초등학교 교과서 지도 서 나오는 개념 아이들이 이해하기 쉽 도록 엮 책 입니다 ] 지구 물질 생명 에너 지의 네 부분 으로 나누 어 가나다 순 으로 정리 였 으며 실험 내용과 관련 사진 삽 화를 풍부 하게 실 어 어린이들이 ] ] 초등학교 과학 교과서 실 린 개념 총 망 라 과학 사전 초등학생 과학 사 전 초등학교 교과서 지도 서 나오는 개념 아이들이 이해하기 쉽 도록 엮 책 입니다 ] 지구 물질 생명 에너 지의 네 부분 으로 나누 어 가나다 순 으로 정리 였 으며 실험 내용과 관련 사진 삽 화를 풍부 하게 실 어 어린이들이 ] ] 초등학교 과학 교과서 실 린 개념 총 망 라 과학 사전 초등학생 과학 사 전 초등학교 교과서 지도 서 나오는 개념 아이들이 이해하기 쉽 도록 엮 책 입니다 ] 지구 물질 생명 에너 지의 네 부분 으로 나누 어 가나다 순 으로 정리 였 으며 실험 내용과 관련 사진 삽 화를 풍부 하게 실 어 어린이들이 ] ] 초등학교 과학 교과서 실 린 개념 총 망 라 과학 사전 초등학생 과학 사 전 초등학교 교과서 지도 서 나오는 개념 아이들이 이해하기 쉽 도록 엮 책 입니다 ] 지구 물질 생명 에너 지의 네 부분 으로 나누 어 가나다 순 으로 정리 였 으며 실험 내용과 관련 사진 삽 화를 풍부 하게 실 어 어린이들이 ] ] 초등학교 과학 교과서 실 린 개념 총 망 라 과학 사전 초등학생 과학 사 전 초등학교 교과서 지도 서 나오는 개념 아이들이 이해하기 쉽 도록 엮 책 입니다 ] 지구 물질 생명 에너 지의 네 부분 으로 나누 어 가나다 순 으로 정리 였 으며 실험 내용과 관련 사진 삽 화를 풍부 하게 실 어 어린이들이 ] ] 초등학교 과학 교과서 실 린 개념 총 망 라 과학 사전 초등학생 과학 사 전 초등학교 교과서 지도 서 나오는 개념 아이들이 이해하기 쉽 도록 엮 책 입니다 ] 지구 물질 생명 에너 지의 네 부분 으로 나누 어 가나다 순 으로 정리 였 으며 실험 내용과 관련 사진 삽 화를 풍부 하게 실 어 어린이들이 ] ] 초등학교 과학 교과서 실 린 개념 총 망 라 과학 사전 초등학생 과학 사 전 초등학교 교과서 지도 서 나오는 개념 아이들이 이해하기 쉽 도록 엮 책 입니다 ] 지구 물질 생명 에너 지의 네 부분 으로 나누 어 가나다 순 으로 정리 였 으며 실험 내용과 관련 사진 삽 화를 풍부 하게 실 어 어린이들이 ] ] 초등학교 과학 교과서 실 린 개념 총 망 라 과학 사전 초등학생 과학 사 전 초등학교 교과서 지도 서 나오는 개념 아이들이 이해하기 쉽 도록 엮 책 입니다 ] 지구 물질 생명 에너 지의 네 부분 으로 나누 어 가나다 순 으로 정리 였 으며 실험 내용과 관련 사진 삽 화를 풍부 하게 실 어 어린이들이 ] ] 초등학교 과학 교과서 실 린 개념 총 망 라 과학 사전 초등학생 과학 사 전 초등학교 교과서 지도 서 나오는 개념 아이들이 이해하기 쉽 도록 엮 책 입니다 ] 지구 물질 생명 에너 지의 네 부분 으로 나누 어 가나다 순 으로 정리 였 으며 실험 내용과 관련 사진 삽 화를 풍부 하게 실 어 어린이들이 ] ] 초등학교 과학 교과서 실 린 개념 총 망 라 과학 사전 초등학생 과학 사 전 초등학교 교과서 지도 서 나오는 개념 아이들이 이해하기 쉽 도록 엮 책 입니다 ] 지구 물질 생명 에너 지의 네 부분 으로 나누 어 가나다 순 으로 정리 였 으며 실험 내용과 관련 사진 삽 화를 풍부 하게 실 어 어린이들이 ] ] 초등학교 과학 교과서 실 린 개념 총 망 라 과학 사전 초등학생 과학 사 전 초등학교 교과서 지도 서 나오는 개념 아이들이 이해하기 쉽 도록 엮 책 입니다 ] 지구 물질 생명 에너 지의 네 부분 으로 나누 어 가나다 순 으로 정리 였 으며 실험 내용과 관련 사진 삽 화를 풍부 하게 실 어 어린이들이 ] ] 초등학교 과학 교과서 실 린 개념 총 망 라 과학 사전 초등학생 과학 사 전 초등학교 교과서 지도 서 나오는 개념 아이들이 이해하기 쉽 도록 엮 책 입니다 ] 지구 물질 생명 에너 지의 네 부분 으로 나누 어 가나다 순 으로 정리 였 으며 실험 내용과 관련 사진 삽 화를 풍부 하게 실 어 어린이들이 ] ] 초등학교 과학 교과서 실 린 개념 총 망 라 과학 사전 초등학생 과학 사 전 초등학교 교과서 지도 서 나오는 개념 아이들이 이해하기 쉽 도록 엮 책 입니다 ] 지구 물질 생명 에너 지의 네 부분 으로 나누 어 가나다 순 으로 정리 였 으며 실험 내용과 관련 사진 삽 화를 풍부 하게 실 어 어린이들이 ] ] 초등학교 과학 교과서 실 린 개념 총 망 라 과학 사전 초등학생 과학 사 전 초등학교 교과서 지도 서 나오는 개념 아이들이 이해하기 쉽 도록 엮 책 입니다 ] 지구 물질 생명 에너 지의 네 부분 으로 나누 어 가나다 순 으로 정리 였 으며 실험 내용과 관련 사진 삽 화를 풍부 하게 실 어 어린이들이 ] ] 초등학교 과학 교과서 실 린 개념 총 망 라 과학 사전 초등학생 과학 사 전 초등학교 교과서 지도 서 나오는 개념 아이들이 이해하기 쉽 도록 엮 책 입니다 ] 지구 물질 생명 에너 지의 네 부분 으로 나누 어 가나다 순 으로 정리 였 으며 실험 내용과 관련 사진 삽 화를 풍부 하게 실 어 어린이들이 ] ] 초등학교 과학 교과서 실 린 개념 총 망 라 과학 사전 초등학생 과학 사 전 초등학교 교과서 지도 서 나오는 개념 아이들이 이해하기 쉽 도록 엮 책 입니다 ] 지구 물질 생명 에너 지의 네 부분 으로 나누 어 가나다 순 으로 정리 였 으며 실험 내용과 관련 사진 삽 화를 풍부 하게 실 어 어린이들이 ] ] 초등학교 과학 교과서 실 린 개념 총 망 라 과학 사전 초등학생 과학 사 전 초등학교 교과서 지도 서 나오는 개념 아이들이 이해하기 쉽 도록 엮 책 입니다 ] 지구 물질 생명 에너 지의 네 부분 으로 나누 어 가나다 순 으로 정리 였 으며 실험 내용과 관련 사진 삽 화를 풍부 하게 실 어 어린이들이 ] ] 초등학교 과학 교과서 실 린 개념 총 망 라 과학 사전 초등학생 과학 사 전 초등학교 교과서 지도 서 나오는 개념 아이들이 이해하기 쉽 도록 엮 책 입니다 ] 지구 물질 생명 에너 지의 네 부분 으로 나누 어 가나다 순 으로 정리 였 으며 실험 내용과 관련 사진 삽 화를 풍부 하게 실 어 어린이들이 ] ] 초등학교 과학 교과서 실 린 개념 총 망 라 과학 사전 초등학생 과학 사 전 초등학교 교과서 지도 서 나오는 개념 아이들이 이해하기 쉽 도록 엮 책 입니다 ] 지구 물질 생명 에너 지의 네 부분 으로 나누 어 가나다 순 으로 정리 였 으며 실험 내용과 관련 사진 삽 화를 풍부 하게 실 어 어린이들이 ] ] 초등학교 과학 교과서 실 린 개념 총 망 라 과학 사전 초등학생 과학 사 전 초등학교 교과서 지도 서 나오는 개념 아이들이 이해하기 쉽 도록 엮 책 입니다 ] 지구 물질 생명 에너 지의 네 부분 으로 나누 어 가나다 순 으로 정리 였 으며 실험 내용과 관련 사진 삽 화를 풍부 하게 실 어 어린이들이 ] ] 초등학교 과학 교과서 실 린 개념 총 망 라 과학 사전 초등학생 과학 사 전 초등학교 교과서 지도 서 나오는 개념 아이들이 이해하기 쉽 도록 엮 책 입니다 ] 지구 물질 생명 에너 지의 네 부분 으로 나누 어 가나다 순 으로 정리 였 으며 실험 내용과 관련 사진 삽 화를 풍부 하게 실 어 어린이들이 ] ] 초등학교 과학 교과서 실 린 개념 총 망 라 과학 사전 초등학생 과학 사 전 초등학교 교과서 지도 서 나오는 개념 아이들이 이해하기 쉽 도록 엮 책 입니다 ] 지구 물질 생명 에너 지의 네 부분 으로 나누 어 가나다 순 으로 정리 였 으며 실험 내용과 관련 사진 삽 화를 풍부 하게 실 어 어린이들이 ] ] 초등학교 과학 교과서 실 린 개념 총 망 라 과학 사전 초등학생 과학 사 전 초등학교 교과서 지도 서 나오는 개념 아이들이 이해하기 쉽 도록 엮 책 입니다 ] 지구 물질 생명 에너 지의 네 부분 으로 나누 어 가나다 순 으로 정리 였 으며 실험 내용과 관련 사진 삽 화를 풍부 하게 실 어 어린이들이 ] ] 초등학교 과학 교과서 실 린 개념 총 망 라 과학 사전 초등학생 과학 사 전 초등학교 교과서 지도 서 나오는 개념 아이들이 이해하기 쉽 도록 엮 책 입니다 ] 지구 물질 생명 에너 지의 네 부분 으로 나누 어 가나다 순 으로 정리 였 으며 실험 내용과 관련 사진 삽 화를 풍부 하게 실 어 어린이들이 ] ] 초등학교 과학 교과서 실 린 개념 총 망 라 과학 사전 초등학생 과학 사 전 초등학교 교과서 지도 서 나오는 개념 아이들이 이해하기 쉽 도록 엮 책 입니다 ] 지구 물질 생명 에너 지의 네 부분 으로 나누 어 가나다 순 으로 정리 였 으며 실험 내용과 관련 사진 삽 화를 풍부 하게 실 어 어린이들이 ] ] \n",
            "실제 요약문 : PAD 개념 쏙 ] 실력 쑥 ] 초등 학생 과학 사전 ] ] PAD 개념 쏙 ] 실력 쑥 ] 초등 학생 과학 사전 ] ] PAD 개념 쏙 ] 실력 쑥 ] 초등 학생 과학 사전 ] ] PAD 개념 쏙 ] 실력 쑥 ] 초등 학생 과학 사전 ] ] PAD 개념 쏙 ] 실력 쑥 ] 초등 학생 과학 사전 ] ] PAD 개념 쏙 ] 실력 쑥 ] 초등 학생 과학 사전 ] ] PAD 개념 쏙 ] 실력 쑥 ] 초등 학생 과학 사전 ] ] PAD 개념 쏙 ] 실력 쑥 ] 초등 학생 과학 사전 ] ] PAD 개념 쏙 ] 실력 쑥 ] 초등 학생 과학 사전 ] ] PAD 개념 쏙 ] 실력 쑥 ] 초등 학생 과학 사전 ] ] PAD 개념 쏙 ] 실력 쑥 ] 초등 학생 과학 사전 ] ] PAD 개념 쏙 ] 실력 쑥 ] 초등 학생 과학 사전 ] ] PAD 개념 쏙 ] 실력 쑥 ] 초등 학생 과학 사전 ] ] PAD 개념 쏙 ] 실력 쑥 ] 초등 학생 과학 사전 ] ] PAD 개념 쏙 ] 실력 쑥 ] 초등 학생 과학 사전 ] ] \n",
            "1/1 [==============================] - 0s 22ms/step\n",
            "1/1 [==============================] - 0s 18ms/step\n",
            "1/1 [==============================] - 0s 22ms/step\n",
            "1/1 [==============================] - 0s 20ms/step\n",
            "1/1 [==============================] - 0s 21ms/step\n",
            "1/1 [==============================] - 0s 19ms/step\n",
            "1/1 [==============================] - 0s 18ms/step\n",
            "1/1 [==============================] - 0s 16ms/step\n",
            "1/1 [==============================] - 0s 18ms/step\n",
            "1/1 [==============================] - 0s 17ms/step\n",
            "1/1 [==============================] - 0s 21ms/step\n",
            "1/1 [==============================] - 0s 17ms/step\n",
            "1/1 [==============================] - 0s 19ms/step\n",
            "1/1 [==============================] - 0s 17ms/step\n",
            "1/1 [==============================] - 0s 20ms/step\n",
            "1/1 [==============================] - 0s 17ms/step\n",
            "1/1 [==============================] - 0s 19ms/step\n",
            "1/1 [==============================] - 0s 18ms/step\n",
            "1/1 [==============================] - 0s 16ms/step\n",
            "1/1 [==============================] - 0s 20ms/step\n",
            "1/1 [==============================] - 0s 18ms/step\n",
            "1/1 [==============================] - 0s 25ms/step\n",
            "1/1 [==============================] - 0s 18ms/step\n",
            "1/1 [==============================] - 0s 25ms/step\n",
            "1/1 [==============================] - 0s 17ms/step\n",
            "1/1 [==============================] - 0s 22ms/step\n",
            "1/1 [==============================] - 0s 17ms/step\n",
            "1/1 [==============================] - 0s 23ms/step\n",
            "1/1 [==============================] - 0s 21ms/step\n",
            "1/1 [==============================] - 0s 19ms/step\n",
            "예측 요약문 :  쿠 과학 과학 상식 학 U U U U U U U U U U U U U U U U U U U U U U U U\n",
            "\n",
            "\n"
          ]
        }
      ]
    },
    {
      "cell_type": "code",
      "source": [
        "print(\"원문 : \",seq2text(encoder_input_test[1050]))\n",
        "print(\"실제 요약문 :\",seq2text(decoder_input_test[1050]))\n",
        "print(\"예측 요약문 :\",decode_sequence(encoder_input_test[1050].reshape(1, text_max_len)))\n",
        "print(\"\\n\")"
      ],
      "metadata": {
        "colab": {
          "base_uri": "https://localhost:8080/"
        },
        "id": "yBG-MmiursWJ",
        "outputId": "1998eec6-45a6-4429-a28f-e11a661522eb"
      },
      "execution_count": null,
      "outputs": [
        {
          "output_type": "stream",
          "name": "stdout",
          "text": [
            "원문 :  금 융 시장 역사와 현재 미래 펼쳐 보이는 탄탄한 내용을 갖추고 있는 경제 금 융 관한 입 문 서 이다 ] 심리 학 과학 사이 오 가는 투자 묘미 주식 채 권 파 생 상 품이 결합 하고 무 분 별한 거 래 이루어 질 때 발생 하는 위험 수학 적인 시장 분 석 치명 적 오류 증 권 시장 에서 일어나는 모든 일에 대하여 상 세 하게 설명 하고 있다 ] ] 금 융 시장 역사와 현재 미래 펼쳐 보이는 탄탄한 내용을 갖추고 있는 경제 금 융 관한 입 문 서 이다 ] 심리 학 과학 사이 오 가는 투자 묘미 주식 채 권 파 생 상 품이 결합 하고 무 분 별한 거 래 이루어 질 때 발생 하는 위험 수학 적인 시장 분 석 치명 적 오류 증 권 시장 에서 일어나는 모든 일에 대하여 상 세 하게 설명 하고 있다 ] ] 금 융 시장 역사와 현재 미래 펼쳐 보이는 탄탄한 내용을 갖추고 있는 경제 금 융 관한 입 문 서 이다 ] 심리 학 과학 사이 오 가는 투자 묘미 주식 채 권 파 생 상 품이 결합 하고 무 분 별한 거 래 이루어 질 때 발생 하는 위험 수학 적인 시장 분 석 치명 적 오류 증 권 시장 에서 일어나는 모든 일에 대하여 상 세 하게 설명 하고 있다 ] ] 금 융 시장 역사와 현재 미래 펼쳐 보이는 탄탄한 내용을 갖추고 있는 경제 금 융 관한 입 문 서 이다 ] 심리 학 과학 사이 오 가는 투자 묘미 주식 채 권 파 생 상 품이 결합 하고 무 분 별한 거 래 이루어 질 때 발생 하는 위험 수학 적인 시장 분 석 치명 적 오류 증 권 시장 에서 일어나는 모든 일에 대하여 상 세 하게 설명 하고 있다 ] ] 금 융 시장 역사와 현재 미래 펼쳐 보이는 탄탄한 내용을 갖추고 있는 경제 금 융 관한 입 문 서 이다 ] 심리 학 과학 사이 오 가는 투자 묘미 주식 채 권 파 생 상 품이 결합 하고 무 분 별한 거 래 이루어 질 때 발생 하는 위험 수학 적인 시장 분 석 치명 적 오류 증 권 시장 에서 일어나는 모든 일에 대하여 상 세 하게 설명 하고 있다 ] ] 금 융 시장 역사와 현재 미래 펼쳐 보이는 탄탄한 내용을 갖추고 있는 경제 금 융 관한 입 문 서 이다 ] 심리 학 과학 사이 오 가는 투자 묘미 주식 채 권 파 생 상 품이 결합 하고 무 분 별한 거 래 이루어 질 때 발생 하는 위험 수학 적인 시장 분 석 치명 적 오류 증 권 시장 에서 일어나는 모든 일에 대하여 상 세 하게 설명 하고 있다 ] ] 금 융 시장 역사와 현재 미래 펼쳐 보이는 탄탄한 내용을 갖추고 있는 경제 금 융 관한 입 문 서 이다 ] 심리 학 과학 사이 오 가는 투자 묘미 주식 채 권 파 생 상 품이 결합 하고 무 분 별한 거 래 이루어 질 때 발생 하는 위험 수학 적인 시장 분 석 치명 적 오류 증 권 시장 에서 일어나는 모든 일에 대하여 상 세 하게 설명 하고 있다 ] ] 금 융 시장 역사와 현재 미래 펼쳐 보이는 탄탄한 내용을 갖추고 있는 경제 금 융 관한 입 문 서 이다 ] 심리 학 과학 사이 오 가는 투자 묘미 주식 채 권 파 생 상 품이 결합 하고 무 분 별한 거 래 이루어 질 때 발생 하는 위험 수학 적인 시장 분 석 치명 적 오류 증 권 시장 에서 일어나는 모든 일에 대하여 상 세 하게 설명 하고 있다 ] ] 금 융 시장 역사와 현재 미래 펼쳐 보이는 탄탄한 내용을 갖추고 있는 경제 금 융 관한 입 문 서 이다 ] 심리 학 과학 사이 오 가는 투자 묘미 주식 채 권 파 생 상 품이 결합 하고 무 분 별한 거 래 이루어 질 때 발생 하는 위험 수학 적인 시장 분 석 치명 적 오류 증 권 시장 에서 일어나는 모든 일에 대하여 상 세 하게 설명 하고 있다 ] ] 금 융 시장 역사와 현재 미래 펼쳐 보이는 탄탄한 내용을 갖추고 있는 경제 금 융 관한 입 문 서 이다 ] 심리 학 과학 사이 오 가는 투자 묘미 주식 채 권 파 생 상 품이 결합 하고 무 분 별한 거 래 이루어 질 때 발생 하는 위험 수학 적인 시장 분 석 치명 적 오류 증 권 시장 에서 일어나는 모든 일에 대하여 상 세 하게 설명 하고 있다 ] ] 금 융 시장 역사와 현재 미래 펼쳐 보이는 탄탄한 내용을 갖추고 있는 경제 금 융 관한 입 문 서 이다 ] 심리 학 과학 사이 오 가는 투자 묘미 주식 채 권 파 생 상 품이 결합 하고 무 분 별한 거 래 이루어 질 때 발생 하는 위험 수학 적인 시장 분 석 치명 적 오류 증 권 시장 에서 일어나는 모든 일에 대하여 상 세 하게 설명 하고 있다 ] ] 금 융 시장 역사와 현재 미래 펼쳐 보이는 탄탄한 내용을 갖추고 있는 경제 금 융 관한 입 문 서 이다 ] 심리 학 과학 사이 오 가는 투자 묘미 주식 채 권 파 생 상 품이 결합 하고 무 분 별한 거 래 이루어 질 때 발생 하는 위험 수학 적인 시장 분 석 치명 적 오류 증 권 시장 에서 일어나는 모든 일에 대하여 상 세 하게 설명 하고 있다 ] ] 금 융 시장 역사와 현재 미래 펼쳐 보이는 탄탄한 내용을 갖추고 있는 경제 금 융 관한 입 문 서 이다 ] 심리 학 과학 사이 오 가는 투자 묘미 주식 채 권 파 생 상 품이 결합 하고 무 분 별한 거 래 이루어 질 때 발생 하는 위험 수학 적인 시장 분 석 치명 적 오류 증 권 시장 에서 일어나는 모든 일에 대하여 상 세 하게 설명 하고 있다 ] ] 금 융 시장 역사와 현재 미래 펼쳐 보이는 탄탄한 내용을 갖추고 있는 경제 금 융 관한 입 문 서 이다 ] 심리 학 과학 사이 오 가는 투자 묘미 주식 채 권 파 생 상 품이 결합 하고 무 분 별한 거 래 이루어 질 때 발생 하는 위험 수학 적인 시장 분 석 치명 적 오류 증 권 시장 에서 일어나는 모든 일에 대하여 상 세 하게 설명 하고 있다 ] ] 금 융 시장 역사와 현재 미래 펼쳐 보이는 탄탄한 내용을 갖추고 있는 경제 금 융 관한 입 문 서 이다 ] 심리 학 과학 사이 오 가는 투자 묘미 주식 채 권 파 생 상 품이 결합 하고 무 분 별한 거 래 이루어 질 때 발생 하는 위험 수학 적인 시장 분 석 치명 적 오류 증 권 시장 에서 일어나는 모든 일에 대하여 상 세 하게 설명 하고 있다 ] ] 금 융 시장 역사와 현재 미래 펼쳐 보이는 탄탄한 내용을 갖추고 있는 경제 금 융 관한 입 문 서 이다 ] 심리 학 과학 사이 오 가는 투자 묘미 주식 채 권 파 생 상 품이 결합 하고 무 분 별한 거 래 이루어 질 때 발생 하는 위험 수학 적인 시장 분 석 치명 적 오류 증 권 시장 에서 일어나는 모든 일에 대하여 상 세 하게 설명 하고 있다 ] ] 금 융 시장 역사와 현재 미래 펼쳐 보이는 탄탄한 내용을 갖추고 있는 경제 금 융 관한 입 문 서 이다 ] 심리 학 과학 사이 오 가는 투자 묘미 주식 채 권 파 생 상 품이 결합 하고 무 분 별한 거 래 이루어 질 때 발생 하는 위험 수학 적인 시장 분 석 치명 적 오류 증 권 시장 에서 일어나는 모든 일에 대하여 상 세 하게 설명 하고 있다 ] ] 금 융 시장 역사와 현재 미래 펼쳐 보이는 탄탄한 내용을 갖추고 있는 경제 금 융 관한 입 문 서 이다 ] 심리 학 과학 사이 오 가는 투자 묘미 주식 채 권 파 생 상 품이 결합 하고 무 분 별한 거 래 이루어 질 때 발생 하는 위험 수학 적인 시장 분 석 치명 적 오류 증 권 시장 에서 일어나는 모든 일에 대하여 상 세 하게 설명 하고 있다 ] ] 금 융 시장 역사와 현재 미래 펼쳐 보이는 탄탄한 내용을 갖추고 있는 경제 금 융 관한 입 문 서 이다 ] 심리 학 과학 사이 오 가는 투자 묘미 주식 채 권 파 생 상 품이 결합 하고 무 분 별한 거 래 이루어 질 때 발생 하는 위험 수학 적인 시장 분 석 치명 적 오류 증 권 시장 에서 일어나는 모든 일에 대하여 상 세 하게 설명 하고 있다 ] ] 금 융 시장 역사와 현재 미래 펼쳐 보이는 탄탄한 내용을 갖추고 있는 경제 금 융 관한 입 문 서 이다 ] 심리 학 과학 사이 오 가는 투자 묘미 주식 채 권 파 생 상 품이 결합 하고 무 분 별한 거 래 이루어 질 때 발생 하는 위험 수학 적인 시장 분 석 치명 적 오류 증 권 시장 에서 일어나는 모든 일에 대하여 상 세 하게 설명 하고 있다 ] ] 금 융 시장 역사와 현재 미래 펼쳐 보이는 탄탄한 내용을 갖추고 있는 경제 금 융 관한 입 문 서 이다 ] 심리 학 과학 사이 오 가는 투자 묘미 주식 채 권 파 생 상 품이 결합 하고 무 분 별한 거 래 이루어 질 때 발생 하는 위험 수학 적인 시장 분 석 치명 적 오류 증 권 시장 에서 일어나는 모든 일에 대하여 상 세 하게 설명 하고 있다 ] ] 금 융 시장 역사와 현재 미래 펼쳐 보이는 탄탄한 내용을 갖추고 있는 경제 금 융 관한 입 문 서 이다 ] 심리 학 과학 사이 오 가는 투자 묘미 주식 채 권 파 생 상 품이 결합 하고 무 분 별한 거 래 이루어 질 때 발생 하는 위험 수학 적인 시장 분 석 치명 적 오류 증 권 시장 에서 일어나는 모든 일에 대하여 상 세 하게 설명 하고 있다 ] ] 금 융 시장 역사와 현재 미래 펼쳐 보이는 탄탄한 내용을 갖추고 있는 경제 금 융 관한 입 문 서 이다 ] 심리 학 과학 사이 오 가는 투자 묘미 주식 채 권 파 생 상 품이 결합 하고 무 분 별한 거 래 이루어 질 때 발생 하는 위험 수학 적인 시장 분 석 치명 적 오류 증 권 시장 에서 일어나는 모든 일에 대하여 상 세 하게 설명 하고 있다 ] ] 금 융 시장 역사와 현재 미래 펼쳐 보이는 탄탄한 내용을 갖추고 있는 경제 금 융 관한 입 문 서 이다 ] 심리 학 과학 사이 오 가는 투자 묘미 주식 채 권 파 생 상 품이 결합 하고 무 분 별한 거 래 이루어 질 때 발생 하는 위험 수학 적인 시장 분 석 치명 적 오류 증 권 시장 에서 일어나는 모든 일에 대하여 상 세 하게 설명 하고 있다 ] ] 금 융 시장 역사와 현재 미래 펼쳐 보이는 탄탄한 내용을 갖추고 있는 경제 금 융 관한 입 문 서 이다 ] 심리 학 과학 사이 오 가는 투자 묘미 주식 채 권 파 생 상 품이 결합 하고 무 분 별한 거 래 이루어 질 때 발생 하는 위험 수학 적인 시장 분 석 치명 적 오류 증 권 시장 에서 일어나는 모든 일에 대하여 상 세 하게 설명 하고 있다 ] ] 금 융 시장 역사와 현재 미래 펼쳐 보이는 탄탄한 내용을 갖추고 있는 경제 금 융 관한 입 문 서 이다 ] 심리 학 과학 사이 오 가는 투자 묘미 주식 채 권 파 생 상 품이 결합 하고 무 분 별한 거 래 이루어 질 때 발생 하는 위험 수학 적인 시장 분 석 치명 적 오류 증 권 시장 에서 일어나는 모든 일에 대하여 상 세 하게 설명 하고 있다 ] ] 금 융 시장 역사와 현재 미래 펼쳐 보이는 탄탄한 내용을 갖추고 있는 경제 금 융 관한 입 문 서 이다 ] 심리 학 과학 사이 오 가는 투자 묘미 주식 채 권 파 생 상 품이 결합 하고 무 분 별한 거 래 이루어 질 때 발생 하는 위험 수학 적인 시장 분 석 치명 적 오류 증 권 시장 에서 일어나는 모든 일에 대하여 상 세 하게 설명 하고 있다 ] ] 금 융 시장 역사와 현재 미래 펼쳐 보이는 탄탄한 내용을 갖추고 있는 경제 금 융 관한 입 문 서 이다 ] 심리 학 과학 사이 오 가는 투자 묘미 주식 채 권 파 생 상 품이 결합 하고 무 분 별한 거 래 이루어 질 때 발생 하는 위험 수학 적인 시장 분 석 치명 적 오류 증 권 시장 에서 일어나는 모든 일에 대하여 상 세 하게 설명 하고 있다 ] ] 금 융 시장 역사와 현재 미래 펼쳐 보이는 탄탄한 내용을 갖추고 있는 경제 금 융 관한 입 문 서 이다 ] 심리 학 과학 사이 오 가는 투자 묘미 주식 채 권 파 생 상 품이 결합 하고 무 분 별한 거 래 이루어 질 때 발생 하는 위험 수학 적인 시장 분 석 치명 적 오류 증 권 시장 에서 일어나는 모든 일에 대하여 상 세 하게 설명 하고 있다 ] ] 금 융 시장 역사와 현재 미래 펼쳐 보이는 탄탄한 내용을 갖추고 있는 경제 금 융 관한 입 문 서 이다 ] 심리 학 과학 사이 오 가는 투자 묘미 주식 채 권 파 생 상 품이 결합 하고 무 분 별한 거 래 이루어 질 때 발생 하는 위험 수학 적인 시장 분 석 치명 적 오류 증 권 시장 에서 일어나는 모든 일에 대하여 상 세 하게 설명 하고 있다 ] ] 금 융 시장 역사와 현재 미래 펼쳐 보이는 탄탄한 내용을 갖추고 있는 경제 금 융 관한 입 문 서 이다 ] 심리 학 과학 사이 오 가는 투자 묘미 주식 채 권 파 생 상 품이 결합 하고 무 분 별한 거 래 이루어 질 때 발생 하는 위험 수학 적인 시장 분 석 치명 적 오류 증 권 시장 에서 일어나는 모든 일에 대하여 상 세 하게 설명 하고 있다 ] ] 금 융 시장 역사와 현재 미래 펼쳐 보이는 탄탄한 내용을 갖추고 있는 경제 금 융 관한 입 문 서 이다 ] 심리 학 과학 사이 오 가는 투자 묘미 주식 채 권 파 생 상 품이 결합 하고 무 분 별한 거 래 이루어 질 때 발생 하는 위험 수학 적인 시장 분 석 치명 적 오류 증 권 시장 에서 일어나는 모든 일에 대하여 상 세 하게 설명 하고 있다 ] ] 금 융 시장 역사와 현재 미래 펼쳐 보이는 탄탄한 내용을 갖추고 있는 경제 금 융 관한 입 문 서 이다 ] 심리 학 과학 사이 오 가는 투자 묘미 주식 채 권 파 생 상 품이 결합 하고 무 분 별한 거 래 이루어 질 때 발생 하는 위험 수학 적인 시장 분 석 치명 적 오류 증 권 시장 에서 일어나는 모든 일에 대하여 상 세 하게 설명 하고 있다 ] ] 금 융 시장 역사와 현재 미래 펼쳐 보이는 탄탄한 내용을 갖추고 있는 경제 금 융 관한 입 문 서 이다 ] 심리 학 과학 사이 오 가는 투자 묘미 주식 채 권 파 생 상 품이 결합 하고 무 분 별한 거 래 이루어 질 때 발생 하는 위험 수학 적인 시장 분 석 치명 적 오류 증 권 시장 에서 일어나는 모든 일에 대하여 상 세 하게 설명 하고 있다 ] ] 금 융 시장 역사와 현재 미래 펼쳐 보이는 탄탄한 내용을 갖추고 있는 경제 금 융 관한 입 문 서 이다 ] 심리 학 과학 사이 오 가는 투자 묘미 주식 채 권 파 생 상 품이 결합 하고 무 분 별한 거 래 이루어 질 때 발생 하는 위험 수학 적인 시장 분 석 치명 적 오류 증 권 시장 에서 일어나는 모든 일에 대하여 상 세 하게 설명 하고 있다 ] ] 금 융 시장 역사와 현재 미래 펼쳐 보이는 탄탄한 내용을 갖추고 있는 경제 금 융 관한 입 문 서 이다 ] 심리 학 과학 사이 오 가는 투자 묘미 주식 채 권 파 생 상 품이 결합 하고 무 분 별한 거 래 이루어 질 때 발생 하는 위험 수학 적인 시장 분 석 치명 적 오류 증 권 시장 에서 일어나는 모든 일에 대하여 상 세 하게 설명 하고 있다 ] ] 금 융 시장 역사와 현재 미래 펼쳐 보이는 탄탄한 내용을 갖추고 있는 경제 금 융 관한 입 문 서 이다 ] 심리 학 과학 사이 오 가는 투자 묘미 주식 채 권 파 생 상 품이 결합 하고 무 분 별한 거 래 이루어 질 때 발생 하는 위험 수학 적인 시장 분 석 치명 적 오류 증 권 시장 에서 일어나는 모든 일에 대하여 상 세 하게 설명 하고 있다 ] ] 금 융 시장 역사와 현재 미래 펼쳐 보이는 탄탄한 내용을 갖추고 있는 경제 금 융 관한 입 문 서 이다 ] 심리 학 과학 사이 오 가는 투자 묘미 주식 채 권 파 생 상 품이 결합 하고 무 분 별한 거 래 이루어 질 때 발생 하는 위험 수학 적인 시장 분 석 치명 적 오류 증 권 시장 에서 일어나는 모든 일에 대하여 상 세 하게 설명 하고 있다 ] ] 금 융 시장 역사와 현재 미래 펼쳐 보이는 탄탄한 내용을 갖추고 있는 경제 금 융 관한 입 문 서 이다 ] 심리 학 과학 사이 오 가는 투자 묘미 주식 채 권 파 생 상 품이 결합 하고 무 분 별한 거 래 이루어 질 때 발생 하는 위험 수학 적인 시장 분 석 치명 적 오류 증 권 시장 에서 일어나는 모든 일에 대하여 상 세 하게 설명 하고 있다 ] ] 금 융 시장 역사와 현재 미래 펼쳐 보이는 탄탄한 내용을 갖추고 있는 경제 금 융 관한 입 문 서 이다 ] 심리 학 과학 사이 오 가는 투자 묘미 주식 채 권 파 생 상 품이 결합 하고 무 분 별한 거 래 이루어 질 때 발생 하는 위험 수학 적인 시장 분 석 치명 적 오류 증 권 시장 에서 일어나는 모든 일에 대하여 상 세 하게 설명 하고 있다 ] ] 금 융 시장 역사와 현재 미래 펼쳐 보이는 탄탄한 내용을 갖추고 있는 경제 금 융 관한 입 문 서 이다 ] 심리 학 과학 사이 오 가는 투자 묘미 주식 채 권 파 생 상 품이 결합 하고 무 분 별한 거 래 이루어 질 때 발생 하는 위험 수학 적인 시장 분 석 치명 적 오류 증 권 시장 에서 일어나는 모든 일에 대하여 상 세 하게 설명 하고 있다 ] ] 금 융 시장 역사와 현재 미래 펼쳐 보이는 탄탄한 내용을 갖추고 있는 경제 금 융 관한 입 문 서 이다 ] 심리 학 과학 사이 오 가는 투자 묘미 주식 채 권 파 생 상 품이 결합 하고 무 분 별한 거 래 이루어 질 때 발생 하는 위험 수학 적인 시장 분 석 치명 적 오류 증 권 시장 에서 일어나는 모든 일에 대하여 상 세 하게 설명 하고 있다 ] ] 금 융 시장 역사와 현재 미래 펼쳐 보이는 탄탄한 내용을 갖추고 있는 경제 금 융 관한 입 문 서 이다 ] 심리 학 과학 사이 오 가는 투자 묘미 주식 채 권 파 생 상 품이 결합 하고 무 분 별한 거 래 이루어 질 때 발생 하는 위험 수학 적인 시장 분 석 치명 적 오류 증 권 시장 에서 일어나는 모든 일에 대하여 상 세 하게 설명 하고 있다 ] ] 금 융 시장 역사와 현재 미래 펼쳐 보이는 탄탄한 내용을 갖추고 있는 경제 금 융 관한 입 문 서 이다 ] 심리 학 과학 사이 오 가는 투자 묘미 주식 채 권 파 생 상 품이 결합 하고 무 분 별한 거 래 이루어 질 때 발생 하는 위험 수학 적인 시장 분 석 치명 적 오류 증 권 시장 에서 일어나는 모든 일에 대하여 상 세 하게 설명 하고 있다 ] ] 금 융 시장 역사와 현재 미래 펼쳐 보이는 탄탄한 내용을 갖추고 있는 경제 금 융 관한 입 문 서 이다 ] 심리 학 과학 사이 오 가는 투자 묘미 주식 채 권 파 생 상 품이 결합 하고 무 분 별한 거 래 이루어 질 때 발생 하는 위험 수학 적인 시장 분 석 치명 적 오류 증 권 시장 에서 일어나는 모든 일에 대하여 상 세 하게 설명 하고 있다 ] ] 금 융 시장 역사와 현재 미래 펼쳐 보이는 탄탄한 내용을 갖추고 있는 경제 금 융 관한 입 문 서 이다 ] 심리 학 과학 사이 오 가는 투자 묘미 주식 채 권 파 생 상 품이 결합 하고 무 분 별한 거 래 이루어 질 때 발생 하는 위험 수학 적인 시장 분 석 치명 적 오류 증 권 시장 에서 일어나는 모든 일에 대하여 상 세 하게 설명 하고 있다 ] ] 금 융 시장 역사와 현재 미래 펼쳐 보이는 탄탄한 내용을 갖추고 있는 경제 금 융 관한 입 문 서 이다 ] 심리 학 과학 사이 오 가는 투자 묘미 주식 채 권 파 생 상 품이 결합 하고 무 분 별한 거 래 이루어 질 때 발생 하는 위험 수학 적인 시장 분 석 치명 적 오류 증 권 시장 에서 일어나는 모든 일에 대하여 상 세 하게 설명 하고 있다 ] ] 금 융 시장 역사와 현재 미래 펼쳐 보이는 탄탄한 내용을 갖추고 있는 경제 금 융 관한 입 문 서 이다 ] 심리 학 과학 사이 오 가는 투자 묘미 주식 채 권 파 생 상 품이 결합 하고 무 분 별한 거 래 이루어 질 때 발생 하는 위험 수학 적인 시장 분 석 치명 적 오류 증 권 시장 에서 일어나는 모든 일에 대하여 상 세 하게 설명 하고 있다 ] ] 금 융 시장 역사와 현재 미래 펼쳐 보이는 탄탄한 내용을 갖추고 있는 경제 금 융 관한 입 문 서 이다 ] 심리 학 과학 사이 오 가는 투자 묘미 주식 채 권 파 생 상 품이 결합 하고 무 분 별한 거 래 이루어 질 때 발생 하는 위험 수학 적인 시장 분 석 치명 적 오류 증 권 시장 에서 일어나는 모든 일에 대하여 상 세 하게 설명 하고 있다 ] ] 금 융 시장 역사와 현재 미래 펼쳐 보이는 탄탄한 내용을 갖추고 있는 경제 금 융 관한 입 문 서 이다 ] 심리 학 과학 사이 오 가는 투자 묘미 주식 채 권 파 생 상 품이 결합 하고 무 분 별한 거 래 이루어 질 때 발생 하는 위험 수학 적인 시장 분 석 치명 적 오류 증 권 시장 에서 일어나는 모든 일에 대하여 상 세 하게 설명 하고 있다 ] ] 금 융 시장 역사와 현재 미래 펼쳐 보이는 탄탄한 내용을 갖추고 있는 경제 금 융 관한 입 문 서 이다 ] 심리 학 과학 사이 오 가는 투자 묘미 주식 채 권 파 생 상 품이 결합 하고 무 분 별한 거 래 이루어 질 때 발생 하는 위험 수학 적인 시장 분 석 치명 적 오류 증 권 시장 에서 일어나는 모든 일에 대하여 상 세 하게 설명 하고 있다 ] ] 금 융 시장 역사와 현재 미래 펼쳐 보이는 탄탄한 내용을 갖추고 있는 경제 금 융 관한 입 문 서 이다 ] 심리 학 과학 사이 오 가는 투자 묘미 주식 채 권 파 생 상 품이 결합 하고 무 분 별한 거 래 이루어 질 때 발생 하는 위험 수학 적인 시장 분 석 치명 적 오류 증 권 시장 에서 일어나는 모든 일에 대하여 상 세 하게 설명 하고 있다 ] ] 금 융 시장 역사와 현재 미래 펼쳐 보이는 탄탄한 내용을 갖추고 있는 경제 금 융 관한 입 문 서 이다 ] 심리 학 과학 사이 오 가는 투자 묘미 주식 채 권 파 생 상 품이 결합 하고 무 분 별한 거 래 이루어 질 때 발생 하는 위험 수학 적인 시장 분 석 치명 적 오류 증 권 시장 에서 일어나는 모든 일에 대하여 상 세 하게 설명 하고 있다 ] ] 금 융 시장 역사와 현재 미래 펼쳐 보이는 탄탄한 내용을 갖추고 있는 경제 금 융 관한 입 문 서 이다 ] 심리 학 과학 사이 오 가는 투자 묘미 주식 채 권 파 생 상 품이 결합 하고 무 분 별한 거 래 이루어 질 때 발생 하는 위험 수학 적인 시장 분 석 치명 적 오류 증 권 시장 에서 일어나는 모든 일에 대하여 상 세 하게 설명 하고 있다 ] ] 금 융 시장 역사와 현재 미래 펼쳐 보이는 탄탄한 내용을 갖추고 있는 경제 금 융 관한 입 문 서 이다 ] 심리 학 과학 사이 오 가는 투자 묘미 주식 채 권 파 생 상 품이 결합 하고 무 분 별한 거 래 이루어 질 때 발생 하는 위험 수학 적인 시장 분 석 치명 적 오류 증 권 시장 에서 일어나는 모든 일에 대하여 상 세 하게 설명 하고 있다 ] ] 금 융 시장 역사와 현재 미래 펼쳐 보이는 탄탄한 내용을 갖추고 있는 경제 금 융 관한 입 문 서 이다 ] 심리 학 과학 사이 오 가는 투자 묘미 주식 채 권 파 생 상 품이 결합 하고 무 분 별한 거 래 이루어 질 때 발생 하는 위험 수학 적인 시장 분 석 치명 적 오류 증 권 시장 에서 일어나는 모든 일에 대하여 상 세 하게 설명 하고 있다 ] ] 금 융 시장 역사와 현재 미래 펼쳐 보이는 탄탄한 내용을 갖추고 있는 경제 금 융 관한 입 문 서 이다 ] 심리 학 과학 사이 오 가는 투자 묘미 주식 채 권 파 생 상 품이 결합 하고 무 분 별한 거 래 이루어 질 때 발생 하는 위험 수학 적인 시장 분 석 치명 적 오류 증 권 시장 에서 일어나는 모든 일에 대하여 상 세 하게 설명 하고 있다 ] ] 금 융 시장 역사와 현재 미래 펼쳐 보이는 탄탄한 내용을 갖추고 있는 경제 금 융 관한 입 문 서 이다 ] 심리 학 과학 사이 오 가는 투자 묘미 주식 채 권 파 생 상 품이 결합 하고 무 분 별한 거 래 이루어 질 때 발생 하는 위험 수학 적인 시장 분 석 치명 적 오류 증 권 시장 에서 일어나는 모든 일에 대하여 상 세 하게 설명 하고 있다 ] ] 금 융 시장 역사와 현재 미래 펼쳐 보이는 탄탄한 내용을 갖추고 있는 경제 금 융 관한 입 문 서 이다 ] 심리 학 과학 사이 오 가는 투자 묘미 주식 채 권 파 생 상 품이 결합 하고 무 분 별한 거 래 이루어 질 때 발생 하는 위험 수학 적인 시장 분 석 치명 적 오류 증 권 시장 에서 일어나는 모든 일에 대하여 상 세 하게 설명 하고 있다 ] ] 금 융 시장 역사와 현재 미래 펼쳐 보이는 탄탄한 내용을 갖추고 있는 경제 금 융 관한 입 문 서 이다 ] 심리 학 과학 사이 오 가는 투자 묘미 주식 채 권 파 생 상 품이 결합 하고 무 분 별한 거 래 이루어 질 때 발생 하는 위험 수학 적인 시장 분 석 치명 적 오류 증 권 시장 에서 일어나는 모든 일에 대하여 상 세 하게 설명 하고 있다 ] ] 금 융 시장 역사와 현재 미래 펼쳐 보이는 탄탄한 내용을 갖추고 있는 경제 금 융 관한 입 문 서 이다 ] 심리 학 과학 사이 오 가는 투자 묘미 주식 채 권 파 생 상 품이 결합 하고 무 분 별한 거 래 이루어 질 때 발생 하는 위험 수학 적인 시장 분 석 치명 적 오류 증 권 시장 에서 일어나는 모든 일에 대하여 상 세 하게 설명 하고 있다 ] ] 금 융 시장 역사와 현재 미래 펼쳐 보이는 탄탄한 내용을 갖추고 있는 경제 금 융 관한 입 문 서 이다 ] 심리 학 과학 사이 오 가는 투자 묘미 주식 채 권 파 생 상 품이 결합 하고 무 분 별한 거 래 이루어 질 때 발생 하는 위험 수학 적인 시장 분 석 치명 적 오류 증 권 시장 에서 일어나는 모든 일에 대하여 상 세 하게 설명 하고 있다 ] ] 금 융 시장 역사와 현재 미래 펼쳐 보이는 탄탄한 내용을 갖추고 있는 경제 금 융 관한 입 문 서 이다 ] 심리 학 과학 사이 오 가는 투자 묘미 주식 채 권 파 생 상 품이 결합 하고 무 분 별한 거 래 이루어 질 때 발생 하는 위험 수학 적인 시장 분 석 치명 적 오류 증 권 시장 에서 일어나는 모든 일에 대하여 상 세 하게 설명 하고 있다 ] ] 금 융 시장 역사와 현재 미래 펼쳐 보이는 탄탄한 내용을 갖추고 있는 경제 금 융 관한 입 문 서 이다 ] 심리 학 과학 사이 오 가는 투자 묘미 주식 채 권 파 생 상 품이 결합 하고 무 분 별한 거 래 이루어 질 때 발생 하는 위험 수학 적인 시장 분 석 치명 적 오류 증 권 시장 에서 일어나는 모든 일에 대하여 상 세 하게 설명 하고 있다 ] ] 금 융 시장 역사와 현재 미래 펼쳐 보이는 탄탄한 내용을 갖추고 있는 경제 금 융 관한 입 문 서 이다 ] 심리 학 과학 사이 오 가는 투자 묘미 주식 채 권 파 생 상 품이 결합 하고 무 분 별한 거 래 이루어 질 때 발생 하는 위험 수학 적인 시장 분 석 치명 적 오류 증 권 시장 에서 일어나는 모든 일에 대하여 상 세 하게 설명 하고 있다 ] ] 금 융 시장 역사와 현재 미래 펼쳐 보이는 탄탄한 내용을 갖추고 있는 경제 금 융 관한 입 문 서 이다 ] 심리 학 과학 사이 오 가는 투자 묘미 주식 채 권 파 생 상 품이 결합 하고 무 분 별한 거 래 이루어 질 때 발생 하는 위험 수학 적인 시장 분 석 치명 적 오류 증 권 시장 에서 일어나는 모든 일에 대하여 상 세 하게 설명 하고 있다 ] ] 금 융 시장 역사와 현재 미래 펼쳐 보이는 탄탄한 내용을 갖추고 있는 경제 금 융 관한 입 문 서 이다 ] 심리 학 과학 사이 오 가는 투자 묘미 주식 채 권 파 생 상 품이 결합 하고 무 분 별한 거 래 이루어 질 때 발생 하는 위험 수학 적인 시장 분 석 치명 적 오류 증 권 시장 에서 일어나는 모든 일에 대하여 상 세 하게 설명 하고 있다 ] ] 금 융 시장 역사와 현재 미래 펼쳐 보이는 탄탄한 내용을 갖추고 있는 경제 금 융 관한 입 문 서 이다 ] 심리 학 과학 사이 오 가는 투자 묘미 주식 채 권 파 생 상 품이 결합 하고 무 분 별한 거 래 이루어 질 때 발생 하는 위험 수학 적인 시장 분 석 치명 적 오류 증 권 시장 에서 일어나는 모든 일에 대하여 상 세 하게 설명 하고 있다 ] ] 금 융 시장 역사와 현재 미래 펼쳐 보이는 탄탄한 내용을 갖추고 있는 경제 금 융 관한 입 문 서 이다 ] 심리 학 과학 사이 오 가는 투자 묘미 주식 채 권 파 생 상 품이 결합 하고 무 분 별한 거 래 이루어 질 때 발생 하는 위험 수학 적인 시장 분 석 치명 적 오류 증 권 시장 에서 일어나는 모든 일에 대하여 상 세 하게 설명 하고 있다 ] ] 금 융 시장 역사와 현재 미래 펼쳐 보이는 탄탄한 내용을 갖추고 있는 경제 금 융 관한 입 문 서 이다 ] 심리 학 과학 사이 오 가는 투자 묘미 주식 채 권 파 생 상 품이 결합 하고 무 분 별한 거 래 이루어 질 때 발생 하는 위험 수학 적인 시장 분 석 치명 적 오류 증 권 시장 에서 일어나는 모든 일에 대하여 상 세 하게 설명 하고 있다 ] ] 금 융 시장 역사와 현재 미래 펼쳐 보이는 탄탄한 내용을 갖추고 있는 경제 금 융 관한 입 문 서 이다 ] 심리 학 과학 사이 오 가는 투자 묘미 주식 채 권 파 생 상 품이 결합 하고 무 분 별한 거 래 이루어 질 때 발생 하는 위험 수학 적인 시장 분 석 치명 적 오류 증 권 시장 에서 일어나는 모든 일에 대하여 상 세 하게 설명 하고 있다 ] ] 금 융 시장 역사와 현재 미래 펼쳐 보이는 탄탄한 내용을 갖추고 있는 경제 금 융 관한 입 문 서 이다 ] 심리 학 과학 사이 오 가는 투자 묘미 주식 채 권 파 생 상 품이 결합 하고 무 분 별한 거 래 이루어 질 때 발생 하는 위험 수학 적인 시장 분 석 치명 적 오류 증 권 시장 에서 일어나는 모든 일에 대하여 상 세 하게 설명 하고 있다 ] ] 금 융 시장 역사와 현재 미래 펼쳐 보이는 탄탄한 내용을 갖추고 있는 경제 금 융 관한 입 문 서 이다 ] 심리 학 과학 사이 오 가는 투자 묘미 주식 채 권 파 생 상 품이 결합 하고 무 분 별한 거 래 이루어 질 때 발생 하는 위험 수학 적인 시장 분 석 치명 적 오류 증 권 시장 에서 일어나는 모든 일에 대하여 상 세 하게 설명 하고 있다 ] ] 금 융 시장 역사와 현재 미래 펼쳐 보이는 탄탄한 내용을 갖추고 있는 경제 금 융 관한 입 문 서 이다 ] 심리 학 과학 사이 오 가는 투자 묘미 주식 채 권 파 생 상 품이 결합 하고 무 분 별한 거 래 이루어 질 때 발생 하는 위험 수학 적인 시장 분 석 치명 적 오류 증 권 시장 에서 일어나는 모든 일에 대하여 상 세 하게 설명 하고 있다 ] ] \n",
            "실제 요약문 : PAD 천재 들의 머니 게임 전세계 금 융 시장 뒤 흔 든 천재 들의 음모 ] ] PAD 천재 들의 머니 게임 전세계 금 융 시장 뒤 흔 든 천재 들의 음모 ] ] PAD 천재 들의 머니 게임 전세계 금 융 시장 뒤 흔 든 천재 들의 음모 ] ] PAD 천재 들의 머니 게임 전세계 금 융 시장 뒤 흔 든 천재 들의 음모 ] ] PAD 천재 들의 머니 게임 전세계 금 융 시장 뒤 흔 든 천재 들의 음모 ] ] PAD 천재 들의 머니 게임 전세계 금 융 시장 뒤 흔 든 천재 들의 음모 ] ] PAD 천재 들의 머니 게임 전세계 금 융 시장 뒤 흔 든 천재 들의 음모 ] ] PAD 천재 들의 머니 게임 전세계 금 융 시장 뒤 흔 든 천재 들의 음모 ] ] PAD 천재 들의 머니 게임 전세계 금 융 시장 뒤 흔 든 천재 들의 음모 ] ] PAD 천재 들의 머니 게임 전세계 금 융 시장 뒤 흔 든 천재 들의 음모 ] ] PAD 천재 들의 머니 게임 전세계 금 융 시장 뒤 흔 든 천재 들의 음모 ] ] PAD 천재 들의 머니 게임 전세계 금 융 시장 뒤 흔 든 천재 들의 음모 ] ] PAD 천재 들의 머니 게임 전세계 금 융 시장 뒤 흔 든 천재 들의 음모 ] ] PAD 천재 들의 머니 게임 전세계 금 융 시장 뒤 흔 든 천재 들의 음모 ] ] PAD 천재 들의 머니 게임 전세계 금 융 시장 뒤 흔 든 천재 들의 음모 ] ] PAD 천재 들의 머니 게임 전세계 금 융 시장 뒤 흔 든 천재 들의 음모 ] ] PAD 천재 들의 머니 게임 전세계 금 융 시장 뒤 흔 든 천재 들의 음모 ] ] PAD 천재 들의 머니 게임 전세계 금 융 시장 뒤 흔 든 천재 들의 음모 ] ] PAD 천재 들의 머니 게임 전세계 금 융 시장 뒤 흔 든 천재 들의 음모 ] ] PAD 천재 들의 머니 게임 전세계 금 융 시장 뒤 흔 든 천재 들의 음모 ] ] PAD 천재 들의 머니 게임 전세계 금 융 시장 뒤 흔 든 천재 들의 음모 ] ] \n",
            "1/1 [==============================] - 0s 25ms/step\n",
            "1/1 [==============================] - 0s 17ms/step\n",
            "1/1 [==============================] - 0s 18ms/step\n",
            "1/1 [==============================] - 0s 18ms/step\n",
            "1/1 [==============================] - 0s 18ms/step\n",
            "1/1 [==============================] - 0s 18ms/step\n",
            "1/1 [==============================] - 0s 21ms/step\n",
            "1/1 [==============================] - 0s 21ms/step\n",
            "1/1 [==============================] - 0s 17ms/step\n",
            "1/1 [==============================] - 0s 18ms/step\n",
            "1/1 [==============================] - 0s 16ms/step\n",
            "1/1 [==============================] - 0s 18ms/step\n",
            "1/1 [==============================] - 0s 22ms/step\n",
            "1/1 [==============================] - 0s 22ms/step\n",
            "1/1 [==============================] - 0s 19ms/step\n",
            "1/1 [==============================] - 0s 21ms/step\n",
            "1/1 [==============================] - 0s 22ms/step\n",
            "1/1 [==============================] - 0s 23ms/step\n",
            "1/1 [==============================] - 0s 26ms/step\n",
            "1/1 [==============================] - 0s 20ms/step\n",
            "1/1 [==============================] - 0s 24ms/step\n",
            "1/1 [==============================] - 0s 21ms/step\n",
            "1/1 [==============================] - 0s 19ms/step\n",
            "1/1 [==============================] - 0s 18ms/step\n",
            "1/1 [==============================] - 0s 18ms/step\n",
            "1/1 [==============================] - 0s 16ms/step\n",
            "1/1 [==============================] - 0s 17ms/step\n",
            "1/1 [==============================] - 0s 17ms/step\n",
            "1/1 [==============================] - 0s 18ms/step\n",
            "1/1 [==============================] - 0s 23ms/step\n",
            "예측 요약문 :  부 투자 경제 융 경제 투자 The a ##e r i ##e e i in e e e e i ##e e i ##e U U U U ##N\n",
            "\n",
            "\n"
          ]
        }
      ]
    },
    {
      "cell_type": "code",
      "source": [
        "print(\"원문 : \",seq2text(encoder_input_test[673]))\n",
        "print(\"실제 요약문 :\",seq2text(decoder_input_test[673]))\n",
        "print(\"예측 요약문 :\",decode_sequence(encoder_input_test[673].reshape(1, text_max_len)))\n",
        "print(\"\\n\")"
      ],
      "metadata": {
        "colab": {
          "base_uri": "https://localhost:8080/"
        },
        "id": "Q7iCz0UIvYHy",
        "outputId": "0f2d7ffd-f91e-49c2-bb45-e339e996d979"
      },
      "execution_count": null,
      "outputs": [
        {
          "output_type": "stream",
          "name": "stdout",
          "text": [
            "원문 :  y ] 인 문 사회 학 습 만화 시리즈 권 ] 자의 기원 탄생 자의 생 성 원 리와 부 수의 활용 등을 담 았다 ] 수많은 자의 기초 되는 기본 자와 자 쓰는 법 비슷 하거나 헷갈 리기 쉬운 자 다양한 자와 활용 법을 알려 준다 ] 더불어 자를 연결 하여 의미를 만드는 법 흥미로운 이야기가 담긴 고사 성 어 천 자 문에 얽 힌 이야기와 의미 대해서도 자세히 소개 하고 있다 ] ] y ] 인 문 사회 학 습 만화 시리즈 권 ] 자의 기원 탄생 자의 생 성 원 리와 부 수의 활용 등을 담 았다 ] 수많은 자의 기초 되는 기본 자와 자 쓰는 법 비슷 하거나 헷갈 리기 쉬운 자 다양한 자와 활용 법을 알려 준다 ] 더불어 자를 연결 하여 의미를 만드는 법 흥미로운 이야기가 담긴 고사 성 어 천 자 문에 얽 힌 이야기와 의미 대해서도 자세히 소개 하고 있다 ] ] y ] 인 문 사회 학 습 만화 시리즈 권 ] 자의 기원 탄생 자의 생 성 원 리와 부 수의 활용 등을 담 았다 ] 수많은 자의 기초 되는 기본 자와 자 쓰는 법 비슷 하거나 헷갈 리기 쉬운 자 다양한 자와 활용 법을 알려 준다 ] 더불어 자를 연결 하여 의미를 만드는 법 흥미로운 이야기가 담긴 고사 성 어 천 자 문에 얽 힌 이야기와 의미 대해서도 자세히 소개 하고 있다 ] ] y ] 인 문 사회 학 습 만화 시리즈 권 ] 자의 기원 탄생 자의 생 성 원 리와 부 수의 활용 등을 담 았다 ] 수많은 자의 기초 되는 기본 자와 자 쓰는 법 비슷 하거나 헷갈 리기 쉬운 자 다양한 자와 활용 법을 알려 준다 ] 더불어 자를 연결 하여 의미를 만드는 법 흥미로운 이야기가 담긴 고사 성 어 천 자 문에 얽 힌 이야기와 의미 대해서도 자세히 소개 하고 있다 ] ] y ] 인 문 사회 학 습 만화 시리즈 권 ] 자의 기원 탄생 자의 생 성 원 리와 부 수의 활용 등을 담 았다 ] 수많은 자의 기초 되는 기본 자와 자 쓰는 법 비슷 하거나 헷갈 리기 쉬운 자 다양한 자와 활용 법을 알려 준다 ] 더불어 자를 연결 하여 의미를 만드는 법 흥미로운 이야기가 담긴 고사 성 어 천 자 문에 얽 힌 이야기와 의미 대해서도 자세히 소개 하고 있다 ] ] y ] 인 문 사회 학 습 만화 시리즈 권 ] 자의 기원 탄생 자의 생 성 원 리와 부 수의 활용 등을 담 았다 ] 수많은 자의 기초 되는 기본 자와 자 쓰는 법 비슷 하거나 헷갈 리기 쉬운 자 다양한 자와 활용 법을 알려 준다 ] 더불어 자를 연결 하여 의미를 만드는 법 흥미로운 이야기가 담긴 고사 성 어 천 자 문에 얽 힌 이야기와 의미 대해서도 자세히 소개 하고 있다 ] ] y ] 인 문 사회 학 습 만화 시리즈 권 ] 자의 기원 탄생 자의 생 성 원 리와 부 수의 활용 등을 담 았다 ] 수많은 자의 기초 되는 기본 자와 자 쓰는 법 비슷 하거나 헷갈 리기 쉬운 자 다양한 자와 활용 법을 알려 준다 ] 더불어 자를 연결 하여 의미를 만드는 법 흥미로운 이야기가 담긴 고사 성 어 천 자 문에 얽 힌 이야기와 의미 대해서도 자세히 소개 하고 있다 ] ] y ] 인 문 사회 학 습 만화 시리즈 권 ] 자의 기원 탄생 자의 생 성 원 리와 부 수의 활용 등을 담 았다 ] 수많은 자의 기초 되는 기본 자와 자 쓰는 법 비슷 하거나 헷갈 리기 쉬운 자 다양한 자와 활용 법을 알려 준다 ] 더불어 자를 연결 하여 의미를 만드는 법 흥미로운 이야기가 담긴 고사 성 어 천 자 문에 얽 힌 이야기와 의미 대해서도 자세히 소개 하고 있다 ] ] y ] 인 문 사회 학 습 만화 시리즈 권 ] 자의 기원 탄생 자의 생 성 원 리와 부 수의 활용 등을 담 았다 ] 수많은 자의 기초 되는 기본 자와 자 쓰는 법 비슷 하거나 헷갈 리기 쉬운 자 다양한 자와 활용 법을 알려 준다 ] 더불어 자를 연결 하여 의미를 만드는 법 흥미로운 이야기가 담긴 고사 성 어 천 자 문에 얽 힌 이야기와 의미 대해서도 자세히 소개 하고 있다 ] ] y ] 인 문 사회 학 습 만화 시리즈 권 ] 자의 기원 탄생 자의 생 성 원 리와 부 수의 활용 등을 담 았다 ] 수많은 자의 기초 되는 기본 자와 자 쓰는 법 비슷 하거나 헷갈 리기 쉬운 자 다양한 자와 활용 법을 알려 준다 ] 더불어 자를 연결 하여 의미를 만드는 법 흥미로운 이야기가 담긴 고사 성 어 천 자 문에 얽 힌 이야기와 의미 대해서도 자세히 소개 하고 있다 ] ] y ] 인 문 사회 학 습 만화 시리즈 권 ] 자의 기원 탄생 자의 생 성 원 리와 부 수의 활용 등을 담 았다 ] 수많은 자의 기초 되는 기본 자와 자 쓰는 법 비슷 하거나 헷갈 리기 쉬운 자 다양한 자와 활용 법을 알려 준다 ] 더불어 자를 연결 하여 의미를 만드는 법 흥미로운 이야기가 담긴 고사 성 어 천 자 문에 얽 힌 이야기와 의미 대해서도 자세히 소개 하고 있다 ] ] y ] 인 문 사회 학 습 만화 시리즈 권 ] 자의 기원 탄생 자의 생 성 원 리와 부 수의 활용 등을 담 았다 ] 수많은 자의 기초 되는 기본 자와 자 쓰는 법 비슷 하거나 헷갈 리기 쉬운 자 다양한 자와 활용 법을 알려 준다 ] 더불어 자를 연결 하여 의미를 만드는 법 흥미로운 이야기가 담긴 고사 성 어 천 자 문에 얽 힌 이야기와 의미 대해서도 자세히 소개 하고 있다 ] ] y ] 인 문 사회 학 습 만화 시리즈 권 ] 자의 기원 탄생 자의 생 성 원 리와 부 수의 활용 등을 담 았다 ] 수많은 자의 기초 되는 기본 자와 자 쓰는 법 비슷 하거나 헷갈 리기 쉬운 자 다양한 자와 활용 법을 알려 준다 ] 더불어 자를 연결 하여 의미를 만드는 법 흥미로운 이야기가 담긴 고사 성 어 천 자 문에 얽 힌 이야기와 의미 대해서도 자세히 소개 하고 있다 ] ] y ] 인 문 사회 학 습 만화 시리즈 권 ] 자의 기원 탄생 자의 생 성 원 리와 부 수의 활용 등을 담 았다 ] 수많은 자의 기초 되는 기본 자와 자 쓰는 법 비슷 하거나 헷갈 리기 쉬운 자 다양한 자와 활용 법을 알려 준다 ] 더불어 자를 연결 하여 의미를 만드는 법 흥미로운 이야기가 담긴 고사 성 어 천 자 문에 얽 힌 이야기와 의미 대해서도 자세히 소개 하고 있다 ] ] y ] 인 문 사회 학 습 만화 시리즈 권 ] 자의 기원 탄생 자의 생 성 원 리와 부 수의 활용 등을 담 았다 ] 수많은 자의 기초 되는 기본 자와 자 쓰는 법 비슷 하거나 헷갈 리기 쉬운 자 다양한 자와 활용 법을 알려 준다 ] 더불어 자를 연결 하여 의미를 만드는 법 흥미로운 이야기가 담긴 고사 성 어 천 자 문에 얽 힌 이야기와 의미 대해서도 자세히 소개 하고 있다 ] ] y ] 인 문 사회 학 습 만화 시리즈 권 ] 자의 기원 탄생 자의 생 성 원 리와 부 수의 활용 등을 담 았다 ] 수많은 자의 기초 되는 기본 자와 자 쓰는 법 비슷 하거나 헷갈 리기 쉬운 자 다양한 자와 활용 법을 알려 준다 ] 더불어 자를 연결 하여 의미를 만드는 법 흥미로운 이야기가 담긴 고사 성 어 천 자 문에 얽 힌 이야기와 의미 대해서도 자세히 소개 하고 있다 ] ] y ] 인 문 사회 학 습 만화 시리즈 권 ] 자의 기원 탄생 자의 생 성 원 리와 부 수의 활용 등을 담 았다 ] 수많은 자의 기초 되는 기본 자와 자 쓰는 법 비슷 하거나 헷갈 리기 쉬운 자 다양한 자와 활용 법을 알려 준다 ] 더불어 자를 연결 하여 의미를 만드는 법 흥미로운 이야기가 담긴 고사 성 어 천 자 문에 얽 힌 이야기와 의미 대해서도 자세히 소개 하고 있다 ] ] y ] 인 문 사회 학 습 만화 시리즈 권 ] 자의 기원 탄생 자의 생 성 원 리와 부 수의 활용 등을 담 았다 ] 수많은 자의 기초 되는 기본 자와 자 쓰는 법 비슷 하거나 헷갈 리기 쉬운 자 다양한 자와 활용 법을 알려 준다 ] 더불어 자를 연결 하여 의미를 만드는 법 흥미로운 이야기가 담긴 고사 성 어 천 자 문에 얽 힌 이야기와 의미 대해서도 자세히 소개 하고 있다 ] ] y ] 인 문 사회 학 습 만화 시리즈 권 ] 자의 기원 탄생 자의 생 성 원 리와 부 수의 활용 등을 담 았다 ] 수많은 자의 기초 되는 기본 자와 자 쓰는 법 비슷 하거나 헷갈 리기 쉬운 자 다양한 자와 활용 법을 알려 준다 ] 더불어 자를 연결 하여 의미를 만드는 법 흥미로운 이야기가 담긴 고사 성 어 천 자 문에 얽 힌 이야기와 의미 대해서도 자세히 소개 하고 있다 ] ] y ] 인 문 사회 학 습 만화 시리즈 권 ] 자의 기원 탄생 자의 생 성 원 리와 부 수의 활용 등을 담 았다 ] 수많은 자의 기초 되는 기본 자와 자 쓰는 법 비슷 하거나 헷갈 리기 쉬운 자 다양한 자와 활용 법을 알려 준다 ] 더불어 자를 연결 하여 의미를 만드는 법 흥미로운 이야기가 담긴 고사 성 어 천 자 문에 얽 힌 이야기와 의미 대해서도 자세히 소개 하고 있다 ] ] y ] 인 문 사회 학 습 만화 시리즈 권 ] 자의 기원 탄생 자의 생 성 원 리와 부 수의 활용 등을 담 았다 ] 수많은 자의 기초 되는 기본 자와 자 쓰는 법 비슷 하거나 헷갈 리기 쉬운 자 다양한 자와 활용 법을 알려 준다 ] 더불어 자를 연결 하여 의미를 만드는 법 흥미로운 이야기가 담긴 고사 성 어 천 자 문에 얽 힌 이야기와 의미 대해서도 자세히 소개 하고 있다 ] ] y ] 인 문 사회 학 습 만화 시리즈 권 ] 자의 기원 탄생 자의 생 성 원 리와 부 수의 활용 등을 담 았다 ] 수많은 자의 기초 되는 기본 자와 자 쓰는 법 비슷 하거나 헷갈 리기 쉬운 자 다양한 자와 활용 법을 알려 준다 ] 더불어 자를 연결 하여 의미를 만드는 법 흥미로운 이야기가 담긴 고사 성 어 천 자 문에 얽 힌 이야기와 의미 대해서도 자세히 소개 하고 있다 ] ] y ] 인 문 사회 학 습 만화 시리즈 권 ] 자의 기원 탄생 자의 생 성 원 리와 부 수의 활용 등을 담 았다 ] 수많은 자의 기초 되는 기본 자와 자 쓰는 법 비슷 하거나 헷갈 리기 쉬운 자 다양한 자와 활용 법을 알려 준다 ] 더불어 자를 연결 하여 의미를 만드는 법 흥미로운 이야기가 담긴 고사 성 어 천 자 문에 얽 힌 이야기와 의미 대해서도 자세히 소개 하고 있다 ] ] y ] 인 문 사회 학 습 만화 시리즈 권 ] 자의 기원 탄생 자의 생 성 원 리와 부 수의 활용 등을 담 았다 ] 수많은 자의 기초 되는 기본 자와 자 쓰는 법 비슷 하거나 헷갈 리기 쉬운 자 다양한 자와 활용 법을 알려 준다 ] 더불어 자를 연결 하여 의미를 만드는 법 흥미로운 이야기가 담긴 고사 성 어 천 자 문에 얽 힌 이야기와 의미 대해서도 자세히 소개 하고 있다 ] ] y ] 인 문 사회 학 습 만화 시리즈 권 ] 자의 기원 탄생 자의 생 성 원 리와 부 수의 활용 등을 담 았다 ] 수많은 자의 기초 되는 기본 자와 자 쓰는 법 비슷 하거나 헷갈 리기 쉬운 자 다양한 자와 활용 법을 알려 준다 ] 더불어 자를 연결 하여 의미를 만드는 법 흥미로운 이야기가 담긴 고사 성 어 천 자 문에 얽 힌 이야기와 의미 대해서도 자세히 소개 하고 있다 ] ] y ] 인 문 사회 학 습 만화 시리즈 권 ] 자의 기원 탄생 자의 생 성 원 리와 부 수의 활용 등을 담 았다 ] 수많은 자의 기초 되는 기본 자와 자 쓰는 법 비슷 하거나 헷갈 리기 쉬운 자 다양한 자와 활용 법을 알려 준다 ] 더불어 자를 연결 하여 의미를 만드는 법 흥미로운 이야기가 담긴 고사 성 어 천 자 문에 얽 힌 이야기와 의미 대해서도 자세히 소개 하고 있다 ] ] y ] 인 문 사회 학 습 만화 시리즈 권 ] 자의 기원 탄생 자의 생 성 원 리와 부 수의 활용 등을 담 았다 ] 수많은 자의 기초 되는 기본 자와 자 쓰는 법 비슷 하거나 헷갈 리기 쉬운 자 다양한 자와 활용 법을 알려 준다 ] 더불어 자를 연결 하여 의미를 만드는 법 흥미로운 이야기가 담긴 고사 성 어 천 자 문에 얽 힌 이야기와 의미 대해서도 자세히 소개 하고 있다 ] ] y ] 인 문 사회 학 습 만화 시리즈 권 ] 자의 기원 탄생 자의 생 성 원 리와 부 수의 활용 등을 담 았다 ] 수많은 자의 기초 되는 기본 자와 자 쓰는 법 비슷 하거나 헷갈 리기 쉬운 자 다양한 자와 활용 법을 알려 준다 ] 더불어 자를 연결 하여 의미를 만드는 법 흥미로운 이야기가 담긴 고사 성 어 천 자 문에 얽 힌 이야기와 의미 대해서도 자세히 소개 하고 있다 ] ] y ] 인 문 사회 학 습 만화 시리즈 권 ] 자의 기원 탄생 자의 생 성 원 리와 부 수의 활용 등을 담 았다 ] 수많은 자의 기초 되는 기본 자와 자 쓰는 법 비슷 하거나 헷갈 리기 쉬운 자 다양한 자와 활용 법을 알려 준다 ] 더불어 자를 연결 하여 의미를 만드는 법 흥미로운 이야기가 담긴 고사 성 어 천 자 문에 얽 힌 이야기와 의미 대해서도 자세히 소개 하고 있다 ] ] y ] 인 문 사회 학 습 만화 시리즈 권 ] 자의 기원 탄생 자의 생 성 원 리와 부 수의 활용 등을 담 았다 ] 수많은 자의 기초 되는 기본 자와 자 쓰는 법 비슷 하거나 헷갈 리기 쉬운 자 다양한 자와 활용 법을 알려 준다 ] 더불어 자를 연결 하여 의미를 만드는 법 흥미로운 이야기가 담긴 고사 성 어 천 자 문에 얽 힌 이야기와 의미 대해서도 자세히 소개 하고 있다 ] ] y ] 인 문 사회 학 습 만화 시리즈 권 ] 자의 기원 탄생 자의 생 성 원 리와 부 수의 활용 등을 담 았다 ] 수많은 자의 기초 되는 기본 자와 자 쓰는 법 비슷 하거나 헷갈 리기 쉬운 자 다양한 자와 활용 법을 알려 준다 ] 더불어 자를 연결 하여 의미를 만드는 법 흥미로운 이야기가 담긴 고사 성 어 천 자 문에 얽 힌 이야기와 의미 대해서도 자세히 소개 하고 있다 ] ] y ] 인 문 사회 학 습 만화 시리즈 권 ] 자의 기원 탄생 자의 생 성 원 리와 부 수의 활용 등을 담 았다 ] 수많은 자의 기초 되는 기본 자와 자 쓰는 법 비슷 하거나 헷갈 리기 쉬운 자 다양한 자와 활용 법을 알려 준다 ] 더불어 자를 연결 하여 의미를 만드는 법 흥미로운 이야기가 담긴 고사 성 어 천 자 문에 얽 힌 이야기와 의미 대해서도 자세히 소개 하고 있다 ] ] y ] 인 문 사회 학 습 만화 시리즈 권 ] 자의 기원 탄생 자의 생 성 원 리와 부 수의 활용 등을 담 았다 ] 수많은 자의 기초 되는 기본 자와 자 쓰는 법 비슷 하거나 헷갈 리기 쉬운 자 다양한 자와 활용 법을 알려 준다 ] 더불어 자를 연결 하여 의미를 만드는 법 흥미로운 이야기가 담긴 고사 성 어 천 자 문에 얽 힌 이야기와 의미 대해서도 자세히 소개 하고 있다 ] ] y ] 인 문 사회 학 습 만화 시리즈 권 ] 자의 기원 탄생 자의 생 성 원 리와 부 수의 활용 등을 담 았다 ] 수많은 자의 기초 되는 기본 자와 자 쓰는 법 비슷 하거나 헷갈 리기 쉬운 자 다양한 자와 활용 법을 알려 준다 ] 더불어 자를 연결 하여 의미를 만드는 법 흥미로운 이야기가 담긴 고사 성 어 천 자 문에 얽 힌 이야기와 의미 대해서도 자세히 소개 하고 있다 ] ] y ] 인 문 사회 학 습 만화 시리즈 권 ] 자의 기원 탄생 자의 생 성 원 리와 부 수의 활용 등을 담 았다 ] 수많은 자의 기초 되는 기본 자와 자 쓰는 법 비슷 하거나 헷갈 리기 쉬운 자 다양한 자와 활용 법을 알려 준다 ] 더불어 자를 연결 하여 의미를 만드는 법 흥미로운 이야기가 담긴 고사 성 어 천 자 문에 얽 힌 이야기와 의미 대해서도 자세히 소개 하고 있다 ] ] y ] 인 문 사회 학 습 만화 시리즈 권 ] 자의 기원 탄생 자의 생 성 원 리와 부 수의 활용 등을 담 았다 ] 수많은 자의 기초 되는 기본 자와 자 쓰는 법 비슷 하거나 헷갈 리기 쉬운 자 다양한 자와 활용 법을 알려 준다 ] 더불어 자를 연결 하여 의미를 만드는 법 흥미로운 이야기가 담긴 고사 성 어 천 자 문에 얽 힌 이야기와 의미 대해서도 자세히 소개 하고 있다 ] ] y ] 인 문 사회 학 습 만화 시리즈 권 ] 자의 기원 탄생 자의 생 성 원 리와 부 수의 활용 등을 담 았다 ] 수많은 자의 기초 되는 기본 자와 자 쓰는 법 비슷 하거나 헷갈 리기 쉬운 자 다양한 자와 활용 법을 알려 준다 ] 더불어 자를 연결 하여 의미를 만드는 법 흥미로운 이야기가 담긴 고사 성 어 천 자 문에 얽 힌 이야기와 의미 대해서도 자세히 소개 하고 있다 ] ] y ] 인 문 사회 학 습 만화 시리즈 권 ] 자의 기원 탄생 자의 생 성 원 리와 부 수의 활용 등을 담 았다 ] 수많은 자의 기초 되는 기본 자와 자 쓰는 법 비슷 하거나 헷갈 리기 쉬운 자 다양한 자와 활용 법을 알려 준다 ] 더불어 자를 연결 하여 의미를 만드는 법 흥미로운 이야기가 담긴 고사 성 어 천 자 문에 얽 힌 이야기와 의미 대해서도 자세히 소개 하고 있다 ] ] y ] 인 문 사회 학 습 만화 시리즈 권 ] 자의 기원 탄생 자의 생 성 원 리와 부 수의 활용 등을 담 았다 ] 수많은 자의 기초 되는 기본 자와 자 쓰는 법 비슷 하거나 헷갈 리기 쉬운 자 다양한 자와 활용 법을 알려 준다 ] 더불어 자를 연결 하여 의미를 만드는 법 흥미로운 이야기가 담긴 고사 성 어 천 자 문에 얽 힌 이야기와 의미 대해서도 자세히 소개 하고 있다 ] ] y ] 인 문 사회 학 습 만화 시리즈 권 ] 자의 기원 탄생 자의 생 성 원 리와 부 수의 활용 등을 담 았다 ] 수많은 자의 기초 되는 기본 자와 자 쓰는 법 비슷 하거나 헷갈 리기 쉬운 자 다양한 자와 활용 법을 알려 준다 ] 더불어 자를 연결 하여 의미를 만드는 법 흥미로운 이야기가 담긴 고사 성 어 천 자 문에 얽 힌 이야기와 의미 대해서도 자세히 소개 하고 있다 ] ] y ] 인 문 사회 학 습 만화 시리즈 권 ] 자의 기원 탄생 자의 생 성 원 리와 부 수의 활용 등을 담 았다 ] 수많은 자의 기초 되는 기본 자와 자 쓰는 법 비슷 하거나 헷갈 리기 쉬운 자 다양한 자와 활용 법을 알려 준다 ] 더불어 자를 연결 하여 의미를 만드는 법 흥미로운 이야기가 담긴 고사 성 어 천 자 문에 얽 힌 이야기와 의미 대해서도 자세히 소개 하고 있다 ] ] y ] 인 문 사회 학 습 만화 시리즈 권 ] 자의 기원 탄생 자의 생 성 원 리와 부 수의 활용 등을 담 았다 ] 수많은 자의 기초 되는 기본 자와 자 쓰는 법 비슷 하거나 헷갈 리기 쉬운 자 다양한 자와 활용 법을 알려 준다 ] 더불어 자를 연결 하여 의미를 만드는 법 흥미로운 이야기가 담긴 고사 성 어 천 자 문에 얽 힌 이야기와 의미 대해서도 자세히 소개 하고 있다 ] ] y ] 인 문 사회 학 습 만화 시리즈 권 ] 자의 기원 탄생 자의 생 성 원 리와 부 수의 활용 등을 담 았다 ] 수많은 자의 기초 되는 기본 자와 자 쓰는 법 비슷 하거나 헷갈 리기 쉬운 자 다양한 자와 활용 법을 알려 준다 ] 더불어 자를 연결 하여 의미를 만드는 법 흥미로운 이야기가 담긴 고사 성 어 천 자 문에 얽 힌 이야기와 의미 대해서도 자세히 소개 하고 있다 ] ] y ] 인 문 사회 학 습 만화 시리즈 권 ] 자의 기원 탄생 자의 생 성 원 리와 부 수의 활용 등을 담 았다 ] 수많은 자의 기초 되는 기본 자와 자 쓰는 법 비슷 하거나 헷갈 리기 쉬운 자 다양한 자와 활용 법을 알려 준다 ] 더불어 자를 연결 하여 의미를 만드는 법 흥미로운 이야기가 담긴 고사 성 어 천 자 문에 얽 힌 이야기와 의미 대해서도 자세히 소개 하고 있다 ] ] y ] 인 문 사회 학 습 만화 시리즈 권 ] 자의 기원 탄생 자의 생 성 원 리와 부 수의 활용 등을 담 았다 ] 수많은 자의 기초 되는 기본 자와 자 쓰는 법 비슷 하거나 헷갈 리기 쉬운 자 다양한 자와 활용 법을 알려 준다 ] 더불어 자를 연결 하여 의미를 만드는 법 흥미로운 이야기가 담긴 고사 성 어 천 자 문에 얽 힌 이야기와 의미 대해서도 자세히 소개 하고 있다 ] ] y ] 인 문 사회 학 습 만화 시리즈 권 ] 자의 기원 탄생 자의 생 성 원 리와 부 수의 활용 등을 담 았다 ] 수많은 자의 기초 되는 기본 자와 자 쓰는 법 비슷 하거나 헷갈 리기 쉬운 자 다양한 자와 활용 법을 알려 준다 ] 더불어 자를 연결 하여 의미를 만드는 법 흥미로운 이야기가 담긴 고사 성 어 천 자 문에 얽 힌 이야기와 의미 대해서도 자세히 소개 하고 있다 ] ] y ] 인 문 사회 학 습 만화 시리즈 권 ] 자의 기원 탄생 자의 생 성 원 리와 부 수의 활용 등을 담 았다 ] 수많은 자의 기초 되는 기본 자와 자 쓰는 법 비슷 하거나 헷갈 리기 쉬운 자 다양한 자와 활용 법을 알려 준다 ] 더불어 자를 연결 하여 의미를 만드는 법 흥미로운 이야기가 담긴 고사 성 어 천 자 문에 얽 힌 이야기와 의미 대해서도 자세히 소개 하고 있다 ] ] y ] 인 문 사회 학 습 만화 시리즈 권 ] 자의 기원 탄생 자의 생 성 원 리와 부 수의 활용 등을 담 았다 ] 수많은 자의 기초 되는 기본 자와 자 쓰는 법 비슷 하거나 헷갈 리기 쉬운 자 다양한 자와 활용 법을 알려 준다 ] 더불어 자를 연결 하여 의미를 만드는 법 흥미로운 이야기가 담긴 고사 성 어 천 자 문에 얽 힌 이야기와 의미 대해서도 자세히 소개 하고 있다 ] ] y ] 인 문 사회 학 습 만화 시리즈 권 ] 자의 기원 탄생 자의 생 성 원 리와 부 수의 활용 등을 담 았다 ] 수많은 자의 기초 되는 기본 자와 자 쓰는 법 비슷 하거나 헷갈 리기 쉬운 자 다양한 자와 활용 법을 알려 준다 ] 더불어 자를 연결 하여 의미를 만드는 법 흥미로운 이야기가 담긴 고사 성 어 천 자 문에 얽 힌 이야기와 의미 대해서도 자세히 소개 하고 있다 ] ] y ] 인 문 사회 학 습 만화 시리즈 권 ] 자의 기원 탄생 자의 생 성 원 리와 부 수의 활용 등을 담 았다 ] 수많은 자의 기초 되는 기본 자와 자 쓰는 법 비슷 하거나 헷갈 리기 쉬운 자 다양한 자와 활용 법을 알려 준다 ] 더불어 자를 연결 하여 의미를 만드는 법 흥미로운 이야기가 담긴 고사 성 어 천 자 문에 얽 힌 이야기와 의미 대해서도 자세히 소개 하고 있다 ] ] y ] 인 문 사회 학 습 만화 시리즈 권 ] 자의 기원 탄생 자의 생 성 원 리와 부 수의 활용 등을 담 았다 ] 수많은 자의 기초 되는 기본 자와 자 쓰는 법 비슷 하거나 헷갈 리기 쉬운 자 다양한 자와 활용 법을 알려 준다 ] 더불어 자를 연결 하여 의미를 만드는 법 흥미로운 이야기가 담긴 고사 성 어 천 자 문에 얽 힌 이야기와 의미 대해서도 자세히 소개 하고 있다 ] ] y ] 인 문 사회 학 습 만화 시리즈 권 ] 자의 기원 탄생 자의 생 성 원 리와 부 수의 활용 등을 담 았다 ] 수많은 자의 기초 되는 기본 자와 자 쓰는 법 비슷 하거나 헷갈 리기 쉬운 자 다양한 자와 활용 법을 알려 준다 ] 더불어 자를 연결 하여 의미를 만드는 법 흥미로운 이야기가 담긴 고사 성 어 천 자 문에 얽 힌 이야기와 의미 대해서도 자세히 소개 하고 있다 ] ] y ] 인 문 사회 학 습 만화 시리즈 권 ] 자의 기원 탄생 자의 생 성 원 리와 부 수의 활용 등을 담 았다 ] 수많은 자의 기초 되는 기본 자와 자 쓰는 법 비슷 하거나 헷갈 리기 쉬운 자 다양한 자와 활용 법을 알려 준다 ] 더불어 자를 연결 하여 의미를 만드는 법 흥미로운 이야기가 담긴 고사 성 어 천 자 문에 얽 힌 이야기와 의미 대해서도 자세히 소개 하고 있다 ] ] y ] 인 문 사회 학 습 만화 시리즈 권 ] 자의 기원 탄생 자의 생 성 원 리와 부 수의 활용 등을 담 았다 ] 수많은 자의 기초 되는 기본 자와 자 쓰는 법 비슷 하거나 헷갈 리기 쉬운 자 다양한 자와 활용 법을 알려 준다 ] 더불어 자를 연결 하여 의미를 만드는 법 흥미로운 이야기가 담긴 고사 성 어 천 자 문에 얽 힌 이야기와 의미 대해서도 자세히 소개 하고 있다 ] ] y ] 인 문 사회 학 습 만화 시리즈 권 ] 자의 기원 탄생 자의 생 성 원 리와 부 수의 활용 등을 담 았다 ] 수많은 자의 기초 되는 기본 자와 자 쓰는 법 비슷 하거나 헷갈 리기 쉬운 자 다양한 자와 활용 법을 알려 준다 ] 더불어 자를 연결 하여 의미를 만드는 법 흥미로운 이야기가 담긴 고사 성 어 천 자 문에 얽 힌 이야기와 의미 대해서도 자세히 소개 하고 있다 ] ] y ] 인 문 사회 학 습 만화 시리즈 권 ] 자의 기원 탄생 자의 생 성 원 리와 부 수의 활용 등을 담 았다 ] 수많은 자의 기초 되는 기본 자와 자 쓰는 법 비슷 하거나 헷갈 리기 쉬운 자 다양한 자와 활용 법을 알려 준다 ] 더불어 자를 연결 하여 의미를 만드는 법 흥미로운 이야기가 담긴 고사 성 어 천 자 문에 얽 힌 이야기와 의미 대해서도 자세히 소개 하고 있다 ] ] y ] 인 문 사회 학 습 만화 시리즈 권 ] 자의 기원 탄생 자의 생 성 원 리와 부 수의 활용 등을 담 았다 ] 수많은 자의 기초 되는 기본 자와 자 쓰는 법 비슷 하거나 헷갈 리기 쉬운 자 다양한 자와 활용 법을 알려 준다 ] 더불어 자를 연결 하여 의미를 만드는 법 흥미로운 이야기가 담긴 고사 성 어 천 자 문에 얽 힌 이야기와 의미 대해서도 자세히 소개 하고 있다 ] ] y ] 인 문 사회 학 습 만화 시리즈 권 ] 자의 기원 탄생 자의 생 성 원 리와 부 수의 활용 등을 담 았다 ] 수많은 자의 기초 되는 기본 자와 자 쓰는 법 비슷 하거나 헷갈 리기 쉬운 자 다양한 자와 활용 법을 알려 준다 ] 더불어 자를 연결 하여 의미를 만드는 법 흥미로운 이야기가 담긴 고사 성 어 천 자 문에 얽 힌 이야기와 의미 대해서도 자세히 소개 하고 있다 ] ] y ] 인 문 사회 학 습 만화 시리즈 권 ] 자의 기원 탄생 자의 생 성 원 리와 부 수의 활용 등을 담 았다 ] 수많은 자의 기초 되는 기본 자와 자 쓰는 법 비슷 하거나 헷갈 리기 쉬운 자 다양한 자와 활용 법을 알려 준다 ] 더불어 자를 연결 하여 의미를 만드는 법 흥미로운 이야기가 담긴 고사 성 어 천 자 문에 얽 힌 이야기와 의미 대해서도 자세히 소개 하고 있다 ] ] y ] 인 문 사회 학 습 만화 시리즈 권 ] 자의 기원 탄생 자의 생 성 원 리와 부 수의 활용 등을 담 았다 ] 수많은 자의 기초 되는 기본 자와 자 쓰는 법 비슷 하거나 헷갈 리기 쉬운 자 다양한 자와 활용 법을 알려 준다 ] 더불어 자를 연결 하여 의미를 만드는 법 흥미로운 이야기가 담긴 고사 성 어 천 자 문에 얽 힌 이야기와 의미 대해서도 자세히 소개 하고 있다 ] ] y ] 인 문 사회 학 습 만화 시리즈 권 ] 자의 기원 탄생 자의 생 성 원 리와 부 수의 활용 등을 담 았다 ] 수많은 자의 기초 되는 기본 자와 자 쓰는 법 비슷 하거나 헷갈 리기 쉬운 자 다양한 자와 활용 법을 알려 준다 ] 더불어 자를 연결 하여 의미를 만드는 법 흥미로운 이야기가 담긴 고사 성 어 천 자 문에 얽 힌 이야기와 의미 대해서도 자세히 소개 하고 있다 ] ] y ] 인 문 사회 학 습 만화 시리즈 권 ] 자의 기원 탄생 자의 생 성 원 리와 부 수의 활용 등을 담 았다 ] 수많은 자의 기초 되는 기본 자와 자 쓰는 법 비슷 하거나 헷갈 리기 쉬운 자 다양한 자와 활용 법을 알려 준다 ] 더불어 자를 연결 하여 의미를 만드는 법 흥미로운 이야기가 담긴 고사 성 어 천 자 문에 얽 힌 이야기와 의미 대해서도 자세히 소개 하고 있다 ] ] y ] 인 문 사회 학 습 만화 시리즈 권 ] 자의 기원 탄생 자의 생 성 원 리와 부 수의 활용 등을 담 았다 ] 수많은 자의 기초 되는 기본 자와 자 쓰는 법 비슷 하거나 헷갈 리기 쉬운 자 다양한 자와 활용 법을 알려 준다 ] 더불어 자를 연결 하여 의미를 만드는 법 흥미로운 이야기가 담긴 고사 성 어 천 자 문에 얽 힌 이야기와 의미 대해서도 자세히 소개 하고 있다 ] ] y ] 인 문 사회 학 습 만화 시리즈 권 ] 자의 기원 탄생 자의 생 성 원 리와 부 수의 활용 등을 담 았다 ] 수많은 자의 기초 되는 기본 자와 자 쓰는 법 비슷 하거나 헷갈 리기 쉬운 자 다양한 자와 활용 법을 알려 준다 ] 더불어 자를 연결 하여 의미를 만드는 법 흥미로운 이야기가 담긴 고사 성 어 천 자 문에 얽 힌 이야기와 의미 대해서도 자세히 소개 하고 있다 ] ] y ] 인 문 사회 학 습 만화 시리즈 권 ] 자의 기원 탄생 자의 생 성 원 리와 부 수의 활용 등을 담 았다 ] 수많은 자의 기초 되는 기본 자와 자 쓰는 법 비슷 하거나 헷갈 리기 쉬운 자 다양한 자와 활용 법을 알려 준다 ] 더불어 자를 연결 하여 의미를 만드는 법 흥미로운 이야기가 담긴 고사 성 어 천 자 문에 얽 힌 이야기와 의미 대해서도 자세히 소개 하고 있다 ] ] y ] 인 문 사회 학 습 만화 시리즈 권 ] 자의 기원 탄생 자의 생 성 원 리와 부 수의 활용 등을 담 았다 ] 수많은 자의 기초 되는 기본 자와 자 쓰는 법 비슷 하거나 헷갈 리기 쉬운 자 다양한 자와 활용 법을 알려 준다 ] 더불어 자를 연결 하여 의미를 만드는 법 흥미로운 이야기가 담긴 고사 성 어 천 자 문에 얽 힌 이야기와 의미 대해서도 자세히 소개 하고 있다 ] ] y ] 인 문 사회 학 습 만화 시리즈 권 ] 자의 기원 탄생 자의 생 성 원 리와 부 수의 활용 등을 담 았다 ] 수많은 자의 기초 되는 기본 자와 자 쓰는 법 비슷 하거나 헷갈 리기 쉬운 자 다양한 자와 활용 법을 알려 준다 ] 더불어 자를 연결 하여 의미를 만드는 법 흥미로운 이야기가 담긴 고사 성 어 천 자 문에 얽 힌 이야기와 의미 대해서도 자세히 소개 하고 있다 ] ] y ] 인 문 사회 학 습 만화 시리즈 권 ] 자의 기원 탄생 자의 생 성 원 리와 부 수의 활용 등을 담 았다 ] 수많은 자의 기초 되는 기본 자와 자 쓰는 법 비슷 하거나 헷갈 리기 쉬운 자 다양한 자와 활용 법을 알려 준다 ] 더불어 자를 연결 하여 의미를 만드는 법 흥미로운 이야기가 담긴 고사 성 어 천 자 문에 얽 힌 이야기와 의미 대해서도 자세히 소개 하고 있다 ] ] y ] 인 문 사회 학 습 만화 시리즈 권 ] 자의 기원 탄생 자의 생 성 원 리와 부 수의 활용 등을 담 았다 ] 수많은 자의 기초 되는 기본 자와 자 쓰는 법 비슷 하거나 헷갈 리기 쉬운 자 다양한 자와 활용 법을 알려 준다 ] 더불어 자를 연결 하여 의미를 만드는 법 흥미로운 이야기가 담긴 고사 성 어 천 자 문에 얽 힌 이야기와 의미 대해서도 자세히 소개 하고 있다 ] ] y ] 인 문 사회 학 습 만화 시리즈 권 ] 자의 기원 탄생 자의 생 성 원 리와 부 수의 활용 등을 담 았다 ] 수많은 자의 기초 되는 기본 자와 자 쓰는 법 비슷 하거나 헷갈 리기 쉬운 자 다양한 자와 활용 법을 알려 준다 ] 더불어 자를 연결 하여 의미를 만드는 법 흥미로운 이야기가 담긴 고사 성 어 천 자 문에 얽 힌 이야기와 의미 대해서도 자세히 소개 하고 있다 ] ] y ] 인 문 사회 학 습 만화 시리즈 권 ] 자의 기원 탄생 자의 생 성 원 리와 부 수의 활용 등을 담 았다 ] 수많은 자의 기초 되는 기본 자와 자 쓰는 법 비슷 하거나 헷갈 리기 쉬운 자 다양한 자와 활용 법을 알려 준다 ] 더불어 자를 연결 하여 의미를 만드는 법 흥미로운 이야기가 담긴 고사 성 어 천 자 문에 얽 힌 이야기와 의미 대해서도 자세히 소개 하고 있다 ] ] y ] 인 문 사회 학 습 만화 시리즈 권 ] 자의 기원 탄생 자의 생 성 원 리와 부 수의 활용 등을 담 았다 ] 수많은 자의 기초 되는 기본 자와 자 쓰는 법 비슷 하거나 헷갈 리기 쉬운 자 다양한 자와 활용 법을 알려 준다 ] 더불어 자를 연결 하여 의미를 만드는 법 흥미로운 이야기가 담긴 고사 성 어 천 자 문에 얽 힌 이야기와 의미 대해서도 자세히 소개 하고 있다 ] ] y ] 인 문 사회 학 습 만화 시리즈 권 ] 자의 기원 탄생 자의 생 성 원 리와 부 수의 활용 등을 담 았다 ] 수많은 자의 기초 되는 기본 자와 자 쓰는 법 비슷 하거나 헷갈 리기 쉬운 자 다양한 자와 활용 법을 알려 준다 ] 더불어 자를 연결 하여 의미를 만드는 법 흥미로운 이야기가 담긴 고사 성 어 천 자 문에 얽 힌 이야기와 의미 대해서도 자세히 소개 하고 있다 ] ] y ] 인 문 사회 학 습 만화 시리즈 권 ] 자의 기원 탄생 자의 생 성 원 리와 부 수의 활용 등을 담 았다 ] 수많은 자의 기초 되는 기본 자와 자 쓰는 법 비슷 하거나 헷갈 리기 쉬운 자 다양한 자와 활용 법을 알려 준다 ] 더불어 자를 연결 하여 의미를 만드는 법 흥미로운 이야기가 담긴 고사 성 어 천 자 문에 얽 힌 이야기와 의미 대해서도 자세히 소개 하고 있다 ] ] y ] 인 문 사회 학 습 만화 시리즈 권 ] 자의 기원 탄생 자의 생 성 원 리와 부 수의 활용 등을 담 았다 ] 수많은 자의 기초 되는 기본 자와 자 쓰는 법 비슷 하거나 헷갈 리기 쉬운 자 다양한 자와 활용 법을 알려 준다 ] 더불어 자를 연결 하여 의미를 만드는 법 흥미로운 이야기가 담긴 고사 성 어 천 자 문에 얽 힌 이야기와 의미 대해서도 자세히 소개 하고 있다 ] ] y ] 인 문 사회 학 습 만화 시리즈 권 ] 자의 기원 탄생 자의 생 성 원 리와 부 수의 활용 등을 담 았다 ] 수많은 자의 기초 되는 기본 자와 자 쓰는 법 비슷 하거나 헷갈 리기 쉬운 자 다양한 자와 활용 법을 알려 준다 ] 더불어 자를 연결 하여 의미를 만드는 법 흥미로운 이야기가 담긴 고사 성 어 천 자 문에 얽 힌 이야기와 의미 대해서도 자세히 소개 하고 있다 ] ] y ] 인 문 사회 학 습 만화 시리즈 권 ] 자의 기원 탄생 자의 생 성 원 리와 부 수의 활용 등을 담 았다 ] 수많은 자의 기초 되는 기본 자와 자 쓰는 법 비슷 하거나 헷갈 리기 쉬운 자 다양한 자와 활용 법을 알려 준다 ] 더불어 자를 연결 하여 의미를 만드는 법 흥미로운 이야기가 담긴 고사 성 어 천 자 문에 얽 힌 이야기와 의미 대해서도 자세히 소개 하고 있다 ] ] y ] 인 문 사회 학 습 만화 시리즈 권 ] 자의 기원 탄생 자의 생 성 원 리와 부 수의 활용 등을 담 았다 ] 수많은 자의 기초 되는 기본 자와 자 쓰는 법 비슷 하거나 헷갈 리기 쉬운 자 다양한 자와 활용 법을 알려 준다 ] 더불어 자를 연결 하여 의미를 만드는 법 흥미로운 이야기가 담긴 고사 성 어 천 자 문에 얽 힌 이야기와 의미 대해서도 자세히 소개 하고 있다 ] ] y ] 인 문 사회 학 습 만화 시리즈 권 ] 자의 기원 탄생 자의 생 성 원 리와 부 수의 활용 등을 담 았다 ] 수많은 자의 기초 되는 기본 자와 자 쓰는 법 비슷 하거나 헷갈 리기 쉬운 자 다양한 자와 활용 법을 알려 준다 ] 더불어 자를 연결 하여 의미를 만드는 법 흥미로운 이야기가 담긴 고사 성 어 천 자 문에 얽 힌 이야기와 의미 대해서도 자세히 소개 하고 있다 ] ] y ] 인 문 사회 학 습 만화 시리즈 권 ] 자의 기원 탄생 자의 생 성 원 리와 부 수의 활용 등을 담 았다 ] 수많은 자의 기초 되는 기본 자와 자 쓰는 법 비슷 하거나 헷갈 리기 쉬운 자 다양한 자와 활용 법을 알려 준다 ] 더불어 자를 연결 하여 의미를 만드는 법 흥미로운 이야기가 담긴 고사 성 어 천 자 문에 얽 힌 이야기와 의미 대해서도 자세히 소개 하고 있다 ] ] y ] 인 문 사회 학 습 만화 시리즈 권 ] 자의 기원 탄생 자의 생 성 원 리와 부 수의 활용 등을 담 았다 ] 수많은 자의 기초 되는 기본 자와 자 쓰는 법 비슷 하거나 헷갈 리기 쉬운 자 다양한 자와 활용 법을 알려 준다 ] 더불어 자를 연결 하여 의미를 만드는 법 흥미로운 이야기가 담긴 고사 성 어 천 자 문에 얽 힌 이야기와 의미 대해서도 자세히 소개 하고 있다 ] ] y ] 인 문 사회 학 습 만화 시리즈 권 ] 자의 기원 탄생 자의 생 성 원 리와 부 수의 활용 등을 담 았다 ] 수많은 자의 기초 되는 기본 자와 자 쓰는 법 비슷 하거나 헷갈 리기 쉬운 자 다양한 자와 활용 법을 알려 준다 ] 더불어 자를 연결 하여 의미를 만드는 법 흥미로운 이야기가 담긴 고사 성 어 천 자 문에 얽 힌 이야기와 의미 대해서도 자세히 소개 하고 있다 ] ] y ] 인 문 사회 학 습 만화 시리즈 권 ] 자의 기원 탄생 자의 생 성 원 리와 부 수의 활용 등을 담 았다 ] 수많은 자의 기초 되는 기본 자와 자 쓰는 법 비슷 하거나 헷갈 리기 쉬운 자 다양한 자와 활용 법을 알려 준다 ] 더불어 자를 연결 하여 의미를 만드는 법 흥미로운 이야기가 담긴 고사 성 어 천 자 문에 얽 힌 이야기와 의미 대해서도 자세히 소개 하고 있다 ] ] y ] 인 문 사회 학 습 만화 시리즈 권 ] 자의 기원 탄생 자의 생 성 원 리와 부 수의 활용 등을 담 았다 ] 수많은 자의 기초 되는 기본 자와 자 쓰는 법 비슷 하거나 헷갈 리기 쉬운 자 다양한 자와 활용 법을 알려 준다 ] 더불어 자를 연결 하여 의미를 만드는 법 흥미로운 이야기가 담긴 고사 성 어 천 자 문에 얽 힌 이야기와 의미 대해서도 자세히 소개 하고 있다 ] ] \n",
            "실제 요약문 : PAD W h y ] UNK UNK 이야기 ] ] PAD W h y ] UNK UNK 이야기 ] ] PAD W h y ] UNK UNK 이야기 ] ] PAD W h y ] UNK UNK 이야기 ] ] PAD W h y ] UNK UNK 이야기 ] ] PAD W h y ] UNK UNK 이야기 ] ] PAD W h y ] UNK UNK 이야기 ] ] PAD W h y ] UNK UNK 이야기 ] ] PAD W h y ] UNK UNK 이야기 ] ] PAD W h y ] UNK UNK 이야기 ] ] PAD W h y ] UNK UNK 이야기 ] ] PAD W h y ] UNK UNK 이야기 ] ] PAD W h y ] UNK UNK 이야기 ] ] PAD W h y ] UNK UNK 이야기 ] ] PAD W h y ] UNK UNK 이야기 ] ] PAD W h y ] UNK UNK 이야기 ] ] \n",
            "1/1 [==============================] - 0s 26ms/step\n",
            "1/1 [==============================] - 0s 18ms/step\n",
            "1/1 [==============================] - 0s 19ms/step\n",
            "1/1 [==============================] - 0s 19ms/step\n",
            "1/1 [==============================] - 0s 19ms/step\n",
            "1/1 [==============================] - 0s 17ms/step\n",
            "1/1 [==============================] - 0s 19ms/step\n",
            "1/1 [==============================] - 0s 22ms/step\n",
            "1/1 [==============================] - 0s 19ms/step\n",
            "1/1 [==============================] - 0s 18ms/step\n",
            "1/1 [==============================] - 0s 18ms/step\n",
            "1/1 [==============================] - 0s 28ms/step\n",
            "1/1 [==============================] - 0s 18ms/step\n",
            "1/1 [==============================] - 0s 18ms/step\n",
            "1/1 [==============================] - 0s 16ms/step\n",
            "1/1 [==============================] - 0s 16ms/step\n",
            "1/1 [==============================] - 0s 21ms/step\n",
            "1/1 [==============================] - 0s 18ms/step\n",
            "1/1 [==============================] - 0s 19ms/step\n",
            "1/1 [==============================] - 0s 17ms/step\n",
            "1/1 [==============================] - 0s 18ms/step\n",
            "1/1 [==============================] - 0s 17ms/step\n",
            "1/1 [==============================] - 0s 22ms/step\n",
            "1/1 [==============================] - 0s 17ms/step\n",
            "1/1 [==============================] - 0s 18ms/step\n",
            "1/1 [==============================] - 0s 20ms/step\n",
            "1/1 [==============================] - 0s 18ms/step\n",
            "1/1 [==============================] - 0s 19ms/step\n",
            "1/1 [==============================] - 0s 19ms/step\n",
            "1/1 [==============================] - 0s 22ms/step\n",
            "예측 요약문 :  W h y y e i i i i i i i i i i i a a a a a b k e a i ##e U U\n",
            "\n",
            "\n"
          ]
        }
      ]
    },
    {
      "cell_type": "markdown",
      "source": [
        "## 모델2\n",
        "- lstm 4개"
      ],
      "metadata": {
        "id": "5hjBl8XGyI2Z"
      }
    },
    {
      "cell_type": "code",
      "source": [
        "#인코더\n",
        "encoder_inputs = Input(shape=(text_max_len,))\n",
        "\n",
        "#인코더의 임베딩층\n",
        "enc_emb = Embedding(30000, 128)(encoder_inputs)\n",
        "\n",
        "#인코더 LSTM 1\n",
        "enc_lstm1 = LSTM(256,activation='tanh',recurrent_activation='sigmoid', \n",
        "                 return_sequences=True, return_state=True ,\n",
        "                         recurrent_dropout=0, unroll=False, use_bias=True, dropout=0.4)\n",
        "encoder_output1, state_h1, state_c1 = enc_lstm1(enc_emb)\n",
        "\n",
        "#LSTM 2\n",
        "enc_lstm2 = LSTM(256,activation='tanh',recurrent_activation='sigmoid',\n",
        "                 return_sequences=True, return_state=True ,\n",
        "                         recurrent_dropout=0, unroll=False, use_bias=True, dropout=0.4)\n",
        "encoder_output2, state_h2, state_c2 = enc_lstm2(encoder_output1)\n",
        "\n",
        "#LSTM 3\n",
        "enc_lstm3 = LSTM(256,activation='tanh',recurrent_activation='sigmoid',\n",
        "                 return_sequences=True, return_state=True ,\n",
        "                         recurrent_dropout=0, unroll=False, use_bias=True, dropout=0.4)\n",
        "encoder_output3, state_h3, state_c3 = enc_lstm3(encoder_output2)\n",
        "\n",
        "\n",
        "#LSTM 4\n",
        "enc_lstm3 = LSTM(256,activation='tanh',recurrent_activation='sigmoid',\n",
        "                 return_sequences=True, return_state=True ,\n",
        "                         recurrent_dropout=0, unroll=False, use_bias=True, dropout=0.4)\n",
        "encoder_outputs, state_h, state_c= enc_lstm3(encoder_output3)\n",
        "\n",
        "\n",
        "# 디코더\n",
        "decoder_inputs = Input(shape=(None,))\n",
        "\n",
        "# 디코더의 임베딩 층\n",
        "dec_emb_layer = Embedding(30000, 128)\n",
        "dec_emb = dec_emb_layer(decoder_inputs)\n",
        "\n",
        "# 디코더의 LSTM\n",
        "decoder_lstm = LSTM(256, return_sequences = True, return_state = True, \n",
        "                    dropout = 0.4\n",
        "                    ,activation='tanh',recurrent_activation='sigmoid',\n",
        "                    recurrent_dropout=0, unroll=False, use_bias=True)\n",
        "#초기 상태를 인코더의 상태로 줘야함\n",
        "decoder_outputs, _, _ = decoder_lstm(dec_emb, initial_state = [state_h, state_c])\n",
        "\n",
        "\n",
        "\n",
        "# 어텐션 층(어텐션 함수)\n",
        "attn_layer = AttentionLayer(name='attention_layer')\n",
        "attn_out, attn_states = attn_layer([encoder_outputs, decoder_outputs])\n",
        "\n",
        "# 어텐션의 결과와 디코더의 hidden state들을 연결\n",
        "decoder_concat_input = Concatenate(axis = -1, name='concat_layer')([decoder_outputs, attn_out])\n",
        "\n",
        "# 디코더의 출력층\n",
        "decoder_softmax_layer = Dense(30000, activation='softmax')\n",
        "decoder_softmax_outputs = decoder_softmax_layer(decoder_concat_input)\n",
        "\n",
        "# 모델 정의\n",
        "model1 = Model([encoder_inputs, decoder_inputs], decoder_softmax_outputs)\n",
        "model1.summary()"
      ],
      "metadata": {
        "colab": {
          "base_uri": "https://localhost:8080/"
        },
        "id": "fp6B7msyyL43",
        "outputId": "d0f969e3-8968-44e6-87ff-73adc0d697b8"
      },
      "execution_count": null,
      "outputs": [
        {
          "output_type": "stream",
          "name": "stdout",
          "text": [
            "Model: \"model_5\"\n",
            "__________________________________________________________________________________________________\n",
            " Layer (type)                   Output Shape         Param #     Connected to                     \n",
            "==================================================================================================\n",
            " input_11 (InputLayer)          [(None, 84)]         0           []                               \n",
            "                                                                                                  \n",
            " embedding_7 (Embedding)        (None, 84, 128)      3840000     ['input_11[0][0]']               \n",
            "                                                                                                  \n",
            " lstm_14 (LSTM)                 [(None, 84, 256),    394240      ['embedding_7[0][0]']            \n",
            "                                 (None, 256),                                                     \n",
            "                                 (None, 256)]                                                     \n",
            "                                                                                                  \n",
            " lstm_15 (LSTM)                 [(None, 84, 256),    525312      ['lstm_14[0][0]']                \n",
            "                                 (None, 256),                                                     \n",
            "                                 (None, 256)]                                                     \n",
            "                                                                                                  \n",
            " input_12 (InputLayer)          [(None, None)]       0           []                               \n",
            "                                                                                                  \n",
            " lstm_16 (LSTM)                 [(None, 84, 256),    525312      ['lstm_15[0][0]']                \n",
            "                                 (None, 256),                                                     \n",
            "                                 (None, 256)]                                                     \n",
            "                                                                                                  \n",
            " embedding_8 (Embedding)        (None, None, 128)    3840000     ['input_12[0][0]']               \n",
            "                                                                                                  \n",
            " lstm_17 (LSTM)                 [(None, 84, 256),    525312      ['lstm_16[0][0]']                \n",
            "                                 (None, 256),                                                     \n",
            "                                 (None, 256)]                                                     \n",
            "                                                                                                  \n",
            " lstm_18 (LSTM)                 [(None, None, 256),  394240      ['embedding_8[0][0]',            \n",
            "                                 (None, 256),                     'lstm_17[0][1]',                \n",
            "                                 (None, 256)]                     'lstm_17[0][2]']                \n",
            "                                                                                                  \n",
            " attention_layer (AttentionLaye  ((None, None, 256),  131328     ['lstm_17[0][0]',                \n",
            " r)                              (None, None, 84))                'lstm_18[0][0]']                \n",
            "                                                                                                  \n",
            " concat_layer (Concatenate)     (None, None, 512)    0           ['lstm_18[0][0]',                \n",
            "                                                                  'attention_layer[0][0]']        \n",
            "                                                                                                  \n",
            " dense_3 (Dense)                (None, None, 30000)  15390000    ['concat_layer[0][0]']           \n",
            "                                                                                                  \n",
            "==================================================================================================\n",
            "Total params: 25,565,744\n",
            "Trainable params: 25,565,744\n",
            "Non-trainable params: 0\n",
            "__________________________________________________________________________________________________\n"
          ]
        }
      ]
    },
    {
      "cell_type": "code",
      "source": [
        "model1.compile(loss='sparse_categorical_crossentropy', optimizer='adam')\n",
        "\n",
        "es = EarlyStopping(monitor='val_loss', mode='min', verbose=2, patience = 2)\n",
        "history = model1.fit(x = [encoder_input_train, decoder_input_train], y = decoder_target_train,\n",
        "          validation_data = ([encoder_input_test, decoder_input_test], decoder_target_test),\n",
        "          batch_size = 256, callbacks=[es], epochs = 50)"
      ],
      "metadata": {
        "colab": {
          "base_uri": "https://localhost:8080/"
        },
        "id": "1EuCbFdJzD0y",
        "outputId": "dba3894b-846c-41cb-c294-05c00dfe9c5d"
      },
      "execution_count": null,
      "outputs": [
        {
          "output_type": "stream",
          "name": "stdout",
          "text": [
            "Epoch 1/50\n",
            "86/86 [==============================] - 58s 567ms/step - loss: 4.0734 - val_loss: 2.9202\n",
            "Epoch 2/50\n",
            "86/86 [==============================] - 48s 559ms/step - loss: 2.8229 - val_loss: 2.7070\n",
            "Epoch 3/50\n",
            "86/86 [==============================] - 49s 567ms/step - loss: 2.6451 - val_loss: 2.5984\n",
            "Epoch 4/50\n",
            "86/86 [==============================] - 49s 567ms/step - loss: 2.5732 - val_loss: 2.5629\n",
            "Epoch 5/50\n",
            "86/86 [==============================] - 49s 566ms/step - loss: 2.5283 - val_loss: 2.5312\n",
            "Epoch 6/50\n",
            "86/86 [==============================] - 49s 565ms/step - loss: 2.4909 - val_loss: 2.5096\n",
            "Epoch 7/50\n",
            "86/86 [==============================] - 51s 589ms/step - loss: 2.4567 - val_loss: 2.4905\n",
            "Epoch 8/50\n",
            "86/86 [==============================] - 50s 585ms/step - loss: 2.4208 - val_loss: 2.4749\n",
            "Epoch 9/50\n",
            "86/86 [==============================] - 50s 579ms/step - loss: 2.3932 - val_loss: 2.4670\n",
            "Epoch 10/50\n",
            "86/86 [==============================] - 50s 579ms/step - loss: 2.3634 - val_loss: 2.4604\n",
            "Epoch 11/50\n",
            "86/86 [==============================] - 49s 575ms/step - loss: 2.3375 - val_loss: 2.4551\n",
            "Epoch 12/50\n",
            "86/86 [==============================] - 49s 570ms/step - loss: 2.3117 - val_loss: 2.4523\n",
            "Epoch 13/50\n",
            "86/86 [==============================] - 49s 570ms/step - loss: 2.2861 - val_loss: 2.4603\n",
            "Epoch 14/50\n",
            "86/86 [==============================] - 49s 568ms/step - loss: 2.2612 - val_loss: 2.4523\n",
            "Epoch 14: early stopping\n"
          ]
        }
      ]
    },
    {
      "cell_type": "code",
      "source": [
        "#인코더 설계\n",
        "encoder_model = Model(inputs = encoder_inputs, outputs=[encoder_outputs,\n",
        "                                                        state_h, state_c])\n",
        "\n",
        "#디코더\n",
        "#이전 시점의 상태들을 저장하는 텐서\n",
        "decoder_state_input_h = Input(shape=(256,))\n",
        "decoder_state_input_c = Input(shape=(256,))\n",
        "\n",
        "dec_emb2 = dec_emb_layer(decoder_inputs)\n",
        "\n",
        "decoder_outputs2, state_h2, state_c2 = decoder_lstm(dec_emb2,\n",
        "                                                    initial_state=[decoder_state_input_h, decoder_state_input_c])\n",
        "\n",
        "# 어텐션 함수\n",
        "decoder_hidden_state_input = Input(shape=(text_max_len, 256))\n",
        "attn_out_inf, attn_states_inf = attn_layer([decoder_hidden_state_input, decoder_outputs2])\n",
        "decoder_inf_concat = Concatenate(axis=-1, name='concat')([decoder_outputs2, attn_out_inf])\n",
        "\n",
        "# 디코더의 출력층\n",
        "decoder_outputs2 = decoder_softmax_layer(decoder_inf_concat) \n",
        "\n",
        "# 최종 디코더 모델\n",
        "decoder_model = Model(\n",
        "    [decoder_inputs] + [decoder_hidden_state_input,decoder_state_input_h, decoder_state_input_c],\n",
        "    [decoder_outputs2] + [state_h2, state_c2])\n"
      ],
      "metadata": {
        "id": "-GWWRQ1l0Xfg"
      },
      "execution_count": null,
      "outputs": []
    },
    {
      "cell_type": "code",
      "source": [
        "#테스트모델\n",
        "def decode_sequence(input_seq):\n",
        "    # 입력으로부터 인코더의 상태를 얻음\n",
        "    e_out, e_h, e_c = encoder_model.predict(input_seq)\n",
        "\n",
        "     # <SOS>에 해당하는 토큰 생성\n",
        "    target_seq = np.zeros((1,1))\n",
        "    target_seq[0, 0] = sos\n",
        "\n",
        "    stop_condition = False\n",
        "    decoded_sentence = ''\n",
        "    while not stop_condition: # stop_condition이 True가 될 때까지 루프 반복\n",
        "\n",
        "        output_tokens, h, c = decoder_model.predict([target_seq] + [e_out, e_h, e_c])\n",
        "        sampled_token_index = np.argmax(output_tokens[0, -1, :])\n",
        "        sampled_token = tokenizer.decode([sampled_token_index])\n",
        "\n",
        "        if(sampled_token!='[UNK]'):\n",
        "            decoded_sentence += ' '+sampled_token\n",
        "\n",
        "        #  <eos>에 도달하거나 최대 길이를 넘으면 중단.\n",
        "        if (sampled_token == '[UNK]'  or len(decoded_sentence.split()) >= (title_max_len-1)):\n",
        "            stop_condition = True\n",
        "\n",
        "        # 길이가 1인 타겟 시퀀스를 업데이트\n",
        "        target_seq = np.zeros((1,1))\n",
        "        target_seq[0, 0] = sampled_token_index\n",
        "\n",
        "        # 상태를 업데이트 합니다.\n",
        "        e_h, e_c = h, c\n",
        "\n",
        "    return decoded_sentence\n",
        "\n",
        "# 원문의 정수 시퀀스를 텍스트 시퀀스로 변환\n",
        "def seq2text(input_seq):\n",
        "    sentence=''\n",
        "    for i in input_seq:\n",
        "        if(i!=0):\n",
        "            sentence = sentence + tokenizer.decode(input_seq)+' '\n",
        "    return sentence\n",
        "\n",
        "# 요약문의 정수 시퀀스를 텍스트 시퀀스로 변환\n",
        "def seq2summary(input_seq):\n",
        "    sentence=''\n",
        "    for i in input_seq:\n",
        "        if((i!=0 and i!=sos) and i!=end):\n",
        "            sentence = sentence + tokenizer.decode(i) + ' '\n",
        "    return sentence"
      ],
      "metadata": {
        "id": "d4rQa7Zq2Hfs"
      },
      "execution_count": null,
      "outputs": []
    },
    {
      "cell_type": "code",
      "source": [
        "for i in range(900,905):\n",
        "    print(\"원문 : \",seq2text(encoder_input_test[i]))\n",
        "    print(\"실제 요약문 :\",seq2text(decoder_input_test[i]))\n",
        "    print(\"예측 요약문 :\",decode_sequence(encoder_input_test[i].reshape(1, text_max_len)))\n",
        "    print(\"\\n\")"
      ],
      "metadata": {
        "colab": {
          "base_uri": "https://localhost:8080/"
        },
        "id": "af0W478f2Vwq",
        "outputId": "5ec79681-4c2d-4315-ed90-ae44827bd9d4"
      },
      "execution_count": null,
      "outputs": [
        {
          "output_type": "stream",
          "name": "stdout",
          "text": [
            "원문 :  개인 이나 의사 한두 명 아닌 국내 최초 소 전문 원 함 소 에서 년 동안 만 명 이상의 아이들을 진 료 하면서 쌓 임상 노 우를 바탕으로 만든 이유 식에 관한 모든 정보 담은 책이 ] ] 개인 이나 의사 한두 명 아닌 국내 최초 소 전문 원 함 소 에서 년 동안 만 명 이상의 아이들을 진 료 하면서 쌓 임상 노 우를 바탕으로 만든 이유 식에 관한 모든 정보 담은 책이 ] ] 개인 이나 의사 한두 명 아닌 국내 최초 소 전문 원 함 소 에서 년 동안 만 명 이상의 아이들을 진 료 하면서 쌓 임상 노 우를 바탕으로 만든 이유 식에 관한 모든 정보 담은 책이 ] ] 개인 이나 의사 한두 명 아닌 국내 최초 소 전문 원 함 소 에서 년 동안 만 명 이상의 아이들을 진 료 하면서 쌓 임상 노 우를 바탕으로 만든 이유 식에 관한 모든 정보 담은 책이 ] ] 개인 이나 의사 한두 명 아닌 국내 최초 소 전문 원 함 소 에서 년 동안 만 명 이상의 아이들을 진 료 하면서 쌓 임상 노 우를 바탕으로 만든 이유 식에 관한 모든 정보 담은 책이 ] ] 개인 이나 의사 한두 명 아닌 국내 최초 소 전문 원 함 소 에서 년 동안 만 명 이상의 아이들을 진 료 하면서 쌓 임상 노 우를 바탕으로 만든 이유 식에 관한 모든 정보 담은 책이 ] ] 개인 이나 의사 한두 명 아닌 국내 최초 소 전문 원 함 소 에서 년 동안 만 명 이상의 아이들을 진 료 하면서 쌓 임상 노 우를 바탕으로 만든 이유 식에 관한 모든 정보 담은 책이 ] ] 개인 이나 의사 한두 명 아닌 국내 최초 소 전문 원 함 소 에서 년 동안 만 명 이상의 아이들을 진 료 하면서 쌓 임상 노 우를 바탕으로 만든 이유 식에 관한 모든 정보 담은 책이 ] ] 개인 이나 의사 한두 명 아닌 국내 최초 소 전문 원 함 소 에서 년 동안 만 명 이상의 아이들을 진 료 하면서 쌓 임상 노 우를 바탕으로 만든 이유 식에 관한 모든 정보 담은 책이 ] ] 개인 이나 의사 한두 명 아닌 국내 최초 소 전문 원 함 소 에서 년 동안 만 명 이상의 아이들을 진 료 하면서 쌓 임상 노 우를 바탕으로 만든 이유 식에 관한 모든 정보 담은 책이 ] ] 개인 이나 의사 한두 명 아닌 국내 최초 소 전문 원 함 소 에서 년 동안 만 명 이상의 아이들을 진 료 하면서 쌓 임상 노 우를 바탕으로 만든 이유 식에 관한 모든 정보 담은 책이 ] ] 개인 이나 의사 한두 명 아닌 국내 최초 소 전문 원 함 소 에서 년 동안 만 명 이상의 아이들을 진 료 하면서 쌓 임상 노 우를 바탕으로 만든 이유 식에 관한 모든 정보 담은 책이 ] ] 개인 이나 의사 한두 명 아닌 국내 최초 소 전문 원 함 소 에서 년 동안 만 명 이상의 아이들을 진 료 하면서 쌓 임상 노 우를 바탕으로 만든 이유 식에 관한 모든 정보 담은 책이 ] ] 개인 이나 의사 한두 명 아닌 국내 최초 소 전문 원 함 소 에서 년 동안 만 명 이상의 아이들을 진 료 하면서 쌓 임상 노 우를 바탕으로 만든 이유 식에 관한 모든 정보 담은 책이 ] ] 개인 이나 의사 한두 명 아닌 국내 최초 소 전문 원 함 소 에서 년 동안 만 명 이상의 아이들을 진 료 하면서 쌓 임상 노 우를 바탕으로 만든 이유 식에 관한 모든 정보 담은 책이 ] ] 개인 이나 의사 한두 명 아닌 국내 최초 소 전문 원 함 소 에서 년 동안 만 명 이상의 아이들을 진 료 하면서 쌓 임상 노 우를 바탕으로 만든 이유 식에 관한 모든 정보 담은 책이 ] ] 개인 이나 의사 한두 명 아닌 국내 최초 소 전문 원 함 소 에서 년 동안 만 명 이상의 아이들을 진 료 하면서 쌓 임상 노 우를 바탕으로 만든 이유 식에 관한 모든 정보 담은 책이 ] ] 개인 이나 의사 한두 명 아닌 국내 최초 소 전문 원 함 소 에서 년 동안 만 명 이상의 아이들을 진 료 하면서 쌓 임상 노 우를 바탕으로 만든 이유 식에 관한 모든 정보 담은 책이 ] ] 개인 이나 의사 한두 명 아닌 국내 최초 소 전문 원 함 소 에서 년 동안 만 명 이상의 아이들을 진 료 하면서 쌓 임상 노 우를 바탕으로 만든 이유 식에 관한 모든 정보 담은 책이 ] ] 개인 이나 의사 한두 명 아닌 국내 최초 소 전문 원 함 소 에서 년 동안 만 명 이상의 아이들을 진 료 하면서 쌓 임상 노 우를 바탕으로 만든 이유 식에 관한 모든 정보 담은 책이 ] ] 개인 이나 의사 한두 명 아닌 국내 최초 소 전문 원 함 소 에서 년 동안 만 명 이상의 아이들을 진 료 하면서 쌓 임상 노 우를 바탕으로 만든 이유 식에 관한 모든 정보 담은 책이 ] ] 개인 이나 의사 한두 명 아닌 국내 최초 소 전문 원 함 소 에서 년 동안 만 명 이상의 아이들을 진 료 하면서 쌓 임상 노 우를 바탕으로 만든 이유 식에 관한 모든 정보 담은 책이 ] ] 개인 이나 의사 한두 명 아닌 국내 최초 소 전문 원 함 소 에서 년 동안 만 명 이상의 아이들을 진 료 하면서 쌓 임상 노 우를 바탕으로 만든 이유 식에 관한 모든 정보 담은 책이 ] ] 개인 이나 의사 한두 명 아닌 국내 최초 소 전문 원 함 소 에서 년 동안 만 명 이상의 아이들을 진 료 하면서 쌓 임상 노 우를 바탕으로 만든 이유 식에 관한 모든 정보 담은 책이 ] ] 개인 이나 의사 한두 명 아닌 국내 최초 소 전문 원 함 소 에서 년 동안 만 명 이상의 아이들을 진 료 하면서 쌓 임상 노 우를 바탕으로 만든 이유 식에 관한 모든 정보 담은 책이 ] ] 개인 이나 의사 한두 명 아닌 국내 최초 소 전문 원 함 소 에서 년 동안 만 명 이상의 아이들을 진 료 하면서 쌓 임상 노 우를 바탕으로 만든 이유 식에 관한 모든 정보 담은 책이 ] ] 개인 이나 의사 한두 명 아닌 국내 최초 소 전문 원 함 소 에서 년 동안 만 명 이상의 아이들을 진 료 하면서 쌓 임상 노 우를 바탕으로 만든 이유 식에 관한 모든 정보 담은 책이 ] ] 개인 이나 의사 한두 명 아닌 국내 최초 소 전문 원 함 소 에서 년 동안 만 명 이상의 아이들을 진 료 하면서 쌓 임상 노 우를 바탕으로 만든 이유 식에 관한 모든 정보 담은 책이 ] ] 개인 이나 의사 한두 명 아닌 국내 최초 소 전문 원 함 소 에서 년 동안 만 명 이상의 아이들을 진 료 하면서 쌓 임상 노 우를 바탕으로 만든 이유 식에 관한 모든 정보 담은 책이 ] ] 개인 이나 의사 한두 명 아닌 국내 최초 소 전문 원 함 소 에서 년 동안 만 명 이상의 아이들을 진 료 하면서 쌓 임상 노 우를 바탕으로 만든 이유 식에 관한 모든 정보 담은 책이 ] ] 개인 이나 의사 한두 명 아닌 국내 최초 소 전문 원 함 소 에서 년 동안 만 명 이상의 아이들을 진 료 하면서 쌓 임상 노 우를 바탕으로 만든 이유 식에 관한 모든 정보 담은 책이 ] ] 개인 이나 의사 한두 명 아닌 국내 최초 소 전문 원 함 소 에서 년 동안 만 명 이상의 아이들을 진 료 하면서 쌓 임상 노 우를 바탕으로 만든 이유 식에 관한 모든 정보 담은 책이 ] ] 개인 이나 의사 한두 명 아닌 국내 최초 소 전문 원 함 소 에서 년 동안 만 명 이상의 아이들을 진 료 하면서 쌓 임상 노 우를 바탕으로 만든 이유 식에 관한 모든 정보 담은 책이 ] ] 개인 이나 의사 한두 명 아닌 국내 최초 소 전문 원 함 소 에서 년 동안 만 명 이상의 아이들을 진 료 하면서 쌓 임상 노 우를 바탕으로 만든 이유 식에 관한 모든 정보 담은 책이 ] ] 개인 이나 의사 한두 명 아닌 국내 최초 소 전문 원 함 소 에서 년 동안 만 명 이상의 아이들을 진 료 하면서 쌓 임상 노 우를 바탕으로 만든 이유 식에 관한 모든 정보 담은 책이 ] ] 개인 이나 의사 한두 명 아닌 국내 최초 소 전문 원 함 소 에서 년 동안 만 명 이상의 아이들을 진 료 하면서 쌓 임상 노 우를 바탕으로 만든 이유 식에 관한 모든 정보 담은 책이 ] ] 개인 이나 의사 한두 명 아닌 국내 최초 소 전문 원 함 소 에서 년 동안 만 명 이상의 아이들을 진 료 하면서 쌓 임상 노 우를 바탕으로 만든 이유 식에 관한 모든 정보 담은 책이 ] ] 개인 이나 의사 한두 명 아닌 국내 최초 소 전문 원 함 소 에서 년 동안 만 명 이상의 아이들을 진 료 하면서 쌓 임상 노 우를 바탕으로 만든 이유 식에 관한 모든 정보 담은 책이 ] ] 개인 이나 의사 한두 명 아닌 국내 최초 소 전문 원 함 소 에서 년 동안 만 명 이상의 아이들을 진 료 하면서 쌓 임상 노 우를 바탕으로 만든 이유 식에 관한 모든 정보 담은 책이 ] ] 개인 이나 의사 한두 명 아닌 국내 최초 소 전문 원 함 소 에서 년 동안 만 명 이상의 아이들을 진 료 하면서 쌓 임상 노 우를 바탕으로 만든 이유 식에 관한 모든 정보 담은 책이 ] ] \n",
            "실제 요약문 : PAD 아이가 함 박 웃음 짓 똑똑한 이유 식 B ab y me al ] ] PAD 아이가 함 박 웃음 짓 똑똑한 이유 식 B ab y me al ] ] PAD 아이가 함 박 웃음 짓 똑똑한 이유 식 B ab y me al ] ] PAD 아이가 함 박 웃음 짓 똑똑한 이유 식 B ab y me al ] ] PAD 아이가 함 박 웃음 짓 똑똑한 이유 식 B ab y me al ] ] PAD 아이가 함 박 웃음 짓 똑똑한 이유 식 B ab y me al ] ] PAD 아이가 함 박 웃음 짓 똑똑한 이유 식 B ab y me al ] ] PAD 아이가 함 박 웃음 짓 똑똑한 이유 식 B ab y me al ] ] PAD 아이가 함 박 웃음 짓 똑똑한 이유 식 B ab y me al ] ] PAD 아이가 함 박 웃음 짓 똑똑한 이유 식 B ab y me al ] ] PAD 아이가 함 박 웃음 짓 똑똑한 이유 식 B ab y me al ] ] PAD 아이가 함 박 웃음 짓 똑똑한 이유 식 B ab y me al ] ] PAD 아이가 함 박 웃음 짓 똑똑한 이유 식 B ab y me al ] ] PAD 아이가 함 박 웃음 짓 똑똑한 이유 식 B ab y me al ] ] PAD 아이가 함 박 웃음 짓 똑똑한 이유 식 B ab y me al ] ] PAD 아이가 함 박 웃음 짓 똑똑한 이유 식 B ab y me al ] ] PAD 아이가 함 박 웃음 짓 똑똑한 이유 식 B ab y me al ] ] PAD 아이가 함 박 웃음 짓 똑똑한 이유 식 B ab y me al ] ] PAD 아이가 함 박 웃음 짓 똑똑한 이유 식 B ab y me al ] ] \n",
            "1/1 [==============================] - 0s 40ms/step\n",
            "1/1 [==============================] - 0s 32ms/step\n",
            "1/1 [==============================] - 0s 45ms/step\n",
            "1/1 [==============================] - 0s 32ms/step\n",
            "1/1 [==============================] - 0s 17ms/step\n",
            "1/1 [==============================] - 0s 16ms/step\n",
            "1/1 [==============================] - 0s 18ms/step\n",
            "1/1 [==============================] - 0s 18ms/step\n",
            "1/1 [==============================] - 0s 17ms/step\n",
            "1/1 [==============================] - 0s 17ms/step\n",
            "1/1 [==============================] - 0s 18ms/step\n",
            "1/1 [==============================] - 0s 17ms/step\n",
            "1/1 [==============================] - 0s 24ms/step\n",
            "1/1 [==============================] - 0s 19ms/step\n",
            "1/1 [==============================] - 0s 19ms/step\n",
            "1/1 [==============================] - 0s 18ms/step\n",
            "1/1 [==============================] - 0s 19ms/step\n",
            "1/1 [==============================] - 0s 17ms/step\n",
            "1/1 [==============================] - 0s 18ms/step\n",
            "1/1 [==============================] - 0s 25ms/step\n",
            "1/1 [==============================] - 0s 18ms/step\n",
            "1/1 [==============================] - 0s 19ms/step\n",
            "1/1 [==============================] - 0s 18ms/step\n",
            "1/1 [==============================] - 0s 18ms/step\n",
            "1/1 [==============================] - 0s 18ms/step\n",
            "1/1 [==============================] - 0s 18ms/step\n",
            "1/1 [==============================] - 0s 19ms/step\n",
            "1/1 [==============================] - 0s 21ms/step\n",
            "1/1 [==============================] - 0s 20ms/step\n",
            "1/1 [==============================] - 0s 22ms/step\n",
            "예측 요약문 :  나는 내 위한 학 법 삶을 위한 위한 도 U U U U U U U U U U U U U U U U U U U ##N\n",
            "\n",
            "\n",
            "원문 :  좋은 책 어린 저학년 문 고 시리즈 권 ] 짝 꿍 바꾸는 날 진주 뿐 아니라 아이들 모두 가슴이 두근두근 설 렌 ] 번 짝이 되면 좋 든 싫 든 달 붙 어 지내 야 하기 때문이다 ] 전 학 와서 첫 눈에 반한 아이와 짝이 되고 싶어서 진주 까 치 발을 들고 짝 꿍 되는 데 성공 하는데 ] ] 좋은 책 어린 저학년 문 고 시리즈 권 ] 짝 꿍 바꾸는 날 진주 뿐 아니라 아이들 모두 가슴이 두근두근 설 렌 ] 번 짝이 되면 좋 든 싫 든 달 붙 어 지내 야 하기 때문이다 ] 전 학 와서 첫 눈에 반한 아이와 짝이 되고 싶어서 진주 까 치 발을 들고 짝 꿍 되는 데 성공 하는데 ] ] 좋은 책 어린 저학년 문 고 시리즈 권 ] 짝 꿍 바꾸는 날 진주 뿐 아니라 아이들 모두 가슴이 두근두근 설 렌 ] 번 짝이 되면 좋 든 싫 든 달 붙 어 지내 야 하기 때문이다 ] 전 학 와서 첫 눈에 반한 아이와 짝이 되고 싶어서 진주 까 치 발을 들고 짝 꿍 되는 데 성공 하는데 ] ] 좋은 책 어린 저학년 문 고 시리즈 권 ] 짝 꿍 바꾸는 날 진주 뿐 아니라 아이들 모두 가슴이 두근두근 설 렌 ] 번 짝이 되면 좋 든 싫 든 달 붙 어 지내 야 하기 때문이다 ] 전 학 와서 첫 눈에 반한 아이와 짝이 되고 싶어서 진주 까 치 발을 들고 짝 꿍 되는 데 성공 하는데 ] ] 좋은 책 어린 저학년 문 고 시리즈 권 ] 짝 꿍 바꾸는 날 진주 뿐 아니라 아이들 모두 가슴이 두근두근 설 렌 ] 번 짝이 되면 좋 든 싫 든 달 붙 어 지내 야 하기 때문이다 ] 전 학 와서 첫 눈에 반한 아이와 짝이 되고 싶어서 진주 까 치 발을 들고 짝 꿍 되는 데 성공 하는데 ] ] 좋은 책 어린 저학년 문 고 시리즈 권 ] 짝 꿍 바꾸는 날 진주 뿐 아니라 아이들 모두 가슴이 두근두근 설 렌 ] 번 짝이 되면 좋 든 싫 든 달 붙 어 지내 야 하기 때문이다 ] 전 학 와서 첫 눈에 반한 아이와 짝이 되고 싶어서 진주 까 치 발을 들고 짝 꿍 되는 데 성공 하는데 ] ] 좋은 책 어린 저학년 문 고 시리즈 권 ] 짝 꿍 바꾸는 날 진주 뿐 아니라 아이들 모두 가슴이 두근두근 설 렌 ] 번 짝이 되면 좋 든 싫 든 달 붙 어 지내 야 하기 때문이다 ] 전 학 와서 첫 눈에 반한 아이와 짝이 되고 싶어서 진주 까 치 발을 들고 짝 꿍 되는 데 성공 하는데 ] ] 좋은 책 어린 저학년 문 고 시리즈 권 ] 짝 꿍 바꾸는 날 진주 뿐 아니라 아이들 모두 가슴이 두근두근 설 렌 ] 번 짝이 되면 좋 든 싫 든 달 붙 어 지내 야 하기 때문이다 ] 전 학 와서 첫 눈에 반한 아이와 짝이 되고 싶어서 진주 까 치 발을 들고 짝 꿍 되는 데 성공 하는데 ] ] 좋은 책 어린 저학년 문 고 시리즈 권 ] 짝 꿍 바꾸는 날 진주 뿐 아니라 아이들 모두 가슴이 두근두근 설 렌 ] 번 짝이 되면 좋 든 싫 든 달 붙 어 지내 야 하기 때문이다 ] 전 학 와서 첫 눈에 반한 아이와 짝이 되고 싶어서 진주 까 치 발을 들고 짝 꿍 되는 데 성공 하는데 ] ] 좋은 책 어린 저학년 문 고 시리즈 권 ] 짝 꿍 바꾸는 날 진주 뿐 아니라 아이들 모두 가슴이 두근두근 설 렌 ] 번 짝이 되면 좋 든 싫 든 달 붙 어 지내 야 하기 때문이다 ] 전 학 와서 첫 눈에 반한 아이와 짝이 되고 싶어서 진주 까 치 발을 들고 짝 꿍 되는 데 성공 하는데 ] ] 좋은 책 어린 저학년 문 고 시리즈 권 ] 짝 꿍 바꾸는 날 진주 뿐 아니라 아이들 모두 가슴이 두근두근 설 렌 ] 번 짝이 되면 좋 든 싫 든 달 붙 어 지내 야 하기 때문이다 ] 전 학 와서 첫 눈에 반한 아이와 짝이 되고 싶어서 진주 까 치 발을 들고 짝 꿍 되는 데 성공 하는데 ] ] 좋은 책 어린 저학년 문 고 시리즈 권 ] 짝 꿍 바꾸는 날 진주 뿐 아니라 아이들 모두 가슴이 두근두근 설 렌 ] 번 짝이 되면 좋 든 싫 든 달 붙 어 지내 야 하기 때문이다 ] 전 학 와서 첫 눈에 반한 아이와 짝이 되고 싶어서 진주 까 치 발을 들고 짝 꿍 되는 데 성공 하는데 ] ] 좋은 책 어린 저학년 문 고 시리즈 권 ] 짝 꿍 바꾸는 날 진주 뿐 아니라 아이들 모두 가슴이 두근두근 설 렌 ] 번 짝이 되면 좋 든 싫 든 달 붙 어 지내 야 하기 때문이다 ] 전 학 와서 첫 눈에 반한 아이와 짝이 되고 싶어서 진주 까 치 발을 들고 짝 꿍 되는 데 성공 하는데 ] ] 좋은 책 어린 저학년 문 고 시리즈 권 ] 짝 꿍 바꾸는 날 진주 뿐 아니라 아이들 모두 가슴이 두근두근 설 렌 ] 번 짝이 되면 좋 든 싫 든 달 붙 어 지내 야 하기 때문이다 ] 전 학 와서 첫 눈에 반한 아이와 짝이 되고 싶어서 진주 까 치 발을 들고 짝 꿍 되는 데 성공 하는데 ] ] 좋은 책 어린 저학년 문 고 시리즈 권 ] 짝 꿍 바꾸는 날 진주 뿐 아니라 아이들 모두 가슴이 두근두근 설 렌 ] 번 짝이 되면 좋 든 싫 든 달 붙 어 지내 야 하기 때문이다 ] 전 학 와서 첫 눈에 반한 아이와 짝이 되고 싶어서 진주 까 치 발을 들고 짝 꿍 되는 데 성공 하는데 ] ] 좋은 책 어린 저학년 문 고 시리즈 권 ] 짝 꿍 바꾸는 날 진주 뿐 아니라 아이들 모두 가슴이 두근두근 설 렌 ] 번 짝이 되면 좋 든 싫 든 달 붙 어 지내 야 하기 때문이다 ] 전 학 와서 첫 눈에 반한 아이와 짝이 되고 싶어서 진주 까 치 발을 들고 짝 꿍 되는 데 성공 하는데 ] ] 좋은 책 어린 저학년 문 고 시리즈 권 ] 짝 꿍 바꾸는 날 진주 뿐 아니라 아이들 모두 가슴이 두근두근 설 렌 ] 번 짝이 되면 좋 든 싫 든 달 붙 어 지내 야 하기 때문이다 ] 전 학 와서 첫 눈에 반한 아이와 짝이 되고 싶어서 진주 까 치 발을 들고 짝 꿍 되는 데 성공 하는데 ] ] 좋은 책 어린 저학년 문 고 시리즈 권 ] 짝 꿍 바꾸는 날 진주 뿐 아니라 아이들 모두 가슴이 두근두근 설 렌 ] 번 짝이 되면 좋 든 싫 든 달 붙 어 지내 야 하기 때문이다 ] 전 학 와서 첫 눈에 반한 아이와 짝이 되고 싶어서 진주 까 치 발을 들고 짝 꿍 되는 데 성공 하는데 ] ] 좋은 책 어린 저학년 문 고 시리즈 권 ] 짝 꿍 바꾸는 날 진주 뿐 아니라 아이들 모두 가슴이 두근두근 설 렌 ] 번 짝이 되면 좋 든 싫 든 달 붙 어 지내 야 하기 때문이다 ] 전 학 와서 첫 눈에 반한 아이와 짝이 되고 싶어서 진주 까 치 발을 들고 짝 꿍 되는 데 성공 하는데 ] ] 좋은 책 어린 저학년 문 고 시리즈 권 ] 짝 꿍 바꾸는 날 진주 뿐 아니라 아이들 모두 가슴이 두근두근 설 렌 ] 번 짝이 되면 좋 든 싫 든 달 붙 어 지내 야 하기 때문이다 ] 전 학 와서 첫 눈에 반한 아이와 짝이 되고 싶어서 진주 까 치 발을 들고 짝 꿍 되는 데 성공 하는데 ] ] 좋은 책 어린 저학년 문 고 시리즈 권 ] 짝 꿍 바꾸는 날 진주 뿐 아니라 아이들 모두 가슴이 두근두근 설 렌 ] 번 짝이 되면 좋 든 싫 든 달 붙 어 지내 야 하기 때문이다 ] 전 학 와서 첫 눈에 반한 아이와 짝이 되고 싶어서 진주 까 치 발을 들고 짝 꿍 되는 데 성공 하는데 ] ] 좋은 책 어린 저학년 문 고 시리즈 권 ] 짝 꿍 바꾸는 날 진주 뿐 아니라 아이들 모두 가슴이 두근두근 설 렌 ] 번 짝이 되면 좋 든 싫 든 달 붙 어 지내 야 하기 때문이다 ] 전 학 와서 첫 눈에 반한 아이와 짝이 되고 싶어서 진주 까 치 발을 들고 짝 꿍 되는 데 성공 하는데 ] ] 좋은 책 어린 저학년 문 고 시리즈 권 ] 짝 꿍 바꾸는 날 진주 뿐 아니라 아이들 모두 가슴이 두근두근 설 렌 ] 번 짝이 되면 좋 든 싫 든 달 붙 어 지내 야 하기 때문이다 ] 전 학 와서 첫 눈에 반한 아이와 짝이 되고 싶어서 진주 까 치 발을 들고 짝 꿍 되는 데 성공 하는데 ] ] 좋은 책 어린 저학년 문 고 시리즈 권 ] 짝 꿍 바꾸는 날 진주 뿐 아니라 아이들 모두 가슴이 두근두근 설 렌 ] 번 짝이 되면 좋 든 싫 든 달 붙 어 지내 야 하기 때문이다 ] 전 학 와서 첫 눈에 반한 아이와 짝이 되고 싶어서 진주 까 치 발을 들고 짝 꿍 되는 데 성공 하는데 ] ] 좋은 책 어린 저학년 문 고 시리즈 권 ] 짝 꿍 바꾸는 날 진주 뿐 아니라 아이들 모두 가슴이 두근두근 설 렌 ] 번 짝이 되면 좋 든 싫 든 달 붙 어 지내 야 하기 때문이다 ] 전 학 와서 첫 눈에 반한 아이와 짝이 되고 싶어서 진주 까 치 발을 들고 짝 꿍 되는 데 성공 하는데 ] ] 좋은 책 어린 저학년 문 고 시리즈 권 ] 짝 꿍 바꾸는 날 진주 뿐 아니라 아이들 모두 가슴이 두근두근 설 렌 ] 번 짝이 되면 좋 든 싫 든 달 붙 어 지내 야 하기 때문이다 ] 전 학 와서 첫 눈에 반한 아이와 짝이 되고 싶어서 진주 까 치 발을 들고 짝 꿍 되는 데 성공 하는데 ] ] 좋은 책 어린 저학년 문 고 시리즈 권 ] 짝 꿍 바꾸는 날 진주 뿐 아니라 아이들 모두 가슴이 두근두근 설 렌 ] 번 짝이 되면 좋 든 싫 든 달 붙 어 지내 야 하기 때문이다 ] 전 학 와서 첫 눈에 반한 아이와 짝이 되고 싶어서 진주 까 치 발을 들고 짝 꿍 되는 데 성공 하는데 ] ] 좋은 책 어린 저학년 문 고 시리즈 권 ] 짝 꿍 바꾸는 날 진주 뿐 아니라 아이들 모두 가슴이 두근두근 설 렌 ] 번 짝이 되면 좋 든 싫 든 달 붙 어 지내 야 하기 때문이다 ] 전 학 와서 첫 눈에 반한 아이와 짝이 되고 싶어서 진주 까 치 발을 들고 짝 꿍 되는 데 성공 하는데 ] ] 좋은 책 어린 저학년 문 고 시리즈 권 ] 짝 꿍 바꾸는 날 진주 뿐 아니라 아이들 모두 가슴이 두근두근 설 렌 ] 번 짝이 되면 좋 든 싫 든 달 붙 어 지내 야 하기 때문이다 ] 전 학 와서 첫 눈에 반한 아이와 짝이 되고 싶어서 진주 까 치 발을 들고 짝 꿍 되는 데 성공 하는데 ] ] 좋은 책 어린 저학년 문 고 시리즈 권 ] 짝 꿍 바꾸는 날 진주 뿐 아니라 아이들 모두 가슴이 두근두근 설 렌 ] 번 짝이 되면 좋 든 싫 든 달 붙 어 지내 야 하기 때문이다 ] 전 학 와서 첫 눈에 반한 아이와 짝이 되고 싶어서 진주 까 치 발을 들고 짝 꿍 되는 데 성공 하는데 ] ] 좋은 책 어린 저학년 문 고 시리즈 권 ] 짝 꿍 바꾸는 날 진주 뿐 아니라 아이들 모두 가슴이 두근두근 설 렌 ] 번 짝이 되면 좋 든 싫 든 달 붙 어 지내 야 하기 때문이다 ] 전 학 와서 첫 눈에 반한 아이와 짝이 되고 싶어서 진주 까 치 발을 들고 짝 꿍 되는 데 성공 하는데 ] ] 좋은 책 어린 저학년 문 고 시리즈 권 ] 짝 꿍 바꾸는 날 진주 뿐 아니라 아이들 모두 가슴이 두근두근 설 렌 ] 번 짝이 되면 좋 든 싫 든 달 붙 어 지내 야 하기 때문이다 ] 전 학 와서 첫 눈에 반한 아이와 짝이 되고 싶어서 진주 까 치 발을 들고 짝 꿍 되는 데 성공 하는데 ] ] 좋은 책 어린 저학년 문 고 시리즈 권 ] 짝 꿍 바꾸는 날 진주 뿐 아니라 아이들 모두 가슴이 두근두근 설 렌 ] 번 짝이 되면 좋 든 싫 든 달 붙 어 지내 야 하기 때문이다 ] 전 학 와서 첫 눈에 반한 아이와 짝이 되고 싶어서 진주 까 치 발을 들고 짝 꿍 되는 데 성공 하는데 ] ] 좋은 책 어린 저학년 문 고 시리즈 권 ] 짝 꿍 바꾸는 날 진주 뿐 아니라 아이들 모두 가슴이 두근두근 설 렌 ] 번 짝이 되면 좋 든 싫 든 달 붙 어 지내 야 하기 때문이다 ] 전 학 와서 첫 눈에 반한 아이와 짝이 되고 싶어서 진주 까 치 발을 들고 짝 꿍 되는 데 성공 하는데 ] ] 좋은 책 어린 저학년 문 고 시리즈 권 ] 짝 꿍 바꾸는 날 진주 뿐 아니라 아이들 모두 가슴이 두근두근 설 렌 ] 번 짝이 되면 좋 든 싫 든 달 붙 어 지내 야 하기 때문이다 ] 전 학 와서 첫 눈에 반한 아이와 짝이 되고 싶어서 진주 까 치 발을 들고 짝 꿍 되는 데 성공 하는데 ] ] 좋은 책 어린 저학년 문 고 시리즈 권 ] 짝 꿍 바꾸는 날 진주 뿐 아니라 아이들 모두 가슴이 두근두근 설 렌 ] 번 짝이 되면 좋 든 싫 든 달 붙 어 지내 야 하기 때문이다 ] 전 학 와서 첫 눈에 반한 아이와 짝이 되고 싶어서 진주 까 치 발을 들고 짝 꿍 되는 데 성공 하는데 ] ] 좋은 책 어린 저학년 문 고 시리즈 권 ] 짝 꿍 바꾸는 날 진주 뿐 아니라 아이들 모두 가슴이 두근두근 설 렌 ] 번 짝이 되면 좋 든 싫 든 달 붙 어 지내 야 하기 때문이다 ] 전 학 와서 첫 눈에 반한 아이와 짝이 되고 싶어서 진주 까 치 발을 들고 짝 꿍 되는 데 성공 하는데 ] ] 좋은 책 어린 저학년 문 고 시리즈 권 ] 짝 꿍 바꾸는 날 진주 뿐 아니라 아이들 모두 가슴이 두근두근 설 렌 ] 번 짝이 되면 좋 든 싫 든 달 붙 어 지내 야 하기 때문이다 ] 전 학 와서 첫 눈에 반한 아이와 짝이 되고 싶어서 진주 까 치 발을 들고 짝 꿍 되는 데 성공 하는데 ] ] 좋은 책 어린 저학년 문 고 시리즈 권 ] 짝 꿍 바꾸는 날 진주 뿐 아니라 아이들 모두 가슴이 두근두근 설 렌 ] 번 짝이 되면 좋 든 싫 든 달 붙 어 지내 야 하기 때문이다 ] 전 학 와서 첫 눈에 반한 아이와 짝이 되고 싶어서 진주 까 치 발을 들고 짝 꿍 되는 데 성공 하는데 ] ] 좋은 책 어린 저학년 문 고 시리즈 권 ] 짝 꿍 바꾸는 날 진주 뿐 아니라 아이들 모두 가슴이 두근두근 설 렌 ] 번 짝이 되면 좋 든 싫 든 달 붙 어 지내 야 하기 때문이다 ] 전 학 와서 첫 눈에 반한 아이와 짝이 되고 싶어서 진주 까 치 발을 들고 짝 꿍 되는 데 성공 하는데 ] ] 좋은 책 어린 저학년 문 고 시리즈 권 ] 짝 꿍 바꾸는 날 진주 뿐 아니라 아이들 모두 가슴이 두근두근 설 렌 ] 번 짝이 되면 좋 든 싫 든 달 붙 어 지내 야 하기 때문이다 ] 전 학 와서 첫 눈에 반한 아이와 짝이 되고 싶어서 진주 까 치 발을 들고 짝 꿍 되는 데 성공 하는데 ] ] 좋은 책 어린 저학년 문 고 시리즈 권 ] 짝 꿍 바꾸는 날 진주 뿐 아니라 아이들 모두 가슴이 두근두근 설 렌 ] 번 짝이 되면 좋 든 싫 든 달 붙 어 지내 야 하기 때문이다 ] 전 학 와서 첫 눈에 반한 아이와 짝이 되고 싶어서 진주 까 치 발을 들고 짝 꿍 되는 데 성공 하는데 ] ] 좋은 책 어린 저학년 문 고 시리즈 권 ] 짝 꿍 바꾸는 날 진주 뿐 아니라 아이들 모두 가슴이 두근두근 설 렌 ] 번 짝이 되면 좋 든 싫 든 달 붙 어 지내 야 하기 때문이다 ] 전 학 와서 첫 눈에 반한 아이와 짝이 되고 싶어서 진주 까 치 발을 들고 짝 꿍 되는 데 성공 하는데 ] ] 좋은 책 어린 저학년 문 고 시리즈 권 ] 짝 꿍 바꾸는 날 진주 뿐 아니라 아이들 모두 가슴이 두근두근 설 렌 ] 번 짝이 되면 좋 든 싫 든 달 붙 어 지내 야 하기 때문이다 ] 전 학 와서 첫 눈에 반한 아이와 짝이 되고 싶어서 진주 까 치 발을 들고 짝 꿍 되는 데 성공 하는데 ] ] 좋은 책 어린 저학년 문 고 시리즈 권 ] 짝 꿍 바꾸는 날 진주 뿐 아니라 아이들 모두 가슴이 두근두근 설 렌 ] 번 짝이 되면 좋 든 싫 든 달 붙 어 지내 야 하기 때문이다 ] 전 학 와서 첫 눈에 반한 아이와 짝이 되고 싶어서 진주 까 치 발을 들고 짝 꿍 되는 데 성공 하는데 ] ] 좋은 책 어린 저학년 문 고 시리즈 권 ] 짝 꿍 바꾸는 날 진주 뿐 아니라 아이들 모두 가슴이 두근두근 설 렌 ] 번 짝이 되면 좋 든 싫 든 달 붙 어 지내 야 하기 때문이다 ] 전 학 와서 첫 눈에 반한 아이와 짝이 되고 싶어서 진주 까 치 발을 들고 짝 꿍 되는 데 성공 하는데 ] ] 좋은 책 어린 저학년 문 고 시리즈 권 ] 짝 꿍 바꾸는 날 진주 뿐 아니라 아이들 모두 가슴이 두근두근 설 렌 ] 번 짝이 되면 좋 든 싫 든 달 붙 어 지내 야 하기 때문이다 ] 전 학 와서 첫 눈에 반한 아이와 짝이 되고 싶어서 진주 까 치 발을 들고 짝 꿍 되는 데 성공 하는데 ] ] 좋은 책 어린 저학년 문 고 시리즈 권 ] 짝 꿍 바꾸는 날 진주 뿐 아니라 아이들 모두 가슴이 두근두근 설 렌 ] 번 짝이 되면 좋 든 싫 든 달 붙 어 지내 야 하기 때문이다 ] 전 학 와서 첫 눈에 반한 아이와 짝이 되고 싶어서 진주 까 치 발을 들고 짝 꿍 되는 데 성공 하는데 ] ] 좋은 책 어린 저학년 문 고 시리즈 권 ] 짝 꿍 바꾸는 날 진주 뿐 아니라 아이들 모두 가슴이 두근두근 설 렌 ] 번 짝이 되면 좋 든 싫 든 달 붙 어 지내 야 하기 때문이다 ] 전 학 와서 첫 눈에 반한 아이와 짝이 되고 싶어서 진주 까 치 발을 들고 짝 꿍 되는 데 성공 하는데 ] ] 좋은 책 어린 저학년 문 고 시리즈 권 ] 짝 꿍 바꾸는 날 진주 뿐 아니라 아이들 모두 가슴이 두근두근 설 렌 ] 번 짝이 되면 좋 든 싫 든 달 붙 어 지내 야 하기 때문이다 ] 전 학 와서 첫 눈에 반한 아이와 짝이 되고 싶어서 진주 까 치 발을 들고 짝 꿍 되는 데 성공 하는데 ] ] 좋은 책 어린 저학년 문 고 시리즈 권 ] 짝 꿍 바꾸는 날 진주 뿐 아니라 아이들 모두 가슴이 두근두근 설 렌 ] 번 짝이 되면 좋 든 싫 든 달 붙 어 지내 야 하기 때문이다 ] 전 학 와서 첫 눈에 반한 아이와 짝이 되고 싶어서 진주 까 치 발을 들고 짝 꿍 되는 데 성공 하는데 ] ] 좋은 책 어린 저학년 문 고 시리즈 권 ] 짝 꿍 바꾸는 날 진주 뿐 아니라 아이들 모두 가슴이 두근두근 설 렌 ] 번 짝이 되면 좋 든 싫 든 달 붙 어 지내 야 하기 때문이다 ] 전 학 와서 첫 눈에 반한 아이와 짝이 되고 싶어서 진주 까 치 발을 들고 짝 꿍 되는 데 성공 하는데 ] ] 좋은 책 어린 저학년 문 고 시리즈 권 ] 짝 꿍 바꾸는 날 진주 뿐 아니라 아이들 모두 가슴이 두근두근 설 렌 ] 번 짝이 되면 좋 든 싫 든 달 붙 어 지내 야 하기 때문이다 ] 전 학 와서 첫 눈에 반한 아이와 짝이 되고 싶어서 진주 까 치 발을 들고 짝 꿍 되는 데 성공 하는데 ] ] 좋은 책 어린 저학년 문 고 시리즈 권 ] 짝 꿍 바꾸는 날 진주 뿐 아니라 아이들 모두 가슴이 두근두근 설 렌 ] 번 짝이 되면 좋 든 싫 든 달 붙 어 지내 야 하기 때문이다 ] 전 학 와서 첫 눈에 반한 아이와 짝이 되고 싶어서 진주 까 치 발을 들고 짝 꿍 되는 데 성공 하는데 ] ] 좋은 책 어린 저학년 문 고 시리즈 권 ] 짝 꿍 바꾸는 날 진주 뿐 아니라 아이들 모두 가슴이 두근두근 설 렌 ] 번 짝이 되면 좋 든 싫 든 달 붙 어 지내 야 하기 때문이다 ] 전 학 와서 첫 눈에 반한 아이와 짝이 되고 싶어서 진주 까 치 발을 들고 짝 꿍 되는 데 성공 하는데 ] ] 좋은 책 어린 저학년 문 고 시리즈 권 ] 짝 꿍 바꾸는 날 진주 뿐 아니라 아이들 모두 가슴이 두근두근 설 렌 ] 번 짝이 되면 좋 든 싫 든 달 붙 어 지내 야 하기 때문이다 ] 전 학 와서 첫 눈에 반한 아이와 짝이 되고 싶어서 진주 까 치 발을 들고 짝 꿍 되는 데 성공 하는데 ] ] 좋은 책 어린 저학년 문 고 시리즈 권 ] 짝 꿍 바꾸는 날 진주 뿐 아니라 아이들 모두 가슴이 두근두근 설 렌 ] 번 짝이 되면 좋 든 싫 든 달 붙 어 지내 야 하기 때문이다 ] 전 학 와서 첫 눈에 반한 아이와 짝이 되고 싶어서 진주 까 치 발을 들고 짝 꿍 되는 데 성공 하는데 ] ] 좋은 책 어린 저학년 문 고 시리즈 권 ] 짝 꿍 바꾸는 날 진주 뿐 아니라 아이들 모두 가슴이 두근두근 설 렌 ] 번 짝이 되면 좋 든 싫 든 달 붙 어 지내 야 하기 때문이다 ] 전 학 와서 첫 눈에 반한 아이와 짝이 되고 싶어서 진주 까 치 발을 들고 짝 꿍 되는 데 성공 하는데 ] ] 좋은 책 어린 저학년 문 고 시리즈 권 ] 짝 꿍 바꾸는 날 진주 뿐 아니라 아이들 모두 가슴이 두근두근 설 렌 ] 번 짝이 되면 좋 든 싫 든 달 붙 어 지내 야 하기 때문이다 ] 전 학 와서 첫 눈에 반한 아이와 짝이 되고 싶어서 진주 까 치 발을 들고 짝 꿍 되는 데 성공 하는데 ] ] 좋은 책 어린 저학년 문 고 시리즈 권 ] 짝 꿍 바꾸는 날 진주 뿐 아니라 아이들 모두 가슴이 두근두근 설 렌 ] 번 짝이 되면 좋 든 싫 든 달 붙 어 지내 야 하기 때문이다 ] 전 학 와서 첫 눈에 반한 아이와 짝이 되고 싶어서 진주 까 치 발을 들고 짝 꿍 되는 데 성공 하는데 ] ] 좋은 책 어린 저학년 문 고 시리즈 권 ] 짝 꿍 바꾸는 날 진주 뿐 아니라 아이들 모두 가슴이 두근두근 설 렌 ] 번 짝이 되면 좋 든 싫 든 달 붙 어 지내 야 하기 때문이다 ] 전 학 와서 첫 눈에 반한 아이와 짝이 되고 싶어서 진주 까 치 발을 들고 짝 꿍 되는 데 성공 하는데 ] ] 좋은 책 어린 저학년 문 고 시리즈 권 ] 짝 꿍 바꾸는 날 진주 뿐 아니라 아이들 모두 가슴이 두근두근 설 렌 ] 번 짝이 되면 좋 든 싫 든 달 붙 어 지내 야 하기 때문이다 ] 전 학 와서 첫 눈에 반한 아이와 짝이 되고 싶어서 진주 까 치 발을 들고 짝 꿍 되는 데 성공 하는데 ] ] \n",
            "실제 요약문 : PAD 알 쏭 달 쏭 내 짝 꿍 ] ] PAD 알 쏭 달 쏭 내 짝 꿍 ] ] PAD 알 쏭 달 쏭 내 짝 꿍 ] ] PAD 알 쏭 달 쏭 내 짝 꿍 ] ] PAD 알 쏭 달 쏭 내 짝 꿍 ] ] PAD 알 쏭 달 쏭 내 짝 꿍 ] ] PAD 알 쏭 달 쏭 내 짝 꿍 ] ] PAD 알 쏭 달 쏭 내 짝 꿍 ] ] PAD 알 쏭 달 쏭 내 짝 꿍 ] ] PAD 알 쏭 달 쏭 내 짝 꿍 ] ] PAD 알 쏭 달 쏭 내 짝 꿍 ] ] PAD 알 쏭 달 쏭 내 짝 꿍 ] ] \n",
            "1/1 [==============================] - 0s 26ms/step\n",
            "1/1 [==============================] - 0s 18ms/step\n",
            "1/1 [==============================] - 0s 21ms/step\n",
            "1/1 [==============================] - 0s 18ms/step\n",
            "1/1 [==============================] - 0s 18ms/step\n",
            "1/1 [==============================] - 0s 19ms/step\n",
            "1/1 [==============================] - 0s 20ms/step\n",
            "1/1 [==============================] - 0s 17ms/step\n",
            "1/1 [==============================] - 0s 24ms/step\n",
            "1/1 [==============================] - 0s 17ms/step\n",
            "1/1 [==============================] - 0s 19ms/step\n",
            "1/1 [==============================] - 0s 18ms/step\n",
            "1/1 [==============================] - 0s 18ms/step\n",
            "1/1 [==============================] - 0s 18ms/step\n",
            "1/1 [==============================] - 0s 16ms/step\n",
            "1/1 [==============================] - 0s 19ms/step\n",
            "1/1 [==============================] - 0s 20ms/step\n",
            "1/1 [==============================] - 0s 18ms/step\n",
            "1/1 [==============================] - 0s 21ms/step\n",
            "1/1 [==============================] - 0s 16ms/step\n",
            "1/1 [==============================] - 0s 17ms/step\n",
            "1/1 [==============================] - 0s 20ms/step\n",
            "1/1 [==============================] - 0s 18ms/step\n",
            "1/1 [==============================] - 0s 17ms/step\n",
            "1/1 [==============================] - 0s 17ms/step\n",
            "1/1 [==============================] - 0s 18ms/step\n",
            "1/1 [==============================] - 0s 16ms/step\n",
            "1/1 [==============================] - 0s 16ms/step\n",
            "1/1 [==============================] - 0s 16ms/step\n",
            "1/1 [==============================] - 0s 17ms/step\n",
            "예측 요약문 :  U U U U U U U U U U U U U U U U U U U U U U U U U U U U ##N\n",
            "\n",
            "\n",
            "원문 :  한국 주식 시장 지루한 박스 권을 형성 했던 이유 대세 상 승 언제 어떻게 오는 지 미국 달 러 한국 주식 시장 어떻게 연결 되었 는지 도 업 종 어떻게 찾을 것인지 그 비밀을 알려준 ] 주식 시장 큰 흐름이 만들어 지는 원 리와 이유를 알면 주식 투자 쉽고 즐거 울 것이다 ] ] 한국 주식 시장 지루한 박스 권을 형성 했던 이유 대세 상 승 언제 어떻게 오는 지 미국 달 러 한국 주식 시장 어떻게 연결 되었 는지 도 업 종 어떻게 찾을 것인지 그 비밀을 알려준 ] 주식 시장 큰 흐름이 만들어 지는 원 리와 이유를 알면 주식 투자 쉽고 즐거 울 것이다 ] ] 한국 주식 시장 지루한 박스 권을 형성 했던 이유 대세 상 승 언제 어떻게 오는 지 미국 달 러 한국 주식 시장 어떻게 연결 되었 는지 도 업 종 어떻게 찾을 것인지 그 비밀을 알려준 ] 주식 시장 큰 흐름이 만들어 지는 원 리와 이유를 알면 주식 투자 쉽고 즐거 울 것이다 ] ] 한국 주식 시장 지루한 박스 권을 형성 했던 이유 대세 상 승 언제 어떻게 오는 지 미국 달 러 한국 주식 시장 어떻게 연결 되었 는지 도 업 종 어떻게 찾을 것인지 그 비밀을 알려준 ] 주식 시장 큰 흐름이 만들어 지는 원 리와 이유를 알면 주식 투자 쉽고 즐거 울 것이다 ] ] 한국 주식 시장 지루한 박스 권을 형성 했던 이유 대세 상 승 언제 어떻게 오는 지 미국 달 러 한국 주식 시장 어떻게 연결 되었 는지 도 업 종 어떻게 찾을 것인지 그 비밀을 알려준 ] 주식 시장 큰 흐름이 만들어 지는 원 리와 이유를 알면 주식 투자 쉽고 즐거 울 것이다 ] ] 한국 주식 시장 지루한 박스 권을 형성 했던 이유 대세 상 승 언제 어떻게 오는 지 미국 달 러 한국 주식 시장 어떻게 연결 되었 는지 도 업 종 어떻게 찾을 것인지 그 비밀을 알려준 ] 주식 시장 큰 흐름이 만들어 지는 원 리와 이유를 알면 주식 투자 쉽고 즐거 울 것이다 ] ] 한국 주식 시장 지루한 박스 권을 형성 했던 이유 대세 상 승 언제 어떻게 오는 지 미국 달 러 한국 주식 시장 어떻게 연결 되었 는지 도 업 종 어떻게 찾을 것인지 그 비밀을 알려준 ] 주식 시장 큰 흐름이 만들어 지는 원 리와 이유를 알면 주식 투자 쉽고 즐거 울 것이다 ] ] 한국 주식 시장 지루한 박스 권을 형성 했던 이유 대세 상 승 언제 어떻게 오는 지 미국 달 러 한국 주식 시장 어떻게 연결 되었 는지 도 업 종 어떻게 찾을 것인지 그 비밀을 알려준 ] 주식 시장 큰 흐름이 만들어 지는 원 리와 이유를 알면 주식 투자 쉽고 즐거 울 것이다 ] ] 한국 주식 시장 지루한 박스 권을 형성 했던 이유 대세 상 승 언제 어떻게 오는 지 미국 달 러 한국 주식 시장 어떻게 연결 되었 는지 도 업 종 어떻게 찾을 것인지 그 비밀을 알려준 ] 주식 시장 큰 흐름이 만들어 지는 원 리와 이유를 알면 주식 투자 쉽고 즐거 울 것이다 ] ] 한국 주식 시장 지루한 박스 권을 형성 했던 이유 대세 상 승 언제 어떻게 오는 지 미국 달 러 한국 주식 시장 어떻게 연결 되었 는지 도 업 종 어떻게 찾을 것인지 그 비밀을 알려준 ] 주식 시장 큰 흐름이 만들어 지는 원 리와 이유를 알면 주식 투자 쉽고 즐거 울 것이다 ] ] 한국 주식 시장 지루한 박스 권을 형성 했던 이유 대세 상 승 언제 어떻게 오는 지 미국 달 러 한국 주식 시장 어떻게 연결 되었 는지 도 업 종 어떻게 찾을 것인지 그 비밀을 알려준 ] 주식 시장 큰 흐름이 만들어 지는 원 리와 이유를 알면 주식 투자 쉽고 즐거 울 것이다 ] ] 한국 주식 시장 지루한 박스 권을 형성 했던 이유 대세 상 승 언제 어떻게 오는 지 미국 달 러 한국 주식 시장 어떻게 연결 되었 는지 도 업 종 어떻게 찾을 것인지 그 비밀을 알려준 ] 주식 시장 큰 흐름이 만들어 지는 원 리와 이유를 알면 주식 투자 쉽고 즐거 울 것이다 ] ] 한국 주식 시장 지루한 박스 권을 형성 했던 이유 대세 상 승 언제 어떻게 오는 지 미국 달 러 한국 주식 시장 어떻게 연결 되었 는지 도 업 종 어떻게 찾을 것인지 그 비밀을 알려준 ] 주식 시장 큰 흐름이 만들어 지는 원 리와 이유를 알면 주식 투자 쉽고 즐거 울 것이다 ] ] 한국 주식 시장 지루한 박스 권을 형성 했던 이유 대세 상 승 언제 어떻게 오는 지 미국 달 러 한국 주식 시장 어떻게 연결 되었 는지 도 업 종 어떻게 찾을 것인지 그 비밀을 알려준 ] 주식 시장 큰 흐름이 만들어 지는 원 리와 이유를 알면 주식 투자 쉽고 즐거 울 것이다 ] ] 한국 주식 시장 지루한 박스 권을 형성 했던 이유 대세 상 승 언제 어떻게 오는 지 미국 달 러 한국 주식 시장 어떻게 연결 되었 는지 도 업 종 어떻게 찾을 것인지 그 비밀을 알려준 ] 주식 시장 큰 흐름이 만들어 지는 원 리와 이유를 알면 주식 투자 쉽고 즐거 울 것이다 ] ] 한국 주식 시장 지루한 박스 권을 형성 했던 이유 대세 상 승 언제 어떻게 오는 지 미국 달 러 한국 주식 시장 어떻게 연결 되었 는지 도 업 종 어떻게 찾을 것인지 그 비밀을 알려준 ] 주식 시장 큰 흐름이 만들어 지는 원 리와 이유를 알면 주식 투자 쉽고 즐거 울 것이다 ] ] 한국 주식 시장 지루한 박스 권을 형성 했던 이유 대세 상 승 언제 어떻게 오는 지 미국 달 러 한국 주식 시장 어떻게 연결 되었 는지 도 업 종 어떻게 찾을 것인지 그 비밀을 알려준 ] 주식 시장 큰 흐름이 만들어 지는 원 리와 이유를 알면 주식 투자 쉽고 즐거 울 것이다 ] ] 한국 주식 시장 지루한 박스 권을 형성 했던 이유 대세 상 승 언제 어떻게 오는 지 미국 달 러 한국 주식 시장 어떻게 연결 되었 는지 도 업 종 어떻게 찾을 것인지 그 비밀을 알려준 ] 주식 시장 큰 흐름이 만들어 지는 원 리와 이유를 알면 주식 투자 쉽고 즐거 울 것이다 ] ] 한국 주식 시장 지루한 박스 권을 형성 했던 이유 대세 상 승 언제 어떻게 오는 지 미국 달 러 한국 주식 시장 어떻게 연결 되었 는지 도 업 종 어떻게 찾을 것인지 그 비밀을 알려준 ] 주식 시장 큰 흐름이 만들어 지는 원 리와 이유를 알면 주식 투자 쉽고 즐거 울 것이다 ] ] 한국 주식 시장 지루한 박스 권을 형성 했던 이유 대세 상 승 언제 어떻게 오는 지 미국 달 러 한국 주식 시장 어떻게 연결 되었 는지 도 업 종 어떻게 찾을 것인지 그 비밀을 알려준 ] 주식 시장 큰 흐름이 만들어 지는 원 리와 이유를 알면 주식 투자 쉽고 즐거 울 것이다 ] ] 한국 주식 시장 지루한 박스 권을 형성 했던 이유 대세 상 승 언제 어떻게 오는 지 미국 달 러 한국 주식 시장 어떻게 연결 되었 는지 도 업 종 어떻게 찾을 것인지 그 비밀을 알려준 ] 주식 시장 큰 흐름이 만들어 지는 원 리와 이유를 알면 주식 투자 쉽고 즐거 울 것이다 ] ] 한국 주식 시장 지루한 박스 권을 형성 했던 이유 대세 상 승 언제 어떻게 오는 지 미국 달 러 한국 주식 시장 어떻게 연결 되었 는지 도 업 종 어떻게 찾을 것인지 그 비밀을 알려준 ] 주식 시장 큰 흐름이 만들어 지는 원 리와 이유를 알면 주식 투자 쉽고 즐거 울 것이다 ] ] 한국 주식 시장 지루한 박스 권을 형성 했던 이유 대세 상 승 언제 어떻게 오는 지 미국 달 러 한국 주식 시장 어떻게 연결 되었 는지 도 업 종 어떻게 찾을 것인지 그 비밀을 알려준 ] 주식 시장 큰 흐름이 만들어 지는 원 리와 이유를 알면 주식 투자 쉽고 즐거 울 것이다 ] ] 한국 주식 시장 지루한 박스 권을 형성 했던 이유 대세 상 승 언제 어떻게 오는 지 미국 달 러 한국 주식 시장 어떻게 연결 되었 는지 도 업 종 어떻게 찾을 것인지 그 비밀을 알려준 ] 주식 시장 큰 흐름이 만들어 지는 원 리와 이유를 알면 주식 투자 쉽고 즐거 울 것이다 ] ] 한국 주식 시장 지루한 박스 권을 형성 했던 이유 대세 상 승 언제 어떻게 오는 지 미국 달 러 한국 주식 시장 어떻게 연결 되었 는지 도 업 종 어떻게 찾을 것인지 그 비밀을 알려준 ] 주식 시장 큰 흐름이 만들어 지는 원 리와 이유를 알면 주식 투자 쉽고 즐거 울 것이다 ] ] 한국 주식 시장 지루한 박스 권을 형성 했던 이유 대세 상 승 언제 어떻게 오는 지 미국 달 러 한국 주식 시장 어떻게 연결 되었 는지 도 업 종 어떻게 찾을 것인지 그 비밀을 알려준 ] 주식 시장 큰 흐름이 만들어 지는 원 리와 이유를 알면 주식 투자 쉽고 즐거 울 것이다 ] ] 한국 주식 시장 지루한 박스 권을 형성 했던 이유 대세 상 승 언제 어떻게 오는 지 미국 달 러 한국 주식 시장 어떻게 연결 되었 는지 도 업 종 어떻게 찾을 것인지 그 비밀을 알려준 ] 주식 시장 큰 흐름이 만들어 지는 원 리와 이유를 알면 주식 투자 쉽고 즐거 울 것이다 ] ] 한국 주식 시장 지루한 박스 권을 형성 했던 이유 대세 상 승 언제 어떻게 오는 지 미국 달 러 한국 주식 시장 어떻게 연결 되었 는지 도 업 종 어떻게 찾을 것인지 그 비밀을 알려준 ] 주식 시장 큰 흐름이 만들어 지는 원 리와 이유를 알면 주식 투자 쉽고 즐거 울 것이다 ] ] 한국 주식 시장 지루한 박스 권을 형성 했던 이유 대세 상 승 언제 어떻게 오는 지 미국 달 러 한국 주식 시장 어떻게 연결 되었 는지 도 업 종 어떻게 찾을 것인지 그 비밀을 알려준 ] 주식 시장 큰 흐름이 만들어 지는 원 리와 이유를 알면 주식 투자 쉽고 즐거 울 것이다 ] ] 한국 주식 시장 지루한 박스 권을 형성 했던 이유 대세 상 승 언제 어떻게 오는 지 미국 달 러 한국 주식 시장 어떻게 연결 되었 는지 도 업 종 어떻게 찾을 것인지 그 비밀을 알려준 ] 주식 시장 큰 흐름이 만들어 지는 원 리와 이유를 알면 주식 투자 쉽고 즐거 울 것이다 ] ] 한국 주식 시장 지루한 박스 권을 형성 했던 이유 대세 상 승 언제 어떻게 오는 지 미국 달 러 한국 주식 시장 어떻게 연결 되었 는지 도 업 종 어떻게 찾을 것인지 그 비밀을 알려준 ] 주식 시장 큰 흐름이 만들어 지는 원 리와 이유를 알면 주식 투자 쉽고 즐거 울 것이다 ] ] 한국 주식 시장 지루한 박스 권을 형성 했던 이유 대세 상 승 언제 어떻게 오는 지 미국 달 러 한국 주식 시장 어떻게 연결 되었 는지 도 업 종 어떻게 찾을 것인지 그 비밀을 알려준 ] 주식 시장 큰 흐름이 만들어 지는 원 리와 이유를 알면 주식 투자 쉽고 즐거 울 것이다 ] ] 한국 주식 시장 지루한 박스 권을 형성 했던 이유 대세 상 승 언제 어떻게 오는 지 미국 달 러 한국 주식 시장 어떻게 연결 되었 는지 도 업 종 어떻게 찾을 것인지 그 비밀을 알려준 ] 주식 시장 큰 흐름이 만들어 지는 원 리와 이유를 알면 주식 투자 쉽고 즐거 울 것이다 ] ] 한국 주식 시장 지루한 박스 권을 형성 했던 이유 대세 상 승 언제 어떻게 오는 지 미국 달 러 한국 주식 시장 어떻게 연결 되었 는지 도 업 종 어떻게 찾을 것인지 그 비밀을 알려준 ] 주식 시장 큰 흐름이 만들어 지는 원 리와 이유를 알면 주식 투자 쉽고 즐거 울 것이다 ] ] 한국 주식 시장 지루한 박스 권을 형성 했던 이유 대세 상 승 언제 어떻게 오는 지 미국 달 러 한국 주식 시장 어떻게 연결 되었 는지 도 업 종 어떻게 찾을 것인지 그 비밀을 알려준 ] 주식 시장 큰 흐름이 만들어 지는 원 리와 이유를 알면 주식 투자 쉽고 즐거 울 것이다 ] ] 한국 주식 시장 지루한 박스 권을 형성 했던 이유 대세 상 승 언제 어떻게 오는 지 미국 달 러 한국 주식 시장 어떻게 연결 되었 는지 도 업 종 어떻게 찾을 것인지 그 비밀을 알려준 ] 주식 시장 큰 흐름이 만들어 지는 원 리와 이유를 알면 주식 투자 쉽고 즐거 울 것이다 ] ] 한국 주식 시장 지루한 박스 권을 형성 했던 이유 대세 상 승 언제 어떻게 오는 지 미국 달 러 한국 주식 시장 어떻게 연결 되었 는지 도 업 종 어떻게 찾을 것인지 그 비밀을 알려준 ] 주식 시장 큰 흐름이 만들어 지는 원 리와 이유를 알면 주식 투자 쉽고 즐거 울 것이다 ] ] 한국 주식 시장 지루한 박스 권을 형성 했던 이유 대세 상 승 언제 어떻게 오는 지 미국 달 러 한국 주식 시장 어떻게 연결 되었 는지 도 업 종 어떻게 찾을 것인지 그 비밀을 알려준 ] 주식 시장 큰 흐름이 만들어 지는 원 리와 이유를 알면 주식 투자 쉽고 즐거 울 것이다 ] ] 한국 주식 시장 지루한 박스 권을 형성 했던 이유 대세 상 승 언제 어떻게 오는 지 미국 달 러 한국 주식 시장 어떻게 연결 되었 는지 도 업 종 어떻게 찾을 것인지 그 비밀을 알려준 ] 주식 시장 큰 흐름이 만들어 지는 원 리와 이유를 알면 주식 투자 쉽고 즐거 울 것이다 ] ] 한국 주식 시장 지루한 박스 권을 형성 했던 이유 대세 상 승 언제 어떻게 오는 지 미국 달 러 한국 주식 시장 어떻게 연결 되었 는지 도 업 종 어떻게 찾을 것인지 그 비밀을 알려준 ] 주식 시장 큰 흐름이 만들어 지는 원 리와 이유를 알면 주식 투자 쉽고 즐거 울 것이다 ] ] 한국 주식 시장 지루한 박스 권을 형성 했던 이유 대세 상 승 언제 어떻게 오는 지 미국 달 러 한국 주식 시장 어떻게 연결 되었 는지 도 업 종 어떻게 찾을 것인지 그 비밀을 알려준 ] 주식 시장 큰 흐름이 만들어 지는 원 리와 이유를 알면 주식 투자 쉽고 즐거 울 것이다 ] ] 한국 주식 시장 지루한 박스 권을 형성 했던 이유 대세 상 승 언제 어떻게 오는 지 미국 달 러 한국 주식 시장 어떻게 연결 되었 는지 도 업 종 어떻게 찾을 것인지 그 비밀을 알려준 ] 주식 시장 큰 흐름이 만들어 지는 원 리와 이유를 알면 주식 투자 쉽고 즐거 울 것이다 ] ] 한국 주식 시장 지루한 박스 권을 형성 했던 이유 대세 상 승 언제 어떻게 오는 지 미국 달 러 한국 주식 시장 어떻게 연결 되었 는지 도 업 종 어떻게 찾을 것인지 그 비밀을 알려준 ] 주식 시장 큰 흐름이 만들어 지는 원 리와 이유를 알면 주식 투자 쉽고 즐거 울 것이다 ] ] 한국 주식 시장 지루한 박스 권을 형성 했던 이유 대세 상 승 언제 어떻게 오는 지 미국 달 러 한국 주식 시장 어떻게 연결 되었 는지 도 업 종 어떻게 찾을 것인지 그 비밀을 알려준 ] 주식 시장 큰 흐름이 만들어 지는 원 리와 이유를 알면 주식 투자 쉽고 즐거 울 것이다 ] ] 한국 주식 시장 지루한 박스 권을 형성 했던 이유 대세 상 승 언제 어떻게 오는 지 미국 달 러 한국 주식 시장 어떻게 연결 되었 는지 도 업 종 어떻게 찾을 것인지 그 비밀을 알려준 ] 주식 시장 큰 흐름이 만들어 지는 원 리와 이유를 알면 주식 투자 쉽고 즐거 울 것이다 ] ] 한국 주식 시장 지루한 박스 권을 형성 했던 이유 대세 상 승 언제 어떻게 오는 지 미국 달 러 한국 주식 시장 어떻게 연결 되었 는지 도 업 종 어떻게 찾을 것인지 그 비밀을 알려준 ] 주식 시장 큰 흐름이 만들어 지는 원 리와 이유를 알면 주식 투자 쉽고 즐거 울 것이다 ] ] 한국 주식 시장 지루한 박스 권을 형성 했던 이유 대세 상 승 언제 어떻게 오는 지 미국 달 러 한국 주식 시장 어떻게 연결 되었 는지 도 업 종 어떻게 찾을 것인지 그 비밀을 알려준 ] 주식 시장 큰 흐름이 만들어 지는 원 리와 이유를 알면 주식 투자 쉽고 즐거 울 것이다 ] ] 한국 주식 시장 지루한 박스 권을 형성 했던 이유 대세 상 승 언제 어떻게 오는 지 미국 달 러 한국 주식 시장 어떻게 연결 되었 는지 도 업 종 어떻게 찾을 것인지 그 비밀을 알려준 ] 주식 시장 큰 흐름이 만들어 지는 원 리와 이유를 알면 주식 투자 쉽고 즐거 울 것이다 ] ] 한국 주식 시장 지루한 박스 권을 형성 했던 이유 대세 상 승 언제 어떻게 오는 지 미국 달 러 한국 주식 시장 어떻게 연결 되었 는지 도 업 종 어떻게 찾을 것인지 그 비밀을 알려준 ] 주식 시장 큰 흐름이 만들어 지는 원 리와 이유를 알면 주식 투자 쉽고 즐거 울 것이다 ] ] 한국 주식 시장 지루한 박스 권을 형성 했던 이유 대세 상 승 언제 어떻게 오는 지 미국 달 러 한국 주식 시장 어떻게 연결 되었 는지 도 업 종 어떻게 찾을 것인지 그 비밀을 알려준 ] 주식 시장 큰 흐름이 만들어 지는 원 리와 이유를 알면 주식 투자 쉽고 즐거 울 것이다 ] ] 한국 주식 시장 지루한 박스 권을 형성 했던 이유 대세 상 승 언제 어떻게 오는 지 미국 달 러 한국 주식 시장 어떻게 연결 되었 는지 도 업 종 어떻게 찾을 것인지 그 비밀을 알려준 ] 주식 시장 큰 흐름이 만들어 지는 원 리와 이유를 알면 주식 투자 쉽고 즐거 울 것이다 ] ] 한국 주식 시장 지루한 박스 권을 형성 했던 이유 대세 상 승 언제 어떻게 오는 지 미국 달 러 한국 주식 시장 어떻게 연결 되었 는지 도 업 종 어떻게 찾을 것인지 그 비밀을 알려준 ] 주식 시장 큰 흐름이 만들어 지는 원 리와 이유를 알면 주식 투자 쉽고 즐거 울 것이다 ] ] 한국 주식 시장 지루한 박스 권을 형성 했던 이유 대세 상 승 언제 어떻게 오는 지 미국 달 러 한국 주식 시장 어떻게 연결 되었 는지 도 업 종 어떻게 찾을 것인지 그 비밀을 알려준 ] 주식 시장 큰 흐름이 만들어 지는 원 리와 이유를 알면 주식 투자 쉽고 즐거 울 것이다 ] ] 한국 주식 시장 지루한 박스 권을 형성 했던 이유 대세 상 승 언제 어떻게 오는 지 미국 달 러 한국 주식 시장 어떻게 연결 되었 는지 도 업 종 어떻게 찾을 것인지 그 비밀을 알려준 ] 주식 시장 큰 흐름이 만들어 지는 원 리와 이유를 알면 주식 투자 쉽고 즐거 울 것이다 ] ] 한국 주식 시장 지루한 박스 권을 형성 했던 이유 대세 상 승 언제 어떻게 오는 지 미국 달 러 한국 주식 시장 어떻게 연결 되었 는지 도 업 종 어떻게 찾을 것인지 그 비밀을 알려준 ] 주식 시장 큰 흐름이 만들어 지는 원 리와 이유를 알면 주식 투자 쉽고 즐거 울 것이다 ] ] 한국 주식 시장 지루한 박스 권을 형성 했던 이유 대세 상 승 언제 어떻게 오는 지 미국 달 러 한국 주식 시장 어떻게 연결 되었 는지 도 업 종 어떻게 찾을 것인지 그 비밀을 알려준 ] 주식 시장 큰 흐름이 만들어 지는 원 리와 이유를 알면 주식 투자 쉽고 즐거 울 것이다 ] ] 한국 주식 시장 지루한 박스 권을 형성 했던 이유 대세 상 승 언제 어떻게 오는 지 미국 달 러 한국 주식 시장 어떻게 연결 되었 는지 도 업 종 어떻게 찾을 것인지 그 비밀을 알려준 ] 주식 시장 큰 흐름이 만들어 지는 원 리와 이유를 알면 주식 투자 쉽고 즐거 울 것이다 ] ] \n",
            "실제 요약문 : PAD 정 해진 미래 대세 상 승 장이 온다 이야기 꾼 시나리오 투자 법 ] ] PAD 정 해진 미래 대세 상 승 장이 온다 이야기 꾼 시나리오 투자 법 ] ] PAD 정 해진 미래 대세 상 승 장이 온다 이야기 꾼 시나리오 투자 법 ] ] PAD 정 해진 미래 대세 상 승 장이 온다 이야기 꾼 시나리오 투자 법 ] ] PAD 정 해진 미래 대세 상 승 장이 온다 이야기 꾼 시나리오 투자 법 ] ] PAD 정 해진 미래 대세 상 승 장이 온다 이야기 꾼 시나리오 투자 법 ] ] PAD 정 해진 미래 대세 상 승 장이 온다 이야기 꾼 시나리오 투자 법 ] ] PAD 정 해진 미래 대세 상 승 장이 온다 이야기 꾼 시나리오 투자 법 ] ] PAD 정 해진 미래 대세 상 승 장이 온다 이야기 꾼 시나리오 투자 법 ] ] PAD 정 해진 미래 대세 상 승 장이 온다 이야기 꾼 시나리오 투자 법 ] ] PAD 정 해진 미래 대세 상 승 장이 온다 이야기 꾼 시나리오 투자 법 ] ] PAD 정 해진 미래 대세 상 승 장이 온다 이야기 꾼 시나리오 투자 법 ] ] PAD 정 해진 미래 대세 상 승 장이 온다 이야기 꾼 시나리오 투자 법 ] ] PAD 정 해진 미래 대세 상 승 장이 온다 이야기 꾼 시나리오 투자 법 ] ] PAD 정 해진 미래 대세 상 승 장이 온다 이야기 꾼 시나리오 투자 법 ] ] PAD 정 해진 미래 대세 상 승 장이 온다 이야기 꾼 시나리오 투자 법 ] ] PAD 정 해진 미래 대세 상 승 장이 온다 이야기 꾼 시나리오 투자 법 ] ] PAD 정 해진 미래 대세 상 승 장이 온다 이야기 꾼 시나리오 투자 법 ] ] PAD 정 해진 미래 대세 상 승 장이 온다 이야기 꾼 시나리오 투자 법 ] ] PAD 정 해진 미래 대세 상 승 장이 온다 이야기 꾼 시나리오 투자 법 ] ] \n",
            "1/1 [==============================] - 0s 23ms/step\n",
            "1/1 [==============================] - 0s 22ms/step\n",
            "1/1 [==============================] - 0s 24ms/step\n",
            "1/1 [==============================] - 0s 20ms/step\n",
            "1/1 [==============================] - 0s 16ms/step\n",
            "1/1 [==============================] - 0s 16ms/step\n",
            "1/1 [==============================] - 0s 17ms/step\n",
            "1/1 [==============================] - 0s 19ms/step\n",
            "1/1 [==============================] - 0s 16ms/step\n",
            "1/1 [==============================] - 0s 17ms/step\n",
            "1/1 [==============================] - 0s 17ms/step\n",
            "1/1 [==============================] - 0s 20ms/step\n",
            "1/1 [==============================] - 0s 16ms/step\n",
            "1/1 [==============================] - 0s 18ms/step\n",
            "1/1 [==============================] - 0s 20ms/step\n",
            "1/1 [==============================] - 0s 18ms/step\n",
            "1/1 [==============================] - 0s 16ms/step\n",
            "1/1 [==============================] - 0s 16ms/step\n",
            "1/1 [==============================] - 0s 18ms/step\n",
            "1/1 [==============================] - 0s 19ms/step\n",
            "1/1 [==============================] - 0s 18ms/step\n",
            "1/1 [==============================] - 0s 17ms/step\n",
            "1/1 [==============================] - 0s 18ms/step\n",
            "1/1 [==============================] - 0s 17ms/step\n",
            "1/1 [==============================] - 0s 20ms/step\n",
            "1/1 [==============================] - 0s 18ms/step\n",
            "1/1 [==============================] - 0s 23ms/step\n",
            "1/1 [==============================] - 0s 16ms/step\n",
            "1/1 [==============================] - 0s 23ms/step\n",
            "1/1 [==============================] - 0s 23ms/step\n",
            "예측 요약문 :  U 투자 U U U U U U U U U U U U U U U U U U U U U U U U U U ##N\n",
            "\n",
            "\n",
            "원문 :  조선 후기 활동 했던 실 학 자 홍 대 용 연구 사상 에서 영감을 받아 만든 픽션 이다 ] 양반 이었 고 유 생이 었지만 사서 삼 경 대신 백성 생활 하는 데 도움 될 만한 학 문에 매 진 하기 홍 대 용이 담 헌 정 탐 단 함께 기묘한 사건 들을 해결 해 나가는 과정을 흥미진진하게 그리고 있다 ] ] 조선 후기 활동 했던 실 학 자 홍 대 용 연구 사상 에서 영감을 받아 만든 픽션 이다 ] 양반 이었 고 유 생이 었지만 사서 삼 경 대신 백성 생활 하는 데 도움 될 만한 학 문에 매 진 하기 홍 대 용이 담 헌 정 탐 단 함께 기묘한 사건 들을 해결 해 나가는 과정을 흥미진진하게 그리고 있다 ] ] 조선 후기 활동 했던 실 학 자 홍 대 용 연구 사상 에서 영감을 받아 만든 픽션 이다 ] 양반 이었 고 유 생이 었지만 사서 삼 경 대신 백성 생활 하는 데 도움 될 만한 학 문에 매 진 하기 홍 대 용이 담 헌 정 탐 단 함께 기묘한 사건 들을 해결 해 나가는 과정을 흥미진진하게 그리고 있다 ] ] 조선 후기 활동 했던 실 학 자 홍 대 용 연구 사상 에서 영감을 받아 만든 픽션 이다 ] 양반 이었 고 유 생이 었지만 사서 삼 경 대신 백성 생활 하는 데 도움 될 만한 학 문에 매 진 하기 홍 대 용이 담 헌 정 탐 단 함께 기묘한 사건 들을 해결 해 나가는 과정을 흥미진진하게 그리고 있다 ] ] 조선 후기 활동 했던 실 학 자 홍 대 용 연구 사상 에서 영감을 받아 만든 픽션 이다 ] 양반 이었 고 유 생이 었지만 사서 삼 경 대신 백성 생활 하는 데 도움 될 만한 학 문에 매 진 하기 홍 대 용이 담 헌 정 탐 단 함께 기묘한 사건 들을 해결 해 나가는 과정을 흥미진진하게 그리고 있다 ] ] 조선 후기 활동 했던 실 학 자 홍 대 용 연구 사상 에서 영감을 받아 만든 픽션 이다 ] 양반 이었 고 유 생이 었지만 사서 삼 경 대신 백성 생활 하는 데 도움 될 만한 학 문에 매 진 하기 홍 대 용이 담 헌 정 탐 단 함께 기묘한 사건 들을 해결 해 나가는 과정을 흥미진진하게 그리고 있다 ] ] 조선 후기 활동 했던 실 학 자 홍 대 용 연구 사상 에서 영감을 받아 만든 픽션 이다 ] 양반 이었 고 유 생이 었지만 사서 삼 경 대신 백성 생활 하는 데 도움 될 만한 학 문에 매 진 하기 홍 대 용이 담 헌 정 탐 단 함께 기묘한 사건 들을 해결 해 나가는 과정을 흥미진진하게 그리고 있다 ] ] 조선 후기 활동 했던 실 학 자 홍 대 용 연구 사상 에서 영감을 받아 만든 픽션 이다 ] 양반 이었 고 유 생이 었지만 사서 삼 경 대신 백성 생활 하는 데 도움 될 만한 학 문에 매 진 하기 홍 대 용이 담 헌 정 탐 단 함께 기묘한 사건 들을 해결 해 나가는 과정을 흥미진진하게 그리고 있다 ] ] 조선 후기 활동 했던 실 학 자 홍 대 용 연구 사상 에서 영감을 받아 만든 픽션 이다 ] 양반 이었 고 유 생이 었지만 사서 삼 경 대신 백성 생활 하는 데 도움 될 만한 학 문에 매 진 하기 홍 대 용이 담 헌 정 탐 단 함께 기묘한 사건 들을 해결 해 나가는 과정을 흥미진진하게 그리고 있다 ] ] 조선 후기 활동 했던 실 학 자 홍 대 용 연구 사상 에서 영감을 받아 만든 픽션 이다 ] 양반 이었 고 유 생이 었지만 사서 삼 경 대신 백성 생활 하는 데 도움 될 만한 학 문에 매 진 하기 홍 대 용이 담 헌 정 탐 단 함께 기묘한 사건 들을 해결 해 나가는 과정을 흥미진진하게 그리고 있다 ] ] 조선 후기 활동 했던 실 학 자 홍 대 용 연구 사상 에서 영감을 받아 만든 픽션 이다 ] 양반 이었 고 유 생이 었지만 사서 삼 경 대신 백성 생활 하는 데 도움 될 만한 학 문에 매 진 하기 홍 대 용이 담 헌 정 탐 단 함께 기묘한 사건 들을 해결 해 나가는 과정을 흥미진진하게 그리고 있다 ] ] 조선 후기 활동 했던 실 학 자 홍 대 용 연구 사상 에서 영감을 받아 만든 픽션 이다 ] 양반 이었 고 유 생이 었지만 사서 삼 경 대신 백성 생활 하는 데 도움 될 만한 학 문에 매 진 하기 홍 대 용이 담 헌 정 탐 단 함께 기묘한 사건 들을 해결 해 나가는 과정을 흥미진진하게 그리고 있다 ] ] 조선 후기 활동 했던 실 학 자 홍 대 용 연구 사상 에서 영감을 받아 만든 픽션 이다 ] 양반 이었 고 유 생이 었지만 사서 삼 경 대신 백성 생활 하는 데 도움 될 만한 학 문에 매 진 하기 홍 대 용이 담 헌 정 탐 단 함께 기묘한 사건 들을 해결 해 나가는 과정을 흥미진진하게 그리고 있다 ] ] 조선 후기 활동 했던 실 학 자 홍 대 용 연구 사상 에서 영감을 받아 만든 픽션 이다 ] 양반 이었 고 유 생이 었지만 사서 삼 경 대신 백성 생활 하는 데 도움 될 만한 학 문에 매 진 하기 홍 대 용이 담 헌 정 탐 단 함께 기묘한 사건 들을 해결 해 나가는 과정을 흥미진진하게 그리고 있다 ] ] 조선 후기 활동 했던 실 학 자 홍 대 용 연구 사상 에서 영감을 받아 만든 픽션 이다 ] 양반 이었 고 유 생이 었지만 사서 삼 경 대신 백성 생활 하는 데 도움 될 만한 학 문에 매 진 하기 홍 대 용이 담 헌 정 탐 단 함께 기묘한 사건 들을 해결 해 나가는 과정을 흥미진진하게 그리고 있다 ] ] 조선 후기 활동 했던 실 학 자 홍 대 용 연구 사상 에서 영감을 받아 만든 픽션 이다 ] 양반 이었 고 유 생이 었지만 사서 삼 경 대신 백성 생활 하는 데 도움 될 만한 학 문에 매 진 하기 홍 대 용이 담 헌 정 탐 단 함께 기묘한 사건 들을 해결 해 나가는 과정을 흥미진진하게 그리고 있다 ] ] 조선 후기 활동 했던 실 학 자 홍 대 용 연구 사상 에서 영감을 받아 만든 픽션 이다 ] 양반 이었 고 유 생이 었지만 사서 삼 경 대신 백성 생활 하는 데 도움 될 만한 학 문에 매 진 하기 홍 대 용이 담 헌 정 탐 단 함께 기묘한 사건 들을 해결 해 나가는 과정을 흥미진진하게 그리고 있다 ] ] 조선 후기 활동 했던 실 학 자 홍 대 용 연구 사상 에서 영감을 받아 만든 픽션 이다 ] 양반 이었 고 유 생이 었지만 사서 삼 경 대신 백성 생활 하는 데 도움 될 만한 학 문에 매 진 하기 홍 대 용이 담 헌 정 탐 단 함께 기묘한 사건 들을 해결 해 나가는 과정을 흥미진진하게 그리고 있다 ] ] 조선 후기 활동 했던 실 학 자 홍 대 용 연구 사상 에서 영감을 받아 만든 픽션 이다 ] 양반 이었 고 유 생이 었지만 사서 삼 경 대신 백성 생활 하는 데 도움 될 만한 학 문에 매 진 하기 홍 대 용이 담 헌 정 탐 단 함께 기묘한 사건 들을 해결 해 나가는 과정을 흥미진진하게 그리고 있다 ] ] 조선 후기 활동 했던 실 학 자 홍 대 용 연구 사상 에서 영감을 받아 만든 픽션 이다 ] 양반 이었 고 유 생이 었지만 사서 삼 경 대신 백성 생활 하는 데 도움 될 만한 학 문에 매 진 하기 홍 대 용이 담 헌 정 탐 단 함께 기묘한 사건 들을 해결 해 나가는 과정을 흥미진진하게 그리고 있다 ] ] 조선 후기 활동 했던 실 학 자 홍 대 용 연구 사상 에서 영감을 받아 만든 픽션 이다 ] 양반 이었 고 유 생이 었지만 사서 삼 경 대신 백성 생활 하는 데 도움 될 만한 학 문에 매 진 하기 홍 대 용이 담 헌 정 탐 단 함께 기묘한 사건 들을 해결 해 나가는 과정을 흥미진진하게 그리고 있다 ] ] 조선 후기 활동 했던 실 학 자 홍 대 용 연구 사상 에서 영감을 받아 만든 픽션 이다 ] 양반 이었 고 유 생이 었지만 사서 삼 경 대신 백성 생활 하는 데 도움 될 만한 학 문에 매 진 하기 홍 대 용이 담 헌 정 탐 단 함께 기묘한 사건 들을 해결 해 나가는 과정을 흥미진진하게 그리고 있다 ] ] 조선 후기 활동 했던 실 학 자 홍 대 용 연구 사상 에서 영감을 받아 만든 픽션 이다 ] 양반 이었 고 유 생이 었지만 사서 삼 경 대신 백성 생활 하는 데 도움 될 만한 학 문에 매 진 하기 홍 대 용이 담 헌 정 탐 단 함께 기묘한 사건 들을 해결 해 나가는 과정을 흥미진진하게 그리고 있다 ] ] 조선 후기 활동 했던 실 학 자 홍 대 용 연구 사상 에서 영감을 받아 만든 픽션 이다 ] 양반 이었 고 유 생이 었지만 사서 삼 경 대신 백성 생활 하는 데 도움 될 만한 학 문에 매 진 하기 홍 대 용이 담 헌 정 탐 단 함께 기묘한 사건 들을 해결 해 나가는 과정을 흥미진진하게 그리고 있다 ] ] 조선 후기 활동 했던 실 학 자 홍 대 용 연구 사상 에서 영감을 받아 만든 픽션 이다 ] 양반 이었 고 유 생이 었지만 사서 삼 경 대신 백성 생활 하는 데 도움 될 만한 학 문에 매 진 하기 홍 대 용이 담 헌 정 탐 단 함께 기묘한 사건 들을 해결 해 나가는 과정을 흥미진진하게 그리고 있다 ] ] 조선 후기 활동 했던 실 학 자 홍 대 용 연구 사상 에서 영감을 받아 만든 픽션 이다 ] 양반 이었 고 유 생이 었지만 사서 삼 경 대신 백성 생활 하는 데 도움 될 만한 학 문에 매 진 하기 홍 대 용이 담 헌 정 탐 단 함께 기묘한 사건 들을 해결 해 나가는 과정을 흥미진진하게 그리고 있다 ] ] 조선 후기 활동 했던 실 학 자 홍 대 용 연구 사상 에서 영감을 받아 만든 픽션 이다 ] 양반 이었 고 유 생이 었지만 사서 삼 경 대신 백성 생활 하는 데 도움 될 만한 학 문에 매 진 하기 홍 대 용이 담 헌 정 탐 단 함께 기묘한 사건 들을 해결 해 나가는 과정을 흥미진진하게 그리고 있다 ] ] 조선 후기 활동 했던 실 학 자 홍 대 용 연구 사상 에서 영감을 받아 만든 픽션 이다 ] 양반 이었 고 유 생이 었지만 사서 삼 경 대신 백성 생활 하는 데 도움 될 만한 학 문에 매 진 하기 홍 대 용이 담 헌 정 탐 단 함께 기묘한 사건 들을 해결 해 나가는 과정을 흥미진진하게 그리고 있다 ] ] 조선 후기 활동 했던 실 학 자 홍 대 용 연구 사상 에서 영감을 받아 만든 픽션 이다 ] 양반 이었 고 유 생이 었지만 사서 삼 경 대신 백성 생활 하는 데 도움 될 만한 학 문에 매 진 하기 홍 대 용이 담 헌 정 탐 단 함께 기묘한 사건 들을 해결 해 나가는 과정을 흥미진진하게 그리고 있다 ] ] 조선 후기 활동 했던 실 학 자 홍 대 용 연구 사상 에서 영감을 받아 만든 픽션 이다 ] 양반 이었 고 유 생이 었지만 사서 삼 경 대신 백성 생활 하는 데 도움 될 만한 학 문에 매 진 하기 홍 대 용이 담 헌 정 탐 단 함께 기묘한 사건 들을 해결 해 나가는 과정을 흥미진진하게 그리고 있다 ] ] 조선 후기 활동 했던 실 학 자 홍 대 용 연구 사상 에서 영감을 받아 만든 픽션 이다 ] 양반 이었 고 유 생이 었지만 사서 삼 경 대신 백성 생활 하는 데 도움 될 만한 학 문에 매 진 하기 홍 대 용이 담 헌 정 탐 단 함께 기묘한 사건 들을 해결 해 나가는 과정을 흥미진진하게 그리고 있다 ] ] 조선 후기 활동 했던 실 학 자 홍 대 용 연구 사상 에서 영감을 받아 만든 픽션 이다 ] 양반 이었 고 유 생이 었지만 사서 삼 경 대신 백성 생활 하는 데 도움 될 만한 학 문에 매 진 하기 홍 대 용이 담 헌 정 탐 단 함께 기묘한 사건 들을 해결 해 나가는 과정을 흥미진진하게 그리고 있다 ] ] 조선 후기 활동 했던 실 학 자 홍 대 용 연구 사상 에서 영감을 받아 만든 픽션 이다 ] 양반 이었 고 유 생이 었지만 사서 삼 경 대신 백성 생활 하는 데 도움 될 만한 학 문에 매 진 하기 홍 대 용이 담 헌 정 탐 단 함께 기묘한 사건 들을 해결 해 나가는 과정을 흥미진진하게 그리고 있다 ] ] 조선 후기 활동 했던 실 학 자 홍 대 용 연구 사상 에서 영감을 받아 만든 픽션 이다 ] 양반 이었 고 유 생이 었지만 사서 삼 경 대신 백성 생활 하는 데 도움 될 만한 학 문에 매 진 하기 홍 대 용이 담 헌 정 탐 단 함께 기묘한 사건 들을 해결 해 나가는 과정을 흥미진진하게 그리고 있다 ] ] 조선 후기 활동 했던 실 학 자 홍 대 용 연구 사상 에서 영감을 받아 만든 픽션 이다 ] 양반 이었 고 유 생이 었지만 사서 삼 경 대신 백성 생활 하는 데 도움 될 만한 학 문에 매 진 하기 홍 대 용이 담 헌 정 탐 단 함께 기묘한 사건 들을 해결 해 나가는 과정을 흥미진진하게 그리고 있다 ] ] 조선 후기 활동 했던 실 학 자 홍 대 용 연구 사상 에서 영감을 받아 만든 픽션 이다 ] 양반 이었 고 유 생이 었지만 사서 삼 경 대신 백성 생활 하는 데 도움 될 만한 학 문에 매 진 하기 홍 대 용이 담 헌 정 탐 단 함께 기묘한 사건 들을 해결 해 나가는 과정을 흥미진진하게 그리고 있다 ] ] 조선 후기 활동 했던 실 학 자 홍 대 용 연구 사상 에서 영감을 받아 만든 픽션 이다 ] 양반 이었 고 유 생이 었지만 사서 삼 경 대신 백성 생활 하는 데 도움 될 만한 학 문에 매 진 하기 홍 대 용이 담 헌 정 탐 단 함께 기묘한 사건 들을 해결 해 나가는 과정을 흥미진진하게 그리고 있다 ] ] 조선 후기 활동 했던 실 학 자 홍 대 용 연구 사상 에서 영감을 받아 만든 픽션 이다 ] 양반 이었 고 유 생이 었지만 사서 삼 경 대신 백성 생활 하는 데 도움 될 만한 학 문에 매 진 하기 홍 대 용이 담 헌 정 탐 단 함께 기묘한 사건 들을 해결 해 나가는 과정을 흥미진진하게 그리고 있다 ] ] 조선 후기 활동 했던 실 학 자 홍 대 용 연구 사상 에서 영감을 받아 만든 픽션 이다 ] 양반 이었 고 유 생이 었지만 사서 삼 경 대신 백성 생활 하는 데 도움 될 만한 학 문에 매 진 하기 홍 대 용이 담 헌 정 탐 단 함께 기묘한 사건 들을 해결 해 나가는 과정을 흥미진진하게 그리고 있다 ] ] 조선 후기 활동 했던 실 학 자 홍 대 용 연구 사상 에서 영감을 받아 만든 픽션 이다 ] 양반 이었 고 유 생이 었지만 사서 삼 경 대신 백성 생활 하는 데 도움 될 만한 학 문에 매 진 하기 홍 대 용이 담 헌 정 탐 단 함께 기묘한 사건 들을 해결 해 나가는 과정을 흥미진진하게 그리고 있다 ] ] 조선 후기 활동 했던 실 학 자 홍 대 용 연구 사상 에서 영감을 받아 만든 픽션 이다 ] 양반 이었 고 유 생이 었지만 사서 삼 경 대신 백성 생활 하는 데 도움 될 만한 학 문에 매 진 하기 홍 대 용이 담 헌 정 탐 단 함께 기묘한 사건 들을 해결 해 나가는 과정을 흥미진진하게 그리고 있다 ] ] 조선 후기 활동 했던 실 학 자 홍 대 용 연구 사상 에서 영감을 받아 만든 픽션 이다 ] 양반 이었 고 유 생이 었지만 사서 삼 경 대신 백성 생활 하는 데 도움 될 만한 학 문에 매 진 하기 홍 대 용이 담 헌 정 탐 단 함께 기묘한 사건 들을 해결 해 나가는 과정을 흥미진진하게 그리고 있다 ] ] 조선 후기 활동 했던 실 학 자 홍 대 용 연구 사상 에서 영감을 받아 만든 픽션 이다 ] 양반 이었 고 유 생이 었지만 사서 삼 경 대신 백성 생활 하는 데 도움 될 만한 학 문에 매 진 하기 홍 대 용이 담 헌 정 탐 단 함께 기묘한 사건 들을 해결 해 나가는 과정을 흥미진진하게 그리고 있다 ] ] 조선 후기 활동 했던 실 학 자 홍 대 용 연구 사상 에서 영감을 받아 만든 픽션 이다 ] 양반 이었 고 유 생이 었지만 사서 삼 경 대신 백성 생활 하는 데 도움 될 만한 학 문에 매 진 하기 홍 대 용이 담 헌 정 탐 단 함께 기묘한 사건 들을 해결 해 나가는 과정을 흥미진진하게 그리고 있다 ] ] 조선 후기 활동 했던 실 학 자 홍 대 용 연구 사상 에서 영감을 받아 만든 픽션 이다 ] 양반 이었 고 유 생이 었지만 사서 삼 경 대신 백성 생활 하는 데 도움 될 만한 학 문에 매 진 하기 홍 대 용이 담 헌 정 탐 단 함께 기묘한 사건 들을 해결 해 나가는 과정을 흥미진진하게 그리고 있다 ] ] 조선 후기 활동 했던 실 학 자 홍 대 용 연구 사상 에서 영감을 받아 만든 픽션 이다 ] 양반 이었 고 유 생이 었지만 사서 삼 경 대신 백성 생활 하는 데 도움 될 만한 학 문에 매 진 하기 홍 대 용이 담 헌 정 탐 단 함께 기묘한 사건 들을 해결 해 나가는 과정을 흥미진진하게 그리고 있다 ] ] 조선 후기 활동 했던 실 학 자 홍 대 용 연구 사상 에서 영감을 받아 만든 픽션 이다 ] 양반 이었 고 유 생이 었지만 사서 삼 경 대신 백성 생활 하는 데 도움 될 만한 학 문에 매 진 하기 홍 대 용이 담 헌 정 탐 단 함께 기묘한 사건 들을 해결 해 나가는 과정을 흥미진진하게 그리고 있다 ] ] 조선 후기 활동 했던 실 학 자 홍 대 용 연구 사상 에서 영감을 받아 만든 픽션 이다 ] 양반 이었 고 유 생이 었지만 사서 삼 경 대신 백성 생활 하는 데 도움 될 만한 학 문에 매 진 하기 홍 대 용이 담 헌 정 탐 단 함께 기묘한 사건 들을 해결 해 나가는 과정을 흥미진진하게 그리고 있다 ] ] 조선 후기 활동 했던 실 학 자 홍 대 용 연구 사상 에서 영감을 받아 만든 픽션 이다 ] 양반 이었 고 유 생이 었지만 사서 삼 경 대신 백성 생활 하는 데 도움 될 만한 학 문에 매 진 하기 홍 대 용이 담 헌 정 탐 단 함께 기묘한 사건 들을 해결 해 나가는 과정을 흥미진진하게 그리고 있다 ] ] 조선 후기 활동 했던 실 학 자 홍 대 용 연구 사상 에서 영감을 받아 만든 픽션 이다 ] 양반 이었 고 유 생이 었지만 사서 삼 경 대신 백성 생활 하는 데 도움 될 만한 학 문에 매 진 하기 홍 대 용이 담 헌 정 탐 단 함께 기묘한 사건 들을 해결 해 나가는 과정을 흥미진진하게 그리고 있다 ] ] 조선 후기 활동 했던 실 학 자 홍 대 용 연구 사상 에서 영감을 받아 만든 픽션 이다 ] 양반 이었 고 유 생이 었지만 사서 삼 경 대신 백성 생활 하는 데 도움 될 만한 학 문에 매 진 하기 홍 대 용이 담 헌 정 탐 단 함께 기묘한 사건 들을 해결 해 나가는 과정을 흥미진진하게 그리고 있다 ] ] 조선 후기 활동 했던 실 학 자 홍 대 용 연구 사상 에서 영감을 받아 만든 픽션 이다 ] 양반 이었 고 유 생이 었지만 사서 삼 경 대신 백성 생활 하는 데 도움 될 만한 학 문에 매 진 하기 홍 대 용이 담 헌 정 탐 단 함께 기묘한 사건 들을 해결 해 나가는 과정을 흥미진진하게 그리고 있다 ] ] 조선 후기 활동 했던 실 학 자 홍 대 용 연구 사상 에서 영감을 받아 만든 픽션 이다 ] 양반 이었 고 유 생이 었지만 사서 삼 경 대신 백성 생활 하는 데 도움 될 만한 학 문에 매 진 하기 홍 대 용이 담 헌 정 탐 단 함께 기묘한 사건 들을 해결 해 나가는 과정을 흥미진진하게 그리고 있다 ] ] 조선 후기 활동 했던 실 학 자 홍 대 용 연구 사상 에서 영감을 받아 만든 픽션 이다 ] 양반 이었 고 유 생이 었지만 사서 삼 경 대신 백성 생활 하는 데 도움 될 만한 학 문에 매 진 하기 홍 대 용이 담 헌 정 탐 단 함께 기묘한 사건 들을 해결 해 나가는 과정을 흥미진진하게 그리고 있다 ] ] 조선 후기 활동 했던 실 학 자 홍 대 용 연구 사상 에서 영감을 받아 만든 픽션 이다 ] 양반 이었 고 유 생이 었지만 사서 삼 경 대신 백성 생활 하는 데 도움 될 만한 학 문에 매 진 하기 홍 대 용이 담 헌 정 탐 단 함께 기묘한 사건 들을 해결 해 나가는 과정을 흥미진진하게 그리고 있다 ] ] 조선 후기 활동 했던 실 학 자 홍 대 용 연구 사상 에서 영감을 받아 만든 픽션 이다 ] 양반 이었 고 유 생이 었지만 사서 삼 경 대신 백성 생활 하는 데 도움 될 만한 학 문에 매 진 하기 홍 대 용이 담 헌 정 탐 단 함께 기묘한 사건 들을 해결 해 나가는 과정을 흥미진진하게 그리고 있다 ] ] 조선 후기 활동 했던 실 학 자 홍 대 용 연구 사상 에서 영감을 받아 만든 픽션 이다 ] 양반 이었 고 유 생이 었지만 사서 삼 경 대신 백성 생활 하는 데 도움 될 만한 학 문에 매 진 하기 홍 대 용이 담 헌 정 탐 단 함께 기묘한 사건 들을 해결 해 나가는 과정을 흥미진진하게 그리고 있다 ] ] 조선 후기 활동 했던 실 학 자 홍 대 용 연구 사상 에서 영감을 받아 만든 픽션 이다 ] 양반 이었 고 유 생이 었지만 사서 삼 경 대신 백성 생활 하는 데 도움 될 만한 학 문에 매 진 하기 홍 대 용이 담 헌 정 탐 단 함께 기묘한 사건 들을 해결 해 나가는 과정을 흥미진진하게 그리고 있다 ] ] 조선 후기 활동 했던 실 학 자 홍 대 용 연구 사상 에서 영감을 받아 만든 픽션 이다 ] 양반 이었 고 유 생이 었지만 사서 삼 경 대신 백성 생활 하는 데 도움 될 만한 학 문에 매 진 하기 홍 대 용이 담 헌 정 탐 단 함께 기묘한 사건 들을 해결 해 나가는 과정을 흥미진진하게 그리고 있다 ] ] 조선 후기 활동 했던 실 학 자 홍 대 용 연구 사상 에서 영감을 받아 만든 픽션 이다 ] 양반 이었 고 유 생이 었지만 사서 삼 경 대신 백성 생활 하는 데 도움 될 만한 학 문에 매 진 하기 홍 대 용이 담 헌 정 탐 단 함께 기묘한 사건 들을 해결 해 나가는 과정을 흥미진진하게 그리고 있다 ] ] 조선 후기 활동 했던 실 학 자 홍 대 용 연구 사상 에서 영감을 받아 만든 픽션 이다 ] 양반 이었 고 유 생이 었지만 사서 삼 경 대신 백성 생활 하는 데 도움 될 만한 학 문에 매 진 하기 홍 대 용이 담 헌 정 탐 단 함께 기묘한 사건 들을 해결 해 나가는 과정을 흥미진진하게 그리고 있다 ] ] 조선 후기 활동 했던 실 학 자 홍 대 용 연구 사상 에서 영감을 받아 만든 픽션 이다 ] 양반 이었 고 유 생이 었지만 사서 삼 경 대신 백성 생활 하는 데 도움 될 만한 학 문에 매 진 하기 홍 대 용이 담 헌 정 탐 단 함께 기묘한 사건 들을 해결 해 나가는 과정을 흥미진진하게 그리고 있다 ] ] 조선 후기 활동 했던 실 학 자 홍 대 용 연구 사상 에서 영감을 받아 만든 픽션 이다 ] 양반 이었 고 유 생이 었지만 사서 삼 경 대신 백성 생활 하는 데 도움 될 만한 학 문에 매 진 하기 홍 대 용이 담 헌 정 탐 단 함께 기묘한 사건 들을 해결 해 나가는 과정을 흥미진진하게 그리고 있다 ] ] 조선 후기 활동 했던 실 학 자 홍 대 용 연구 사상 에서 영감을 받아 만든 픽션 이다 ] 양반 이었 고 유 생이 었지만 사서 삼 경 대신 백성 생활 하는 데 도움 될 만한 학 문에 매 진 하기 홍 대 용이 담 헌 정 탐 단 함께 기묘한 사건 들을 해결 해 나가는 과정을 흥미진진하게 그리고 있다 ] ] 조선 후기 활동 했던 실 학 자 홍 대 용 연구 사상 에서 영감을 받아 만든 픽션 이다 ] 양반 이었 고 유 생이 었지만 사서 삼 경 대신 백성 생활 하는 데 도움 될 만한 학 문에 매 진 하기 홍 대 용이 담 헌 정 탐 단 함께 기묘한 사건 들을 해결 해 나가는 과정을 흥미진진하게 그리고 있다 ] ] 조선 후기 활동 했던 실 학 자 홍 대 용 연구 사상 에서 영감을 받아 만든 픽션 이다 ] 양반 이었 고 유 생이 었지만 사서 삼 경 대신 백성 생활 하는 데 도움 될 만한 학 문에 매 진 하기 홍 대 용이 담 헌 정 탐 단 함께 기묘한 사건 들을 해결 해 나가는 과정을 흥미진진하게 그리고 있다 ] ] 조선 후기 활동 했던 실 학 자 홍 대 용 연구 사상 에서 영감을 받아 만든 픽션 이다 ] 양반 이었 고 유 생이 었지만 사서 삼 경 대신 백성 생활 하는 데 도움 될 만한 학 문에 매 진 하기 홍 대 용이 담 헌 정 탐 단 함께 기묘한 사건 들을 해결 해 나가는 과정을 흥미진진하게 그리고 있다 ] ] \n",
            "실제 요약문 : PAD 조선 과학 탐정 홍 대 용 ] ] PAD 조선 과학 탐정 홍 대 용 ] ] PAD 조선 과학 탐정 홍 대 용 ] ] PAD 조선 과학 탐정 홍 대 용 ] ] PAD 조선 과학 탐정 홍 대 용 ] ] PAD 조선 과학 탐정 홍 대 용 ] ] PAD 조선 과학 탐정 홍 대 용 ] ] PAD 조선 과학 탐정 홍 대 용 ] ] PAD 조선 과학 탐정 홍 대 용 ] ] PAD 조선 과학 탐정 홍 대 용 ] ] PAD 조선 과학 탐정 홍 대 용 ] ] \n",
            "1/1 [==============================] - 0s 25ms/step\n",
            "1/1 [==============================] - 0s 23ms/step\n",
            "1/1 [==============================] - 0s 17ms/step\n",
            "1/1 [==============================] - 0s 19ms/step\n",
            "1/1 [==============================] - 0s 17ms/step\n",
            "1/1 [==============================] - 0s 17ms/step\n",
            "1/1 [==============================] - 0s 17ms/step\n",
            "1/1 [==============================] - 0s 21ms/step\n",
            "1/1 [==============================] - 0s 18ms/step\n",
            "1/1 [==============================] - 0s 16ms/step\n",
            "1/1 [==============================] - 0s 19ms/step\n",
            "1/1 [==============================] - 0s 17ms/step\n",
            "1/1 [==============================] - 0s 17ms/step\n",
            "1/1 [==============================] - 0s 16ms/step\n",
            "1/1 [==============================] - 0s 18ms/step\n",
            "1/1 [==============================] - 0s 16ms/step\n",
            "1/1 [==============================] - 0s 19ms/step\n",
            "1/1 [==============================] - 0s 17ms/step\n",
            "1/1 [==============================] - 0s 18ms/step\n",
            "1/1 [==============================] - 0s 18ms/step\n",
            "1/1 [==============================] - 0s 18ms/step\n",
            "1/1 [==============================] - 0s 16ms/step\n",
            "1/1 [==============================] - 0s 27ms/step\n",
            "1/1 [==============================] - 0s 19ms/step\n",
            "1/1 [==============================] - 0s 19ms/step\n",
            "1/1 [==============================] - 0s 18ms/step\n",
            "1/1 [==============================] - 0s 16ms/step\n",
            "1/1 [==============================] - 0s 16ms/step\n",
            "1/1 [==============================] - 0s 23ms/step\n",
            "1/1 [==============================] - 0s 17ms/step\n",
            "예측 요약문 :  U 사 사 사 사 사 The i i o e e e e e a o e a ##r e e e s U U U ##N ##N\n",
            "\n",
            "\n",
            "원문 :  년 최신 개 정 판이 ] 유럽 물 변 동이 최종 적으로 업 데이트 되는 년 월 정보 발 빠르게 입 하여 변 동 된 물 가와 교통 요 금 등을 책 반영 했다 ] ] 년 최신 개 정 판이 ] 유럽 물 변 동이 최종 적으로 업 데이트 되는 년 월 정보 발 빠르게 입 하여 변 동 된 물 가와 교통 요 금 등을 책 반영 했다 ] ] 년 최신 개 정 판이 ] 유럽 물 변 동이 최종 적으로 업 데이트 되는 년 월 정보 발 빠르게 입 하여 변 동 된 물 가와 교통 요 금 등을 책 반영 했다 ] ] 년 최신 개 정 판이 ] 유럽 물 변 동이 최종 적으로 업 데이트 되는 년 월 정보 발 빠르게 입 하여 변 동 된 물 가와 교통 요 금 등을 책 반영 했다 ] ] 년 최신 개 정 판이 ] 유럽 물 변 동이 최종 적으로 업 데이트 되는 년 월 정보 발 빠르게 입 하여 변 동 된 물 가와 교통 요 금 등을 책 반영 했다 ] ] 년 최신 개 정 판이 ] 유럽 물 변 동이 최종 적으로 업 데이트 되는 년 월 정보 발 빠르게 입 하여 변 동 된 물 가와 교통 요 금 등을 책 반영 했다 ] ] 년 최신 개 정 판이 ] 유럽 물 변 동이 최종 적으로 업 데이트 되는 년 월 정보 발 빠르게 입 하여 변 동 된 물 가와 교통 요 금 등을 책 반영 했다 ] ] 년 최신 개 정 판이 ] 유럽 물 변 동이 최종 적으로 업 데이트 되는 년 월 정보 발 빠르게 입 하여 변 동 된 물 가와 교통 요 금 등을 책 반영 했다 ] ] 년 최신 개 정 판이 ] 유럽 물 변 동이 최종 적으로 업 데이트 되는 년 월 정보 발 빠르게 입 하여 변 동 된 물 가와 교통 요 금 등을 책 반영 했다 ] ] 년 최신 개 정 판이 ] 유럽 물 변 동이 최종 적으로 업 데이트 되는 년 월 정보 발 빠르게 입 하여 변 동 된 물 가와 교통 요 금 등을 책 반영 했다 ] ] 년 최신 개 정 판이 ] 유럽 물 변 동이 최종 적으로 업 데이트 되는 년 월 정보 발 빠르게 입 하여 변 동 된 물 가와 교통 요 금 등을 책 반영 했다 ] ] 년 최신 개 정 판이 ] 유럽 물 변 동이 최종 적으로 업 데이트 되는 년 월 정보 발 빠르게 입 하여 변 동 된 물 가와 교통 요 금 등을 책 반영 했다 ] ] 년 최신 개 정 판이 ] 유럽 물 변 동이 최종 적으로 업 데이트 되는 년 월 정보 발 빠르게 입 하여 변 동 된 물 가와 교통 요 금 등을 책 반영 했다 ] ] 년 최신 개 정 판이 ] 유럽 물 변 동이 최종 적으로 업 데이트 되는 년 월 정보 발 빠르게 입 하여 변 동 된 물 가와 교통 요 금 등을 책 반영 했다 ] ] 년 최신 개 정 판이 ] 유럽 물 변 동이 최종 적으로 업 데이트 되는 년 월 정보 발 빠르게 입 하여 변 동 된 물 가와 교통 요 금 등을 책 반영 했다 ] ] 년 최신 개 정 판이 ] 유럽 물 변 동이 최종 적으로 업 데이트 되는 년 월 정보 발 빠르게 입 하여 변 동 된 물 가와 교통 요 금 등을 책 반영 했다 ] ] 년 최신 개 정 판이 ] 유럽 물 변 동이 최종 적으로 업 데이트 되는 년 월 정보 발 빠르게 입 하여 변 동 된 물 가와 교통 요 금 등을 책 반영 했다 ] ] 년 최신 개 정 판이 ] 유럽 물 변 동이 최종 적으로 업 데이트 되는 년 월 정보 발 빠르게 입 하여 변 동 된 물 가와 교통 요 금 등을 책 반영 했다 ] ] 년 최신 개 정 판이 ] 유럽 물 변 동이 최종 적으로 업 데이트 되는 년 월 정보 발 빠르게 입 하여 변 동 된 물 가와 교통 요 금 등을 책 반영 했다 ] ] 년 최신 개 정 판이 ] 유럽 물 변 동이 최종 적으로 업 데이트 되는 년 월 정보 발 빠르게 입 하여 변 동 된 물 가와 교통 요 금 등을 책 반영 했다 ] ] 년 최신 개 정 판이 ] 유럽 물 변 동이 최종 적으로 업 데이트 되는 년 월 정보 발 빠르게 입 하여 변 동 된 물 가와 교통 요 금 등을 책 반영 했다 ] ] 년 최신 개 정 판이 ] 유럽 물 변 동이 최종 적으로 업 데이트 되는 년 월 정보 발 빠르게 입 하여 변 동 된 물 가와 교통 요 금 등을 책 반영 했다 ] ] 년 최신 개 정 판이 ] 유럽 물 변 동이 최종 적으로 업 데이트 되는 년 월 정보 발 빠르게 입 하여 변 동 된 물 가와 교통 요 금 등을 책 반영 했다 ] ] 년 최신 개 정 판이 ] 유럽 물 변 동이 최종 적으로 업 데이트 되는 년 월 정보 발 빠르게 입 하여 변 동 된 물 가와 교통 요 금 등을 책 반영 했다 ] ] 년 최신 개 정 판이 ] 유럽 물 변 동이 최종 적으로 업 데이트 되는 년 월 정보 발 빠르게 입 하여 변 동 된 물 가와 교통 요 금 등을 책 반영 했다 ] ] 년 최신 개 정 판이 ] 유럽 물 변 동이 최종 적으로 업 데이트 되는 년 월 정보 발 빠르게 입 하여 변 동 된 물 가와 교통 요 금 등을 책 반영 했다 ] ] 년 최신 개 정 판이 ] 유럽 물 변 동이 최종 적으로 업 데이트 되는 년 월 정보 발 빠르게 입 하여 변 동 된 물 가와 교통 요 금 등을 책 반영 했다 ] ] 년 최신 개 정 판이 ] 유럽 물 변 동이 최종 적으로 업 데이트 되는 년 월 정보 발 빠르게 입 하여 변 동 된 물 가와 교통 요 금 등을 책 반영 했다 ] ] 년 최신 개 정 판이 ] 유럽 물 변 동이 최종 적으로 업 데이트 되는 년 월 정보 발 빠르게 입 하여 변 동 된 물 가와 교통 요 금 등을 책 반영 했다 ] ] 년 최신 개 정 판이 ] 유럽 물 변 동이 최종 적으로 업 데이트 되는 년 월 정보 발 빠르게 입 하여 변 동 된 물 가와 교통 요 금 등을 책 반영 했다 ] ] 년 최신 개 정 판이 ] 유럽 물 변 동이 최종 적으로 업 데이트 되는 년 월 정보 발 빠르게 입 하여 변 동 된 물 가와 교통 요 금 등을 책 반영 했다 ] ] 년 최신 개 정 판이 ] 유럽 물 변 동이 최종 적으로 업 데이트 되는 년 월 정보 발 빠르게 입 하여 변 동 된 물 가와 교통 요 금 등을 책 반영 했다 ] ] 년 최신 개 정 판이 ] 유럽 물 변 동이 최종 적으로 업 데이트 되는 년 월 정보 발 빠르게 입 하여 변 동 된 물 가와 교통 요 금 등을 책 반영 했다 ] ] 년 최신 개 정 판이 ] 유럽 물 변 동이 최종 적으로 업 데이트 되는 년 월 정보 발 빠르게 입 하여 변 동 된 물 가와 교통 요 금 등을 책 반영 했다 ] ] 년 최신 개 정 판이 ] 유럽 물 변 동이 최종 적으로 업 데이트 되는 년 월 정보 발 빠르게 입 하여 변 동 된 물 가와 교통 요 금 등을 책 반영 했다 ] ] 년 최신 개 정 판이 ] 유럽 물 변 동이 최종 적으로 업 데이트 되는 년 월 정보 발 빠르게 입 하여 변 동 된 물 가와 교통 요 금 등을 책 반영 했다 ] ] 년 최신 개 정 판이 ] 유럽 물 변 동이 최종 적으로 업 데이트 되는 년 월 정보 발 빠르게 입 하여 변 동 된 물 가와 교통 요 금 등을 책 반영 했다 ] ] 년 최신 개 정 판이 ] 유럽 물 변 동이 최종 적으로 업 데이트 되는 년 월 정보 발 빠르게 입 하여 변 동 된 물 가와 교통 요 금 등을 책 반영 했다 ] ] 년 최신 개 정 판이 ] 유럽 물 변 동이 최종 적으로 업 데이트 되는 년 월 정보 발 빠르게 입 하여 변 동 된 물 가와 교통 요 금 등을 책 반영 했다 ] ] 년 최신 개 정 판이 ] 유럽 물 변 동이 최종 적으로 업 데이트 되는 년 월 정보 발 빠르게 입 하여 변 동 된 물 가와 교통 요 금 등을 책 반영 했다 ] ] \n",
            "실제 요약문 : PAD 프렌 즈 유럽 베스트 시티 E ur op e best c it y ] ] PAD 프렌 즈 유럽 베스트 시티 E ur op e best c it y ] ] PAD 프렌 즈 유럽 베스트 시티 E ur op e best c it y ] ] PAD 프렌 즈 유럽 베스트 시티 E ur op e best c it y ] ] PAD 프렌 즈 유럽 베스트 시티 E ur op e best c it y ] ] PAD 프렌 즈 유럽 베스트 시티 E ur op e best c it y ] ] PAD 프렌 즈 유럽 베스트 시티 E ur op e best c it y ] ] PAD 프렌 즈 유럽 베스트 시티 E ur op e best c it y ] ] PAD 프렌 즈 유럽 베스트 시티 E ur op e best c it y ] ] PAD 프렌 즈 유럽 베스트 시티 E ur op e best c it y ] ] PAD 프렌 즈 유럽 베스트 시티 E ur op e best c it y ] ] PAD 프렌 즈 유럽 베스트 시티 E ur op e best c it y ] ] PAD 프렌 즈 유럽 베스트 시티 E ur op e best c it y ] ] PAD 프렌 즈 유럽 베스트 시티 E ur op e best c it y ] ] PAD 프렌 즈 유럽 베스트 시티 E ur op e best c it y ] ] PAD 프렌 즈 유럽 베스트 시티 E ur op e best c it y ] ] PAD 프렌 즈 유럽 베스트 시티 E ur op e best c it y ] ] PAD 프렌 즈 유럽 베스트 시티 E ur op e best c it y ] ] PAD 프렌 즈 유럽 베스트 시티 E ur op e best c it y ] ] PAD 프렌 즈 유럽 베스트 시티 E ur op e best c it y ] ] \n",
            "1/1 [==============================] - 0s 39ms/step\n",
            "1/1 [==============================] - 0s 19ms/step\n",
            "1/1 [==============================] - 0s 26ms/step\n",
            "1/1 [==============================] - 0s 17ms/step\n",
            "1/1 [==============================] - 0s 17ms/step\n",
            "1/1 [==============================] - 0s 17ms/step\n",
            "1/1 [==============================] - 0s 26ms/step\n",
            "1/1 [==============================] - 0s 17ms/step\n",
            "1/1 [==============================] - 0s 17ms/step\n",
            "1/1 [==============================] - 0s 17ms/step\n",
            "1/1 [==============================] - 0s 19ms/step\n",
            "1/1 [==============================] - 0s 18ms/step\n",
            "1/1 [==============================] - 0s 19ms/step\n",
            "1/1 [==============================] - 0s 16ms/step\n",
            "1/1 [==============================] - 0s 16ms/step\n",
            "1/1 [==============================] - 0s 25ms/step\n",
            "1/1 [==============================] - 0s 17ms/step\n",
            "1/1 [==============================] - 0s 16ms/step\n",
            "1/1 [==============================] - 0s 16ms/step\n",
            "1/1 [==============================] - 0s 25ms/step\n",
            "1/1 [==============================] - 0s 16ms/step\n",
            "1/1 [==============================] - 0s 18ms/step\n",
            "1/1 [==============================] - 0s 18ms/step\n",
            "1/1 [==============================] - 0s 17ms/step\n",
            "1/1 [==============================] - 0s 18ms/step\n",
            "1/1 [==============================] - 0s 22ms/step\n",
            "1/1 [==============================] - 0s 17ms/step\n",
            "1/1 [==============================] - 0s 16ms/step\n",
            "1/1 [==============================] - 0s 17ms/step\n",
            "1/1 [==============================] - 0s 20ms/step\n",
            "예측 요약문 :  U e e e i i e e e e e e e e e e a a a ##r e e e s U U ##N ##N ##K\n",
            "\n",
            "\n"
          ]
        }
      ]
    },
    {
      "cell_type": "code",
      "source": [
        "print(\"원문 : \",seq2text(encoder_input_test[902]))\n",
        "print(\"실제 요약문 :\",seq2text(decoder_input_test[902]))\n",
        "print(\"예측 요약문 :\",decode_sequence(encoder_input_test[902].reshape(1, text_max_len)))\n",
        "print(\"\\n\")"
      ],
      "metadata": {
        "colab": {
          "base_uri": "https://localhost:8080/"
        },
        "id": "OfcDVvof3cAL",
        "outputId": "03eb8d33-169e-4cc9-addb-aa4ed978e0cf"
      },
      "execution_count": null,
      "outputs": [
        {
          "output_type": "stream",
          "name": "stdout",
          "text": [
            "원문 :  한국 주식 시장 지루한 박스 권을 형성 했던 이유 대세 상 승 언제 어떻게 오는 지 미국 달 러 한국 주식 시장 어떻게 연결 되었 는지 도 업 종 어떻게 찾을 것인지 그 비밀을 알려준 ] 주식 시장 큰 흐름이 만들어 지는 원 리와 이유를 알면 주식 투자 쉽고 즐거 울 것이다 ] ] 한국 주식 시장 지루한 박스 권을 형성 했던 이유 대세 상 승 언제 어떻게 오는 지 미국 달 러 한국 주식 시장 어떻게 연결 되었 는지 도 업 종 어떻게 찾을 것인지 그 비밀을 알려준 ] 주식 시장 큰 흐름이 만들어 지는 원 리와 이유를 알면 주식 투자 쉽고 즐거 울 것이다 ] ] 한국 주식 시장 지루한 박스 권을 형성 했던 이유 대세 상 승 언제 어떻게 오는 지 미국 달 러 한국 주식 시장 어떻게 연결 되었 는지 도 업 종 어떻게 찾을 것인지 그 비밀을 알려준 ] 주식 시장 큰 흐름이 만들어 지는 원 리와 이유를 알면 주식 투자 쉽고 즐거 울 것이다 ] ] 한국 주식 시장 지루한 박스 권을 형성 했던 이유 대세 상 승 언제 어떻게 오는 지 미국 달 러 한국 주식 시장 어떻게 연결 되었 는지 도 업 종 어떻게 찾을 것인지 그 비밀을 알려준 ] 주식 시장 큰 흐름이 만들어 지는 원 리와 이유를 알면 주식 투자 쉽고 즐거 울 것이다 ] ] 한국 주식 시장 지루한 박스 권을 형성 했던 이유 대세 상 승 언제 어떻게 오는 지 미국 달 러 한국 주식 시장 어떻게 연결 되었 는지 도 업 종 어떻게 찾을 것인지 그 비밀을 알려준 ] 주식 시장 큰 흐름이 만들어 지는 원 리와 이유를 알면 주식 투자 쉽고 즐거 울 것이다 ] ] 한국 주식 시장 지루한 박스 권을 형성 했던 이유 대세 상 승 언제 어떻게 오는 지 미국 달 러 한국 주식 시장 어떻게 연결 되었 는지 도 업 종 어떻게 찾을 것인지 그 비밀을 알려준 ] 주식 시장 큰 흐름이 만들어 지는 원 리와 이유를 알면 주식 투자 쉽고 즐거 울 것이다 ] ] 한국 주식 시장 지루한 박스 권을 형성 했던 이유 대세 상 승 언제 어떻게 오는 지 미국 달 러 한국 주식 시장 어떻게 연결 되었 는지 도 업 종 어떻게 찾을 것인지 그 비밀을 알려준 ] 주식 시장 큰 흐름이 만들어 지는 원 리와 이유를 알면 주식 투자 쉽고 즐거 울 것이다 ] ] 한국 주식 시장 지루한 박스 권을 형성 했던 이유 대세 상 승 언제 어떻게 오는 지 미국 달 러 한국 주식 시장 어떻게 연결 되었 는지 도 업 종 어떻게 찾을 것인지 그 비밀을 알려준 ] 주식 시장 큰 흐름이 만들어 지는 원 리와 이유를 알면 주식 투자 쉽고 즐거 울 것이다 ] ] 한국 주식 시장 지루한 박스 권을 형성 했던 이유 대세 상 승 언제 어떻게 오는 지 미국 달 러 한국 주식 시장 어떻게 연결 되었 는지 도 업 종 어떻게 찾을 것인지 그 비밀을 알려준 ] 주식 시장 큰 흐름이 만들어 지는 원 리와 이유를 알면 주식 투자 쉽고 즐거 울 것이다 ] ] 한국 주식 시장 지루한 박스 권을 형성 했던 이유 대세 상 승 언제 어떻게 오는 지 미국 달 러 한국 주식 시장 어떻게 연결 되었 는지 도 업 종 어떻게 찾을 것인지 그 비밀을 알려준 ] 주식 시장 큰 흐름이 만들어 지는 원 리와 이유를 알면 주식 투자 쉽고 즐거 울 것이다 ] ] 한국 주식 시장 지루한 박스 권을 형성 했던 이유 대세 상 승 언제 어떻게 오는 지 미국 달 러 한국 주식 시장 어떻게 연결 되었 는지 도 업 종 어떻게 찾을 것인지 그 비밀을 알려준 ] 주식 시장 큰 흐름이 만들어 지는 원 리와 이유를 알면 주식 투자 쉽고 즐거 울 것이다 ] ] 한국 주식 시장 지루한 박스 권을 형성 했던 이유 대세 상 승 언제 어떻게 오는 지 미국 달 러 한국 주식 시장 어떻게 연결 되었 는지 도 업 종 어떻게 찾을 것인지 그 비밀을 알려준 ] 주식 시장 큰 흐름이 만들어 지는 원 리와 이유를 알면 주식 투자 쉽고 즐거 울 것이다 ] ] 한국 주식 시장 지루한 박스 권을 형성 했던 이유 대세 상 승 언제 어떻게 오는 지 미국 달 러 한국 주식 시장 어떻게 연결 되었 는지 도 업 종 어떻게 찾을 것인지 그 비밀을 알려준 ] 주식 시장 큰 흐름이 만들어 지는 원 리와 이유를 알면 주식 투자 쉽고 즐거 울 것이다 ] ] 한국 주식 시장 지루한 박스 권을 형성 했던 이유 대세 상 승 언제 어떻게 오는 지 미국 달 러 한국 주식 시장 어떻게 연결 되었 는지 도 업 종 어떻게 찾을 것인지 그 비밀을 알려준 ] 주식 시장 큰 흐름이 만들어 지는 원 리와 이유를 알면 주식 투자 쉽고 즐거 울 것이다 ] ] 한국 주식 시장 지루한 박스 권을 형성 했던 이유 대세 상 승 언제 어떻게 오는 지 미국 달 러 한국 주식 시장 어떻게 연결 되었 는지 도 업 종 어떻게 찾을 것인지 그 비밀을 알려준 ] 주식 시장 큰 흐름이 만들어 지는 원 리와 이유를 알면 주식 투자 쉽고 즐거 울 것이다 ] ] 한국 주식 시장 지루한 박스 권을 형성 했던 이유 대세 상 승 언제 어떻게 오는 지 미국 달 러 한국 주식 시장 어떻게 연결 되었 는지 도 업 종 어떻게 찾을 것인지 그 비밀을 알려준 ] 주식 시장 큰 흐름이 만들어 지는 원 리와 이유를 알면 주식 투자 쉽고 즐거 울 것이다 ] ] 한국 주식 시장 지루한 박스 권을 형성 했던 이유 대세 상 승 언제 어떻게 오는 지 미국 달 러 한국 주식 시장 어떻게 연결 되었 는지 도 업 종 어떻게 찾을 것인지 그 비밀을 알려준 ] 주식 시장 큰 흐름이 만들어 지는 원 리와 이유를 알면 주식 투자 쉽고 즐거 울 것이다 ] ] 한국 주식 시장 지루한 박스 권을 형성 했던 이유 대세 상 승 언제 어떻게 오는 지 미국 달 러 한국 주식 시장 어떻게 연결 되었 는지 도 업 종 어떻게 찾을 것인지 그 비밀을 알려준 ] 주식 시장 큰 흐름이 만들어 지는 원 리와 이유를 알면 주식 투자 쉽고 즐거 울 것이다 ] ] 한국 주식 시장 지루한 박스 권을 형성 했던 이유 대세 상 승 언제 어떻게 오는 지 미국 달 러 한국 주식 시장 어떻게 연결 되었 는지 도 업 종 어떻게 찾을 것인지 그 비밀을 알려준 ] 주식 시장 큰 흐름이 만들어 지는 원 리와 이유를 알면 주식 투자 쉽고 즐거 울 것이다 ] ] 한국 주식 시장 지루한 박스 권을 형성 했던 이유 대세 상 승 언제 어떻게 오는 지 미국 달 러 한국 주식 시장 어떻게 연결 되었 는지 도 업 종 어떻게 찾을 것인지 그 비밀을 알려준 ] 주식 시장 큰 흐름이 만들어 지는 원 리와 이유를 알면 주식 투자 쉽고 즐거 울 것이다 ] ] 한국 주식 시장 지루한 박스 권을 형성 했던 이유 대세 상 승 언제 어떻게 오는 지 미국 달 러 한국 주식 시장 어떻게 연결 되었 는지 도 업 종 어떻게 찾을 것인지 그 비밀을 알려준 ] 주식 시장 큰 흐름이 만들어 지는 원 리와 이유를 알면 주식 투자 쉽고 즐거 울 것이다 ] ] 한국 주식 시장 지루한 박스 권을 형성 했던 이유 대세 상 승 언제 어떻게 오는 지 미국 달 러 한국 주식 시장 어떻게 연결 되었 는지 도 업 종 어떻게 찾을 것인지 그 비밀을 알려준 ] 주식 시장 큰 흐름이 만들어 지는 원 리와 이유를 알면 주식 투자 쉽고 즐거 울 것이다 ] ] 한국 주식 시장 지루한 박스 권을 형성 했던 이유 대세 상 승 언제 어떻게 오는 지 미국 달 러 한국 주식 시장 어떻게 연결 되었 는지 도 업 종 어떻게 찾을 것인지 그 비밀을 알려준 ] 주식 시장 큰 흐름이 만들어 지는 원 리와 이유를 알면 주식 투자 쉽고 즐거 울 것이다 ] ] 한국 주식 시장 지루한 박스 권을 형성 했던 이유 대세 상 승 언제 어떻게 오는 지 미국 달 러 한국 주식 시장 어떻게 연결 되었 는지 도 업 종 어떻게 찾을 것인지 그 비밀을 알려준 ] 주식 시장 큰 흐름이 만들어 지는 원 리와 이유를 알면 주식 투자 쉽고 즐거 울 것이다 ] ] 한국 주식 시장 지루한 박스 권을 형성 했던 이유 대세 상 승 언제 어떻게 오는 지 미국 달 러 한국 주식 시장 어떻게 연결 되었 는지 도 업 종 어떻게 찾을 것인지 그 비밀을 알려준 ] 주식 시장 큰 흐름이 만들어 지는 원 리와 이유를 알면 주식 투자 쉽고 즐거 울 것이다 ] ] 한국 주식 시장 지루한 박스 권을 형성 했던 이유 대세 상 승 언제 어떻게 오는 지 미국 달 러 한국 주식 시장 어떻게 연결 되었 는지 도 업 종 어떻게 찾을 것인지 그 비밀을 알려준 ] 주식 시장 큰 흐름이 만들어 지는 원 리와 이유를 알면 주식 투자 쉽고 즐거 울 것이다 ] ] 한국 주식 시장 지루한 박스 권을 형성 했던 이유 대세 상 승 언제 어떻게 오는 지 미국 달 러 한국 주식 시장 어떻게 연결 되었 는지 도 업 종 어떻게 찾을 것인지 그 비밀을 알려준 ] 주식 시장 큰 흐름이 만들어 지는 원 리와 이유를 알면 주식 투자 쉽고 즐거 울 것이다 ] ] 한국 주식 시장 지루한 박스 권을 형성 했던 이유 대세 상 승 언제 어떻게 오는 지 미국 달 러 한국 주식 시장 어떻게 연결 되었 는지 도 업 종 어떻게 찾을 것인지 그 비밀을 알려준 ] 주식 시장 큰 흐름이 만들어 지는 원 리와 이유를 알면 주식 투자 쉽고 즐거 울 것이다 ] ] 한국 주식 시장 지루한 박스 권을 형성 했던 이유 대세 상 승 언제 어떻게 오는 지 미국 달 러 한국 주식 시장 어떻게 연결 되었 는지 도 업 종 어떻게 찾을 것인지 그 비밀을 알려준 ] 주식 시장 큰 흐름이 만들어 지는 원 리와 이유를 알면 주식 투자 쉽고 즐거 울 것이다 ] ] 한국 주식 시장 지루한 박스 권을 형성 했던 이유 대세 상 승 언제 어떻게 오는 지 미국 달 러 한국 주식 시장 어떻게 연결 되었 는지 도 업 종 어떻게 찾을 것인지 그 비밀을 알려준 ] 주식 시장 큰 흐름이 만들어 지는 원 리와 이유를 알면 주식 투자 쉽고 즐거 울 것이다 ] ] 한국 주식 시장 지루한 박스 권을 형성 했던 이유 대세 상 승 언제 어떻게 오는 지 미국 달 러 한국 주식 시장 어떻게 연결 되었 는지 도 업 종 어떻게 찾을 것인지 그 비밀을 알려준 ] 주식 시장 큰 흐름이 만들어 지는 원 리와 이유를 알면 주식 투자 쉽고 즐거 울 것이다 ] ] 한국 주식 시장 지루한 박스 권을 형성 했던 이유 대세 상 승 언제 어떻게 오는 지 미국 달 러 한국 주식 시장 어떻게 연결 되었 는지 도 업 종 어떻게 찾을 것인지 그 비밀을 알려준 ] 주식 시장 큰 흐름이 만들어 지는 원 리와 이유를 알면 주식 투자 쉽고 즐거 울 것이다 ] ] 한국 주식 시장 지루한 박스 권을 형성 했던 이유 대세 상 승 언제 어떻게 오는 지 미국 달 러 한국 주식 시장 어떻게 연결 되었 는지 도 업 종 어떻게 찾을 것인지 그 비밀을 알려준 ] 주식 시장 큰 흐름이 만들어 지는 원 리와 이유를 알면 주식 투자 쉽고 즐거 울 것이다 ] ] 한국 주식 시장 지루한 박스 권을 형성 했던 이유 대세 상 승 언제 어떻게 오는 지 미국 달 러 한국 주식 시장 어떻게 연결 되었 는지 도 업 종 어떻게 찾을 것인지 그 비밀을 알려준 ] 주식 시장 큰 흐름이 만들어 지는 원 리와 이유를 알면 주식 투자 쉽고 즐거 울 것이다 ] ] 한국 주식 시장 지루한 박스 권을 형성 했던 이유 대세 상 승 언제 어떻게 오는 지 미국 달 러 한국 주식 시장 어떻게 연결 되었 는지 도 업 종 어떻게 찾을 것인지 그 비밀을 알려준 ] 주식 시장 큰 흐름이 만들어 지는 원 리와 이유를 알면 주식 투자 쉽고 즐거 울 것이다 ] ] 한국 주식 시장 지루한 박스 권을 형성 했던 이유 대세 상 승 언제 어떻게 오는 지 미국 달 러 한국 주식 시장 어떻게 연결 되었 는지 도 업 종 어떻게 찾을 것인지 그 비밀을 알려준 ] 주식 시장 큰 흐름이 만들어 지는 원 리와 이유를 알면 주식 투자 쉽고 즐거 울 것이다 ] ] 한국 주식 시장 지루한 박스 권을 형성 했던 이유 대세 상 승 언제 어떻게 오는 지 미국 달 러 한국 주식 시장 어떻게 연결 되었 는지 도 업 종 어떻게 찾을 것인지 그 비밀을 알려준 ] 주식 시장 큰 흐름이 만들어 지는 원 리와 이유를 알면 주식 투자 쉽고 즐거 울 것이다 ] ] 한국 주식 시장 지루한 박스 권을 형성 했던 이유 대세 상 승 언제 어떻게 오는 지 미국 달 러 한국 주식 시장 어떻게 연결 되었 는지 도 업 종 어떻게 찾을 것인지 그 비밀을 알려준 ] 주식 시장 큰 흐름이 만들어 지는 원 리와 이유를 알면 주식 투자 쉽고 즐거 울 것이다 ] ] 한국 주식 시장 지루한 박스 권을 형성 했던 이유 대세 상 승 언제 어떻게 오는 지 미국 달 러 한국 주식 시장 어떻게 연결 되었 는지 도 업 종 어떻게 찾을 것인지 그 비밀을 알려준 ] 주식 시장 큰 흐름이 만들어 지는 원 리와 이유를 알면 주식 투자 쉽고 즐거 울 것이다 ] ] 한국 주식 시장 지루한 박스 권을 형성 했던 이유 대세 상 승 언제 어떻게 오는 지 미국 달 러 한국 주식 시장 어떻게 연결 되었 는지 도 업 종 어떻게 찾을 것인지 그 비밀을 알려준 ] 주식 시장 큰 흐름이 만들어 지는 원 리와 이유를 알면 주식 투자 쉽고 즐거 울 것이다 ] ] 한국 주식 시장 지루한 박스 권을 형성 했던 이유 대세 상 승 언제 어떻게 오는 지 미국 달 러 한국 주식 시장 어떻게 연결 되었 는지 도 업 종 어떻게 찾을 것인지 그 비밀을 알려준 ] 주식 시장 큰 흐름이 만들어 지는 원 리와 이유를 알면 주식 투자 쉽고 즐거 울 것이다 ] ] 한국 주식 시장 지루한 박스 권을 형성 했던 이유 대세 상 승 언제 어떻게 오는 지 미국 달 러 한국 주식 시장 어떻게 연결 되었 는지 도 업 종 어떻게 찾을 것인지 그 비밀을 알려준 ] 주식 시장 큰 흐름이 만들어 지는 원 리와 이유를 알면 주식 투자 쉽고 즐거 울 것이다 ] ] 한국 주식 시장 지루한 박스 권을 형성 했던 이유 대세 상 승 언제 어떻게 오는 지 미국 달 러 한국 주식 시장 어떻게 연결 되었 는지 도 업 종 어떻게 찾을 것인지 그 비밀을 알려준 ] 주식 시장 큰 흐름이 만들어 지는 원 리와 이유를 알면 주식 투자 쉽고 즐거 울 것이다 ] ] 한국 주식 시장 지루한 박스 권을 형성 했던 이유 대세 상 승 언제 어떻게 오는 지 미국 달 러 한국 주식 시장 어떻게 연결 되었 는지 도 업 종 어떻게 찾을 것인지 그 비밀을 알려준 ] 주식 시장 큰 흐름이 만들어 지는 원 리와 이유를 알면 주식 투자 쉽고 즐거 울 것이다 ] ] 한국 주식 시장 지루한 박스 권을 형성 했던 이유 대세 상 승 언제 어떻게 오는 지 미국 달 러 한국 주식 시장 어떻게 연결 되었 는지 도 업 종 어떻게 찾을 것인지 그 비밀을 알려준 ] 주식 시장 큰 흐름이 만들어 지는 원 리와 이유를 알면 주식 투자 쉽고 즐거 울 것이다 ] ] 한국 주식 시장 지루한 박스 권을 형성 했던 이유 대세 상 승 언제 어떻게 오는 지 미국 달 러 한국 주식 시장 어떻게 연결 되었 는지 도 업 종 어떻게 찾을 것인지 그 비밀을 알려준 ] 주식 시장 큰 흐름이 만들어 지는 원 리와 이유를 알면 주식 투자 쉽고 즐거 울 것이다 ] ] 한국 주식 시장 지루한 박스 권을 형성 했던 이유 대세 상 승 언제 어떻게 오는 지 미국 달 러 한국 주식 시장 어떻게 연결 되었 는지 도 업 종 어떻게 찾을 것인지 그 비밀을 알려준 ] 주식 시장 큰 흐름이 만들어 지는 원 리와 이유를 알면 주식 투자 쉽고 즐거 울 것이다 ] ] 한국 주식 시장 지루한 박스 권을 형성 했던 이유 대세 상 승 언제 어떻게 오는 지 미국 달 러 한국 주식 시장 어떻게 연결 되었 는지 도 업 종 어떻게 찾을 것인지 그 비밀을 알려준 ] 주식 시장 큰 흐름이 만들어 지는 원 리와 이유를 알면 주식 투자 쉽고 즐거 울 것이다 ] ] 한국 주식 시장 지루한 박스 권을 형성 했던 이유 대세 상 승 언제 어떻게 오는 지 미국 달 러 한국 주식 시장 어떻게 연결 되었 는지 도 업 종 어떻게 찾을 것인지 그 비밀을 알려준 ] 주식 시장 큰 흐름이 만들어 지는 원 리와 이유를 알면 주식 투자 쉽고 즐거 울 것이다 ] ] 한국 주식 시장 지루한 박스 권을 형성 했던 이유 대세 상 승 언제 어떻게 오는 지 미국 달 러 한국 주식 시장 어떻게 연결 되었 는지 도 업 종 어떻게 찾을 것인지 그 비밀을 알려준 ] 주식 시장 큰 흐름이 만들어 지는 원 리와 이유를 알면 주식 투자 쉽고 즐거 울 것이다 ] ] 한국 주식 시장 지루한 박스 권을 형성 했던 이유 대세 상 승 언제 어떻게 오는 지 미국 달 러 한국 주식 시장 어떻게 연결 되었 는지 도 업 종 어떻게 찾을 것인지 그 비밀을 알려준 ] 주식 시장 큰 흐름이 만들어 지는 원 리와 이유를 알면 주식 투자 쉽고 즐거 울 것이다 ] ] 한국 주식 시장 지루한 박스 권을 형성 했던 이유 대세 상 승 언제 어떻게 오는 지 미국 달 러 한국 주식 시장 어떻게 연결 되었 는지 도 업 종 어떻게 찾을 것인지 그 비밀을 알려준 ] 주식 시장 큰 흐름이 만들어 지는 원 리와 이유를 알면 주식 투자 쉽고 즐거 울 것이다 ] ] 한국 주식 시장 지루한 박스 권을 형성 했던 이유 대세 상 승 언제 어떻게 오는 지 미국 달 러 한국 주식 시장 어떻게 연결 되었 는지 도 업 종 어떻게 찾을 것인지 그 비밀을 알려준 ] 주식 시장 큰 흐름이 만들어 지는 원 리와 이유를 알면 주식 투자 쉽고 즐거 울 것이다 ] ] 한국 주식 시장 지루한 박스 권을 형성 했던 이유 대세 상 승 언제 어떻게 오는 지 미국 달 러 한국 주식 시장 어떻게 연결 되었 는지 도 업 종 어떻게 찾을 것인지 그 비밀을 알려준 ] 주식 시장 큰 흐름이 만들어 지는 원 리와 이유를 알면 주식 투자 쉽고 즐거 울 것이다 ] ] 한국 주식 시장 지루한 박스 권을 형성 했던 이유 대세 상 승 언제 어떻게 오는 지 미국 달 러 한국 주식 시장 어떻게 연결 되었 는지 도 업 종 어떻게 찾을 것인지 그 비밀을 알려준 ] 주식 시장 큰 흐름이 만들어 지는 원 리와 이유를 알면 주식 투자 쉽고 즐거 울 것이다 ] ] 한국 주식 시장 지루한 박스 권을 형성 했던 이유 대세 상 승 언제 어떻게 오는 지 미국 달 러 한국 주식 시장 어떻게 연결 되었 는지 도 업 종 어떻게 찾을 것인지 그 비밀을 알려준 ] 주식 시장 큰 흐름이 만들어 지는 원 리와 이유를 알면 주식 투자 쉽고 즐거 울 것이다 ] ] 한국 주식 시장 지루한 박스 권을 형성 했던 이유 대세 상 승 언제 어떻게 오는 지 미국 달 러 한국 주식 시장 어떻게 연결 되었 는지 도 업 종 어떻게 찾을 것인지 그 비밀을 알려준 ] 주식 시장 큰 흐름이 만들어 지는 원 리와 이유를 알면 주식 투자 쉽고 즐거 울 것이다 ] ] \n",
            "실제 요약문 : PAD 정 해진 미래 대세 상 승 장이 온다 이야기 꾼 시나리오 투자 법 ] ] PAD 정 해진 미래 대세 상 승 장이 온다 이야기 꾼 시나리오 투자 법 ] ] PAD 정 해진 미래 대세 상 승 장이 온다 이야기 꾼 시나리오 투자 법 ] ] PAD 정 해진 미래 대세 상 승 장이 온다 이야기 꾼 시나리오 투자 법 ] ] PAD 정 해진 미래 대세 상 승 장이 온다 이야기 꾼 시나리오 투자 법 ] ] PAD 정 해진 미래 대세 상 승 장이 온다 이야기 꾼 시나리오 투자 법 ] ] PAD 정 해진 미래 대세 상 승 장이 온다 이야기 꾼 시나리오 투자 법 ] ] PAD 정 해진 미래 대세 상 승 장이 온다 이야기 꾼 시나리오 투자 법 ] ] PAD 정 해진 미래 대세 상 승 장이 온다 이야기 꾼 시나리오 투자 법 ] ] PAD 정 해진 미래 대세 상 승 장이 온다 이야기 꾼 시나리오 투자 법 ] ] PAD 정 해진 미래 대세 상 승 장이 온다 이야기 꾼 시나리오 투자 법 ] ] PAD 정 해진 미래 대세 상 승 장이 온다 이야기 꾼 시나리오 투자 법 ] ] PAD 정 해진 미래 대세 상 승 장이 온다 이야기 꾼 시나리오 투자 법 ] ] PAD 정 해진 미래 대세 상 승 장이 온다 이야기 꾼 시나리오 투자 법 ] ] PAD 정 해진 미래 대세 상 승 장이 온다 이야기 꾼 시나리오 투자 법 ] ] PAD 정 해진 미래 대세 상 승 장이 온다 이야기 꾼 시나리오 투자 법 ] ] PAD 정 해진 미래 대세 상 승 장이 온다 이야기 꾼 시나리오 투자 법 ] ] PAD 정 해진 미래 대세 상 승 장이 온다 이야기 꾼 시나리오 투자 법 ] ] PAD 정 해진 미래 대세 상 승 장이 온다 이야기 꾼 시나리오 투자 법 ] ] PAD 정 해진 미래 대세 상 승 장이 온다 이야기 꾼 시나리오 투자 법 ] ] \n",
            "1/1 [==============================] - 0s 47ms/step\n",
            "1/1 [==============================] - 0s 35ms/step\n",
            "1/1 [==============================] - 0s 32ms/step\n",
            "1/1 [==============================] - 0s 31ms/step\n",
            "1/1 [==============================] - 0s 32ms/step\n",
            "1/1 [==============================] - 0s 40ms/step\n",
            "1/1 [==============================] - 0s 28ms/step\n",
            "1/1 [==============================] - 0s 28ms/step\n",
            "1/1 [==============================] - 0s 32ms/step\n",
            "1/1 [==============================] - 0s 31ms/step\n",
            "1/1 [==============================] - 0s 23ms/step\n",
            "1/1 [==============================] - 0s 18ms/step\n",
            "1/1 [==============================] - 0s 18ms/step\n",
            "1/1 [==============================] - 0s 18ms/step\n",
            "1/1 [==============================] - 0s 20ms/step\n",
            "1/1 [==============================] - 0s 19ms/step\n",
            "1/1 [==============================] - 0s 20ms/step\n",
            "1/1 [==============================] - 0s 24ms/step\n",
            "1/1 [==============================] - 0s 18ms/step\n",
            "1/1 [==============================] - 0s 18ms/step\n",
            "1/1 [==============================] - 0s 20ms/step\n",
            "1/1 [==============================] - 0s 18ms/step\n",
            "1/1 [==============================] - 0s 18ms/step\n",
            "1/1 [==============================] - 0s 16ms/step\n",
            "1/1 [==============================] - 0s 16ms/step\n",
            "1/1 [==============================] - 0s 21ms/step\n",
            "1/1 [==============================] - 0s 19ms/step\n",
            "1/1 [==============================] - 0s 18ms/step\n",
            "1/1 [==============================] - 0s 17ms/step\n",
            "1/1 [==============================] - 0s 16ms/step\n",
            "예측 요약문 :  U 투자 U U U U U U U U U U U U U U U U U U U U U U U U U U ##N\n",
            "\n",
            "\n"
          ]
        }
      ]
    }
  ]
}